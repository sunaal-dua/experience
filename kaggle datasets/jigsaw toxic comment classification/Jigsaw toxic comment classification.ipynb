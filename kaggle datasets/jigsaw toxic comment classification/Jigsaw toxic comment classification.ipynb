{
 "cells": [
  {
   "cell_type": "markdown",
   "metadata": {
    "id": "sjl84hglHAsh"
   },
   "source": [
    "### Dataset: https://www.kaggle.com/c/jigsaw-toxic-comment-classification-challenge/overview"
   ]
  },
  {
   "cell_type": "code",
   "execution_count": null,
   "metadata": {
    "id": "um2QofHj6CbF"
   },
   "outputs": [],
   "source": [
    "nltk.download('punkt')\n",
    "nltk.download('stopwords')\n",
    "nltk.download('wordnet')"
   ]
  },
  {
   "cell_type": "code",
   "execution_count": null,
   "metadata": {
    "id": "j4OJMonMgKM-"
   },
   "outputs": [],
   "source": [
    "import pandas as pd\n",
    "import numpy as np\n",
    "import matplotlib.pyplot as plt\n",
    "%matplotlib inline\n",
    "import seaborn as sns\n",
    "import re\n",
    "from string import punctuation\n",
    "import nltk\n",
    "from nltk.corpus import stopwords\n",
    "from nltk import word_tokenize\n",
    "from nltk.tokenize import RegexpTokenizer\n",
    "from nltk.stem import WordNetLemmatizer\n",
    "from tensorflow.keras.callbacks import EarlyStopping\n",
    "from sklearn.metrics import roc_auc_score\n",
    "from keras.models import load_model"
   ]
  },
  {
   "cell_type": "code",
   "execution_count": null,
   "metadata": {
    "id": "3JygVV1Ugy38"
   },
   "outputs": [],
   "source": [
    "train = pd.read_csv(\"/content/drive/My Drive/Colab Notebooks/toxic comments/train.csv\")\n",
    "test = pd.read_csv(\"/content/drive/My Drive/Colab Notebooks/toxic comments/test.csv\")"
   ]
  },
  {
   "cell_type": "code",
   "execution_count": null,
   "metadata": {
    "colab": {
     "base_uri": "https://localhost:8080/",
     "height": 202
    },
    "executionInfo": {
     "elapsed": 22819,
     "status": "ok",
     "timestamp": 1603932985334,
     "user": {
      "displayName": "sunaal dua",
      "photoUrl": "",
      "userId": "00741122136841948106"
     },
     "user_tz": -330
    },
    "id": "27zUsDM2hKHa",
    "outputId": "7c3c5440-ceb3-485a-f9c3-67f4990af6d9"
   },
   "outputs": [
    {
     "data": {
      "text/html": [
       "<div>\n",
       "<style scoped>\n",
       "    .dataframe tbody tr th:only-of-type {\n",
       "        vertical-align: middle;\n",
       "    }\n",
       "\n",
       "    .dataframe tbody tr th {\n",
       "        vertical-align: top;\n",
       "    }\n",
       "\n",
       "    .dataframe thead th {\n",
       "        text-align: right;\n",
       "    }\n",
       "</style>\n",
       "<table border=\"1\" class=\"dataframe\">\n",
       "  <thead>\n",
       "    <tr style=\"text-align: right;\">\n",
       "      <th></th>\n",
       "      <th>id</th>\n",
       "      <th>comment_text</th>\n",
       "      <th>toxic</th>\n",
       "      <th>severe_toxic</th>\n",
       "      <th>obscene</th>\n",
       "      <th>threat</th>\n",
       "      <th>insult</th>\n",
       "      <th>identity_hate</th>\n",
       "    </tr>\n",
       "  </thead>\n",
       "  <tbody>\n",
       "    <tr>\n",
       "      <th>0</th>\n",
       "      <td>0000997932d777bf</td>\n",
       "      <td>Explanation\\nWhy the edits made under my usern...</td>\n",
       "      <td>0</td>\n",
       "      <td>0</td>\n",
       "      <td>0</td>\n",
       "      <td>0</td>\n",
       "      <td>0</td>\n",
       "      <td>0</td>\n",
       "    </tr>\n",
       "    <tr>\n",
       "      <th>1</th>\n",
       "      <td>000103f0d9cfb60f</td>\n",
       "      <td>D'aww! He matches this background colour I'm s...</td>\n",
       "      <td>0</td>\n",
       "      <td>0</td>\n",
       "      <td>0</td>\n",
       "      <td>0</td>\n",
       "      <td>0</td>\n",
       "      <td>0</td>\n",
       "    </tr>\n",
       "    <tr>\n",
       "      <th>2</th>\n",
       "      <td>000113f07ec002fd</td>\n",
       "      <td>Hey man, I'm really not trying to edit war. It...</td>\n",
       "      <td>0</td>\n",
       "      <td>0</td>\n",
       "      <td>0</td>\n",
       "      <td>0</td>\n",
       "      <td>0</td>\n",
       "      <td>0</td>\n",
       "    </tr>\n",
       "    <tr>\n",
       "      <th>3</th>\n",
       "      <td>0001b41b1c6bb37e</td>\n",
       "      <td>\"\\nMore\\nI can't make any real suggestions on ...</td>\n",
       "      <td>0</td>\n",
       "      <td>0</td>\n",
       "      <td>0</td>\n",
       "      <td>0</td>\n",
       "      <td>0</td>\n",
       "      <td>0</td>\n",
       "    </tr>\n",
       "    <tr>\n",
       "      <th>4</th>\n",
       "      <td>0001d958c54c6e35</td>\n",
       "      <td>You, sir, are my hero. Any chance you remember...</td>\n",
       "      <td>0</td>\n",
       "      <td>0</td>\n",
       "      <td>0</td>\n",
       "      <td>0</td>\n",
       "      <td>0</td>\n",
       "      <td>0</td>\n",
       "    </tr>\n",
       "  </tbody>\n",
       "</table>\n",
       "</div>"
      ],
      "text/plain": [
       "                 id  ... identity_hate\n",
       "0  0000997932d777bf  ...             0\n",
       "1  000103f0d9cfb60f  ...             0\n",
       "2  000113f07ec002fd  ...             0\n",
       "3  0001b41b1c6bb37e  ...             0\n",
       "4  0001d958c54c6e35  ...             0\n",
       "\n",
       "[5 rows x 8 columns]"
      ]
     },
     "execution_count": 3,
     "metadata": {
      "tags": []
     },
     "output_type": "execute_result"
    }
   ],
   "source": [
    "train.head()"
   ]
  },
  {
   "cell_type": "markdown",
   "metadata": {
    "id": "bh_UUg7xlh8i"
   },
   "source": [
    "**No duplicates, no missing values**"
   ]
  },
  {
   "cell_type": "code",
   "execution_count": null,
   "metadata": {
    "colab": {
     "base_uri": "https://localhost:8080/",
     "height": 375
    },
    "executionInfo": {
     "elapsed": 24607,
     "status": "ok",
     "timestamp": 1603932987148,
     "user": {
      "displayName": "sunaal dua",
      "photoUrl": "",
      "userId": "00741122136841948106"
     },
     "user_tz": -330
    },
    "id": "5KpY4XhUkL13",
    "outputId": "e9dc814b-9d78-4fef-866e-c82b52b3c14b"
   },
   "outputs": [
    {
     "name": "stdout",
     "output_type": "stream",
     "text": [
      "(159571, 8)\n",
      "(153164, 2) \n",
      "\n",
      "id               0\n",
      "comment_text     0\n",
      "toxic            0\n",
      "severe_toxic     0\n",
      "obscene          0\n",
      "threat           0\n",
      "insult           0\n",
      "identity_hate    0\n",
      "dtype: int64 \n",
      "\n",
      "id              0\n",
      "comment_text    0\n",
      "dtype: int64 \n",
      "\n"
     ]
    },
    {
     "data": {
      "text/html": [
       "<div>\n",
       "<style scoped>\n",
       "    .dataframe tbody tr th:only-of-type {\n",
       "        vertical-align: middle;\n",
       "    }\n",
       "\n",
       "    .dataframe tbody tr th {\n",
       "        vertical-align: top;\n",
       "    }\n",
       "\n",
       "    .dataframe thead th {\n",
       "        text-align: right;\n",
       "    }\n",
       "</style>\n",
       "<table border=\"1\" class=\"dataframe\">\n",
       "  <thead>\n",
       "    <tr style=\"text-align: right;\">\n",
       "      <th></th>\n",
       "      <th>id</th>\n",
       "      <th>comment_text</th>\n",
       "      <th>toxic</th>\n",
       "      <th>severe_toxic</th>\n",
       "      <th>obscene</th>\n",
       "      <th>threat</th>\n",
       "      <th>insult</th>\n",
       "      <th>identity_hate</th>\n",
       "    </tr>\n",
       "  </thead>\n",
       "  <tbody>\n",
       "  </tbody>\n",
       "</table>\n",
       "</div>"
      ],
      "text/plain": [
       "Empty DataFrame\n",
       "Columns: [id, comment_text, toxic, severe_toxic, obscene, threat, insult, identity_hate]\n",
       "Index: []"
      ]
     },
     "metadata": {
      "tags": []
     },
     "output_type": "display_data"
    },
    {
     "data": {
      "text/html": [
       "<div>\n",
       "<style scoped>\n",
       "    .dataframe tbody tr th:only-of-type {\n",
       "        vertical-align: middle;\n",
       "    }\n",
       "\n",
       "    .dataframe tbody tr th {\n",
       "        vertical-align: top;\n",
       "    }\n",
       "\n",
       "    .dataframe thead th {\n",
       "        text-align: right;\n",
       "    }\n",
       "</style>\n",
       "<table border=\"1\" class=\"dataframe\">\n",
       "  <thead>\n",
       "    <tr style=\"text-align: right;\">\n",
       "      <th></th>\n",
       "      <th>id</th>\n",
       "      <th>comment_text</th>\n",
       "    </tr>\n",
       "  </thead>\n",
       "  <tbody>\n",
       "  </tbody>\n",
       "</table>\n",
       "</div>"
      ],
      "text/plain": [
       "Empty DataFrame\n",
       "Columns: [id, comment_text]\n",
       "Index: []"
      ]
     },
     "metadata": {
      "tags": []
     },
     "output_type": "display_data"
    }
   ],
   "source": [
    "print(train.shape)\n",
    "print(test.shape,'\\n')\n",
    "print(train.isnull().sum(),'\\n')\n",
    "print(test.isnull().sum(),'\\n')\n",
    "\n",
    "display(train[train.duplicated()])\n",
    "display(test[test.duplicated()])"
   ]
  },
  {
   "cell_type": "markdown",
   "metadata": {
    "id": "RPgFnVvZTTN2"
   },
   "source": [
    "**Lets see some text and preprocess it: printing first 70 records**"
   ]
  },
  {
   "cell_type": "code",
   "execution_count": null,
   "metadata": {
    "colab": {
     "base_uri": "https://localhost:8080/"
    },
    "executionInfo": {
     "elapsed": 24593,
     "status": "ok",
     "timestamp": 1603932987155,
     "user": {
      "displayName": "sunaal dua",
      "photoUrl": "",
      "userId": "00741122136841948106"
     },
     "user_tz": -330
    },
    "id": "d3lH0lCpkamJ",
    "outputId": "ab7944c4-a56d-47b2-d99f-582f8fdf23b4"
   },
   "outputs": [
    {
     "name": "stdout",
     "output_type": "stream",
     "text": [
      "0 Explanation\n",
      "Why the edits made under my username Hardcore Metallica Fan were reverted? They weren't vandalisms, just closure on some GAs after I voted at New York Dolls FAC. And please don't remove the template from the talk page since I'm retired now.89.205.38.27 \n",
      " #######################################\n",
      "1 D'aww! He matches this background colour I'm seemingly stuck with. Thanks.  (talk) 21:51, January 11, 2016 (UTC) \n",
      " #######################################\n",
      "2 Hey man, I'm really not trying to edit war. It's just that this guy is constantly removing relevant information and talking to me through edits instead of my talk page. He seems to care more about the formatting than the actual info. \n",
      " #######################################\n",
      "3 \"\n",
      "More\n",
      "I can't make any real suggestions on improvement - I wondered if the section statistics should be later on, or a subsection of \"\"types of accidents\"\"  -I think the references may need tidying so that they are all in the exact same format ie date format etc. I can do that later on, if no-one else does first - if you have any preferences for formatting style on references or want to do it yourself please let me know.\n",
      "\n",
      "There appears to be a backlog on articles for review so I guess there may be a delay until a reviewer turns up. It's listed in the relevant form eg Wikipedia:Good_article_nominations#Transport  \" \n",
      " #######################################\n",
      "4 You, sir, are my hero. Any chance you remember what page that's on? \n",
      " #######################################\n",
      "5 \"\n",
      "\n",
      "Congratulations from me as well, use the tools well.  · talk \" \n",
      " #######################################\n",
      "6 COCKSUCKER BEFORE YOU PISS AROUND ON MY WORK \n",
      " #######################################\n",
      "7 Your vandalism to the Matt Shirvington article has been reverted.  Please don't do it again, or you will be banned. \n",
      " #######################################\n",
      "8 Sorry if the word 'nonsense' was offensive to you. Anyway, I'm not intending to write anything in the article(wow they would jump on me for vandalism), I'm merely requesting that it be more encyclopedic so one can use it for school as a reference. I have been to the selective breeding page but it's almost a stub. It points to 'animal breeding' which is a short messy article that gives you no info. There must be someone around with expertise in eugenics? 93.161.107.169 \n",
      " #######################################\n",
      "9 alignment on this subject and which are contrary to those of DuLithgow \n",
      " #######################################\n",
      "10 \"\n",
      "Fair use rationale for Image:Wonju.jpg\n",
      "\n",
      "Thanks for uploading Image:Wonju.jpg. I notice the image page specifies that the image is being used under fair use but there is no explanation or rationale as to why its use in Wikipedia articles constitutes fair use. In addition to the boilerplate fair use template, you must also write out on the image description page a specific explanation or rationale for why using this image in each article is consistent with fair use.\n",
      "\n",
      "Please go to the image description page and edit it to include a fair use rationale.\n",
      "\n",
      "If you have uploaded other fair use media, consider checking that you have specified the fair use rationale on those pages too. You can find a list of 'image' pages you have edited by clicking on the \"\"my contributions\"\" link (it is located at the very top of any Wikipedia page when you are logged in), and then selecting \"\"Image\"\" from the dropdown box. Note that any fair use images uploaded after 4 May, 2006, and lacking such an explanation will be deleted one week after they have been uploaded, as described on criteria for speedy deletion. If you have any questions please ask them at the Media copyright questions page. Thank you. (talk • contribs • ) \n",
      "Unspecified source for Image:Wonju.jpg\n",
      "\n",
      "Thanks for uploading Image:Wonju.jpg. I noticed that the file's description page currently doesn't specify who created the content, so the copyright status is unclear. If you did not create this file yourself, then you will need to specify the owner of the copyright. If you obtained it from a website, then a link to the website from which it was taken, together with a restatement of that website's terms of use of its content, is usually sufficient information. However, if the copyright holder is different from the website's publisher, then their copyright should also be acknowledged.\n",
      "\n",
      "As well as adding the source, please add a proper copyright licensing tag if the file doesn't have one already. If you created/took the picture, audio, or video then the  tag can be used to release it under the GFDL. If you believe the media meets the criteria at Wikipedia:Fair use, use a tag such as  or one of the other tags listed at Wikipedia:Image copyright tags#Fair use. See Wikipedia:Image copyright tags for the full list of copyright tags that you can use.\n",
      "\n",
      "If you have uploaded other files, consider checking that you have specified their source and tagged them, too. You can find a list of files you have uploaded by following [ this link]. Unsourced and untagged images may be deleted one week after they have been tagged, as described on criteria for speedy deletion. If the image is copyrighted under a non-free license (per Wikipedia:Fair use) then the image will be deleted 48 hours after . If you have any questions please ask them at the Media copyright questions page. Thank you. (talk • contribs • ) \" \n",
      " #######################################\n",
      "11 bbq \n",
      "\n",
      "be a man and lets discuss it-maybe over the phone? \n",
      " #######################################\n",
      "12 Hey... what is it..\n",
      "@ | talk .\n",
      "What is it... an exclusive group of some WP TALIBANS...who are good at destroying, self-appointed purist who GANG UP any one who asks them questions abt their ANTI-SOCIAL and DESTRUCTIVE (non)-contribution at WP?\n",
      "\n",
      "Ask Sityush to clean up his behavior than issue me nonsensical warnings... \n",
      " #######################################\n",
      "13 Before you start throwing accusations and warnings at me, lets review the edit itself-making ad hominem attacks isn't going to strengthen your argument, it will merely make it look like you are abusing your power as an admin. \n",
      "Now, the edit itself is relevant-this is probably the single most talked about event int he news as of late. His absence is notable, since he is the only living ex-president who did not attend. That's certainly more notable than his dedicating an aircracft carrier. \n",
      "I intend to revert this edit, in hopes of attracting the attention of an admin that is willing to look at the issue itself, and not throw accusations around quite so liberally. Perhaps, if you achieve a level of civility where you can do this, we can have a rational discussion on the topic and resolve the matter peacefully. \n",
      " #######################################\n",
      "14 Oh, and the girl above started her arguments with me. She stuck her nose where it doesn't belong. I believe the argument was between me and Yvesnimmo. But like I said, the situation was settled and I apologized. Thanks, \n",
      " #######################################\n",
      "15 \"\n",
      "\n",
      "Juelz Santanas Age\n",
      "\n",
      "In 2002, Juelz Santana was 18 years old, then came February 18th, which makes Juelz turn 19 making songs with The Diplomats. The third neff to be signed to Cam's label under Roc A Fella. In 2003, he was 20 years old coming out with his own singles \"\"Santana's Town\"\" and \"\"Down\"\". So yes, he is born in 1983. He really is, how could he be older then Lloyd Banks? And how could he be 22 when his birthday passed? The homie neff is 23 years old. 1983 - 2006 (Juelz death, god forbid if your thinking about that) equals 23. Go to your caculator and stop changing his year of birth. My god.\" \n",
      " #######################################\n",
      "16 Bye! \n",
      "\n",
      "Don't look, come or think of comming back! Tosser. \n",
      " #######################################\n",
      "17 REDIRECT Talk:Voydan Pop Georgiev- Chernodrinski \n",
      " #######################################\n",
      "18 The Mitsurugi point made no sense - why not argue to include Hindi on Ryo Sakazaki's page to include more information? \n",
      " #######################################\n",
      "19 Don't mean to bother you \n",
      "\n",
      "I see that you're writing something regarding removing anything posted here and if you do oh well but if not and you can acctually discuss this with me then even better.\n",
      "\n",
      "I'd like to ask you to take a closer look at the Premature wrestling deaths catagory and the men listed in it, surely these men belong together in some catagory. Is there anything that you think we can do with the catagory besides delting it? \n",
      " #######################################\n",
      "20 \"\n",
      "\n",
      " Regarding your recent edits \n",
      "\n",
      "Once again, please read WP:FILMPLOT before editing any more film articles.  Your edits are simply not good, with entirely too many unnecessary details and very bad writing.  Please stop before you do further damage. -''''''The '45 \" \n",
      " #######################################\n",
      "21 \"\n",
      "Good to know. About me, yeah, I'm studying now.(Deepu) \" \n",
      " #######################################\n",
      "22 \"\n",
      "\n",
      " Snowflakes are NOT always symmetrical! \n",
      "\n",
      "Under Geometry it is stated that \"\"A snowflake always has six symmetric arms.\"\" This assertion is simply not true! According to Kenneth Libbrecht, \"\"The rather unattractive irregular crystals are by far the most common variety.\"\" http://www.its.caltech.edu/~atomic/snowcrystals/myths/myths.htm#perfection Someone really need to take a look at his site and get FACTS off of it because I still see a decent number of falsities on this page. (forgive me Im new at this and dont want to edit anything)\" \n",
      " #######################################\n",
      "23 \"\n",
      "\n",
      " The Signpost: 24 September 2012 \n",
      "\n",
      " Read this Signpost in full\n",
      " Single-page\n",
      " Unsubscribe\n",
      "   \n",
      "\" \n",
      " #######################################\n",
      "24 \"\n",
      "\n",
      "Re-considering 1st paragraph edit?\n",
      "I don't understand the reasons for 's recent edit of this article  not that I'm sure that the data are necessarily \"\"wrong.\"\"  Rather, I'm persuaded that the strategy of introducing academic honors in the first paragraph is an unhelpful approach to this specific subject.  I note that articles about other sitting Justices have been similarly \"\"enhanced;\"\" and I also believe those changes are no improvement.  \n",
      "\n",
      "In support of my view that this edit should be reverted, I would invite anyone to re-visit articles written about the following pairs of jurists.\n",
      " A1. Benjamin Cardozo\n",
      " A2. Learned Hand\n",
      "\n",
      " B1. John Marshall Harlan\n",
      " B2. John Marshall Harlan II\n",
      "\n",
      "The question becomes: Would the current version of the Wikipedia article about any one of them  or either pair  be improved by academic credentials in the introductory paragraph?  I think not.\n",
      "\n",
      "Perhaps it helps to repeat a wry argument Kathleen Sullivan of Stanford Law makes when she suggests that some on the Harvard Law faculty wonder how Antonin Scalia avoided learning what others have managed to grasp about the processes of judging?  I would hope this anecdote gently illustrates the point. \n",
      "\n",
      "Less humorous, but an even stronger argument is the one Clarence Thomas makes when he mentions wanting to return his law degree to Yale.\n",
      "\n",
      "At a minimum, I'm questioning this edit?  It deserves to be reconsidered.   \" \n",
      " #######################################\n",
      "25 Radial symmetry \n",
      "\n",
      "Several now extinct lineages included in the Echinodermata were bilateral such as Homostelea, or even asymmetrical such as Cothurnocystis (Stylophora).\n",
      "\n",
      "- \n",
      " #######################################\n",
      "26 There's no need to apologize. A Wikipedia article is made for reconciling knowledge about a subject from different sources, and you've done history studies and not archaeology studies, I guess. I could scan the page, e-mail it to you, and then you could ask someone to translate the page. \n",
      " #######################################\n",
      "27 Yes, because the mother of the child in the case against Michael Jackson was studied in here motives and reasonings and judged upon her character just as harshly as Wacko Jacko himself.  Don't tell me to ignore it and incriminate myself.  I am going to continue refuting the bullshit that Jayjg keeps throwing at me.   18:01, 16 Jun 2005 (UTC) \n",
      " #######################################\n",
      "28 \"\n",
      "Ok. But it will take a bit of work but I can't quite picture it. Do you have an example I can base it on?  the Duck \" \n",
      " #######################################\n",
      "29 \"== A barnstar for you! ==\n",
      "\n",
      "  The Real Life Barnstar lets us be the stars\n",
      "   \" \n",
      " #######################################\n",
      "30 How could I post before the block expires?  The funny thing is, you think I'm being uncivil! \n",
      " #######################################\n",
      "31 Not sure about a heading of 'Fight for Freedom' what will it contain? \n",
      " #######################################\n",
      "32 Praise \n",
      "\n",
      "looked at this article about 6 months ago -much improved. ] \n",
      " #######################################\n",
      "33 I was able to post the above list so quickly because I already had it in a text file in my hard drive  I've been meaning to get around to updating the sound list for some time now. \n",
      "As far as generating interest  I've spent four years trying to drum up more interest in freely licensed full length classical music. Unfortunately, my attempts failed - I'm still effectively the only one who does it. The classical music wikiproject was not interested, (Wikipedia_talk:WikiProject_Classical_music/Archive_5#Need_help.21Wikipedia_talk:WikiProject_Music/Archive_3#I_could_use_some_helpWikipedia_talk:WikiProject_Music/Archive_2#Raulbot.2C_and_the_music_list) So I really had given up trying to interest others.  \n",
      "The sound list was featured on digg a while back - http://digg.com/music/Wikipedia_has_free_classical_music_downloads . It got 1600 diggs, which is IMO very impressive. \n",
      " #######################################\n",
      "34 \"\n",
      "Well, not \"\"before the process\"\" but \"\"before how we do things with subpages\"\" His RfA is listed on NoSeptember's page and you can find it if you look. September 2004 I think. I have my differences with El_C to be sure, but was surprised to see a block, so I left a note. ++: t/c \" \n",
      " #######################################\n",
      "35 \"\n",
      "\n",
      "Not at all, you are making a straw man argument here. I never claimed O'Donohue had that position, rather that practitioners and researchers in the field ignored the DSM position, which is exactly what the quote says and also something O'Donohue agrees with. \n",
      "\n",
      "Again, I was combating the notion that it was a \"\"absurd part\"\" to claim that pedophilia is a sexual orientation. Since many researchers hold this position, it would be unfair to call it absurd. The disorder part is divided in the field, some argue that it is not a disorder at all, some do. At the end of the day, it is a value judgment (as Cantor pointed out earlier in the thread), not a scientific judgement. If we choose to make this value judgment in the article, it should be stated clearly and not pretend to have a scientific basis.   \" \n",
      " #######################################\n",
      "36 \"\n",
      "\n",
      " \"\"Mainland Asia\"\" includes \"\"the lower basin of China's Yangtze River\"\" as well as \"\"Korea\"\".  But being specific is fine too.  I just found a citation for a more comprehensive DNA study by Hammer below, rather than our generarizations and speculation so far. \n",
      "\n",
      " Citation for \"\"Yayoi culture was brought to Japan by migrants from Korea, who in turn trace their roots to southeast Asia/south China.\"\" \n",
      "\n",
      " 2005 DNA study by Hammer\n",
      " Describes the Yayoi migration from Korea based on the O-SRY(465) genes and other genes with close lineage (haplogroups O-M122 and O-M95).\n",
      "Reiterates that \"\"the entire O haplogroup has been proposed to have a Southeast Asian origin.\"\"  (Their definition of Southeast Asia includes southern China).  Then hypothesizes that \"\"the dispersals of Neolithic farmers from Southeast Asia also brought haplogroup O lineages to Korea and eventually to Japan.\"\"\n",
      " In the concluding paragraph, it states \"\"we propose that the Yayoi Y chromosomes descend from prehistoric farmers that had their origins in southeastern Asia, perhaps going back to the origin of agriculture in this region.\"\"\n",
      " Hammer's DNA study is based on a \"\"global sample consisted of > 2,500 males from 39 Asian populations, including six populations sampled from across the Japanese archipelago.\"\"\n",
      " \" \n",
      " #######################################\n",
      "37 pretty much everyone from warren county/surrounding regions was born at glens falls hospital. myself included. however, i'm not sure this qualifies anyone as being a glens falls native. rachel ray is, i believe, actually from the town of lake luzerne.  —The preceding unsigned comment was added by 70.100.229.154  04:28:57, August 19, 2007 (UTC) \n",
      " #######################################\n",
      "38 Hi Explicit, can you block O Fenian for edit-warring on the Giant's Causeway wp. He has made several edits which can only be described as terrorism. \n",
      " #######################################\n",
      "39 Notability of Rurika Kasuga\n",
      "A tag has been placed on Rurika Kasuga, requesting that it be speedily deleted from Wikipedia. This has been done because the article seems to be about a person, group of people, band, club, company, or web content, but it does not indicate how or why the subject is notable, that is, why an article about that subject should be included in Wikipedia. Under the criteria for speedy deletion, articles that do not assert notability may be deleted at any time. Please see the guidelines for what is generally accepted as notable, and if you can indicate why the subject of this article is notable, you may contest the tagging. To do this, add  on the top of the page (below the existing db tag) and leave a note on the article's talk page explaining your position. Please do not remove the speedy deletion tag yourself, but don't hesitate to add information to the article that would confirm its subject's notability under the guidelines.\n",
      "\n",
      "For guidelines on specific types of articles, you may want to check out our criteria for biographies, for web sites, for bands, or for companies. Feel free to leave a note on my talk page if you have any questions about this. \n",
      " #######################################\n",
      "40 \"\n",
      " Sure, but the lead must briefly summarize Armenia's history. I simply added what I found necessary. If anyone thinks this or that sentence is redundant for the lead, they are welcome to remove make edits.  talk  \" \n",
      " #######################################\n",
      "41 TFD \n",
      "\n",
      "I think we just eced. I think we responded to each other without seeing each others responses. I added something in response to yours, but don't know if you saw mine. (T/C//WP:CHICAGO/WP:FOUR) \n",
      " #######################################\n",
      "42 You are gay or antisemmitian? \n",
      "\n",
      "Archangel WHite Tiger\n",
      "\n",
      "Meow! Greetingshhh!\n",
      "\n",
      "Uh, there are two ways, why you do erased my comment about WW2, that holocaust was brutally slaying of Jews and not gays/Gypsys/Slavs/anyone...\n",
      "\n",
      "1 - If you are anti-semitian, than shave your head bald and go to the skinhead meetings!\n",
      "\n",
      "2 - If you doubt words of the Bible, that homosexuality is a deadly sin, make a pentagram tatoo on your forehead go to the satanistic masses with your gay pals!\n",
      "\n",
      "3 - First and last warning, you fucking gay - I won't appreciate if any more nazi shwain would write in my page! I don't wish to talk to you anymore!\n",
      "\n",
      "Beware of the Dark Side! \n",
      " #######################################\n",
      "43 FUCK YOUR FILTHY MOTHER IN THE ASS, DRY! \n",
      " #######################################\n",
      "44 I'm Sorry \n",
      "\n",
      "I'm sorry I screwed around with someones talk page.  It was very bad to do.  I know how having the templates on their talk page helps you assert your dominance over them.  I know I should bow down to the almighty administrators.  But then again, I'm going to go play outside....with your mom.   76.122.79.82 \n",
      " #######################################\n",
      "45 I don't believe the Lisak criticism present there conforms with the NPV rule.  Lisak doesn't have a neutral point of view to begin with.  If an offer to polygraph or even concerned review of polygraph results shocks a complainant into thinking her lies have been uncovered, the recantation is still perfectly valid.  If you know you are telling the truth, you will argue with machine or investigator.  Also part of Kanin's research was a followup of the recanted story where possible to verify if any were false recantations.  In all followups the recanted version of events matched what the accused said happened.\n",
      "\n",
      "Arguing that Lisak is a respected PHD is baseless if Kanin is a respected PHD.  I agree that my edit wasn't as neutral as possible though, so apologize for that.  Still something must be done here. \n",
      " #######################################\n",
      "46 You had a point, and it's now ammended with appropriate encyclopedic notability/significance. \n",
      " #######################################\n",
      "47 In other words, you're too lazy to actually point anything out. Until you change that approach, the tag goes. \n",
      " #######################################\n",
      "48 \"\n",
      "As for your claims of \"\"stalking\"\", that is absolute rubbish and serves only to aggravate the situation. I have assumed good faith (and good intentions) on your part, and have never suggested (or seen reason to suggest) that you might have some ulterior motive in mass-adding links to one specific company's web page. Nor, for that matter, have I ever made any suggestion that this is an \"\"administrative\"\" matter or even mentioned such a role. (Clearly, as a party to this disagreement, I would not do so at any rate as it would be a conflict of interest.) I would ask that you thus extend the same good faith toward me, rather than making spurious and unfounded accusations. ''''''chatspy \n",
      "\n",
      "\" \n",
      " #######################################\n",
      "49 \"::::Jmabel; in regards to predominant scholary consensus who is it that allegedly claims \"\"despite \"\"Third Way\"\" rhetoric, fascism in power functioned rather consistently as a right-wing force\"\"? As far as I'm aware (owning numerous books on the subject) that is not the scholary consensus at all. The consensus, developed by respected scholars of fascism who write in a manner which is not bias to any interest group such as Roger Griffin, Hamish McDonald, Roger Eatwell and Zeev Sternhell all recongise fascism as a \"\"Third Way\"\" as the references show.\n",
      "\n",
      "The only dissenters I'm aware of who seem to think fascism has absoutely no leftist connections and is merely a radical right system are street level socialists who want to put as much distance between the movements as possible. This of course does not come from educated people in a position to write books. For example, even the foremost scholary expert on Fascism, and a former member of both the Communist Party and then Socialist Party of Italy, Renzo De Felice doesn't try to \"\"cover up\"\" its socialistic origins and third way status. This is a man who has wrote a definitive seven volume piece on Mussolini. -   \n",
      "\n",
      "\" \n",
      " #######################################\n",
      "50 \"\n",
      "\n",
      "BI, you said you wanted to talk\n",
      "\n",
      "At the bottom of the lead section you have written:\n",
      "\n",
      "\"\"Its promoter speculated in 1994 that the skyhook concept could be cost competitive with what is realistically thought to be achievable using a space elevator, but the skyhook is not competitive with other rotating tether concepts. In addition, the rotating skyhook is in fact deemed \"\"not engineeringly feasible using presently available materials\"\".\"\"\n",
      "\n",
      "Regarding:  In addition, the rotating skyhook is in fact deemed \"\"not engineeringly feasible using presently available materials\"\"\n",
      "\n",
      "That statement appears to come from Ref [3] on page 10.  The full quote is\n",
      "\n",
      "\"\"If the mass of the tether alone started to exceed 200 times the mass of the payload,\n",
      "then that was an indication the particular scenario being considered was not engineeringly\n",
      "feasible using presently available materials, although the application might become feasible in\n",
      "the near future as better materials become available with higher tensile strengths at higher\n",
      "operational temperatures.\"\"\n",
      "\n",
      "It then goes on to say\n",
      "\n",
      "\"\"As we shall see, presently available commercial materials will suffice to make the HASTOL\n",
      "tethers needed. The primary message we want to leave with the Reader is:\n",
      "“We don't need magic materials like ‘Buckminster-Fuller-carbon-nanotubes’ to make\n",
      "the space tether facility for a HASTOL system. Existing materials will do.”\"\"\n",
      "\n",
      "So it would appear that you misread your reference.  The tether mass of 200 times mass of the payload mass is the upper limit to the problem.  Systems where the tether mass is less than 200 times the payload mass can be built with \"\"presently available commercial materials.\"\"\n",
      "\n",
      "To further reinforce this the Conclusion to the report states\n",
      "\n",
      "\"\"The fundamental conclusion of the Phase I HASTOL study effort is that the concept is\n",
      "technically feasible. We have evaluated a number of alternate system configurations that will\n",
      "allow hypersonic air-breathing vehicle technologies to be combined with orbiting, spinning space\n",
      "tether technologies to provide a method of moving payloads from the surface of the Earth into\n",
      "Earth orbit. For more than one HASTOL architecture concept, we have developed a design\n",
      "solution using existing, or near-term technologies. We expect that a number of the other\n",
      "HASTOL architecture concepts will prove similarly technically feasible when subjected to\n",
      "detailed design studies. The systems are completely reusable and have the potential of drastically\n",
      "reducing the cost of Earth-to-orbit space access.\"\"\n",
      "\n",
      "Regarding: \"\"but the skyhook is not competitive with other rotating tether concepts.\"\" and \n",
      "\n",
      "\"\"A 2000 Boeing report on the possibillity of combining skyhooks with hypersonic planes concluded that \"\"In general, the non-spinning tether HyperSkyhook concept does not look competitive with the spinning tether concepts.\"\".\"\"\n",
      "\n",
      "The full quote is:\n",
      "\n",
      "\"\"HyperSkyhook\n",
      "\n",
      "In 1995 Zubrin proposed the “Hypersonic Skyhook” as a solution to the mismatch between\n",
      "the attainable atmospheric speeds of a hypersonic airplane and the orbital speeds of space tethers.\n",
      "Since the orbital speed of the space tether decreases with increasing altitu \n",
      " #######################################\n",
      "51 GET FUCKED UP. GET FUCKEEED UP.  GOT A DRINK THAT YOU CANT PUT DOWN???/ GET FUCK UP GET FUCKED UP.  I'M FUCKED UP RIGHT NOW! \n",
      " #######################################\n",
      "52 Are you threatening me for disputing neutrality? I know in your country it's quite common to bully your way through a discussion and push outcomes you want. But this is not Russia. \n",
      " #######################################\n",
      "53 Thanks! Undeletion was more than I'd hoped for. I'm researching the status of Texas government (including local government) copyright status, but it's slow going. Apparently works of the Florida government are usually public domain, but we don't have a similar article on Texas, so I guess I'll have to research the old-fashioned, non-lazy, actually reliable way. Or ask the copyright help desk, like you suggested. In the meantime, I'm using the fair use rationale, since it's valid while the image is used in an article. Thanks again! - \n",
      " #######################################\n",
      "54 Awesome! Then I'll simply disregard your notice. Thanks! \n",
      " #######################################\n",
      "55 Stupid peace of shit stop deleting my stuff asshole go die and fall in a hole go to hell! \n",
      " #######################################\n",
      "56 =Tony Sidaway is obviously a fistfuckee. He loves an arm up his ass. \n",
      " #######################################\n",
      "57 \"\n",
      "\n",
      " GA Review II \n",
      "\n",
      "I'm sorry to say this, but I have to fail this article's GAN. The several major problems that  brought up in this article's previous GA assessment have not been issued. As s/he has said before me, \"\"he article's WP:LEAD should be longer. The History, Media attention, Academics, Student Government, Demographics, Trivia, and Additional Information section are very deficient in citiations. Also, Triva and Additional information should be integrated into the rest of the article.\"\" Again, please look over WP:WIAGA and fix these problem, then renominate it for GA-class. However, I have re-assessed this article as B-class, as it does meet B-class criteria. My regards,   \" \n",
      " #######################################\n",
      "58 My Band Page's deletion. You thought I was gone. \n",
      "\n",
      "Deleting the comment I posted on your 'talk page' does not delete my feelings for your hasty decision to delete my page. You, sir, are still a cock-sucking douche fuck. Sit back for a second and think about what your life has become. ............ Done? That didn't take long did it? Nope. Because, as I am most certainly aware, your life is a shitstorm of sitting in front of the computer masturbating to fictional creatures. Your attempts to get rid of me are mediocre at best. You are constantly sucking the dick of failure. You don't want a personal attack, huh? Well, too bad, Fuckcock McDickerson. You've got one. From me. You can go ahead and delete my profile from wikipedia. I'll just make another one and come right back to 'Syrthiss's talk page and insult the dick off of you. How could you shatter the dreams of an innocent eighteen year old college freshman trying to make a name for his band. Does that make you happy? Fucking with people because you're an overweight, single, old man in a dead-end job. Did you spot that perhaps someone else was going to follow his dreams and you were trying to hold him back so somebody else could suffer like you? Yes you did. I don't make empty threats, so I won't be saying anything along the lines of 'i'll hurt you' or 'i'll eat the children from within your sister's womb', but I will say that you are a asshole, son-of-a-bitch, mother fucking cock sucker. So, go eat some more food and drown your sorrows you premature ejaculating, bald headed fuck.\n",
      "\n",
      "You should do something nice for yourself, maybe go grab a couple of Horny Goat Weeds from your local convenience store and jack off for a little longer than three minutes tonight.\n",
      "\n",
      "Sincerely,\n",
      "An Asshole That's Better Than You In Every Way. \n",
      " #######################################\n",
      "59 Why can't you believe how fat Artie is? Did you see him on his recent appearence on the Tonight Show with Jay Leno? He looks absolutely AWFUL! If I had to put money on it, I'd say that Artie Lange is a can't miss candidate for the 2007 Dead pool!   \n",
      "\n",
      "  \n",
      "Kindly keep your malicious fingers off of my above comment, . Everytime you remove it, I will repost it!!! \n",
      " #######################################\n",
      "60 Locking this page would also violate WP:NEWBIES.  Whether you like it or not, conservatives are Wikipedians too. \n",
      " #######################################\n",
      "61 A Bisexual, like a homosexual or a heterosexual, is not defined by sexual activity. (Much like a 15 year old boy who is attracted to a girl sexually but has never had sex is still straight). A person who is actually sexually attracted/aroused by the same sex as well as the opposite sex is bisexual. \n",
      " #######################################\n",
      "62 REDIRECT Talk:Frank Herbert Mason \n",
      " #######################################\n",
      "63 \"\n",
      "\n",
      "\"\"Christian arabs\"\"\n",
      "Hi. Could you please stop enforcing the category \"\"Christian arabs\"\" on non arabic Christians living in the middle east? This is wrong. We middle-eastern Christians, though not arabs, have gone through Arabization, and that needs to stop. We are not arabs. We have our own ethnicity, and we shouldn't be forced to be called \"\"Christian arabs\"\". If a Christian European is born in the middle east, should he be called a \"\"Christian arab\"\" because of that reason alone? Please understand, they are Syriac Christians (i.e. of Assyrian ancestry), and most of them speak Aramaic, though a lot of them are forgetting it. As someone who speaks Aramaic, you should respect this fact, and not appease muslims who want to call everyone arabs just because they're in the middle east. We are not closely related to the arabs from Saudiarabia. We have our own ethnicity, please stop forcing upon us some alien arab ethnicity. That's oppression. |Talk 12:17 26 Jun, 2007 (UTC)\" \n",
      " #######################################\n",
      "64 \"\n",
      "\n",
      " DH \n",
      "Dude, ABC officially says THIS is the name for that episode. I do know there is already an episode with that name, but ABC says it's \"\"Everybody's Says Don't\"\".   \" \n",
      " #######################################\n",
      "65 All of my edits are good.  Cunts like you who revert good edits because you're too stupid to understand how to write well , and then revert other edits just because you've decided to bear a playground grudge, are the problem.  Maybe one day you'll realise the damage you did to a noble project.  201.215.187.159 \n",
      " #######################################\n",
      "66 \"\n",
      " - NeilN's bang on - You aren't being harassed at all, If you don't edit disruptively  you don't get reverted. –Talk \" \n",
      " #######################################\n",
      "67 I went there around the same time he did, and that certainly was not the case at the time. Later on they stopped taking children from such a young age. \n",
      " #######################################\n",
      "68 There must be some chemical imbalance in your brains. Are you ok? The gibberish you guys are writing really makes me feel sorry for you. Don't ever go to law school. You would do the legal profession bad. \n",
      " #######################################\n",
      "69 \"\n",
      "\n",
      "Parzival418, you are trying to scare ThAtSo. How can you say that the comments of ThAtSo are \"\"insulting\"\"? ThAtSo is trying to suggest that there should be no original research in the Wikipedia. And, he is right. \" \n",
      " #######################################\n",
      "70 \"\n",
      "\n",
      "Oppose – As the article stands, it does not properly reference under the WP:REFERENCE guidelines. If this issue is resolved, I don't any issues with it being moved to the mainspace. 「」¤ • ¢  \" \n",
      " #######################################\n"
     ]
    }
   ],
   "source": [
    "for i,txt in enumerate(train['comment_text']):\n",
    "  if(i>70):\n",
    "    break;\n",
    "  print(i,txt,\"\\n\",\"#######################################\")"
   ]
  },
  {
   "cell_type": "markdown",
   "metadata": {
    "id": "2ZOQ9hWIT_Dk"
   },
   "source": [
    "**In the pre-processing, after lematizing the words we will correct some short forms and abbreviations like hv, ur, i'm, you're, can't, don't etc. These are the short forms that we often use while typing loose comments. This sort of pre-processing is necessary otherwise tokenization will seperate can't to can and 't, you're to you  and 're and so on...**"
   ]
  },
  {
   "cell_type": "code",
   "execution_count": null,
   "metadata": {
    "id": "WBY9c0jZmLTC"
   },
   "outputs": [],
   "source": [
    "stop_words = stopwords.words('english') + list(punctuation)\n",
    "word_lemetizer = WordNetLemmatizer()\n",
    "\n",
    "def make_tokens(text):\n",
    "\n",
    "    word = text.split()\n",
    "    word = [w.lower() for w in word if w not in stop_words]\n",
    "    word = [word_lemetizer.lemmatize(w).lower() for w in word]\n",
    "    word = \" \".join(word)\n",
    "    \n",
    "    word = re.sub(r\"[^A-Za-z0-9^,!.\\/'+-=]\", \" \", word)\n",
    "    word = re.sub(r\"what's\", \"what is \", word)\n",
    "    word = re.sub(r\"\\'s\", \" \", word)\n",
    "    word = re.sub(r\"\\'ve\", \" have \", word)\n",
    "    word = re.sub(r\"\\'re\", \" are \", word)\n",
    "    word = re.sub(r\"\\'r\", \" your \", word)\n",
    "    word = re.sub(r\"can't\", \"cannot \", word)\n",
    "    word = re.sub(r\"don't\", \"do not \", word)\n",
    "    word = re.sub(r\"mustn't\", \"must not \", word)\n",
    "    word = re.sub(r\"shouldn't\", \"should not \", word)\n",
    "    word = re.sub(r\"haven't\", \"have not \", word)\n",
    "    word = re.sub(r\"i'm\", \"i am \", word)\n",
    "    word = re.sub(r\"\\bi m\\b\", \"i am \", word)\n",
    "    word = re.sub(r\"\\bur\\b\", \"your\", word)\n",
    "    word = re.sub(r\"\\bu\\b\", \"you\", word)\n",
    "    word = re.sub(r\"\\bok\\b\", \"okay\", word)\n",
    "    word = re.sub(r\"\\'re\", \" are \", word)\n",
    "    word = re.sub(r\"\\'d\", \" would \", word)\n",
    "    word = re.sub(r\"\\'ll\", \" will \", word)\n",
    "    word = re.sub(r\",\", \" \", word)\n",
    "    word = re.sub(r\"\\.\", \" \", word)\n",
    "    word = re.sub(r\"!\", \" ! \", word)\n",
    "    word = re.sub(r\"\\/\", \" \", word)\n",
    "    word = re.sub(r\"\\^\", \" ^ \", word)\n",
    "    word = re.sub(r\"\\+\", \" + \", word)\n",
    "    word = re.sub(r\"\\-\", \" - \", word)\n",
    "    word = re.sub(r\"\\=\", \" = \", word)\n",
    "    word = re.sub(r\"'\", \" \", word)\n",
    "    word = re.sub(r\":\", \" : \", word)\n",
    "    word = re.sub(r\" e g \", \" eg \", word)\n",
    "    word = re.sub(r\"e - mail\", \"email\", word)\n",
    "    word = re.sub(r\"\\s{2,}\", \" \", word)\n",
    "\n",
    "    word = RegexpTokenizer('[A-Za-z]+').tokenize(word)\n",
    "    return word"
   ]
  },
  {
   "cell_type": "markdown",
   "metadata": {
    "id": "aAxhL7WDTgbk"
   },
   "source": [
    "**This is how it will look after pre-processing and cleaning. Again printing first 70 records:**"
   ]
  },
  {
   "cell_type": "code",
   "execution_count": null,
   "metadata": {
    "colab": {
     "base_uri": "https://localhost:8080/"
    },
    "executionInfo": {
     "elapsed": 26047,
     "status": "ok",
     "timestamp": 1603932988637,
     "user": {
      "displayName": "sunaal dua",
      "photoUrl": "",
      "userId": "00741122136841948106"
     },
     "user_tz": -330
    },
    "id": "BNvyEjwonfCP",
    "outputId": "dd4a3491-1ef9-4799-9220-978708a4c28a"
   },
   "outputs": [
    {
     "name": "stdout",
     "output_type": "stream",
     "text": [
      "0 ['explanation', 'why', 'edits', 'made', 'username', 'hardcore', 'metallica', 'fan', 'reverted', 'they', 'vandalisms', 'closure', 'gas', 'i', 'voted', 'new', 'york', 'doll', 'fac', 'and', 'please', 'remove', 'template', 'talk', 'page', 'since', 'i', 'am', 'retired', 'now'] \n",
      " ########################################\n",
      "1 ['d', 'aww', 'he', 'match', 'background', 'colour', 'i', 'am', 'seemingly', 'stuck', 'with', 'thanks', 'talk', 'january', 'utc'] \n",
      " ########################################\n",
      "2 ['hey', 'man', 'i', 'am', 'really', 'trying', 'edit', 'war', 'it', 'guy', 'constantly', 'removing', 'relevant', 'information', 'talking', 'edits', 'instead', 'talk', 'page', 'he', 'seems', 'care', 'formatting', 'actual', 'info'] \n",
      " ########################################\n",
      "3 ['more', 'i', 'cannot', 'make', 'real', 'suggestion', 'improvement', 'i', 'wondered', 'section', 'statistic', 'later', 'on', 'subsection', 'types', 'accidents', 'i', 'think', 'reference', 'may', 'need', 'tidying', 'exact', 'format', 'ie', 'date', 'format', 'etc', 'i', 'later', 'on', 'no', 'one', 'else', 'first', 'preference', 'formatting', 'style', 'reference', 'want', 'please', 'let', 'know', 'there', 'appears', 'backlog', 'article', 'review', 'i', 'guess', 'may', 'delay', 'reviewer', 'turn', 'up', 'it', 'listed', 'relevant', 'form', 'eg', 'wikipedia', 'good', 'article', 'nominations', 'transport'] \n",
      " ########################################\n",
      "4 ['you', 'sir', 'hero', 'any', 'chance', 'remember', 'page', 'that', 'on'] \n",
      " ########################################\n",
      "5 ['congratulation', 'well', 'use', 'tool', 'well', 'talk'] \n",
      " ########################################\n",
      "6 ['cocksucker', 'before', 'you', 'piss', 'around', 'on', 'my', 'work'] \n",
      " ########################################\n",
      "7 ['your', 'vandalism', 'matt', 'shirvington', 'article', 'reverted', 'please', 'again', 'banned'] \n",
      " ########################################\n",
      "8 ['sorry', 'word', 'nonsense', 'offensive', 'you', 'anyway', 'i', 'am', 'intending', 'write', 'anything', 'article', 'wow', 'would', 'jump', 'vandalism', 'i', 'am', 'merely', 'requesting', 'encyclopedic', 'one', 'use', 'school', 'reference', 'i', 'selective', 'breeding', 'page', 'almost', 'stub', 'it', 'point', 'animal', 'breeding', 'short', 'messy', 'article', 'give', 'info', 'there', 'must', 'someone', 'around', 'expertise', 'eugenics'] \n",
      " ########################################\n",
      "9 ['alignment', 'subject', 'contrary', 'dulithgow'] \n",
      " ########################################\n",
      "10 ['fair', 'use', 'rationale', 'image', 'wonju', 'jpg', 'thanks', 'uploading', 'image', 'wonju', 'jpg', 'i', 'notice', 'image', 'page', 'specifies', 'image', 'used', 'fair', 'use', 'explanation', 'rationale', 'use', 'wikipedia', 'article', 'constitutes', 'fair', 'use', 'in', 'addition', 'boilerplate', 'fair', 'use', 'template', 'must', 'also', 'write', 'image', 'description', 'page', 'specific', 'explanation', 'rationale', 'using', 'image', 'article', 'consistent', 'fair', 'use', 'please', 'go', 'image', 'description', 'page', 'edit', 'include', 'fair', 'use', 'rationale', 'if', 'uploaded', 'fair', 'use', 'media', 'consider', 'checking', 'specified', 'fair', 'use', 'rationale', 'page', 'too', 'you', 'find', 'list', 'image', 'page', 'edited', 'clicking', 'my', 'contributions', 'link', 'it', 'located', 'top', 'wikipedia', 'page', 'logged', 'in', 'selecting', 'image', 'dropdown', 'box', 'note', 'fair', 'use', 'image', 'uploaded', 'may', 'lacking', 'explanation', 'deleted', 'one', 'week', 'uploaded', 'described', 'criterion', 'speedy', 'deletion', 'if', 'question', 'please', 'ask', 'medium', 'copyright', 'question', 'page', 'thank', 'you', 'talk', 'contribs', 'unspecified', 'source', 'image', 'wonju', 'jpg', 'thanks', 'uploading', 'image', 'wonju', 'jpg', 'i', 'noticed', 'file', 'description', 'page', 'currently', 'specify', 'created', 'content', 'copyright', 'status', 'unclear', 'if', 'create', 'file', 'yourself', 'need', 'specify', 'owner', 'copyright', 'if', 'obtained', 'website', 'link', 'website', 'taken', 'together', 'restatement', 'website', 'term', 'use', 'content', 'usually', 'sufficient', 'information', 'however', 'copyright', 'holder', 'different', 'website', 'publisher', 'copyright', 'also', 'acknowledged', 'a', 'well', 'adding', 'source', 'please', 'add', 'proper', 'copyright', 'licensing', 'tag', 'file', 'one', 'already', 'if', 'created', 'took', 'picture', 'audio', 'video', 'tag', 'used', 'release', 'gfdl', 'if', 'believe', 'medium', 'meet', 'criterion', 'wikipedia', 'fair', 'use', 'use', 'tag', 'one', 'tag', 'listed', 'wikipedia', 'image', 'copyright', 'tags', 'fair', 'use', 'see', 'wikipedia', 'image', 'copyright', 'tag', 'full', 'list', 'copyright', 'tag', 'use', 'if', 'uploaded', 'files', 'consider', 'checking', 'specified', 'source', 'tagged', 'them', 'too', 'you', 'find', 'list', 'file', 'uploaded', 'following', 'link', 'unsourced', 'untagged', 'image', 'may', 'deleted', 'one', 'week', 'tagged', 'described', 'criterion', 'speedy', 'deletion', 'if', 'image', 'copyrighted', 'non', 'free', 'license', 'per', 'wikipedia', 'fair', 'use', 'image', 'deleted', 'hour', 'if', 'question', 'please', 'ask', 'medium', 'copyright', 'question', 'page', 'thank', 'you', 'talk', 'contribs'] \n",
      " ########################################\n",
      "11 ['bbq', 'man', 'let', 'discus', 'it', 'maybe', 'phone'] \n",
      " ########################################\n",
      "12 ['hey', 'it', 'talk', 'what', 'it', 'exclusive', 'group', 'wp', 'talibans', 'who', 'good', 'destroying', 'self', 'appointed', 'purist', 'gang', 'up', 'one', 'asks', 'question', 'abt', 'anti', 'social', 'destructive', 'non', 'contribution', 'wp', 'ask', 'sityush', 'clean', 'behavior', 'issue', 'nonsensical', 'warnings'] \n",
      " ########################################\n",
      "13 ['before', 'start', 'throwing', 'accusation', 'warning', 'me', 'let', 'review', 'edit', 'itself', 'making', 'ad', 'hominem', 'attack', 'going', 'strengthen', 'argument', 'merely', 'make', 'look', 'like', 'abusing', 'power', 'admin', 'now', 'edit', 'relevant', 'this', 'probably', 'single', 'talked', 'event', 'int', 'news', 'late', 'his', 'absence', 'notable', 'since', 'living', 'ex', 'president', 'attend', 'that', 'certainly', 'notable', 'dedicating', 'aircracft', 'carrier', 'i', 'intend', 'revert', 'edit', 'hope', 'attracting', 'attention', 'admin', 'willing', 'look', 'issue', 'itself', 'throw', 'accusation', 'around', 'quite', 'liberally', 'perhaps', 'achieve', 'level', 'civility', 'this', 'rational', 'discussion', 'topic', 'resolve', 'matter', 'peacefully'] \n",
      " ########################################\n",
      "14 ['oh', 'girl', 'started', 'argument', 'me', 'she', 'stuck', 'nose', 'belong', 'i', 'believe', 'argument', 'yvesnimmo', 'but', 'like', 'i', 'said', 'situation', 'settled', 'i', 'apologized', 'thanks'] \n",
      " ########################################\n",
      "15 ['juelz', 'santanas', 'age', 'in', 'juelz', 'santana', 'year', 'old', 'came', 'february', 'th', 'make', 'juelz', 'turn', 'making', 'song', 'the', 'diplomats', 'the', 'third', 'neff', 'signed', 'cam', 'label', 'roc', 'a', 'fella', 'in', 'year', 'old', 'coming', 'single', 'santana', 'town', 'down', 'so', 'yes', 'born', 'he', 'really', 'is', 'could', 'older', 'lloyd', 'banks', 'and', 'could', 'birthday', 'passed', 'the', 'homie', 'neff', 'year', 'old', 'juelz', 'death', 'god', 'forbid', 'thinking', 'that', 'equal', 'go', 'caculator', 'stop', 'changing', 'year', 'birth', 'my', 'god'] \n",
      " ########################################\n",
      "16 ['bye', 'do', 'not', 'look', 'come', 'think', 'comming', 'back', 'tosser'] \n",
      " ########################################\n",
      "17 ['redirect', 'talk', 'voydan', 'pop', 'georgiev', 'chernodrinski'] \n",
      " ########################################\n",
      "18 ['the', 'mitsurugi', 'point', 'made', 'sense', 'argue', 'include', 'hindi', 'ryo', 'sakazaki', 'page', 'include', 'information'] \n",
      " ########################################\n",
      "19 ['do', 'not', 'mean', 'bother', 'i', 'see', 'writing', 'something', 'regarding', 'removing', 'anything', 'posted', 'oh', 'well', 'acctually', 'discus', 'even', 'better', 'i', 'would', 'like', 'ask', 'take', 'closer', 'look', 'premature', 'wrestling', 'death', 'catagory', 'men', 'listed', 'it', 'surely', 'men', 'belong', 'together', 'catagory', 'is', 'anything', 'think', 'catagory', 'besides', 'delting', 'it'] \n",
      " ########################################\n",
      "20 ['regarding', 'recent', 'edits', 'once', 'again', 'please', 'read', 'wp', 'filmplot', 'editing', 'film', 'articles', 'your', 'edits', 'simply', 'good', 'entirely', 'many', 'unnecessary', 'detail', 'bad', 'writing', 'please', 'stop', 'damage', 'the'] \n",
      " ########################################\n",
      "21 ['good', 'know', 'about', 'me', 'yeah', 'i', 'am', 'studying', 'now', 'deepu'] \n",
      " ########################################\n",
      "22 ['snowflake', 'not', 'always', 'symmetrical', 'under', 'geometry', 'stated', 'a', 'snowflake', 'always', 'six', 'symmetric', 'arms', 'this', 'assertion', 'simply', 'true', 'according', 'kenneth', 'libbrecht', 'the', 'rather', 'unattractive', 'irregular', 'crystal', 'far', 'common', 'variety', 'http', 'www', 'its', 'caltech', 'edu', 'atomic', 'snowcrystals', 'myths', 'myths', 'htm', 'perfection', 'someone', 'really', 'need', 'take', 'look', 'site', 'get', 'fact', 'i', 'still', 'see', 'decent', 'number', 'falsity', 'page', 'forgive', 'im', 'new', 'dont', 'want', 'edit', 'anything'] \n",
      " ########################################\n",
      "23 ['the', 'signpost', 'september', 'read', 'signpost', 'full', 'single', 'page', 'unsubscribe'] \n",
      " ########################################\n",
      "24 ['re', 'considering', 'st', 'paragraph', 'edit', 'i', 'understand', 'reason', 'recent', 'edit', 'article', 'i', 'am', 'sure', 'data', 'necessarily', 'wrong', 'rather', 'i', 'am', 'persuaded', 'strategy', 'introducing', 'academic', 'honor', 'first', 'paragraph', 'unhelpful', 'approach', 'specific', 'subject', 'i', 'note', 'article', 'sitting', 'justice', 'similarly', 'enhanced', 'i', 'also', 'believe', 'change', 'improvement', 'in', 'support', 'view', 'edit', 'reverted', 'i', 'would', 'invite', 'anyone', 're', 'visit', 'article', 'written', 'following', 'pair', 'jurists', 'a', 'benjamin', 'cardozo', 'a', 'learned', 'hand', 'b', 'john', 'marshall', 'harlan', 'b', 'john', 'marshall', 'harlan', 'ii', 'the', 'question', 'becomes', 'would', 'current', 'version', 'wikipedia', 'article', 'one', 'either', 'pair', 'improved', 'academic', 'credential', 'introductory', 'paragraph', 'i', 'think', 'not', 'perhaps', 'help', 'repeat', 'wry', 'argument', 'kathleen', 'sullivan', 'stanford', 'law', 'make', 'suggests', 'harvard', 'law', 'faculty', 'wonder', 'antonin', 'scalia', 'avoided', 'learning', 'others', 'managed', 'grasp', 'process', 'judging', 'i', 'would', 'hope', 'anecdote', 'gently', 'illustrates', 'point', 'le', 'humorous', 'even', 'stronger', 'argument', 'one', 'clarence', 'thomas', 'make', 'mention', 'wanting', 'return', 'law', 'degree', 'yale', 'at', 'minimum', 'i', 'am', 'questioning', 'edit', 'it', 'deserves', 'reconsidered'] \n",
      " ########################################\n",
      "25 ['radial', 'symmetry', 'several', 'extinct', 'lineage', 'included', 'echinodermata', 'bilateral', 'homostelea', 'even', 'asymmetrical', 'cothurnocystis', 'stylophora'] \n",
      " ########################################\n",
      "26 ['there', 'need', 'apologize', 'a', 'wikipedia', 'article', 'made', 'reconciling', 'knowledge', 'subject', 'different', 'sources', 'done', 'history', 'study', 'archaeology', 'studies', 'i', 'guess', 'i', 'could', 'scan', 'page', 'email', 'you', 'could', 'ask', 'someone', 'translate', 'page'] \n",
      " ########################################\n",
      "27 ['yes', 'mother', 'child', 'case', 'michael', 'jackson', 'studied', 'motif', 'reasoning', 'judged', 'upon', 'character', 'harshly', 'wacko', 'jacko', 'himself', 'do', 'not', 'tell', 'ignore', 'incriminate', 'myself', 'i', 'going', 'continue', 'refuting', 'bullshit', 'jayjg', 'keep', 'throwing', 'me', 'jun', 'utc'] \n",
      " ########################################\n",
      "28 ['okay', 'but', 'take', 'bit', 'work', 'i', 'cannot', 'quite', 'picture', 'it', 'do', 'example', 'i', 'base', 'on', 'duck'] \n",
      " ########################################\n",
      "29 ['a', 'barnstar', 'you', 'the', 'real', 'life', 'barnstar', 'let', 'you', 'star'] \n",
      " ########################################\n",
      "30 ['how', 'could', 'i', 'post', 'block', 'expires', 'the', 'funny', 'thing', 'is', 'think', 'i', 'am', 'uncivil'] \n",
      " ########################################\n",
      "31 ['not', 'sure', 'heading', 'fight', 'freedom', 'contain'] \n",
      " ########################################\n",
      "32 ['praise', 'looked', 'article', 'month', 'ago', 'much', 'improved'] \n",
      " ########################################\n",
      "33 ['i', 'able', 'post', 'list', 'quickly', 'i', 'already', 'text', 'file', 'hard', 'drive', 'i', 'have', 'meaning', 'get', 'around', 'updating', 'sound', 'list', 'time', 'now', 'a', 'far', 'generating', 'interest', 'i', 'have', 'spent', 'four', 'year', 'trying', 'drum', 'interest', 'freely', 'licensed', 'full', 'length', 'classical', 'music', 'unfortunately', 'attempt', 'failed', 'i', 'am', 'still', 'effectively', 'one', 'it', 'the', 'classical', 'music', 'wikiproject', 'interested', 'wikipedia', 'talk', 'wikiproject', 'classical', 'music', 'archive', 'need', 'help', 'wikipedia', 'talk', 'wikiproject', 'music', 'archive', 'i', 'could', 'use', 'some', 'helpwikipedia', 'talk', 'wikiproject', 'music', 'archive', 'raulbot', 'c', 'and', 'the', 'music', 'list', 'so', 'i', 'really', 'given', 'trying', 'interest', 'others', 'the', 'sound', 'list', 'featured', 'digg', 'back', 'http', 'digg', 'com', 'music', 'wikipedia', 'has', 'free', 'classical', 'music', 'downloads', 'it', 'got', 'diggs', 'imo', 'impressive'] \n",
      " ########################################\n",
      "34 ['well', 'before', 'process', 'before', 'thing', 'subpages', 'his', 'rfa', 'listed', 'noseptember', 'page', 'find', 'look', 'september', 'i', 'think', 'i', 'difference', 'el', 'c', 'sure', 'surprised', 'see', 'block', 'i', 'left', 'note', 't', 'c'] \n",
      " ########################################\n",
      "35 ['not', 'all', 'making', 'straw', 'man', 'argument', 'here', 'i', 'never', 'claimed', 'o', 'would', 'onohue', 'position', 'rather', 'practitioner', 'researcher', 'field', 'ignored', 'dsm', 'position', 'exactly', 'quote', 'say', 'also', 'something', 'o', 'would', 'onohue', 'agrees', 'with', 'again', 'i', 'combating', 'notion', 'absurd', 'part', 'claim', 'pedophilia', 'sexual', 'orientation', 'since', 'many', 'researcher', 'hold', 'position', 'would', 'unfair', 'call', 'absurd', 'the', 'disorder', 'part', 'divided', 'field', 'argue', 'disorder', 'all', 'do', 'at', 'end', 'day', 'value', 'judgment', 'as', 'cantor', 'pointed', 'earlier', 'thread', 'scientific', 'judgement', 'if', 'choose', 'make', 'value', 'judgment', 'article', 'stated', 'clearly', 'pretend', 'scientific', 'basis'] \n",
      " ########################################\n",
      "36 ['mainland', 'asia', 'includes', 'the', 'lower', 'basin', 'china', 'yangtze', 'river', 'well', 'korea', 'but', 'specific', 'fine', 'too', 'i', 'found', 'citation', 'comprehensive', 'dna', 'study', 'hammer', 'below', 'rather', 'generarizations', 'speculation', 'far', 'citation', 'yayoi', 'culture', 'brought', 'japan', 'migrant', 'korea', 'turn', 'trace', 'root', 'southeast', 'asia', 'south', 'china', 'dna', 'study', 'hammer', 'describes', 'yayoi', 'migration', 'korea', 'based', 'o', 'sry', 'gene', 'gene', 'close', 'lineage', 'haplogroups', 'o', 'm', 'o', 'm', 'reiterates', 'the', 'entire', 'o', 'haplogroup', 'proposed', 'southeast', 'asian', 'origin', 'their', 'definition', 'southeast', 'asia', 'includes', 'southern', 'china', 'then', 'hypothesizes', 'the', 'dispersal', 'neolithic', 'farmer', 'southeast', 'asia', 'also', 'brought', 'haplogroup', 'o', 'lineage', 'korea', 'eventually', 'japan', 'in', 'concluding', 'paragraph', 'state', 'we', 'propose', 'yayoi', 'y', 'chromosome', 'descend', 'prehistoric', 'farmer', 'origin', 'southeastern', 'asia', 'perhaps', 'going', 'back', 'origin', 'agriculture', 'region', 'hammer', 'dna', 'study', 'based', 'global', 'sample', 'consisted', 'male', 'asian', 'populations', 'including', 'six', 'population', 'sampled', 'across', 'japanese', 'archipelago'] \n",
      " ########################################\n",
      "37 ['pretty', 'much', 'everyone', 'warren', 'county', 'surrounding', 'region', 'born', 'glen', 'fall', 'hospital', 'included', 'however', 'i', 'am', 'sure', 'qualifies', 'anyone', 'glen', 'fall', 'native', 'rachel', 'ray', 'is', 'believe', 'actually', 'town', 'lake', 'luzerne', 'the', 'preceding', 'unsigned', 'comment', 'added', 'august', 'utc'] \n",
      " ########################################\n",
      "38 ['hi', 'explicit', 'block', 'o', 'fenian', 'edit', 'warring', 'giant', 'causeway', 'wp', 'he', 'made', 'several', 'edits', 'described', 'terrorism'] \n",
      " ########################################\n",
      "39 ['notability', 'rurika', 'kasuga', 'a', 'tag', 'placed', 'rurika', 'kasuga', 'requesting', 'speedily', 'deleted', 'wikipedia', 'this', 'done', 'article', 'seems', 'person', 'group', 'people', 'band', 'club', 'company', 'web', 'content', 'indicate', 'subject', 'notable', 'is', 'article', 'subject', 'included', 'wikipedia', 'under', 'criterion', 'speedy', 'deletion', 'article', 'assert', 'notability', 'may', 'deleted', 'time', 'please', 'see', 'guideline', 'generally', 'accepted', 'notable', 'indicate', 'subject', 'article', 'notable', 'may', 'contest', 'tagging', 'to', 'this', 'add', 'top', 'page', 'below', 'existing', 'db', 'tag', 'leave', 'note', 'article', 'talk', 'page', 'explaining', 'position', 'please', 'remove', 'speedy', 'deletion', 'tag', 'yourself', 'hesitate', 'add', 'information', 'article', 'would', 'confirm', 'subject', 'notability', 'guidelines', 'for', 'guideline', 'specific', 'type', 'articles', 'may', 'want', 'check', 'criterion', 'biographies', 'web', 'sites', 'bands', 'companies', 'feel', 'free', 'leave', 'note', 'talk', 'page', 'question', 'this'] \n",
      " ########################################\n",
      "40 ['sure', 'lead', 'must', 'briefly', 'summarize', 'armenia', 'history', 'i', 'simply', 'added', 'i', 'found', 'necessary', 'if', 'anyone', 'think', 'sentence', 'redundant', 'lead', 'welcome', 'remove', 'make', 'edits', 'talk'] \n",
      " ########################################\n",
      "41 ['tfd', 'i', 'think', 'eced', 'i', 'think', 'responded', 'without', 'seeing', 'others', 'responses', 'i', 'added', 'something', 'response', 'yours', 'know', 'saw', 'mine', 't', 'c', 'wp', 'chicago', 'wp', 'four'] \n",
      " ########################################\n",
      "42 ['you', 'gay', 'antisemmitian', 'archangel', 'white', 'tiger', 'meow', 'greetingshhh', 'uh', 'two', 'ways', 'erased', 'comment', 'ww', 'holocaust', 'brutally', 'slaying', 'jew', 'gays', 'gypsys', 'slavs', 'anyone', 'if', 'anti', 'semitian', 'shave', 'head', 'bald', 'go', 'skinhead', 'meetings', 'if', 'doubt', 'word', 'bible', 'homosexuality', 'deadly', 'sin', 'make', 'pentagram', 'tatoo', 'forehead', 'go', 'satanistic', 'mass', 'gay', 'pals', 'first', 'last', 'warning', 'fucking', 'gay', 'i', 'appreciate', 'nazi', 'shwain', 'would', 'write', 'page', 'i', 'wish', 'talk', 'anymore', 'beware', 'dark', 'side'] \n",
      " ########################################\n",
      "43 ['fuck', 'your', 'filthy', 'mother', 'in', 'the', 'ass', 'dry'] \n",
      " ########################################\n",
      "44 ['i', 'am', 'sorry', 'i', 'am', 'sorry', 'i', 'screwed', 'around', 'someone', 'talk', 'page', 'it', 'bad', 'do', 'i', 'know', 'template', 'talk', 'page', 'help', 'assert', 'dominance', 'them', 'i', 'know', 'i', 'bow', 'almighty', 'administrators', 'but', 'again', 'i', 'am', 'going', 'go', 'play', 'outside', 'with', 'mom'] \n",
      " ########################################\n",
      "45 ['i', 'believe', 'lisak', 'criticism', 'present', 'conforms', 'npv', 'rule', 'lisak', 'neutral', 'point', 'view', 'begin', 'with', 'if', 'offer', 'polygraph', 'even', 'concerned', 'review', 'polygraph', 'result', 'shock', 'complainant', 'thinking', 'lie', 'uncovered', 'recantation', 'still', 'perfectly', 'valid', 'if', 'know', 'telling', 'truth', 'argue', 'machine', 'investigator', 'also', 'part', 'kanin', 'research', 'followup', 'recanted', 'story', 'possible', 'verify', 'false', 'recantations', 'in', 'followup', 'recanted', 'version', 'event', 'matched', 'accused', 'said', 'happened', 'arguing', 'lisak', 'respected', 'phd', 'baseless', 'kanin', 'respected', 'phd', 'i', 'agree', 'edit', 'neutral', 'possible', 'though', 'apologize', 'that', 'still', 'something', 'must', 'done', 'here'] \n",
      " ########################################\n",
      "46 ['you', 'point', 'ammended', 'appropriate', 'encyclopedic', 'notability', 'significance'] \n",
      " ########################################\n",
      "47 ['in', 'words', 'lazy', 'actually', 'point', 'anything', 'out', 'until', 'change', 'approach', 'tag', 'goes'] \n",
      " ########################################\n",
      "48 ['a', 'claim', 'stalking', 'absolute', 'rubbish', 'serf', 'aggravate', 'situation', 'i', 'assumed', 'good', 'faith', 'and', 'good', 'intentions', 'part', 'never', 'suggested', 'or', 'seen', 'reason', 'suggest', 'might', 'ulterior', 'motive', 'mass', 'adding', 'link', 'one', 'specific', 'company', 'web', 'page', 'nor', 'matter', 'i', 'ever', 'made', 'suggestion', 'administrative', 'matter', 'even', 'mentioned', 'role', 'clearly', 'party', 'disagreement', 'i', 'would', 'rate', 'would', 'conflict', 'interest', 'i', 'would', 'ask', 'thus', 'extend', 'good', 'faith', 'toward', 'me', 'rather', 'making', 'spurious', 'unfounded', 'accusations', 'chatspy'] \n",
      " ########################################\n",
      "49 ['jmabel', 'regard', 'predominant', 'scholary', 'consensus', 'allegedly', 'claim', 'despite', 'third', 'way', 'rhetoric', 'fascism', 'power', 'functioned', 'rather', 'consistently', 'right', 'wing', 'force', 'a', 'far', 'i', 'am', 'aware', 'owning', 'numerous', 'book', 'subject', 'scholary', 'consensus', 'all', 'the', 'consensus', 'developed', 'respected', 'scholar', 'fascism', 'write', 'manner', 'bias', 'interest', 'group', 'roger', 'griffin', 'hamish', 'mcdonald', 'roger', 'eatwell', 'zeev', 'sternhell', 'recongise', 'fascism', 'third', 'way', 'reference', 'show', 'the', 'dissenter', 'i', 'am', 'aware', 'seem', 'think', 'fascism', 'absoutely', 'leftist', 'connection', 'merely', 'radical', 'right', 'system', 'street', 'level', 'socialist', 'want', 'put', 'much', 'distance', 'movement', 'possible', 'this', 'course', 'come', 'educated', 'people', 'position', 'write', 'books', 'for', 'example', 'even', 'foremost', 'scholary', 'expert', 'fascism', 'former', 'member', 'communist', 'party', 'socialist', 'party', 'italy', 'renzo', 'de', 'felice', 'try', 'cover', 'up', 'socialistic', 'origin', 'third', 'way', 'status', 'this', 'man', 'wrote', 'definitive', 'seven', 'volume', 'piece', 'mussolini'] \n",
      " ########################################\n",
      "50 ['bi', 'said', 'wanted', 'talk', 'at', 'bottom', 'lead', 'section', 'written', 'its', 'promoter', 'speculated', 'skyhook', 'concept', 'could', 'cost', 'competitive', 'realistically', 'thought', 'achievable', 'using', 'space', 'elevator', 'skyhook', 'competitive', 'rotating', 'tether', 'concepts', 'in', 'addition', 'rotating', 'skyhook', 'fact', 'deemed', 'not', 'engineeringly', 'feasible', 'using', 'presently', 'available', 'materials', 'regarding', 'in', 'addition', 'rotating', 'skyhook', 'fact', 'deemed', 'not', 'engineeringly', 'feasible', 'using', 'presently', 'available', 'materials', 'that', 'statement', 'appears', 'come', 'ref', 'page', 'the', 'full', 'quote', 'if', 'mass', 'tether', 'alone', 'started', 'exceed', 'time', 'mass', 'payload', 'indication', 'particular', 'scenario', 'considered', 'engineeringly', 'feasible', 'using', 'presently', 'available', 'materials', 'although', 'application', 'might', 'become', 'feasible', 'near', 'future', 'better', 'material', 'become', 'available', 'higher', 'tensile', 'strength', 'higher', 'operational', 'temperatures', 'it', 'go', 'say', 'as', 'shall', 'see', 'presently', 'available', 'commercial', 'material', 'suffice', 'make', 'hastol', 'tether', 'needed', 'the', 'primary', 'message', 'want', 'leave', 'reader', 'is', 'we', 'need', 'magic', 'material', 'like', 'buckminster', 'fuller', 'carbon', 'nanotubes', 'make', 'space', 'tether', 'facility', 'hastol', 'system', 'existing', 'material', 'do', 'so', 'would', 'appear', 'misread', 'reference', 'the', 'tether', 'mass', 'time', 'mass', 'payload', 'mass', 'upper', 'limit', 'problem', 'system', 'tether', 'mass', 'le', 'time', 'payload', 'mass', 'built', 'presently', 'available', 'commercial', 'materials', 'to', 'reinforce', 'conclusion', 'report', 'state', 'the', 'fundamental', 'conclusion', 'phase', 'i', 'hastol', 'study', 'effort', 'concept', 'technically', 'feasible', 'we', 'evaluated', 'number', 'alternate', 'system', 'configuration', 'allow', 'hypersonic', 'air', 'breathing', 'vehicle', 'technology', 'combined', 'orbiting', 'spinning', 'space', 'tether', 'technology', 'provide', 'method', 'moving', 'payload', 'surface', 'earth', 'earth', 'orbit', 'for', 'one', 'hastol', 'architecture', 'concept', 'developed', 'design', 'solution', 'using', 'existing', 'near', 'term', 'technologies', 'we', 'expect', 'number', 'hastol', 'architecture', 'concept', 'prove', 'similarly', 'technically', 'feasible', 'subjected', 'detailed', 'design', 'studies', 'the', 'system', 'completely', 'reusable', 'potential', 'drastically', 'reducing', 'cost', 'earth', 'to', 'orbit', 'space', 'access', 'regarding', 'but', 'skyhook', 'competitive', 'rotating', 'tether', 'concepts', 'a', 'boeing', 'report', 'possibillity', 'combining', 'skyhook', 'hypersonic', 'plane', 'concluded', 'in', 'general', 'non', 'spinning', 'tether', 'hyperskyhook', 'concept', 'look', 'competitive', 'spinning', 'tether', 'concepts', 'the', 'full', 'quote', 'is', 'hyperskyhook', 'in', 'zubrin', 'proposed', 'hypersonic', 'skyhook', 'solution', 'mismatch', 'attainable', 'atmospheric', 'speed', 'hypersonic', 'airplane', 'orbital', 'speed', 'space', 'tethers', 'since', 'orbital', 'speed', 'space', 'tether', 'decrease', 'increasing', 'altitu'] \n",
      " ########################################\n",
      "51 ['get', 'fucked', 'up', 'get', 'fuckeeed', 'up', 'got', 'a', 'drink', 'that', 'you', 'cant', 'put', 'down', 'get', 'fuck', 'up', 'get', 'fucked', 'up', 'i', 'am', 'fucked', 'up', 'right', 'now'] \n",
      " ########################################\n",
      "52 ['are', 'threatening', 'disputing', 'neutrality', 'i', 'know', 'country', 'quite', 'common', 'bully', 'way', 'discussion', 'push', 'outcome', 'want', 'but', 'russia'] \n",
      " ########################################\n",
      "53 ['thanks', 'undeletion', 'i', 'would', 'hoped', 'for', 'i', 'am', 'researching', 'status', 'texas', 'government', 'including', 'local', 'government', 'copyright', 'status', 'slow', 'going', 'apparently', 'work', 'florida', 'government', 'usually', 'public', 'domain', 'similar', 'article', 'texas', 'i', 'guess', 'i', 'will', 'research', 'old', 'fashioned', 'non', 'lazy', 'actually', 'reliable', 'way', 'or', 'ask', 'copyright', 'help', 'desk', 'like', 'suggested', 'in', 'meantime', 'i', 'am', 'using', 'fair', 'use', 'rationale', 'since', 'valid', 'image', 'used', 'article', 'thanks', 'again'] \n",
      " ########################################\n",
      "54 ['awesome', 'then', 'i', 'will', 'simply', 'disregard', 'notice', 'thanks'] \n",
      " ########################################\n",
      "55 ['stupid', 'peace', 'shit', 'stop', 'deleting', 'stuff', 'asshole', 'go', 'die', 'fall', 'hole', 'go', 'hell'] \n",
      " ########################################\n",
      "56 ['tony', 'sidaway', 'obviously', 'fistfuckee', 'he', 'love', 'arm', 'ass'] \n",
      " ########################################\n",
      "57 ['ga', 'review', 'ii', 'i', 'am', 'sorry', 'say', 'this', 'i', 'fail', 'article', 'gan', 'the', 'several', 'major', 'problem', 'brought', 'article', 'previous', 'ga', 'assessment', 'issued', 'a', 's', 'he', 'said', 'me', 'he', 'article', 'wp', 'lead', 'longer', 'the', 'history', 'medium', 'attention', 'academics', 'student', 'government', 'demographics', 'trivia', 'additional', 'information', 'section', 'deficient', 'citiations', 'also', 'triva', 'additional', 'information', 'integrated', 'rest', 'article', 'again', 'please', 'look', 'wp', 'wiaga', 'fix', 'problem', 'renominate', 'ga', 'class', 'however', 'i', 're', 'assessed', 'article', 'b', 'class', 'meet', 'b', 'class', 'criteria', 'my', 'regards'] \n",
      " ########################################\n",
      "58 ['my', 'band', 'page', 'deletion', 'you', 'thought', 'i', 'gone', 'deleting', 'comment', 'i', 'posted', 'talk', 'page', 'delete', 'feeling', 'hasty', 'decision', 'delete', 'page', 'you', 'sir', 'still', 'cock', 'sucking', 'douche', 'fuck', 'sit', 'back', 'second', 'think', 'life', 'become', 'done', 'that', 'take', 'long', 'it', 'nope', 'because', 'i', 'certainly', 'aware', 'life', 'shitstorm', 'sitting', 'front', 'computer', 'masturbating', 'fictional', 'creatures', 'your', 'attempt', 'get', 'rid', 'mediocre', 'best', 'you', 'constantly', 'sucking', 'dick', 'failure', 'you', 'want', 'personal', 'attack', 'huh', 'well', 'bad', 'fuckcock', 'mcdickerson', 'you', 'have', 'got', 'one', 'from', 'me', 'you', 'go', 'ahead', 'delete', 'profile', 'wikipedia', 'i', 'will', 'make', 'another', 'one', 'come', 'right', 'back', 'yrthiss', 'talk', 'page', 'insult', 'dick', 'you', 'how', 'could', 'shatter', 'dream', 'innocent', 'eighteen', 'year', 'old', 'college', 'freshman', 'trying', 'make', 'name', 'band', 'doe', 'make', 'happy', 'fucking', 'people', 'overweight', 'single', 'old', 'man', 'dead', 'end', 'job', 'did', 'spot', 'perhaps', 'someone', 'else', 'going', 'follow', 'dream', 'trying', 'hold', 'back', 'somebody', 'else', 'could', 'suffer', 'like', 'you', 'yes', 'did', 'i', 'make', 'empty', 'threats', 'i', 'saying', 'anything', 'along', 'line', 'i', 'will', 'hurt', 'you', 'i', 'will', 'eat', 'child', 'within', 'sister', 'womb', 'i', 'say', 'asshole', 'son', 'of', 'a', 'bitch', 'mother', 'fucking', 'cock', 'sucker', 'so', 'go', 'eat', 'food', 'drown', 'sorrow', 'premature', 'ejaculating', 'bald', 'headed', 'fuck', 'you', 'something', 'nice', 'yourself', 'maybe', 'go', 'grab', 'couple', 'horny', 'goat', 'weed', 'local', 'convenience', 'store', 'jack', 'little', 'longer', 'three', 'minute', 'tonight', 'sincerely', 'an', 'asshole', 'that', 'better', 'than', 'you', 'in', 'every', 'way'] \n",
      " ########################################\n",
      "59 ['why', 'cannot', 'believe', 'fat', 'artie', 'is', 'did', 'see', 'recent', 'appearence', 'tonight', 'show', 'jay', 'leno', 'he', 'look', 'absolutely', 'awful', 'if', 'i', 'put', 'money', 'it', 'i', 'would', 'say', 'artie', 'lange', 'cannot', 'miss', 'candidate', 'dead', 'pool', 'kindly', 'keep', 'malicious', 'finger', 'comment', 'everytime', 'remove', 'it', 'i', 'repost', 'it'] \n",
      " ########################################\n",
      "60 ['locking', 'page', 'would', 'also', 'violate', 'wp', 'newbies', 'whether', 'like', 'not', 'conservative', 'wikipedians', 'too'] \n",
      " ########################################\n",
      "61 ['a', 'bisexual', 'like', 'homosexual', 'heterosexual', 'defined', 'sexual', 'activity', 'much', 'like', 'year', 'old', 'boy', 'attracted', 'girl', 'sexually', 'never', 'sex', 'still', 'straight', 'a', 'person', 'actually', 'sexually', 'attracted', 'aroused', 'sex', 'well', 'opposite', 'sex', 'bisexual'] \n",
      " ########################################\n",
      "62 ['redirect', 'talk', 'frank', 'herbert', 'mason'] \n",
      " ########################################\n",
      "63 ['christian', 'arabs', 'hi', 'could', 'please', 'stop', 'enforcing', 'category', 'christian', 'arabs', 'non', 'arabic', 'christian', 'living', 'middle', 'east', 'this', 'wrong', 'we', 'middle', 'eastern', 'christians', 'though', 'arabs', 'gone', 'arabization', 'need', 'stop', 'we', 'arabs', 'we', 'ethnicity', 'forced', 'called', 'christian', 'arabs', 'if', 'christian', 'european', 'born', 'middle', 'east', 'called', 'christian', 'arab', 'reason', 'alone', 'please', 'understand', 'syriac', 'christian', 'i', 'e', 'assyrian', 'ancestry', 'speak', 'aramaic', 'though', 'lot', 'forgetting', 'it', 'a', 'someone', 'speaks', 'aramaic', 'respect', 'fact', 'appease', 'muslim', 'want', 'call', 'everyone', 'arab', 'they', 'are', 'middle', 'east', 'we', 'closely', 'related', 'arab', 'saudiarabia', 'we', 'ethnicity', 'please', 'stop', 'forcing', 'upon', 'you', 'alien', 'arab', 'ethnicity', 'that', 'oppression', 'talk', 'jun', 'utc'] \n",
      " ########################################\n",
      "64 ['dh', 'dude', 'abc', 'officially', 'say', 'this', 'name', 'episode', 'i', 'know', 'already', 'episode', 'name', 'abc', 'say', 'everybody', 'say', 'do', 'not'] \n",
      " ########################################\n",
      "65 ['all', 'edits', 'good', 'cunt', 'like', 'revert', 'good', 'edits', 'stupid', 'understand', 'write', 'well', 'revert', 'edits', 'decided', 'bear', 'playground', 'grudge', 'problem', 'maybe', 'one', 'day', 'realise', 'damage', 'noble', 'project'] \n",
      " ########################################\n",
      "66 ['neiln', 'bang', 'you', 'harassed', 'all', 'if', 'edit', 'disruptively', 'get', 'reverted', 'talk'] \n",
      " ########################################\n",
      "67 ['i', 'went', 'around', 'time', 'did', 'certainly', 'case', 'time', 'later', 'stopped', 'taking', 'child', 'young', 'age'] \n",
      " ########################################\n",
      "68 ['there', 'must', 'chemical', 'imbalance', 'brains', 'are', 'okay', 'the', 'gibberish', 'guy', 'writing', 'really', 'make', 'feel', 'sorry', 'you', 'do', 'not', 'ever', 'go', 'law', 'school', 'you', 'would', 'legal', 'profession', 'bad'] \n",
      " ########################################\n",
      "69 ['parzival', 'trying', 'scare', 'thatso', 'how', 'say', 'comment', 'thatso', 'insulting', 'thatso', 'trying', 'suggest', 'original', 'research', 'wikipedia', 'and', 'right'] \n",
      " ########################################\n",
      "70 ['oppose', 'a', 'article', 'stands', 'properly', 'reference', 'wp', 'reference', 'guidelines', 'if', 'issue', 'resolved', 'i', 'issue', 'moved', 'mainspace'] \n",
      " ########################################\n"
     ]
    }
   ],
   "source": [
    "for i,txt in enumerate(train[\"comment_text\"]):\n",
    "  if(i>70):\n",
    "    break;\n",
    "  print(i,make_tokens(txt),\"\\n\",\"########################################\")"
   ]
  },
  {
   "cell_type": "markdown",
   "metadata": {
    "id": "gQzfRlE0UBRc"
   },
   "source": [
    "**Now that we have seen what pre-processed and cleaned tokens would look like... lets actually do it on the whole dataset; training and testing both:**"
   ]
  },
  {
   "cell_type": "code",
   "execution_count": null,
   "metadata": {
    "id": "Jl5WYguBp3mT"
   },
   "outputs": [],
   "source": [
    "vocabulary = set()\n",
    "for txt in train[\"comment_text\"]:\n",
    "    words = set(make_tokens(txt))\n",
    "    vocabulary.update(words)\n",
    "    \n",
    "train[\"comment_tokens\"] = train[\"comment_text\"].apply(make_tokens)"
   ]
  },
  {
   "cell_type": "code",
   "execution_count": null,
   "metadata": {
    "id": "PVf1W5HygHuQ"
   },
   "outputs": [],
   "source": [
    "for txt in test[\"comment_text\"]:\n",
    "    words = set(make_tokens(txt))\n",
    "    vocabulary.update(words)\n",
    "\n",
    "vocabulary = list(vocabulary)\n",
    "vocabulary.append(\"DUMMYWORD\")\n",
    "test[\"comment_tokens\"] = test[\"comment_text\"].apply(make_tokens)"
   ]
  },
  {
   "cell_type": "code",
   "execution_count": null,
   "metadata": {
    "colab": {
     "base_uri": "https://localhost:8080/",
     "height": 919
    },
    "executionInfo": {
     "elapsed": 254939,
     "status": "ok",
     "timestamp": 1603933217574,
     "user": {
      "displayName": "sunaal dua",
      "photoUrl": "",
      "userId": "00741122136841948106"
     },
     "user_tz": -330
    },
    "id": "XITkMaHOgwAz",
    "outputId": "512728a3-c2a6-4b1f-8b50-20c96641e60d"
   },
   "outputs": [
    {
     "name": "stdout",
     "output_type": "stream",
     "text": [
      "train set:\n"
     ]
    },
    {
     "data": {
      "text/html": [
       "<div>\n",
       "<style scoped>\n",
       "    .dataframe tbody tr th:only-of-type {\n",
       "        vertical-align: middle;\n",
       "    }\n",
       "\n",
       "    .dataframe tbody tr th {\n",
       "        vertical-align: top;\n",
       "    }\n",
       "\n",
       "    .dataframe thead th {\n",
       "        text-align: right;\n",
       "    }\n",
       "</style>\n",
       "<table border=\"1\" class=\"dataframe\">\n",
       "  <thead>\n",
       "    <tr style=\"text-align: right;\">\n",
       "      <th></th>\n",
       "      <th>id</th>\n",
       "      <th>comment_text</th>\n",
       "      <th>toxic</th>\n",
       "      <th>severe_toxic</th>\n",
       "      <th>obscene</th>\n",
       "      <th>threat</th>\n",
       "      <th>insult</th>\n",
       "      <th>identity_hate</th>\n",
       "      <th>comment_tokens</th>\n",
       "    </tr>\n",
       "  </thead>\n",
       "  <tbody>\n",
       "    <tr>\n",
       "      <th>0</th>\n",
       "      <td>0000997932d777bf</td>\n",
       "      <td>Explanation\\nWhy the edits made under my usern...</td>\n",
       "      <td>0</td>\n",
       "      <td>0</td>\n",
       "      <td>0</td>\n",
       "      <td>0</td>\n",
       "      <td>0</td>\n",
       "      <td>0</td>\n",
       "      <td>[explanation, why, edits, made, username, hard...</td>\n",
       "    </tr>\n",
       "    <tr>\n",
       "      <th>1</th>\n",
       "      <td>000103f0d9cfb60f</td>\n",
       "      <td>D'aww! He matches this background colour I'm s...</td>\n",
       "      <td>0</td>\n",
       "      <td>0</td>\n",
       "      <td>0</td>\n",
       "      <td>0</td>\n",
       "      <td>0</td>\n",
       "      <td>0</td>\n",
       "      <td>[d, aww, he, match, background, colour, i, am,...</td>\n",
       "    </tr>\n",
       "    <tr>\n",
       "      <th>2</th>\n",
       "      <td>000113f07ec002fd</td>\n",
       "      <td>Hey man, I'm really not trying to edit war. It...</td>\n",
       "      <td>0</td>\n",
       "      <td>0</td>\n",
       "      <td>0</td>\n",
       "      <td>0</td>\n",
       "      <td>0</td>\n",
       "      <td>0</td>\n",
       "      <td>[hey, man, i, am, really, trying, edit, war, i...</td>\n",
       "    </tr>\n",
       "    <tr>\n",
       "      <th>3</th>\n",
       "      <td>0001b41b1c6bb37e</td>\n",
       "      <td>\"\\nMore\\nI can't make any real suggestions on ...</td>\n",
       "      <td>0</td>\n",
       "      <td>0</td>\n",
       "      <td>0</td>\n",
       "      <td>0</td>\n",
       "      <td>0</td>\n",
       "      <td>0</td>\n",
       "      <td>[more, i, cannot, make, real, suggestion, impr...</td>\n",
       "    </tr>\n",
       "    <tr>\n",
       "      <th>4</th>\n",
       "      <td>0001d958c54c6e35</td>\n",
       "      <td>You, sir, are my hero. Any chance you remember...</td>\n",
       "      <td>0</td>\n",
       "      <td>0</td>\n",
       "      <td>0</td>\n",
       "      <td>0</td>\n",
       "      <td>0</td>\n",
       "      <td>0</td>\n",
       "      <td>[you, sir, hero, any, chance, remember, page, ...</td>\n",
       "    </tr>\n",
       "    <tr>\n",
       "      <th>5</th>\n",
       "      <td>00025465d4725e87</td>\n",
       "      <td>\"\\n\\nCongratulations from me as well, use the ...</td>\n",
       "      <td>0</td>\n",
       "      <td>0</td>\n",
       "      <td>0</td>\n",
       "      <td>0</td>\n",
       "      <td>0</td>\n",
       "      <td>0</td>\n",
       "      <td>[congratulation, well, use, tool, well, talk]</td>\n",
       "    </tr>\n",
       "    <tr>\n",
       "      <th>6</th>\n",
       "      <td>0002bcb3da6cb337</td>\n",
       "      <td>COCKSUCKER BEFORE YOU PISS AROUND ON MY WORK</td>\n",
       "      <td>1</td>\n",
       "      <td>1</td>\n",
       "      <td>1</td>\n",
       "      <td>0</td>\n",
       "      <td>1</td>\n",
       "      <td>0</td>\n",
       "      <td>[cocksucker, before, you, piss, around, on, my...</td>\n",
       "    </tr>\n",
       "    <tr>\n",
       "      <th>7</th>\n",
       "      <td>00031b1e95af7921</td>\n",
       "      <td>Your vandalism to the Matt Shirvington article...</td>\n",
       "      <td>0</td>\n",
       "      <td>0</td>\n",
       "      <td>0</td>\n",
       "      <td>0</td>\n",
       "      <td>0</td>\n",
       "      <td>0</td>\n",
       "      <td>[your, vandalism, matt, shirvington, article, ...</td>\n",
       "    </tr>\n",
       "    <tr>\n",
       "      <th>8</th>\n",
       "      <td>00037261f536c51d</td>\n",
       "      <td>Sorry if the word 'nonsense' was offensive to ...</td>\n",
       "      <td>0</td>\n",
       "      <td>0</td>\n",
       "      <td>0</td>\n",
       "      <td>0</td>\n",
       "      <td>0</td>\n",
       "      <td>0</td>\n",
       "      <td>[sorry, word, nonsense, offensive, you, anyway...</td>\n",
       "    </tr>\n",
       "    <tr>\n",
       "      <th>9</th>\n",
       "      <td>00040093b2687caa</td>\n",
       "      <td>alignment on this subject and which are contra...</td>\n",
       "      <td>0</td>\n",
       "      <td>0</td>\n",
       "      <td>0</td>\n",
       "      <td>0</td>\n",
       "      <td>0</td>\n",
       "      <td>0</td>\n",
       "      <td>[alignment, subject, contrary, dulithgow]</td>\n",
       "    </tr>\n",
       "  </tbody>\n",
       "</table>\n",
       "</div>"
      ],
      "text/plain": [
       "                 id  ...                                     comment_tokens\n",
       "0  0000997932d777bf  ...  [explanation, why, edits, made, username, hard...\n",
       "1  000103f0d9cfb60f  ...  [d, aww, he, match, background, colour, i, am,...\n",
       "2  000113f07ec002fd  ...  [hey, man, i, am, really, trying, edit, war, i...\n",
       "3  0001b41b1c6bb37e  ...  [more, i, cannot, make, real, suggestion, impr...\n",
       "4  0001d958c54c6e35  ...  [you, sir, hero, any, chance, remember, page, ...\n",
       "5  00025465d4725e87  ...      [congratulation, well, use, tool, well, talk]\n",
       "6  0002bcb3da6cb337  ...  [cocksucker, before, you, piss, around, on, my...\n",
       "7  00031b1e95af7921  ...  [your, vandalism, matt, shirvington, article, ...\n",
       "8  00037261f536c51d  ...  [sorry, word, nonsense, offensive, you, anyway...\n",
       "9  00040093b2687caa  ...          [alignment, subject, contrary, dulithgow]\n",
       "\n",
       "[10 rows x 9 columns]"
      ]
     },
     "metadata": {
      "tags": []
     },
     "output_type": "display_data"
    },
    {
     "name": "stdout",
     "output_type": "stream",
     "text": [
      "\n",
      "test set:\n"
     ]
    },
    {
     "data": {
      "text/html": [
       "<div>\n",
       "<style scoped>\n",
       "    .dataframe tbody tr th:only-of-type {\n",
       "        vertical-align: middle;\n",
       "    }\n",
       "\n",
       "    .dataframe tbody tr th {\n",
       "        vertical-align: top;\n",
       "    }\n",
       "\n",
       "    .dataframe thead th {\n",
       "        text-align: right;\n",
       "    }\n",
       "</style>\n",
       "<table border=\"1\" class=\"dataframe\">\n",
       "  <thead>\n",
       "    <tr style=\"text-align: right;\">\n",
       "      <th></th>\n",
       "      <th>id</th>\n",
       "      <th>comment_text</th>\n",
       "      <th>comment_tokens</th>\n",
       "    </tr>\n",
       "  </thead>\n",
       "  <tbody>\n",
       "    <tr>\n",
       "      <th>0</th>\n",
       "      <td>00001cee341fdb12</td>\n",
       "      <td>Yo bitch Ja Rule is more succesful then you'll...</td>\n",
       "      <td>[yo, bitch, ja, rule, succesful, ever, whats, ...</td>\n",
       "    </tr>\n",
       "    <tr>\n",
       "      <th>1</th>\n",
       "      <td>0000247867823ef7</td>\n",
       "      <td>== From RfC == \\n\\n The title is fine as it is...</td>\n",
       "      <td>[from, rfc, the, title, fine, is, imo]</td>\n",
       "    </tr>\n",
       "    <tr>\n",
       "      <th>2</th>\n",
       "      <td>00013b17ad220c46</td>\n",
       "      <td>\" \\n\\n == Sources == \\n\\n * Zawe Ashton on Lap...</td>\n",
       "      <td>[source, zawe, ashton, lapland]</td>\n",
       "    </tr>\n",
       "    <tr>\n",
       "      <th>3</th>\n",
       "      <td>00017563c3f7919a</td>\n",
       "      <td>:If you have a look back at the source, the in...</td>\n",
       "      <td>[if, look, back, source, information, i, updat...</td>\n",
       "    </tr>\n",
       "    <tr>\n",
       "      <th>4</th>\n",
       "      <td>00017695ad8997eb</td>\n",
       "      <td>I don't anonymously edit articles at all.</td>\n",
       "      <td>[i, anonymously, edit, article, all]</td>\n",
       "    </tr>\n",
       "    <tr>\n",
       "      <th>5</th>\n",
       "      <td>0001ea8717f6de06</td>\n",
       "      <td>Thank you for understanding. I think very high...</td>\n",
       "      <td>[thank, understanding, i, think, highly, would...</td>\n",
       "    </tr>\n",
       "    <tr>\n",
       "      <th>6</th>\n",
       "      <td>00024115d4cbde0f</td>\n",
       "      <td>Please do not add nonsense to Wikipedia. Such ...</td>\n",
       "      <td>[please, add, nonsense, wikipedia, such, edits...</td>\n",
       "    </tr>\n",
       "    <tr>\n",
       "      <th>7</th>\n",
       "      <td>000247e83dcc1211</td>\n",
       "      <td>:Dear god this site is horrible.</td>\n",
       "      <td>[dear, god, site, horrible]</td>\n",
       "    </tr>\n",
       "    <tr>\n",
       "      <th>8</th>\n",
       "      <td>00025358d4737918</td>\n",
       "      <td>\" \\n Only a fool can believe in such numbers. ...</td>\n",
       "      <td>[only, fool, believe, numbers, the, correct, n...</td>\n",
       "    </tr>\n",
       "    <tr>\n",
       "      <th>9</th>\n",
       "      <td>00026d1092fe71cc</td>\n",
       "      <td>== Double Redirects == \\n\\n When fixing double...</td>\n",
       "      <td>[double, redirects, when, fixing, double, redi...</td>\n",
       "    </tr>\n",
       "  </tbody>\n",
       "</table>\n",
       "</div>"
      ],
      "text/plain": [
       "                 id  ...                                     comment_tokens\n",
       "0  00001cee341fdb12  ...  [yo, bitch, ja, rule, succesful, ever, whats, ...\n",
       "1  0000247867823ef7  ...             [from, rfc, the, title, fine, is, imo]\n",
       "2  00013b17ad220c46  ...                    [source, zawe, ashton, lapland]\n",
       "3  00017563c3f7919a  ...  [if, look, back, source, information, i, updat...\n",
       "4  00017695ad8997eb  ...               [i, anonymously, edit, article, all]\n",
       "5  0001ea8717f6de06  ...  [thank, understanding, i, think, highly, would...\n",
       "6  00024115d4cbde0f  ...  [please, add, nonsense, wikipedia, such, edits...\n",
       "7  000247e83dcc1211  ...                        [dear, god, site, horrible]\n",
       "8  00025358d4737918  ...  [only, fool, believe, numbers, the, correct, n...\n",
       "9  00026d1092fe71cc  ...  [double, redirects, when, fixing, double, redi...\n",
       "\n",
       "[10 rows x 3 columns]"
      ]
     },
     "metadata": {
      "tags": []
     },
     "output_type": "display_data"
    }
   ],
   "source": [
    "print(\"train set:\")\n",
    "display(train.head(10))\n",
    "print(\"\\ntest set:\")\n",
    "display(test.head(10))"
   ]
  },
  {
   "cell_type": "code",
   "execution_count": null,
   "metadata": {
    "colab": {
     "base_uri": "https://localhost:8080/"
    },
    "executionInfo": {
     "elapsed": 254924,
     "status": "ok",
     "timestamp": 1603933217577,
     "user": {
      "displayName": "sunaal dua",
      "photoUrl": "",
      "userId": "00741122136841948106"
     },
     "user_tz": -330
    },
    "id": "c_OmJ3sxp3cr",
    "outputId": "e4664636-f30b-4244-8590-0667e01ad461"
   },
   "outputs": [
    {
     "name": "stdout",
     "output_type": "stream",
     "text": [
      "Total unique words in the vocabulary:  284097\n"
     ]
    }
   ],
   "source": [
    "print(\"Total unique words in the vocabulary: \",len(vocabulary))"
   ]
  },
  {
   "cell_type": "code",
   "execution_count": null,
   "metadata": {
    "id": "t0iz5QU5sY0n"
   },
   "outputs": [],
   "source": [
    "vocab2id = {w: i for i, w in enumerate(vocabulary)}"
   ]
  },
  {
   "cell_type": "markdown",
   "metadata": {
    "id": "MYE6SqsElSZu"
   },
   "source": [
    "**Converting tokens to numbers, each token is represented by there position in the dictionary vocab2id**"
   ]
  },
  {
   "cell_type": "code",
   "execution_count": null,
   "metadata": {
    "id": "_yO0Mdt8jABz"
   },
   "outputs": [],
   "source": [
    "def convert_tokens_to_numbers(sentence_tokens):\n",
    "  return [vocab2id[i] for i in sentence_tokens]"
   ]
  },
  {
   "cell_type": "code",
   "execution_count": null,
   "metadata": {
    "id": "0ztvwdjojH-I"
   },
   "outputs": [],
   "source": [
    "train[\"comment_tokens\"] = train[\"comment_tokens\"].apply(convert_tokens_to_numbers)\n",
    "test[\"comment_tokens\"] = test[\"comment_tokens\"].apply(convert_tokens_to_numbers)"
   ]
  },
  {
   "cell_type": "code",
   "execution_count": null,
   "metadata": {
    "colab": {
     "base_uri": "https://localhost:8080/",
     "height": 919
    },
    "executionInfo": {
     "elapsed": 258956,
     "status": "ok",
     "timestamp": 1603933221641,
     "user": {
      "displayName": "sunaal dua",
      "photoUrl": "",
      "userId": "00741122136841948106"
     },
     "user_tz": -330
    },
    "id": "e6erp6uTuu1-",
    "outputId": "c849c1b5-ef02-46bf-9d0a-5e70787ac588"
   },
   "outputs": [
    {
     "name": "stdout",
     "output_type": "stream",
     "text": [
      "train set:\n"
     ]
    },
    {
     "data": {
      "text/html": [
       "<div>\n",
       "<style scoped>\n",
       "    .dataframe tbody tr th:only-of-type {\n",
       "        vertical-align: middle;\n",
       "    }\n",
       "\n",
       "    .dataframe tbody tr th {\n",
       "        vertical-align: top;\n",
       "    }\n",
       "\n",
       "    .dataframe thead th {\n",
       "        text-align: right;\n",
       "    }\n",
       "</style>\n",
       "<table border=\"1\" class=\"dataframe\">\n",
       "  <thead>\n",
       "    <tr style=\"text-align: right;\">\n",
       "      <th></th>\n",
       "      <th>id</th>\n",
       "      <th>comment_text</th>\n",
       "      <th>toxic</th>\n",
       "      <th>severe_toxic</th>\n",
       "      <th>obscene</th>\n",
       "      <th>threat</th>\n",
       "      <th>insult</th>\n",
       "      <th>identity_hate</th>\n",
       "      <th>comment_tokens</th>\n",
       "    </tr>\n",
       "  </thead>\n",
       "  <tbody>\n",
       "    <tr>\n",
       "      <th>159561</th>\n",
       "      <td>ffd2e85b07b3c7e4</td>\n",
       "      <td>\"\\nNo he did not, read it again (I would have ...</td>\n",
       "      <td>0</td>\n",
       "      <td>0</td>\n",
       "      <td>0</td>\n",
       "      <td>0</td>\n",
       "      <td>0</td>\n",
       "      <td>0</td>\n",
       "      <td>[181379, 134025, 118316, 3303, 184434, 63314, ...</td>\n",
       "    </tr>\n",
       "    <tr>\n",
       "      <th>159562</th>\n",
       "      <td>ffd72e9766c09c97</td>\n",
       "      <td>\"\\n Auto guides and the motoring press are not...</td>\n",
       "      <td>0</td>\n",
       "      <td>0</td>\n",
       "      <td>0</td>\n",
       "      <td>0</td>\n",
       "      <td>0</td>\n",
       "      <td>0</td>\n",
       "      <td>[265512, 134299, 233511, 34936, 47395, 271634,...</td>\n",
       "    </tr>\n",
       "    <tr>\n",
       "      <th>159563</th>\n",
       "      <td>ffe029a7c79dc7fe</td>\n",
       "      <td>\"\\nplease identify what part of BLP applies be...</td>\n",
       "      <td>0</td>\n",
       "      <td>0</td>\n",
       "      <td>0</td>\n",
       "      <td>0</td>\n",
       "      <td>0</td>\n",
       "      <td>0</td>\n",
       "      <td>[220961, 36579, 41250, 273318, 205815, 273318,...</td>\n",
       "    </tr>\n",
       "    <tr>\n",
       "      <th>159564</th>\n",
       "      <td>ffe897e7f7182c90</td>\n",
       "      <td>Catalan independentism is the social movement ...</td>\n",
       "      <td>0</td>\n",
       "      <td>0</td>\n",
       "      <td>0</td>\n",
       "      <td>0</td>\n",
       "      <td>0</td>\n",
       "      <td>0</td>\n",
       "      <td>[278090, 159365, 171246, 198870, 115227, 18485...</td>\n",
       "    </tr>\n",
       "    <tr>\n",
       "      <th>159565</th>\n",
       "      <td>ffe8b9316245be30</td>\n",
       "      <td>The numbers in parentheses are the additional ...</td>\n",
       "      <td>0</td>\n",
       "      <td>0</td>\n",
       "      <td>0</td>\n",
       "      <td>0</td>\n",
       "      <td>0</td>\n",
       "      <td>0</td>\n",
       "      <td>[50701, 137715, 266018, 80525, 178224, 249240,...</td>\n",
       "    </tr>\n",
       "    <tr>\n",
       "      <th>159566</th>\n",
       "      <td>ffe987279560d7ff</td>\n",
       "      <td>\":::::And for the second time of asking, when ...</td>\n",
       "      <td>0</td>\n",
       "      <td>0</td>\n",
       "      <td>0</td>\n",
       "      <td>0</td>\n",
       "      <td>0</td>\n",
       "      <td>0</td>\n",
       "      <td>[228112, 10700, 142826, 140680, 48058, 75394, ...</td>\n",
       "    </tr>\n",
       "    <tr>\n",
       "      <th>159567</th>\n",
       "      <td>ffea4adeee384e90</td>\n",
       "      <td>You should be ashamed of yourself \\n\\nThat is ...</td>\n",
       "      <td>0</td>\n",
       "      <td>0</td>\n",
       "      <td>0</td>\n",
       "      <td>0</td>\n",
       "      <td>0</td>\n",
       "      <td>0</td>\n",
       "      <td>[173278, 136872, 117041, 212127, 59909, 244405...</td>\n",
       "    </tr>\n",
       "    <tr>\n",
       "      <th>159568</th>\n",
       "      <td>ffee36eab5c267c9</td>\n",
       "      <td>Spitzer \\n\\nUmm, theres no actual article for ...</td>\n",
       "      <td>0</td>\n",
       "      <td>0</td>\n",
       "      <td>0</td>\n",
       "      <td>0</td>\n",
       "      <td>0</td>\n",
       "      <td>0</td>\n",
       "      <td>[22158, 282012, 242658, 274712, 46815, 187864,...</td>\n",
       "    </tr>\n",
       "    <tr>\n",
       "      <th>159569</th>\n",
       "      <td>fff125370e4aaaf3</td>\n",
       "      <td>And it looks like it was actually you who put ...</td>\n",
       "      <td>0</td>\n",
       "      <td>0</td>\n",
       "      <td>0</td>\n",
       "      <td>0</td>\n",
       "      <td>0</td>\n",
       "      <td>0</td>\n",
       "      <td>[228112, 170461, 65400, 99485, 244405, 97475, ...</td>\n",
       "    </tr>\n",
       "    <tr>\n",
       "      <th>159570</th>\n",
       "      <td>fff46fc426af1f9a</td>\n",
       "      <td>\"\\nAnd ... I really don't think you understand...</td>\n",
       "      <td>0</td>\n",
       "      <td>0</td>\n",
       "      <td>0</td>\n",
       "      <td>0</td>\n",
       "      <td>0</td>\n",
       "      <td>0</td>\n",
       "      <td>[228112, 3303, 185188, 244196, 115274, 3303, 2...</td>\n",
       "    </tr>\n",
       "  </tbody>\n",
       "</table>\n",
       "</div>"
      ],
      "text/plain": [
       "                      id  ...                                     comment_tokens\n",
       "159561  ffd2e85b07b3c7e4  ...  [181379, 134025, 118316, 3303, 184434, 63314, ...\n",
       "159562  ffd72e9766c09c97  ...  [265512, 134299, 233511, 34936, 47395, 271634,...\n",
       "159563  ffe029a7c79dc7fe  ...  [220961, 36579, 41250, 273318, 205815, 273318,...\n",
       "159564  ffe897e7f7182c90  ...  [278090, 159365, 171246, 198870, 115227, 18485...\n",
       "159565  ffe8b9316245be30  ...  [50701, 137715, 266018, 80525, 178224, 249240,...\n",
       "159566  ffe987279560d7ff  ...  [228112, 10700, 142826, 140680, 48058, 75394, ...\n",
       "159567  ffea4adeee384e90  ...  [173278, 136872, 117041, 212127, 59909, 244405...\n",
       "159568  ffee36eab5c267c9  ...  [22158, 282012, 242658, 274712, 46815, 187864,...\n",
       "159569  fff125370e4aaaf3  ...  [228112, 170461, 65400, 99485, 244405, 97475, ...\n",
       "159570  fff46fc426af1f9a  ...  [228112, 3303, 185188, 244196, 115274, 3303, 2...\n",
       "\n",
       "[10 rows x 9 columns]"
      ]
     },
     "metadata": {
      "tags": []
     },
     "output_type": "display_data"
    },
    {
     "name": "stdout",
     "output_type": "stream",
     "text": [
      "\n",
      "test set:\n"
     ]
    },
    {
     "data": {
      "text/html": [
       "<div>\n",
       "<style scoped>\n",
       "    .dataframe tbody tr th:only-of-type {\n",
       "        vertical-align: middle;\n",
       "    }\n",
       "\n",
       "    .dataframe tbody tr th {\n",
       "        vertical-align: top;\n",
       "    }\n",
       "\n",
       "    .dataframe thead th {\n",
       "        text-align: right;\n",
       "    }\n",
       "</style>\n",
       "<table border=\"1\" class=\"dataframe\">\n",
       "  <thead>\n",
       "    <tr style=\"text-align: right;\">\n",
       "      <th></th>\n",
       "      <th>id</th>\n",
       "      <th>comment_text</th>\n",
       "      <th>comment_tokens</th>\n",
       "    </tr>\n",
       "  </thead>\n",
       "  <tbody>\n",
       "    <tr>\n",
       "      <th>153154</th>\n",
       "      <td>fffa8a11c4378854</td>\n",
       "      <td>==shame on you all!!!== \\n\\n You want to speak...</td>\n",
       "      <td>[251223, 130878, 173278, 19746, 276154, 225646...</td>\n",
       "    </tr>\n",
       "    <tr>\n",
       "      <th>153155</th>\n",
       "      <td>fffac2a094c8e0e2</td>\n",
       "      <td>MEL GIBSON IS A NAZI BITCH WHO MAKES SHITTY MO...</td>\n",
       "      <td>[113146, 168059, 128676, 217704, 269010, 23107...</td>\n",
       "    </tr>\n",
       "    <tr>\n",
       "      <th>153156</th>\n",
       "      <td>fffb5451268fb5ba</td>\n",
       "      <td>\" \\n\\n == Unicorn lair discovery == \\n\\n Suppo...</td>\n",
       "      <td>[84890, 176884, 206823, 175738, 84890, 176884,...</td>\n",
       "    </tr>\n",
       "    <tr>\n",
       "      <th>153157</th>\n",
       "      <td>fffc2b34bbe61c8d</td>\n",
       "      <td>:Disagree. Soviet railways need their own arti...</td>\n",
       "      <td>[55816, 75922, 15895, 18155, 46815, 42926, 172...</td>\n",
       "    </tr>\n",
       "    <tr>\n",
       "      <th>153158</th>\n",
       "      <td>fffc489742ffe69b</td>\n",
       "      <td>This idiot can't even use proper grammar when ...</td>\n",
       "      <td>[224835, 215054, 207614, 72189, 43792, 69799, ...</td>\n",
       "    </tr>\n",
       "    <tr>\n",
       "      <th>153159</th>\n",
       "      <td>fffcd0960ee309b5</td>\n",
       "      <td>. \\n i totally agree, this stuff is nothing bu...</td>\n",
       "      <td>[104442, 243486, 128827, 223325, 147060, 17561...</td>\n",
       "    </tr>\n",
       "    <tr>\n",
       "      <th>153160</th>\n",
       "      <td>fffd7a9a6eb32c16</td>\n",
       "      <td>== Throw from out field to home plate. == \\n\\n...</td>\n",
       "      <td>[127760, 103798, 180866, 269664, 273794, 29684...</td>\n",
       "    </tr>\n",
       "    <tr>\n",
       "      <th>153161</th>\n",
       "      <td>fffda9e8d6fafa9e</td>\n",
       "      <td>\" \\n\\n == Okinotorishima categories == \\n\\n I ...</td>\n",
       "      <td>[196980, 16757, 3303, 56971, 49541, 243486, 16...</td>\n",
       "    </tr>\n",
       "    <tr>\n",
       "      <th>153162</th>\n",
       "      <td>fffe8f1340a79fc2</td>\n",
       "      <td>\" \\n\\n == \"\"One of the founding nations of the...</td>\n",
       "      <td>[39345, 216508, 257214, 130912, 187566, 166416...</td>\n",
       "    </tr>\n",
       "    <tr>\n",
       "      <th>153163</th>\n",
       "      <td>ffffce3fb183ee80</td>\n",
       "      <td>\" \\n :::Stop already. Your bullshit is not wel...</td>\n",
       "      <td>[88462, 267870, 131702, 217165, 163987, 243314...</td>\n",
       "    </tr>\n",
       "  </tbody>\n",
       "</table>\n",
       "</div>"
      ],
      "text/plain": [
       "                      id  ...                                     comment_tokens\n",
       "153154  fffa8a11c4378854  ...  [251223, 130878, 173278, 19746, 276154, 225646...\n",
       "153155  fffac2a094c8e0e2  ...  [113146, 168059, 128676, 217704, 269010, 23107...\n",
       "153156  fffb5451268fb5ba  ...  [84890, 176884, 206823, 175738, 84890, 176884,...\n",
       "153157  fffc2b34bbe61c8d  ...  [55816, 75922, 15895, 18155, 46815, 42926, 172...\n",
       "153158  fffc489742ffe69b  ...  [224835, 215054, 207614, 72189, 43792, 69799, ...\n",
       "153159  fffcd0960ee309b5  ...  [104442, 243486, 128827, 223325, 147060, 17561...\n",
       "153160  fffd7a9a6eb32c16  ...  [127760, 103798, 180866, 269664, 273794, 29684...\n",
       "153161  fffda9e8d6fafa9e  ...  [196980, 16757, 3303, 56971, 49541, 243486, 16...\n",
       "153162  fffe8f1340a79fc2  ...  [39345, 216508, 257214, 130912, 187566, 166416...\n",
       "153163  ffffce3fb183ee80  ...  [88462, 267870, 131702, 217165, 163987, 243314...\n",
       "\n",
       "[10 rows x 3 columns]"
      ]
     },
     "metadata": {
      "tags": []
     },
     "output_type": "display_data"
    }
   ],
   "source": [
    "print(\"train set:\")\n",
    "display(train.tail(10))\n",
    "print(\"\\ntest set:\")\n",
    "display(test.tail(10))"
   ]
  },
  {
   "cell_type": "markdown",
   "metadata": {
    "id": "4T_fVNhmlyGV"
   },
   "source": [
    "**Seperating features from target, but before that some comments may have been removed (comments that only had stopwords and digits), hence lets see and drop those records from the training set:**"
   ]
  },
  {
   "cell_type": "code",
   "execution_count": null,
   "metadata": {
    "colab": {
     "base_uri": "https://localhost:8080/",
     "height": 434
    },
    "executionInfo": {
     "elapsed": 258928,
     "status": "ok",
     "timestamp": 1603933221647,
     "user": {
      "displayName": "sunaal dua",
      "photoUrl": "",
      "userId": "00741122136841948106"
     },
     "user_tz": -330
    },
    "id": "7qlUSjyb37Gf",
    "outputId": "b11799d9-cab0-48c6-857b-44c986358d03"
   },
   "outputs": [
    {
     "name": "stdout",
     "output_type": "stream",
     "text": [
      "12\n"
     ]
    },
    {
     "data": {
      "text/html": [
       "<div>\n",
       "<style scoped>\n",
       "    .dataframe tbody tr th:only-of-type {\n",
       "        vertical-align: middle;\n",
       "    }\n",
       "\n",
       "    .dataframe tbody tr th {\n",
       "        vertical-align: top;\n",
       "    }\n",
       "\n",
       "    .dataframe thead th {\n",
       "        text-align: right;\n",
       "    }\n",
       "</style>\n",
       "<table border=\"1\" class=\"dataframe\">\n",
       "  <thead>\n",
       "    <tr style=\"text-align: right;\">\n",
       "      <th></th>\n",
       "      <th>id</th>\n",
       "      <th>comment_text</th>\n",
       "      <th>toxic</th>\n",
       "      <th>severe_toxic</th>\n",
       "      <th>obscene</th>\n",
       "      <th>threat</th>\n",
       "      <th>insult</th>\n",
       "      <th>identity_hate</th>\n",
       "      <th>comment_tokens</th>\n",
       "    </tr>\n",
       "  </thead>\n",
       "  <tbody>\n",
       "    <tr>\n",
       "      <th>4482</th>\n",
       "      <td>0bed2196c873636d</td>\n",
       "      <td>1993\\n\\n1994\\n\\n1995\\n\\n1996\\n\\n1997\\n\\n1998\\n...</td>\n",
       "      <td>0</td>\n",
       "      <td>0</td>\n",
       "      <td>0</td>\n",
       "      <td>0</td>\n",
       "      <td>0</td>\n",
       "      <td>0</td>\n",
       "      <td>[]</td>\n",
       "    </tr>\n",
       "    <tr>\n",
       "      <th>6300</th>\n",
       "      <td>10d0c3263b52a057</td>\n",
       "      <td>193.61.111.53  15:00</td>\n",
       "      <td>0</td>\n",
       "      <td>0</td>\n",
       "      <td>0</td>\n",
       "      <td>0</td>\n",
       "      <td>0</td>\n",
       "      <td>0</td>\n",
       "      <td>[]</td>\n",
       "    </tr>\n",
       "    <tr>\n",
       "      <th>17311</th>\n",
       "      <td>2db3383cc656e1a0</td>\n",
       "      <td>~ \\n\\n68.193.147.157</td>\n",
       "      <td>0</td>\n",
       "      <td>0</td>\n",
       "      <td>0</td>\n",
       "      <td>0</td>\n",
       "      <td>0</td>\n",
       "      <td>0</td>\n",
       "      <td>[]</td>\n",
       "    </tr>\n",
       "    <tr>\n",
       "      <th>23529</th>\n",
       "      <td>3e241552b0386ac4</td>\n",
       "      <td>between 1991 and 1999</td>\n",
       "      <td>0</td>\n",
       "      <td>0</td>\n",
       "      <td>0</td>\n",
       "      <td>0</td>\n",
       "      <td>0</td>\n",
       "      <td>0</td>\n",
       "      <td>[]</td>\n",
       "    </tr>\n",
       "    <tr>\n",
       "      <th>47072</th>\n",
       "      <td>7dc0ba6433d1c182</td>\n",
       "      <td>and then 70.8.194.249</td>\n",
       "      <td>0</td>\n",
       "      <td>0</td>\n",
       "      <td>0</td>\n",
       "      <td>0</td>\n",
       "      <td>0</td>\n",
       "      <td>0</td>\n",
       "      <td>[]</td>\n",
       "    </tr>\n",
       "    <tr>\n",
       "      <th>52442</th>\n",
       "      <td>8c4c53001134f290</td>\n",
       "      <td>14:53,</td>\n",
       "      <td>0</td>\n",
       "      <td>0</td>\n",
       "      <td>0</td>\n",
       "      <td>0</td>\n",
       "      <td>0</td>\n",
       "      <td>0</td>\n",
       "      <td>[]</td>\n",
       "    </tr>\n",
       "    <tr>\n",
       "      <th>53787</th>\n",
       "      <td>8fb2aaf04e93061a</td>\n",
       "      <td>92.24.199.233|92.24.199.233]]</td>\n",
       "      <td>0</td>\n",
       "      <td>0</td>\n",
       "      <td>0</td>\n",
       "      <td>0</td>\n",
       "      <td>0</td>\n",
       "      <td>0</td>\n",
       "      <td>[]</td>\n",
       "    </tr>\n",
       "    <tr>\n",
       "      <th>61758</th>\n",
       "      <td>a544b25e60599d48</td>\n",
       "      <td>\"\\n\\n 199.209.144.211  \"</td>\n",
       "      <td>0</td>\n",
       "      <td>0</td>\n",
       "      <td>0</td>\n",
       "      <td>0</td>\n",
       "      <td>0</td>\n",
       "      <td>0</td>\n",
       "      <td>[]</td>\n",
       "    </tr>\n",
       "    <tr>\n",
       "      <th>82681</th>\n",
       "      <td>dd2be480f1027692</td>\n",
       "      <td>\"\\n '''''' 2010/2013 \"</td>\n",
       "      <td>0</td>\n",
       "      <td>0</td>\n",
       "      <td>0</td>\n",
       "      <td>0</td>\n",
       "      <td>0</td>\n",
       "      <td>0</td>\n",
       "      <td>[]</td>\n",
       "    </tr>\n",
       "    <tr>\n",
       "      <th>100782</th>\n",
       "      <td>1b6138b7f9fd87cb</td>\n",
       "      <td>[24 and 25, after 23]</td>\n",
       "      <td>0</td>\n",
       "      <td>0</td>\n",
       "      <td>0</td>\n",
       "      <td>0</td>\n",
       "      <td>0</td>\n",
       "      <td>0</td>\n",
       "      <td>[]</td>\n",
       "    </tr>\n",
       "    <tr>\n",
       "      <th>148865</th>\n",
       "      <td>5352b339650c4138</td>\n",
       "      <td>she did 76.122.79.82</td>\n",
       "      <td>0</td>\n",
       "      <td>0</td>\n",
       "      <td>0</td>\n",
       "      <td>0</td>\n",
       "      <td>0</td>\n",
       "      <td>0</td>\n",
       "      <td>[]</td>\n",
       "    </tr>\n",
       "    <tr>\n",
       "      <th>151379</th>\n",
       "      <td>7c1a57063b5c14d5</td>\n",
       "      <td>10 - 2010 04 08 to 2010 05 12</td>\n",
       "      <td>0</td>\n",
       "      <td>0</td>\n",
       "      <td>0</td>\n",
       "      <td>0</td>\n",
       "      <td>0</td>\n",
       "      <td>0</td>\n",
       "      <td>[]</td>\n",
       "    </tr>\n",
       "  </tbody>\n",
       "</table>\n",
       "</div>"
      ],
      "text/plain": [
       "                      id  ... comment_tokens\n",
       "4482    0bed2196c873636d  ...             []\n",
       "6300    10d0c3263b52a057  ...             []\n",
       "17311   2db3383cc656e1a0  ...             []\n",
       "23529   3e241552b0386ac4  ...             []\n",
       "47072   7dc0ba6433d1c182  ...             []\n",
       "52442   8c4c53001134f290  ...             []\n",
       "53787   8fb2aaf04e93061a  ...             []\n",
       "61758   a544b25e60599d48  ...             []\n",
       "82681   dd2be480f1027692  ...             []\n",
       "100782  1b6138b7f9fd87cb  ...             []\n",
       "148865  5352b339650c4138  ...             []\n",
       "151379  7c1a57063b5c14d5  ...             []\n",
       "\n",
       "[12 rows x 9 columns]"
      ]
     },
     "metadata": {
      "tags": []
     },
     "output_type": "display_data"
    }
   ],
   "source": [
    "print(len(train[train['comment_tokens'].map(len) <= 0]))\n",
    "display(train[train['comment_tokens'].map(len) <= 0])"
   ]
  },
  {
   "cell_type": "markdown",
   "metadata": {
    "id": "DT3h9pT74hj9"
   },
   "source": [
    "**Clearly, we can see these 12 records wont really help in predicting so we can remove them**"
   ]
  },
  {
   "cell_type": "code",
   "execution_count": null,
   "metadata": {
    "colab": {
     "base_uri": "https://localhost:8080/"
    },
    "executionInfo": {
     "elapsed": 258915,
     "status": "ok",
     "timestamp": 1603933221652,
     "user": {
      "displayName": "sunaal dua",
      "photoUrl": "",
      "userId": "00741122136841948106"
     },
     "user_tz": -330
    },
    "id": "VQ8AdKpZ4sXY",
    "outputId": "9f883a53-fdfc-4ad3-9472-923a418e1f31"
   },
   "outputs": [
    {
     "name": "stdout",
     "output_type": "stream",
     "text": [
      "(159559, 9)\n"
     ]
    }
   ],
   "source": [
    "train = train[train['comment_tokens'].map(len) > 0]\n",
    "print(train.shape)"
   ]
  },
  {
   "cell_type": "code",
   "execution_count": null,
   "metadata": {
    "id": "E5gRX7F5vX84"
   },
   "outputs": [],
   "source": [
    "x = [i for i in train[\"comment_tokens\"]]\n",
    "y = np.array(train.iloc[:,2:8])\n",
    "\n",
    "final_test = [i for i in test[\"comment_tokens\"]]"
   ]
  },
  {
   "cell_type": "code",
   "execution_count": null,
   "metadata": {
    "colab": {
     "base_uri": "https://localhost:8080/"
    },
    "executionInfo": {
     "elapsed": 259319,
     "status": "ok",
     "timestamp": 1603933222076,
     "user": {
      "displayName": "sunaal dua",
      "photoUrl": "",
      "userId": "00741122136841948106"
     },
     "user_tz": -330
    },
    "id": "JyrJ4jfIxUpp",
    "outputId": "b2f62ba8-53f2-4c66-9cf3-14f18f56c426"
   },
   "outputs": [
    {
     "name": "stdout",
     "output_type": "stream",
     "text": [
      "train set:  159559\n",
      "train labels:  (159559, 6)\n",
      "test set:  153164\n"
     ]
    }
   ],
   "source": [
    "print(\"train set: \",len(x))\n",
    "print(\"train labels: \",y.shape)\n",
    "print(\"test set: \",len(final_test))"
   ]
  },
  {
   "cell_type": "markdown",
   "metadata": {
    "id": "Q9_UqdKAnDkr"
   },
   "source": [
    "**we dont have to transform y as it is already in the multilabel binarizer form**"
   ]
  },
  {
   "cell_type": "code",
   "execution_count": null,
   "metadata": {
    "colab": {
     "base_uri": "https://localhost:8080/"
    },
    "executionInfo": {
     "elapsed": 259307,
     "status": "ok",
     "timestamp": 1603933222081,
     "user": {
      "displayName": "sunaal dua",
      "photoUrl": "",
      "userId": "00741122136841948106"
     },
     "user_tz": -330
    },
    "id": "pKiLpC5k_fFZ",
    "outputId": "256625cf-51e9-49ed-9634-9ac0e6ca291d"
   },
   "outputs": [
    {
     "data": {
      "text/plain": [
       "array([[0, 0, 0, 0, 0, 0],\n",
       "       [0, 0, 0, 0, 0, 0],\n",
       "       [0, 0, 0, 0, 0, 0],\n",
       "       ...,\n",
       "       [0, 0, 0, 0, 0, 0],\n",
       "       [0, 0, 0, 0, 0, 0],\n",
       "       [0, 0, 0, 0, 0, 0]])"
      ]
     },
     "execution_count": 20,
     "metadata": {
      "tags": []
     },
     "output_type": "execute_result"
    }
   ],
   "source": [
    "y"
   ]
  },
  {
   "cell_type": "markdown",
   "metadata": {
    "id": "eIerTH6ynGIP"
   },
   "source": [
    "**lets see if we need to use a binary_crossentropy or categorical_crossentropy**"
   ]
  },
  {
   "cell_type": "code",
   "execution_count": null,
   "metadata": {
    "colab": {
     "base_uri": "https://localhost:8080/"
    },
    "executionInfo": {
     "elapsed": 259296,
     "status": "ok",
     "timestamp": 1603933222086,
     "user": {
      "displayName": "sunaal dua",
      "photoUrl": "",
      "userId": "00741122136841948106"
     },
     "user_tz": -330
    },
    "id": "-1b1VuTJoAVj",
    "outputId": "23c85526-a5df-4cda-c066-5af2aa4c48d3"
   },
   "outputs": [
    {
     "name": "stdout",
     "output_type": "stream",
     "text": [
      "[1 1 1 0 1 0]\n",
      "[1 0 0 0 0 0]\n",
      "[1 0 0 0 0 0]\n",
      "[1 0 1 0 1 1]\n",
      "[1 0 1 0 1 0]\n",
      "[1 0 0 0 0 0]\n",
      "[1 0 1 0 0 0]\n",
      "[1 1 1 0 1 0]\n",
      "[1 0 1 0 1 0]\n",
      "[1 0 1 0 0 0]\n",
      "[1 0 0 0 0 0]\n",
      "[1 0 1 0 1 0]\n",
      "[1 0 0 1 0 0]\n",
      "[1 0 0 0 1 0]\n",
      "[1 0 1 0 1 1]\n",
      "[1 0 0 0 0 0]\n",
      "[1 0 0 0 0 0]\n",
      "[1 0 0 0 1 0]\n",
      "[1 0 1 1 1 1]\n",
      "[0 0 0 0 1 0]\n"
     ]
    }
   ],
   "source": [
    "c=1\n",
    "for i in y:\n",
    "  if(1 in i):\n",
    "    print(i)\n",
    "    c=c+1\n",
    "    if(c>20):\n",
    "      break;"
   ]
  },
  {
   "cell_type": "markdown",
   "metadata": {
    "id": "yh4JxiL7nQnk"
   },
   "source": [
    "**As we can see that each datapoint can belong to multiple classes hence this is multilabel classification i.e each datapoint can have multiple classes. To deal with this kind of classification we use binary_crossentropy\n",
    "read this: https://towardsdatascience.com/cross-entropy-for-classification-d98e7f974451 --- and --- https://www.researchgate.net/post/What_is_the_difference_between_multiple_outputs_and_multilabel_output#:~:text=Multiclass%20classification%20makes%20the%20assumption,a%20set%20of%20target%20labels.&text=The%20set%20of%20labels%20can%20be%20different%20for%20each%20output%20variable<br><br>Now we have to do the padding since the comments/sentences might be of variable lengths but the inputs of the neural network are always of fixed lengths.\n",
    "<br>Lets plot and see what the lengths of the sentences are in the train set:**"
   ]
  },
  {
   "cell_type": "code",
   "execution_count": null,
   "metadata": {
    "colab": {
     "base_uri": "https://localhost:8080/",
     "height": 268
    },
    "executionInfo": {
     "elapsed": 259278,
     "status": "ok",
     "timestamp": 1603933222088,
     "user": {
      "displayName": "sunaal dua",
      "photoUrl": "",
      "userId": "00741122136841948106"
     },
     "user_tz": -330
    },
    "id": "HqXU56H4x-1F",
    "outputId": "59bb3f35-19ef-4a59-c05a-8d2162c264fe"
   },
   "outputs": [
    {
     "data": {
      "image/png": "[encoded data removed]",
      "text/plain": [
       "<Figure size 432x288 with 1 Axes>"
      ]
     },
     "metadata": {
      "needs_background": "light",
      "tags": []
     },
     "output_type": "display_data"
    }
   ],
   "source": [
    "lengths_train = [len(i) for i in train[\"comment_tokens\"]] \n",
    "percentile90 = np.percentile(a=lengths_train, q=90)\n",
    "percentile95 = np.percentile(a=lengths_train, q=95)\n",
    "sns.boxplot(y=lengths_train).set_title(\"sentence with maximum length = {} | 90% of the sentence are <= {} | 95% of the sentence are <= {}\".format(max(lengths_train),percentile90,percentile95))\n",
    "plt.show()"
   ]
  },
  {
   "cell_type": "markdown",
   "metadata": {
    "id": "qTAz9SGYoX3M"
   },
   "source": [
    "**We can see the maximum length of the comment is 1354 while 90% of the sentences are either 90 or less than 90 and 95% of the sentences are either 134 or less than 134<br>\n",
    "We can pad to the maximum length but then the lstm cell will have to be very large to store the states. If we pad to less than 1354 then it might happen that some inportant information may get lost since those sentences will be cut short.<br>\n",
    "Since 95% of the sentences are 134 or less than 134, hence 134 seems to be a fair choice. All the sentences shorter than 134 will be padded to be be 134, whilst all the sentences longer than 134 will be cut short to 134**"
   ]
  },
  {
   "cell_type": "code",
   "execution_count": null,
   "metadata": {
    "colab": {
     "base_uri": "https://localhost:8080/"
    },
    "executionInfo": {
     "elapsed": 259639,
     "status": "ok",
     "timestamp": 1603933222467,
     "user": {
      "displayName": "sunaal dua",
      "photoUrl": "",
      "userId": "00741122136841948106"
     },
     "user_tz": -330
    },
    "id": "epXnKABtqjme",
    "outputId": "f0850dba-c25e-4171-9aa0-11eb6c780e77"
   },
   "outputs": [
    {
     "data": {
      "text/plain": [
       "284097"
      ]
     },
     "execution_count": 23,
     "metadata": {
      "tags": []
     },
     "output_type": "execute_result"
    }
   ],
   "source": [
    "len(vocabulary)"
   ]
  },
  {
   "cell_type": "markdown",
   "metadata": {
    "id": "WmuIPsoMru4i"
   },
   "source": [
    "**Words in x are encoded between 0 to 284096, to pad words we will use 284097 as the value i.e padded words will be represented by 284097. This also happens to be the length of the vocabulary<br>We will pad both test and train sets:**"
   ]
  },
  {
   "cell_type": "code",
   "execution_count": null,
   "metadata": {
    "id": "U9lloMwfzPni"
   },
   "outputs": [],
   "source": [
    "from tensorflow.keras.preprocessing.sequence import pad_sequences\n",
    "x_padded = pad_sequences(maxlen=134, sequences=x, padding=\"post\", value=len(vocabulary))\n",
    "finaltest_padded = pad_sequences(maxlen=134, sequences=final_test, padding=\"post\", value=len(vocabulary))"
   ]
  },
  {
   "cell_type": "code",
   "execution_count": null,
   "metadata": {
    "colab": {
     "base_uri": "https://localhost:8080/"
    },
    "executionInfo": {
     "elapsed": 261856,
     "status": "ok",
     "timestamp": 1603933224704,
     "user": {
      "displayName": "sunaal dua",
      "photoUrl": "",
      "userId": "00741122136841948106"
     },
     "user_tz": -330
    },
    "id": "5ce3zKr20fdY",
    "outputId": "7c70c299-a9ac-4f3b-df9e-c06ac22877a7"
   },
   "outputs": [
    {
     "name": "stdout",
     "output_type": "stream",
     "text": [
      "(159559, 134)\n",
      "(153164, 134)\n"
     ]
    }
   ],
   "source": [
    "print(x_padded.shape)\n",
    "print(finaltest_padded.shape)"
   ]
  },
  {
   "cell_type": "code",
   "execution_count": null,
   "metadata": {
    "colab": {
     "base_uri": "https://localhost:8080/"
    },
    "executionInfo": {
     "elapsed": 261843,
     "status": "ok",
     "timestamp": 1603933224706,
     "user": {
      "displayName": "sunaal dua",
      "photoUrl": "",
      "userId": "00741122136841948106"
     },
     "user_tz": -330
    },
    "id": "Zwgh8gRNCuA3",
    "outputId": "a47cdb16-73de-4147-9126-29f93ceca456"
   },
   "outputs": [
    {
     "name": "stdout",
     "output_type": "stream",
     "text": [
      "(119669, 134)\n",
      "(39890, 134)\n"
     ]
    }
   ],
   "source": [
    "from sklearn.model_selection import train_test_split\n",
    "x_tr, x_te, y_tr, y_te = train_test_split(x_padded, y, test_size=0.25)\n",
    "\n",
    "print(x_tr.shape)\n",
    "print(x_te.shape)"
   ]
  },
  {
   "cell_type": "code",
   "execution_count": null,
   "metadata": {
    "id": "w1kDC7Lg7kp9"
   },
   "outputs": [],
   "source": [
    "from tensorflow.keras.models import Model\n",
    "from tensorflow.keras.layers import LSTM, Embedding, Dense, TimeDistributed, Dropout, Bidirectional, Input,GlobalMaxPool1D"
   ]
  },
  {
   "cell_type": "code",
   "execution_count": null,
   "metadata": {
    "colab": {
     "base_uri": "https://localhost:8080/"
    },
    "executionInfo": {
     "elapsed": 261832,
     "status": "ok",
     "timestamp": 1603933224711,
     "user": {
      "displayName": "sunaal dua",
      "photoUrl": "",
      "userId": "00741122136841948106"
     },
     "user_tz": -330
    },
    "id": "CcTWKR90p9j-",
    "outputId": "5413e83a-2e31-4033-caf0-30279f63360d"
   },
   "outputs": [
    {
     "name": "stdout",
     "output_type": "stream",
     "text": [
      "284097\n"
     ]
    }
   ],
   "source": [
    "print(x_padded.max())"
   ]
  },
  {
   "cell_type": "markdown",
   "metadata": {
    "id": "6QAAsM2L7j7o"
   },
   "source": [
    "**x_padded has values from 0 to 284097 i.e total vocab size is 284098**<br>\n",
    "# Model 1"
   ]
  },
  {
   "cell_type": "code",
   "execution_count": null,
   "metadata": {
    "colab": {
     "base_uri": "https://localhost:8080/"
    },
    "executionInfo": {
     "elapsed": 1340,
     "status": "ok",
     "timestamp": 1603934441523,
     "user": {
      "displayName": "sunaal dua",
      "photoUrl": "",
      "userId": "00741122136841948106"
     },
     "user_tz": -330
    },
    "id": "lBHfPj-ECUkE",
    "outputId": "08b66ff4-e916-48bd-dfde-7466733e5d46"
   },
   "outputs": [
    {
     "name": "stdout",
     "output_type": "stream",
     "text": [
      "Model: \"functional_1\"\n",
      "_________________________________________________________________\n",
      "Layer (type)                 Output Shape              Param #   \n",
      "=================================================================\n",
      "input_1 (InputLayer)         [(None, 134)]             0         \n",
      "_________________________________________________________________\n",
      "embedding (Embedding)        (None, 134, 100)          28409800  \n",
      "_________________________________________________________________\n",
      "dropout (Dropout)            (None, 134, 100)          0         \n",
      "_________________________________________________________________\n",
      "lstm (LSTM)                  (None, 70)                47880     \n",
      "_________________________________________________________________\n",
      "dense (Dense)                (None, 50)                3550      \n",
      "_________________________________________________________________\n",
      "dropout_1 (Dropout)          (None, 50)                0         \n",
      "_________________________________________________________________\n",
      "dense_1 (Dense)              (None, 6)                 306       \n",
      "=================================================================\n",
      "Total params: 28,461,536\n",
      "Trainable params: 28,461,536\n",
      "Non-trainable params: 0\n",
      "_________________________________________________________________\n"
     ]
    }
   ],
   "source": [
    "input = Input(shape=(134,),batch_size=None)\n",
    "model = Embedding(input_dim=len(vocabulary)+1, output_dim=100, input_length=200)(input)\n",
    "model = Dropout(0.1)(model)\n",
    "model = LSTM(units=70, return_sequences=False, recurrent_dropout=0.1)(model)\n",
    "# model = GlobalMaxPool1D()(model)\n",
    "model = Dense(50, activation=\"relu\")(model)\n",
    "model = Dropout(0.1)(model)\n",
    "out = Dense(6, activation=\"sigmoid\")(model)\n",
    "model = Model(input, out)\n",
    "model.summary()"
   ]
  },
  {
   "cell_type": "code",
   "execution_count": null,
   "metadata": {
    "colab": {
     "base_uri": "https://localhost:8080/",
     "height": 208
    },
    "executionInfo": {
     "elapsed": 10606272,
     "status": "ok",
     "timestamp": 1603854495213,
     "user": {
      "displayName": "sunaal dua",
      "photoUrl": "",
      "userId": "00741122136841948106"
     },
     "user_tz": -330
    },
    "id": "n2qNqmxFCfXU",
    "outputId": "3fcf9c62-358d-43bf-bf16-ade334d4a84b"
   },
   "outputs": [
    {
     "name": "stdout",
     "output_type": "stream",
     "text": [
      "Epoch 1/5\n",
      "3366/3366 [==============================] - 2235s 664ms/step - loss: 0.1424 - accuracy: 0.9151 - val_loss: 0.1215 - val_accuracy: 0.9943\n",
      "Epoch 2/5\n",
      "3366/3366 [==============================] - 2137s 635ms/step - loss: 0.1263 - accuracy: 0.9906 - val_loss: 0.1057 - val_accuracy: 0.9943\n",
      "Epoch 3/5\n",
      "3366/3366 [==============================] - 2097s 623ms/step - loss: 0.1047 - accuracy: 0.9939 - val_loss: 0.1086 - val_accuracy: 0.9943\n",
      "Epoch 4/5\n",
      "3366/3366 [==============================] - 2066s 614ms/step - loss: 0.1007 - accuracy: 0.9940 - val_loss: 0.0913 - val_accuracy: 0.9943\n",
      "Epoch 5/5\n",
      "3366/3366 [==============================] - 2063s 613ms/step - loss: 0.0893 - accuracy: 0.9941 - val_loss: 0.0831 - val_accuracy: 0.9943\n"
     ]
    },
    {
     "data": {
      "text/plain": [
       "<tensorflow.python.keras.callbacks.History at 0x7f247e088b00>"
      ]
     },
     "execution_count": 32,
     "metadata": {
      "tags": []
     },
     "output_type": "execute_result"
    }
   ],
   "source": [
    "model.compile(optimizer=\"adam\", loss=\"binary_crossentropy\", metrics=[\"accuracy\"])\n",
    "stop = EarlyStopping(monitor='loss', min_delta=0.01, patience=2, verbose=1, mode='min', restore_best_weights=True)\n",
    "model.fit(x_tr, y_tr, batch_size=32, epochs=5, validation_split=0.1, verbose=1, callbacks=[stop])"
   ]
  },
  {
   "cell_type": "code",
   "execution_count": null,
   "metadata": {
    "id": "hgBQ7ZoBcBd7"
   },
   "outputs": [],
   "source": [
    "# model.save(\"/content/drive/My Drive/Colab Notebooks/toxic comments/model1.h5\")"
   ]
  },
  {
   "cell_type": "markdown",
   "metadata": {
    "id": "gmlpMO6ZdA8i"
   },
   "source": [
    "Testing set accuracy:"
   ]
  },
  {
   "cell_type": "code",
   "execution_count": null,
   "metadata": {
    "id": "Zinup2JN8Fo5"
   },
   "outputs": [],
   "source": [
    "# m1 = load_model(\"/content/drive/My Drive/Colab Notebooks/toxic comments/model1.h5\")"
   ]
  },
  {
   "cell_type": "code",
   "execution_count": null,
   "metadata": {
    "colab": {
     "base_uri": "https://localhost:8080/"
    },
    "executionInfo": {
     "elapsed": 75324,
     "status": "ok",
     "timestamp": 1603934227926,
     "user": {
      "displayName": "sunaal dua",
      "photoUrl": "",
      "userId": "00741122136841948106"
     },
     "user_tz": -330
    },
    "id": "rXcsdbTtdAEW",
    "outputId": "cdbaa538-018b-42a4-d246-6e3aa337d65e"
   },
   "outputs": [
    {
     "name": "stdout",
     "output_type": "stream",
     "text": [
      "1247/1247 [==============================] - 33s 27ms/step - loss: 0.3029 - accuracy: 0.9944\n"
     ]
    }
   ],
   "source": [
    "m1.evaluate(x_te, y_te)"
   ]
  },
  {
   "cell_type": "markdown",
   "metadata": {
    "id": "XDU-00cMd1X6"
   },
   "source": [
    "**Finally lets predict on the main kaggle test set:\n",
    "<br>SCORE: 91.14% AUC**"
   ]
  },
  {
   "cell_type": "code",
   "execution_count": null,
   "metadata": {
    "colab": {
     "base_uri": "https://localhost:8080/",
     "height": 35
    },
    "executionInfo": {
     "elapsed": 10770036,
     "status": "ok",
     "timestamp": 1603854685468,
     "user": {
      "displayName": "sunaal dua",
      "photoUrl": "",
      "userId": "00741122136841948106"
     },
     "user_tz": -330
    },
    "id": "q546JbZrZLRs",
    "outputId": "0743313a-b6ca-4b6f-abb5-9e135e51f8f6"
   },
   "outputs": [
    {
     "data": {
      "text/plain": [
       "(153164, 6)"
      ]
     },
     "execution_count": 36,
     "metadata": {
      "tags": []
     },
     "output_type": "execute_result"
    }
   ],
   "source": [
    "preds = model.predict(finaltest_padded)\n",
    "preds.shape"
   ]
  },
  {
   "cell_type": "code",
   "execution_count": null,
   "metadata": {
    "id": "8Nrhn3iib62M"
   },
   "outputs": [],
   "source": [
    "labels = list(train.columns)[2:8]\n",
    "submid = pd.DataFrame({'id': test[\"id\"]})\n",
    "submit = pd.concat([submid, pd.DataFrame(preds, columns=labels)], axis=1)\n",
    "# submit.to_csv('/content/drive/My Drive/Colab Notebooks/toxic comments/submission1.csv',index=False) "
   ]
  },
  {
   "cell_type": "markdown",
   "metadata": {
    "id": "HMvJXXGNc0ZQ"
   },
   "source": [
    "# Model 2\n",
    "Same as model 1, just added the bidirectional layer"
   ]
  },
  {
   "cell_type": "code",
   "execution_count": null,
   "metadata": {
    "colab": {
     "base_uri": "https://localhost:8080/",
     "height": 436
    },
    "executionInfo": {
     "elapsed": 216124,
     "status": "ok",
     "timestamp": 1603888190772,
     "user": {
      "displayName": "sunaal dua",
      "photoUrl": "",
      "userId": "00741122136841948106"
     },
     "user_tz": -330
    },
    "id": "Q-TE0edEc5Nz",
    "outputId": "581dea0f-67cf-4c19-d9a6-796eed1379dd"
   },
   "outputs": [
    {
     "name": "stdout",
     "output_type": "stream",
     "text": [
      "WARNING:tensorflow:Layer lstm will not use cuDNN kernel since it doesn't meet the cuDNN kernel criteria. It will use generic GPU kernel as fallback when running on GPU\n",
      "WARNING:tensorflow:Layer lstm will not use cuDNN kernel since it doesn't meet the cuDNN kernel criteria. It will use generic GPU kernel as fallback when running on GPU\n",
      "WARNING:tensorflow:Layer lstm will not use cuDNN kernel since it doesn't meet the cuDNN kernel criteria. It will use generic GPU kernel as fallback when running on GPU\n",
      "Model: \"functional_1\"\n",
      "_________________________________________________________________\n",
      "Layer (type)                 Output Shape              Param #   \n",
      "=================================================================\n",
      "input_1 (InputLayer)         [(None, 134)]             0         \n",
      "_________________________________________________________________\n",
      "embedding (Embedding)        (None, 134, 100)          28409800  \n",
      "_________________________________________________________________\n",
      "bidirectional (Bidirectional (None, 140)               95760     \n",
      "_________________________________________________________________\n",
      "dense (Dense)                (None, 50)                7050      \n",
      "_________________________________________________________________\n",
      "dropout (Dropout)            (None, 50)                0         \n",
      "_________________________________________________________________\n",
      "dense_1 (Dense)              (None, 6)                 306       \n",
      "=================================================================\n",
      "Total params: 28,512,916\n",
      "Trainable params: 28,512,916\n",
      "Non-trainable params: 0\n",
      "_________________________________________________________________\n"
     ]
    }
   ],
   "source": [
    "input = Input(shape=(134,),batch_size=None)\n",
    "model = Embedding(input_dim=len(vocabulary)+1, output_dim=100, input_length=200)(input)\n",
    "model = Bidirectional(LSTM(units=70, return_sequences=False, recurrent_dropout=0.1))(model)\n",
    "model = Dense(50, activation=\"relu\")(model)\n",
    "model = Dropout(0.1)(model)\n",
    "out = Dense(6, activation=\"sigmoid\")(model)\n",
    "model = Model(input, out)\n",
    "model.summary()"
   ]
  },
  {
   "cell_type": "code",
   "execution_count": null,
   "metadata": {
    "colab": {
     "base_uri": "https://localhost:8080/",
     "height": 173
    },
    "executionInfo": {
     "elapsed": 10188576,
     "status": "ok",
     "timestamp": 1603898400184,
     "user": {
      "displayName": "sunaal dua",
      "photoUrl": "",
      "userId": "00741122136841948106"
     },
     "user_tz": -330
    },
    "id": "fmA5cyAogc9o",
    "outputId": "921e4f9d-34bc-4255-987e-96dfd13ba20e"
   },
   "outputs": [
    {
     "name": "stdout",
     "output_type": "stream",
     "text": [
      "Epoch 1/10\n",
      "3366/3366 [==============================] - 3422s 1s/step - loss: 0.0669 - accuracy: 0.9270 - val_loss: 0.0485 - val_accuracy: 0.9936\n",
      "Epoch 2/10\n",
      "3366/3366 [==============================] - 3385s 1s/step - loss: 0.0422 - accuracy: 0.9888 - val_loss: 0.0491 - val_accuracy: 0.9936\n",
      "Epoch 3/10\n",
      "3366/3366 [==============================] - ETA: 0s - loss: 0.0347 - accuracy: 0.9865Restoring model weights from the end of the best epoch.\n",
      "3366/3366 [==============================] - 3372s 1s/step - loss: 0.0347 - accuracy: 0.9865 - val_loss: 0.0525 - val_accuracy: 0.9921\n",
      "Epoch 00003: early stopping\n"
     ]
    },
    {
     "data": {
      "text/plain": [
       "<tensorflow.python.keras.callbacks.History at 0x7fa364fc3dd8>"
      ]
     },
     "execution_count": 30,
     "metadata": {
      "tags": []
     },
     "output_type": "execute_result"
    }
   ],
   "source": [
    "model.compile(optimizer=\"adam\", loss=\"binary_crossentropy\", metrics=[\"accuracy\"])\n",
    "stop = EarlyStopping(monitor='val_loss', min_delta=0.01, patience=2, verbose=1, mode='min', restore_best_weights=True)\n",
    "model.fit(x_tr, y_tr, batch_size=32, epochs=10, validation_split=0.1, verbose=1, callbacks=[stop])"
   ]
  },
  {
   "cell_type": "code",
   "execution_count": null,
   "metadata": {
    "id": "BkEb3j8egc65"
   },
   "outputs": [],
   "source": [
    "# model.save(\"/content/drive/My Drive/Colab Notebooks/toxic comments/model2.h5\")"
   ]
  },
  {
   "cell_type": "markdown",
   "metadata": {
    "id": "dvuIDMui8n9q"
   },
   "source": [
    "Testing set accuracy:"
   ]
  },
  {
   "cell_type": "code",
   "execution_count": null,
   "metadata": {
    "id": "lNsQcxD--rRW"
   },
   "outputs": [],
   "source": [
    "# m2 = load_model(\"/content/drive/My Drive/Colab Notebooks/toxic comments/model2.h5\")"
   ]
  },
  {
   "cell_type": "code",
   "execution_count": null,
   "metadata": {
    "colab": {
     "base_uri": "https://localhost:8080/"
    },
    "executionInfo": {
     "elapsed": 354502,
     "status": "ok",
     "timestamp": 1603935537026,
     "user": {
      "displayName": "sunaal dua",
      "photoUrl": "",
      "userId": "00741122136841948106"
     },
     "user_tz": -330
    },
    "id": "FHIjhrnK_BFi",
    "outputId": "4259671a-2a9c-4e4b-e79b-2ed90a3f07f7"
   },
   "outputs": [
    {
     "name": "stdout",
     "output_type": "stream",
     "text": [
      "1247/1247 [==============================] - 63s 50ms/step - loss: 0.2815 - accuracy: 0.9944\n"
     ]
    }
   ],
   "source": [
    "m2.evaluate(x_te, y_te)"
   ]
  },
  {
   "cell_type": "markdown",
   "metadata": {
    "id": "YpDxXduX_qCp"
   },
   "source": [
    "**Again lets predict on the main kaggle test set:\n",
    "<br>SCORE: 96.54% AUC**"
   ]
  },
  {
   "cell_type": "code",
   "execution_count": null,
   "metadata": {
    "colab": {
     "base_uri": "https://localhost:8080/",
     "height": 35
    },
    "executionInfo": {
     "elapsed": 10589868,
     "status": "ok",
     "timestamp": 1603898804248,
     "user": {
      "displayName": "sunaal dua",
      "photoUrl": "",
      "userId": "00741122136841948106"
     },
     "user_tz": -330
    },
    "id": "qgEEMzvUgrAH",
    "outputId": "1e91840e-b4b7-4b7c-d0b8-5877b4f40628"
   },
   "outputs": [
    {
     "data": {
      "text/plain": [
       "(153164, 6)"
      ]
     },
     "execution_count": 33,
     "metadata": {
      "tags": []
     },
     "output_type": "execute_result"
    }
   ],
   "source": [
    "preds = model.predict(finaltest_padded)\n",
    "preds.shape"
   ]
  },
  {
   "cell_type": "code",
   "execution_count": null,
   "metadata": {
    "id": "_sBZ58CcgrFn"
   },
   "outputs": [],
   "source": [
    "labels = list(train.columns)[2:8]\n",
    "submid = pd.DataFrame({'id': test[\"id\"]})\n",
    "submit = pd.concat([submid, pd.DataFrame(preds, columns=labels)], axis=1)\n",
    "# submit.to_csv('/content/drive/My Drive/Colab Notebooks/toxic comments/submission2.csv',index=False) "
   ]
  },
  {
   "cell_type": "markdown",
   "metadata": {
    "id": "tNokuyjRFoGE"
   },
   "source": [
    "# Results:\n",
    "Amazing to see how bi-directional layer improved the predictions so much. With just this layer the kaggle set AUC score went up by 5.4%"
   ]
  }
 ],
 "metadata": {
  "colab": {
   "authorship_tag": "ABX9TyOoOHRoqZVUDi3jguwaF56L",
   "collapsed_sections": [
    "sjl84hglHAsh",
    "6QAAsM2L7j7o",
    "HMvJXXGNc0ZQ"
   ],
   "mount_file_id": "12Gj-wv2LEnQvsCM9BGGV7Fnt143i90AC",
   "name": "Jigsaw toxic comment classification.ipynb",
   "provenance": []
  },
  "kernelspec": {
   "display_name": "Python 3",
   "language": "python",
   "name": "python3"
  },
  "language_info": {
   "codemirror_mode": {
    "name": "ipython",
    "version": 3
   },
   "file_extension": ".py",
   "mimetype": "text/x-python",
   "name": "python",
   "nbconvert_exporter": "python",
   "pygments_lexer": "ipython3",
   "version": "3.7.7"
  }
 },
 "nbformat": 4,
 "nbformat_minor": 1
}
