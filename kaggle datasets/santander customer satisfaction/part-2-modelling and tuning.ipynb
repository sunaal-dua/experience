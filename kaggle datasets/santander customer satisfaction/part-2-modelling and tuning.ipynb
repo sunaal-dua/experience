{
 "cells": [
  {
   "cell_type": "markdown",
   "metadata": {
    "colab_type": "text",
    "id": "DMMKkm_nMGVp"
   },
   "source": [
    "# kaggle score: 83.19 % AUC - Gradient Boost Model\n"
   ]
  },
  {
   "cell_type": "code",
   "execution_count": null,
   "metadata": {
    "colab": {},
    "colab_type": "code",
    "id": "5E907j9_MjGq"
   },
   "outputs": [],
   "source": [
    "# from google.colab import drive\n",
    "# drive.mount('/content/drive')"
   ]
  },
  {
   "cell_type": "code",
   "execution_count": null,
   "metadata": {
    "colab": {
     "base_uri": "https://localhost:8080/",
     "height": 72
    },
    "colab_type": "code",
    "executionInfo": {
     "elapsed": 2687,
     "status": "ok",
     "timestamp": 1597870011480,
     "user": {
      "displayName": "sunaal dua",
      "photoUrl": "",
      "userId": "00741122136841948106"
     },
     "user_tz": -330
    },
    "id": "mFlQeNKZ4VaL",
    "outputId": "8fded4a0-67f4-40e4-f592-3032ebda7f31"
   },
   "outputs": [
    {
     "name": "stderr",
     "output_type": "stream",
     "text": [
      "/usr/local/lib/python3.6/dist-packages/statsmodels/tools/_testing.py:19: FutureWarning: pandas.util.testing is deprecated. Use the functions in the public API at pandas.testing instead.\n",
      "  import pandas.util.testing as tm\n"
     ]
    }
   ],
   "source": [
    "import numpy as np \n",
    "import pandas as pd \n",
    "import matplotlib.pyplot as plt       \n",
    "%matplotlib inline \n",
    "import seaborn as sns\n",
    "sns.set_style('whitegrid')\n",
    "import warnings\n",
    "warnings.filterwarnings('ignore')\n",
    "from sklearn.feature_selection import VarianceThreshold, mutual_info_classif, RFE\n",
    "from sklearn.linear_model import LogisticRegression\n",
    "from sklearn.ensemble import RandomForestClassifier, GradientBoostingClassifier\n",
    "from sklearn.model_selection import cross_val_score, cross_val_predict, train_test_split\n",
    "from sklearn.model_selection import RandomizedSearchCV\n",
    "import json\n",
    "from sklearn.metrics import roc_auc_score\n",
    "from sklearn.preprocessing import MinMaxScaler\n",
    "from scipy.stats import randint as sp_randint\n",
    "from sklearn.metrics import classification_report,confusion_matrix"
   ]
  },
  {
   "cell_type": "code",
   "execution_count": null,
   "metadata": {
    "colab": {
     "base_uri": "https://localhost:8080/",
     "height": 35
    },
    "colab_type": "code",
    "executionInfo": {
     "elapsed": 4330,
     "status": "ok",
     "timestamp": 1597870013366,
     "user": {
      "displayName": "sunaal dua",
      "photoUrl": "",
      "userId": "00741122136841948106"
     },
     "user_tz": -330
    },
    "id": "Ux9u_Fjz4Vc5",
    "outputId": "6c75696b-ff5c-435a-e8aa-c3d5298d34f5"
   },
   "outputs": [
    {
     "data": {
      "text/plain": [
       "(76020, 371)"
      ]
     },
     "execution_count": 2,
     "metadata": {
      "tags": []
     },
     "output_type": "execute_result"
    }
   ],
   "source": [
    "train=pd.read_csv('/content/drive/My Drive/Colab Notebooks/train.csv')\n",
    "train.shape"
   ]
  },
  {
   "cell_type": "code",
   "execution_count": null,
   "metadata": {
    "colab": {
     "base_uri": "https://localhost:8080/",
     "height": 35
    },
    "colab_type": "code",
    "executionInfo": {
     "elapsed": 6073,
     "status": "ok",
     "timestamp": 1597870015298,
     "user": {
      "displayName": "sunaal dua",
      "photoUrl": "",
      "userId": "00741122136841948106"
     },
     "user_tz": -330
    },
    "id": "TYxjMSdO4Vgq",
    "outputId": "1b125fc2-6b53-49d1-c69e-1bf8fed550c1"
   },
   "outputs": [
    {
     "data": {
      "text/plain": [
       "(75818, 370)"
      ]
     },
     "execution_count": 3,
     "metadata": {
      "tags": []
     },
     "output_type": "execute_result"
    }
   ],
   "source": [
    "test=pd.read_csv('/content/drive/My Drive/Colab Notebooks/test.csv')\n",
    "test.shape"
   ]
  },
  {
   "cell_type": "code",
   "execution_count": null,
   "metadata": {
    "colab": {},
    "colab_type": "code",
    "id": "-X0EQWpfDOXV"
   },
   "outputs": [],
   "source": [
    "y = train[\"TARGET\"]\n",
    "train = train.drop([\"ID\",\"TARGET\"], axis=1) "
   ]
  },
  {
   "cell_type": "code",
   "execution_count": null,
   "metadata": {
    "colab": {},
    "colab_type": "code",
    "id": "W2U6O9ma4Vi5"
   },
   "outputs": [],
   "source": [
    "with open(\"/content/drive/My Drive/Colab Notebooks/final_lr_features.txt\", \"r\") as fp:\n",
    "  lr_feats = json.load(fp)\n",
    "\n",
    "with open(\"/content/drive/My Drive/Colab Notebooks/final_rf_features.txt\", \"r\") as fp:\n",
    "  rf_feats = json.load(fp)\n",
    "\n",
    "with open(\"/content/drive/My Drive/Colab Notebooks/final_gb_features.txt\", \"r\") as fp:\n",
    "  gb_feats = json.load(fp)"
   ]
  },
  {
   "cell_type": "code",
   "execution_count": null,
   "metadata": {
    "colab": {
     "base_uri": "https://localhost:8080/",
     "height": 156
    },
    "colab_type": "code",
    "executionInfo": {
     "elapsed": 3640,
     "status": "ok",
     "timestamp": 1597870015314,
     "user": {
      "displayName": "sunaal dua",
      "photoUrl": "",
      "userId": "00741122136841948106"
     },
     "user_tz": -330
    },
    "id": "sSMBzkfe4Vsx",
    "outputId": "99ba61b4-7a34-412a-bfc3-80787480b1cd"
   },
   "outputs": [
    {
     "name": "stdout",
     "output_type": "stream",
     "text": [
      "train sets for logistic regression, randomforest, gradientboosting:\n",
      "(76020, 13)\n",
      "(76020, 12)\n",
      "(76020, 10)\n",
      "test sets for logistic regression, randomforest, gradientboosting:\n",
      "(75818, 13)\n",
      "(75818, 12)\n",
      "(75818, 10)\n"
     ]
    }
   ],
   "source": [
    "xtr_lr = train[lr_feats]\n",
    "xtr_rf = train[rf_feats]\n",
    "xtr_gb = train[gb_feats]\n",
    "\n",
    "xte_lr = test[lr_feats]\n",
    "xte_rf = test[rf_feats]\n",
    "xte_gb = test[gb_feats]\n",
    "\n",
    "print(\"train sets for logistic regression, randomforest, gradientboosting:\")\n",
    "print(xtr_lr.shape)\n",
    "print(xtr_rf.shape)\n",
    "print(xtr_gb.shape)\n",
    "\n",
    "print(\"test sets for logistic regression, randomforest, gradientboosting:\")\n",
    "print(xte_lr.shape)\n",
    "print(xte_rf.shape)\n",
    "print(xte_gb.shape)"
   ]
  },
  {
   "cell_type": "markdown",
   "metadata": {
    "colab_type": "text",
    "id": "1DIZZwcRA3Y-"
   },
   "source": [
    "**We will scale the features using MinMaxScaler scaler. We will take up the train validate and test approach for modelling where training and validation will be done in a 10-fold CV fashion. We'll split the main train set in 70:30 ratio. The model will be trained and tuned on the 70% part in 10 CV loop and tested on the 30% hold-out set. The final model will be then tested on the main test set provided by kaggle and saved for submission.**<br>We have already seen how the simple models with default parameters perform in the previous part. Lets tune these models and test against the hold-out set:"
   ]
  },
  {
   "cell_type": "code",
   "execution_count": null,
   "metadata": {
    "colab": {},
    "colab_type": "code",
    "id": "zrdM0-DCPeUF"
   },
   "outputs": [],
   "source": [
    "def training_and_tuning(model,xtr,ytr,parameters,iterations):\n",
    "  \n",
    "  print(\"started random search cv:\\n\")\n",
    "  randomCV = RandomizedSearchCV(model, param_distributions=parameters, n_iter=iterations, cv=10, random_state=7, scoring='roc_auc')\n",
    "  randomCV.fit(xtr, ytr)\n",
    "  best = randomCV.best_params_\n",
    "  best_sc = randomCV.best_score_\n",
    "  print(\"best score:\")\n",
    "  print(best_sc)\n",
    "  print(\"best parameters obtained:\")\n",
    "  print(best)\n",
    "  return best"
   ]
  },
  {
   "cell_type": "code",
   "execution_count": null,
   "metadata": {
    "colab": {},
    "colab_type": "code",
    "id": "7uoCZXWJgEUm"
   },
   "outputs": [],
   "source": [
    "def tuned_model(cl,xtr,ytr,xte,yte):\n",
    "\n",
    "  cl.fit(xtr,ytr)\n",
    "  train_pred_proba = cl.predict_proba(xtr)[:,1]\n",
    "  test_pred_proba = cl.predict_proba(xte)[:,1]\n",
    "  print(\"train set auc:\")\n",
    "  print(roc_auc_score(ytr,train_pred_proba))\n",
    "  print(\"test set auc:\")\n",
    "  print(roc_auc_score(yte,test_pred_proba))\n",
    "  print(\"\")\n",
    "  print(\"test set confusion matrix:\")\n",
    "  test_pred = cl.predict(xte)\n",
    "  mat_test = confusion_matrix(yte,test_pred,labels=[1,0])\n",
    "  cl_cm = pd.DataFrame(mat_test, index = [i for i in [\"Truth(satisfied)\",\"Truth(unsatisfied)\"]],\n",
    "                    columns = [i for i in [\"Predict(satisfied)\",\"Predict(unsatisfied)\"]])\n",
    "  display(cl_cm)"
   ]
  },
  {
   "cell_type": "code",
   "execution_count": null,
   "metadata": {
    "colab": {},
    "colab_type": "code",
    "id": "IuaS8wFszzmO"
   },
   "outputs": [],
   "source": [
    "def kaggle_testset(final_model,trainset,trainlabels,testset,filename):\n",
    "\n",
    "  final_model.fit(trainset,trainlabels)\n",
    "  final_predictions = final_model.predict_proba(testset)[:, 1]\n",
    "\n",
    "  submit = pd.DataFrame(columns=[\"ID\",\"TARGET\"])\n",
    "  submit[\"TARGET\"] = final_predictions\n",
    "  submit[\"ID\"] = test[\"ID\"]\n",
    "  submit.to_csv(\"/content/drive/My Drive/Colab Notebooks/\"+filename,index=False)"
   ]
  },
  {
   "cell_type": "code",
   "execution_count": null,
   "metadata": {
    "colab": {},
    "colab_type": "code",
    "id": "WDuXnXLY2IHQ"
   },
   "outputs": [],
   "source": [
    "def minmax_scaler(xtr,xte):\n",
    "\n",
    "  scaler = MinMaxScaler()\n",
    "  colnames = xtr.columns\n",
    "\n",
    "  # fitting and transforming train set\n",
    "  xtr = pd.DataFrame(scaler.fit_transform(xtr))\n",
    "  xtr.columns = colnames\n",
    "\n",
    "  # transforming test set\n",
    "  xte = pd.DataFrame(scaler.transform(xte))\n",
    "  xte.columns = colnames\n",
    "\n",
    "  return [xtr,xte]"
   ]
  },
  {
   "cell_type": "markdown",
   "metadata": {
    "colab_type": "text",
    "id": "I5JZORNc4Vzh"
   },
   "source": [
    "**Logistic regression:**"
   ]
  },
  {
   "cell_type": "code",
   "execution_count": null,
   "metadata": {
    "colab": {
     "base_uri": "https://localhost:8080/",
     "height": 52
    },
    "colab_type": "code",
    "executionInfo": {
     "elapsed": 7916,
     "status": "ok",
     "timestamp": 1597771710861,
     "user": {
      "displayName": "sunaal dua",
      "photoUrl": "",
      "userId": "00741122136841948106"
     },
     "user_tz": -330
    },
    "id": "fOwFbp_V7VTl",
    "outputId": "2e64ab5e-75f6-47c3-e8fd-0a0f7d86378c"
   },
   "outputs": [
    {
     "name": "stdout",
     "output_type": "stream",
     "text": [
      "(53214, 13)\n",
      "(22806, 13)\n"
     ]
    }
   ],
   "source": [
    "xtr_lr,xte_lr = minmax_scaler(xtr_lr,xte_lr)\n",
    "\n",
    "x_train, x_test, y_train, y_test = train_test_split(xtr_lr, y, test_size=0.3, random_state=1111, stratify=y)\n",
    "print(x_train.shape)\n",
    "print(x_test.shape)"
   ]
  },
  {
   "cell_type": "code",
   "execution_count": null,
   "metadata": {
    "colab": {
     "base_uri": "https://localhost:8080/",
     "height": 156
    },
    "colab_type": "code",
    "executionInfo": {
     "elapsed": 1710321,
     "status": "ok",
     "timestamp": 1597773443833,
     "user": {
      "displayName": "sunaal dua",
      "photoUrl": "",
      "userId": "00741122136841948106"
     },
     "user_tz": -330
    },
    "id": "0XEJCXu54V-N",
    "outputId": "a44ec2f6-dd14-4371-abf9-585065d637e3"
   },
   "outputs": [
    {
     "name": "stdout",
     "output_type": "stream",
     "text": [
      "started random search cv:\n",
      "\n",
      "best score:\n",
      "0.7781128842286693\n",
      "best parameters obtained:\n",
      "{'C': 945, 'class_weight': 'balanced'}\n",
      "CPU times: user 28min 36s, sys: 44.1 s, total: 29min 20s\n",
      "Wall time: 28min 29s\n"
     ]
    }
   ],
   "source": [
    "%%time\n",
    "parameters = {\"C\": sp_randint(1, 1000),\"class_weight\": [None,\"balanced\"]}\n",
    "best = training_and_tuning(LogisticRegression(penalty=\"l1\", random_state=7, solver=\"liblinear\"),x_train,y_train,parameters,40)"
   ]
  },
  {
   "cell_type": "code",
   "execution_count": null,
   "metadata": {
    "colab": {
     "base_uri": "https://localhost:8080/",
     "height": 214
    },
    "colab_type": "code",
    "executionInfo": {
     "elapsed": 9150,
     "status": "ok",
     "timestamp": 1597775085488,
     "user": {
      "displayName": "sunaal dua",
      "photoUrl": "",
      "userId": "00741122136841948106"
     },
     "user_tz": -330
    },
    "id": "MqLi8Ibs4WHM",
    "outputId": "a3afa438-57c8-4eeb-81cc-46605a0b630a"
   },
   "outputs": [
    {
     "name": "stdout",
     "output_type": "stream",
     "text": [
      "train set auc:\n",
      "0.7788379082680692\n",
      "test set auc:\n",
      "0.7747770861440935\n",
      "\n",
      "test set confusion matrix:\n"
     ]
    },
    {
     "data": {
      "text/html": [
       "<div>\n",
       "<style scoped>\n",
       "    .dataframe tbody tr th:only-of-type {\n",
       "        vertical-align: middle;\n",
       "    }\n",
       "\n",
       "    .dataframe tbody tr th {\n",
       "        vertical-align: top;\n",
       "    }\n",
       "\n",
       "    .dataframe thead th {\n",
       "        text-align: right;\n",
       "    }\n",
       "</style>\n",
       "<table border=\"1\" class=\"dataframe\">\n",
       "  <thead>\n",
       "    <tr style=\"text-align: right;\">\n",
       "      <th></th>\n",
       "      <th>Predict(satisfied)</th>\n",
       "      <th>Predict(unsatisfied)</th>\n",
       "    </tr>\n",
       "  </thead>\n",
       "  <tbody>\n",
       "    <tr>\n",
       "      <th>Truth(satisfied)</th>\n",
       "      <td>659</td>\n",
       "      <td>243</td>\n",
       "    </tr>\n",
       "    <tr>\n",
       "      <th>Truth(unsatisfied)</th>\n",
       "      <td>7448</td>\n",
       "      <td>14456</td>\n",
       "    </tr>\n",
       "  </tbody>\n",
       "</table>\n",
       "</div>"
      ],
      "text/plain": [
       "                    Predict(satisfied)  Predict(unsatisfied)\n",
       "Truth(satisfied)                   659                   243\n",
       "Truth(unsatisfied)                7448                 14456"
      ]
     },
     "metadata": {
      "tags": []
     },
     "output_type": "display_data"
    }
   ],
   "source": [
    "cl = LogisticRegression(penalty=\"l1\",random_state=7,solver=\"liblinear\",C=945,class_weight=\"balanced\")\n",
    "tuned_model(cl, x_train, y_train, x_test, y_test)"
   ]
  },
  {
   "cell_type": "code",
   "execution_count": null,
   "metadata": {
    "colab": {},
    "colab_type": "code",
    "id": "f6W4pSzfyXj3"
   },
   "outputs": [],
   "source": [
    "# kaggle_testset(cl, xtr_lr, y, xte_lr, \"lr_submission.csv\")"
   ]
  },
  {
   "cell_type": "markdown",
   "metadata": {
    "colab_type": "text",
    "id": "Qe1MdO9iItKZ"
   },
   "source": [
    "**Kaggle AUC score of 77.72 %**"
   ]
  },
  {
   "cell_type": "markdown",
   "metadata": {
    "colab_type": "text",
    "id": "Ij-dvR0s4WFS"
   },
   "source": [
    "**Randomforest:**"
   ]
  },
  {
   "cell_type": "code",
   "execution_count": null,
   "metadata": {
    "colab": {
     "base_uri": "https://localhost:8080/",
     "height": 52
    },
    "colab_type": "code",
    "executionInfo": {
     "elapsed": 1148,
     "status": "ok",
     "timestamp": 1597847267737,
     "user": {
      "displayName": "sunaal dua",
      "photoUrl": "",
      "userId": "00741122136841948106"
     },
     "user_tz": -330
    },
    "id": "2qY07K_Y4WBl",
    "outputId": "fb5d7dd3-4d5e-4aed-8163-5cc231221960"
   },
   "outputs": [
    {
     "name": "stdout",
     "output_type": "stream",
     "text": [
      "(53214, 12)\n",
      "(22806, 12)\n"
     ]
    }
   ],
   "source": [
    "xtr_rf,xte_rf = minmax_scaler(xtr_rf,xte_rf)\n",
    "\n",
    "x_train, x_test, y_train, y_test = train_test_split(xtr_rf, y, test_size=0.3, random_state=1111, stratify=y)\n",
    "print(x_train.shape)\n",
    "print(x_test.shape)"
   ]
  },
  {
   "cell_type": "code",
   "execution_count": null,
   "metadata": {
    "colab": {
     "base_uri": "https://localhost:8080/",
     "height": 156
    },
    "colab_type": "code",
    "executionInfo": {
     "elapsed": 7815024,
     "status": "ok",
     "timestamp": 1597819476665,
     "user": {
      "displayName": "sunaal dua",
      "photoUrl": "",
      "userId": "00741122136841948106"
     },
     "user_tz": -330
    },
    "id": "8AtOct3m4V8y",
    "outputId": "bb5532d2-201f-4b60-a5fa-8ed7236c7ee4"
   },
   "outputs": [
    {
     "name": "stdout",
     "output_type": "stream",
     "text": [
      "started random search cv:\n",
      "\n",
      "best score:\n",
      "0.8349638002764465\n",
      "best parameters obtained:\n",
      "{'n_estimators': 85, 'max_features': 4, 'max_depth': 10, 'class_weight': None}\n",
      "CPU times: user 2h 9min 54s, sys: 9.15 s, total: 2h 10min 3s\n",
      "Wall time: 2h 10min 13s\n"
     ]
    }
   ],
   "source": [
    "%%time\n",
    "model = RandomForestClassifier(random_state=7)\n",
    "\n",
    "parameters = {\"max_features\": list(np.arange(1,12))+[None,\"sqrt\"],\n",
    "              \"max_depth\":list(np.arange(3,50))+[None],\n",
    "              \"class_weight\":[None,\"balanced\"],\n",
    "              \"n_estimators\": np.arange(10,150,5)}\n",
    "\n",
    "best = training_and_tuning(model,x_train,y_train,parameters,100)"
   ]
  },
  {
   "cell_type": "code",
   "execution_count": null,
   "metadata": {
    "colab": {
     "base_uri": "https://localhost:8080/",
     "height": 214
    },
    "colab_type": "code",
    "executionInfo": {
     "elapsed": 7918,
     "status": "ok",
     "timestamp": 1597847287901,
     "user": {
      "displayName": "sunaal dua",
      "photoUrl": "",
      "userId": "00741122136841948106"
     },
     "user_tz": -330
    },
    "id": "4_dZkvLQHfTt",
    "outputId": "9cfca8f5-159d-4b04-c6d7-6ded65ba6000"
   },
   "outputs": [
    {
     "name": "stdout",
     "output_type": "stream",
     "text": [
      "train set auc:\n",
      "0.9104277138831416\n",
      "test set auc:\n",
      "0.8215788730991433\n",
      "\n",
      "test set confusion matrix:\n"
     ]
    },
    {
     "data": {
      "text/html": [
       "<div>\n",
       "<style scoped>\n",
       "    .dataframe tbody tr th:only-of-type {\n",
       "        vertical-align: middle;\n",
       "    }\n",
       "\n",
       "    .dataframe tbody tr th {\n",
       "        vertical-align: top;\n",
       "    }\n",
       "\n",
       "    .dataframe thead th {\n",
       "        text-align: right;\n",
       "    }\n",
       "</style>\n",
       "<table border=\"1\" class=\"dataframe\">\n",
       "  <thead>\n",
       "    <tr style=\"text-align: right;\">\n",
       "      <th></th>\n",
       "      <th>Predict(satisfied)</th>\n",
       "      <th>Predict(unsatisfied)</th>\n",
       "    </tr>\n",
       "  </thead>\n",
       "  <tbody>\n",
       "    <tr>\n",
       "      <th>Truth(satisfied)</th>\n",
       "      <td>0</td>\n",
       "      <td>902</td>\n",
       "    </tr>\n",
       "    <tr>\n",
       "      <th>Truth(unsatisfied)</th>\n",
       "      <td>0</td>\n",
       "      <td>21904</td>\n",
       "    </tr>\n",
       "  </tbody>\n",
       "</table>\n",
       "</div>"
      ],
      "text/plain": [
       "                    Predict(satisfied)  Predict(unsatisfied)\n",
       "Truth(satisfied)                     0                   902\n",
       "Truth(unsatisfied)                   0                 21904"
      ]
     },
     "metadata": {
      "tags": []
     },
     "output_type": "display_data"
    }
   ],
   "source": [
    "cl = RandomForestClassifier(n_estimators=85, max_features=4, max_depth=10, class_weight=None, random_state=7)\n",
    "tuned_model(cl, x_train, y_train, x_test, y_test)"
   ]
  },
  {
   "cell_type": "code",
   "execution_count": null,
   "metadata": {
    "colab": {
     "base_uri": "https://localhost:8080/",
     "height": 214
    },
    "colab_type": "code",
    "executionInfo": {
     "elapsed": 8252,
     "status": "ok",
     "timestamp": 1597839987476,
     "user": {
      "displayName": "sunaal dua",
      "photoUrl": "",
      "userId": "00741122136841948106"
     },
     "user_tz": -330
    },
    "id": "PsNWSxxE4V2A",
    "outputId": "0cbe1281-701b-4f65-a8ae-ec1e812bbd0e"
   },
   "outputs": [
    {
     "name": "stdout",
     "output_type": "stream",
     "text": [
      "train set auc:\n",
      "0.8983934482894202\n",
      "test set auc:\n",
      "0.8195831406629857\n",
      "\n",
      "test set confusion matrix:\n"
     ]
    },
    {
     "data": {
      "text/html": [
       "<div>\n",
       "<style scoped>\n",
       "    .dataframe tbody tr th:only-of-type {\n",
       "        vertical-align: middle;\n",
       "    }\n",
       "\n",
       "    .dataframe tbody tr th {\n",
       "        vertical-align: top;\n",
       "    }\n",
       "\n",
       "    .dataframe thead th {\n",
       "        text-align: right;\n",
       "    }\n",
       "</style>\n",
       "<table border=\"1\" class=\"dataframe\">\n",
       "  <thead>\n",
       "    <tr style=\"text-align: right;\">\n",
       "      <th></th>\n",
       "      <th>Predict(satisfied)</th>\n",
       "      <th>Predict(unsatisfied)</th>\n",
       "    </tr>\n",
       "  </thead>\n",
       "  <tbody>\n",
       "    <tr>\n",
       "      <th>Truth(satisfied)</th>\n",
       "      <td>561</td>\n",
       "      <td>341</td>\n",
       "    </tr>\n",
       "    <tr>\n",
       "      <th>Truth(unsatisfied)</th>\n",
       "      <td>3482</td>\n",
       "      <td>18422</td>\n",
       "    </tr>\n",
       "  </tbody>\n",
       "</table>\n",
       "</div>"
      ],
      "text/plain": [
       "                    Predict(satisfied)  Predict(unsatisfied)\n",
       "Truth(satisfied)                   561                   341\n",
       "Truth(unsatisfied)                3482                 18422"
      ]
     },
     "metadata": {
      "tags": []
     },
     "output_type": "display_data"
    }
   ],
   "source": [
    "cl = RandomForestClassifier(n_estimators=85, max_features=4, max_depth=10, class_weight=\"balanced\", random_state=7)\n",
    "tuned_model(cl, x_train, y_train, x_test, y_test)"
   ]
  },
  {
   "cell_type": "code",
   "execution_count": null,
   "metadata": {
    "colab": {},
    "colab_type": "code",
    "id": "OHGULr8N4Vri"
   },
   "outputs": [],
   "source": [
    "# kaggle_testset(cl, xtr_rf, y, xte_rf, \"rf_submission2.csv\")"
   ]
  },
  {
   "cell_type": "markdown",
   "metadata": {
    "colab_type": "text",
    "id": "KTzBX7JfHueA"
   },
   "source": [
    "**kaggle score for class_weight=None is slightly more (82.95 %) as compared to class_weight=\"balanced\" (82.6 %) but in realtime we will still choose class_weight=\"balanced\" since it provides more general model. Our dataset is highly imbalanced and model with balanced class weight is also able to predict our minority class which is \"satisfied\".**"
   ]
  },
  {
   "cell_type": "markdown",
   "metadata": {
    "colab_type": "text",
    "id": "kwzQUmxv4VqE"
   },
   "source": [
    "**Gradient boosting:**"
   ]
  },
  {
   "cell_type": "code",
   "execution_count": null,
   "metadata": {
    "colab": {
     "base_uri": "https://localhost:8080/",
     "height": 52
    },
    "colab_type": "code",
    "executionInfo": {
     "elapsed": 986,
     "status": "ok",
     "timestamp": 1597819546429,
     "user": {
      "displayName": "sunaal dua",
      "photoUrl": "",
      "userId": "00741122136841948106"
     },
     "user_tz": -330
    },
    "id": "56tgBrID4Vl9",
    "outputId": "eec80fd8-43fb-4ebf-9790-b602557a21ba"
   },
   "outputs": [
    {
     "name": "stdout",
     "output_type": "stream",
     "text": [
      "(53214, 10)\n",
      "(22806, 10)\n"
     ]
    }
   ],
   "source": [
    "xtr_gb,xte_gb = minmax_scaler(xtr_gb,xte_gb)\n",
    "\n",
    "x_train, x_test, y_train, y_test = train_test_split(xtr_gb, y, test_size=0.3, random_state=1111, stratify=y)\n",
    "print(x_train.shape)\n",
    "print(x_test.shape)"
   ]
  },
  {
   "cell_type": "code",
   "execution_count": null,
   "metadata": {
    "colab": {
     "base_uri": "https://localhost:8080/",
     "height": 156
    },
    "colab_type": "code",
    "executionInfo": {
     "elapsed": 911609,
     "status": "ok",
     "timestamp": 1597839855496,
     "user": {
      "displayName": "sunaal dua",
      "photoUrl": "",
      "userId": "00741122136841948106"
     },
     "user_tz": -330
    },
    "id": "j6wTNQ704VfJ",
    "outputId": "5e640799-34ed-4e3a-ad0f-8c8aa6369995"
   },
   "outputs": [
    {
     "name": "stdout",
     "output_type": "stream",
     "text": [
      "started random search cv:\n",
      "\n",
      "best score:\n",
      "0.8385704602970382\n",
      "best parameters obtained:\n",
      "{'n_estimators': 50, 'max_features': 6, 'max_depth': 5}\n",
      "CPU times: user 5h 37min 20s, sys: 12.5 s, total: 5h 37min 32s\n",
      "Wall time: 5h 37min 55s\n"
     ]
    }
   ],
   "source": [
    "%%time\n",
    "model = GradientBoostingClassifier(random_state=7)\n",
    "\n",
    "parameters = {\"max_features\": list(np.arange(1,10))+[None,\"sqrt\"],\n",
    "              \"max_depth\":list(np.arange(3,50))+[None],\n",
    "              \"n_estimators\": np.arange(10,150,5)}\n",
    "\n",
    "best = training_and_tuning(model,x_train,y_train,parameters,100)"
   ]
  },
  {
   "cell_type": "code",
   "execution_count": null,
   "metadata": {
    "colab": {
     "base_uri": "https://localhost:8080/",
     "height": 214
    },
    "colab_type": "code",
    "executionInfo": {
     "elapsed": 4691,
     "status": "ok",
     "timestamp": 1597840293741,
     "user": {
      "displayName": "sunaal dua",
      "photoUrl": "",
      "userId": "00741122136841948106"
     },
     "user_tz": -330
    },
    "id": "lMTO9PUB6BFE",
    "outputId": "15fd69ab-f833-41dc-9017-f7109ad1ddf6"
   },
   "outputs": [
    {
     "name": "stdout",
     "output_type": "stream",
     "text": [
      "train set auc:\n",
      "0.870985430105333\n",
      "test set auc:\n",
      "0.8247520626187403\n",
      "\n",
      "test set confusion matrix:\n"
     ]
    },
    {
     "data": {
      "text/html": [
       "<div>\n",
       "<style scoped>\n",
       "    .dataframe tbody tr th:only-of-type {\n",
       "        vertical-align: middle;\n",
       "    }\n",
       "\n",
       "    .dataframe tbody tr th {\n",
       "        vertical-align: top;\n",
       "    }\n",
       "\n",
       "    .dataframe thead th {\n",
       "        text-align: right;\n",
       "    }\n",
       "</style>\n",
       "<table border=\"1\" class=\"dataframe\">\n",
       "  <thead>\n",
       "    <tr style=\"text-align: right;\">\n",
       "      <th></th>\n",
       "      <th>Predict(satisfied)</th>\n",
       "      <th>Predict(unsatisfied)</th>\n",
       "    </tr>\n",
       "  </thead>\n",
       "  <tbody>\n",
       "    <tr>\n",
       "      <th>Truth(satisfied)</th>\n",
       "      <td>3</td>\n",
       "      <td>899</td>\n",
       "    </tr>\n",
       "    <tr>\n",
       "      <th>Truth(unsatisfied)</th>\n",
       "      <td>12</td>\n",
       "      <td>21892</td>\n",
       "    </tr>\n",
       "  </tbody>\n",
       "</table>\n",
       "</div>"
      ],
      "text/plain": [
       "                    Predict(satisfied)  Predict(unsatisfied)\n",
       "Truth(satisfied)                     3                   899\n",
       "Truth(unsatisfied)                  12                 21892"
      ]
     },
     "metadata": {
      "tags": []
     },
     "output_type": "display_data"
    }
   ],
   "source": [
    "cl = GradientBoostingClassifier(n_estimators=50, max_features=6, max_depth=5, random_state=7)\n",
    "tuned_model(cl, x_train, y_train, x_test, y_test)"
   ]
  },
  {
   "cell_type": "code",
   "execution_count": null,
   "metadata": {
    "colab": {},
    "colab_type": "code",
    "id": "ubPEteqh6BKO"
   },
   "outputs": [],
   "source": [
    "# kaggle_testset(cl, xtr_rf, y, xte_rf, \"gb_submission.csv\")"
   ]
  },
  {
   "cell_type": "markdown",
   "metadata": {
    "colab_type": "text",
    "id": "3pYpuV8tI_Dy"
   },
   "source": [
    "**Kaggle score improved to 83.19 % but randomforest with class_weight=\"balanced\" is still our model of choice since it provides a more general model.**"
   ]
  },
  {
   "cell_type": "markdown",
   "metadata": {
    "colab_type": "text",
    "id": "2rz2gpO4UeeE"
   },
   "source": [
    "#### Kaggle winning score: 84.5 % AUC - leaderboard"
   ]
  },
  {
   "cell_type": "markdown",
   "metadata": {},
   "source": [
    "### In the next part we will try to predict the minority class and make the classifier even more general. We will downsample the majority class which will also help us in training and tuning the models faster."
   ]
  }
 ],
 "metadata": {
  "colab": {
   "authorship_tag": "ABX9TyPGS7iAl/kXIh4TUqC3b0uw",
   "collapsed_sections": [],
   "name": "part-2-modelling and tuning.ipynb",
   "provenance": []
  },
  "kernelspec": {
   "display_name": "Python 3",
   "language": "python",
   "name": "python3"
  },
  "language_info": {
   "codemirror_mode": {
    "name": "ipython",
    "version": 3
   },
   "file_extension": ".py",
   "mimetype": "text/x-python",
   "name": "python",
   "nbconvert_exporter": "python",
   "pygments_lexer": "ipython3",
   "version": "3.7.4"
  }
 },
 "nbformat": 4,
 "nbformat_minor": 1
}
