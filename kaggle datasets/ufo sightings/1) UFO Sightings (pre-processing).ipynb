{
 "cells": [
  {
   "cell_type": "markdown",
   "metadata": {
    "id": "VEebwx7EEEuT"
   },
   "source": [
    "# You can find the dataset [here](https://www.kaggle.com/NUFORC/ufo-sightings) (scrubbed one)\n"
   ]
  },
  {
   "cell_type": "code",
   "execution_count": null,
   "metadata": {
    "id": "javTuuxmZItC"
   },
   "outputs": [],
   "source": [
    "# from google.colab import drive\n",
    "# drive.mount('/content/drive')"
   ]
  },
  {
   "cell_type": "code",
   "execution_count": null,
   "metadata": {
    "id": "6GA53J2_UqJe"
   },
   "outputs": [],
   "source": [
    "import numpy as np \n",
    "import pandas as pd \n",
    "import matplotlib.pyplot as plt       \n",
    "%matplotlib inline \n",
    "import seaborn as sns\n",
    "sns.set_style('whitegrid')\n",
    "import warnings\n",
    "warnings.filterwarnings('ignore')\n",
    "import json\n",
    "import datetime"
   ]
  },
  {
   "cell_type": "code",
   "execution_count": null,
   "metadata": {
    "colab": {
     "base_uri": "https://localhost:8080/",
     "height": 306
    },
    "id": "91AeqAHMUqKQ",
    "outputId": "9a4b4684-5f96-4411-dc1e-16b789e369d3"
   },
   "outputs": [
    {
     "data": {
      "text/html": [
       "<div>\n",
       "<style scoped>\n",
       "    .dataframe tbody tr th:only-of-type {\n",
       "        vertical-align: middle;\n",
       "    }\n",
       "\n",
       "    .dataframe tbody tr th {\n",
       "        vertical-align: top;\n",
       "    }\n",
       "\n",
       "    .dataframe thead th {\n",
       "        text-align: right;\n",
       "    }\n",
       "</style>\n",
       "<table border=\"1\" class=\"dataframe\">\n",
       "  <thead>\n",
       "    <tr style=\"text-align: right;\">\n",
       "      <th></th>\n",
       "      <th>datetime</th>\n",
       "      <th>city</th>\n",
       "      <th>state</th>\n",
       "      <th>country</th>\n",
       "      <th>shape</th>\n",
       "      <th>duration (seconds)</th>\n",
       "      <th>duration (hours/min)</th>\n",
       "      <th>comments</th>\n",
       "      <th>date posted</th>\n",
       "      <th>latitude</th>\n",
       "      <th>longitude</th>\n",
       "    </tr>\n",
       "  </thead>\n",
       "  <tbody>\n",
       "    <tr>\n",
       "      <th>0</th>\n",
       "      <td>10/10/1949 20:30</td>\n",
       "      <td>san marcos</td>\n",
       "      <td>tx</td>\n",
       "      <td>us</td>\n",
       "      <td>cylinder</td>\n",
       "      <td>2700</td>\n",
       "      <td>45 minutes</td>\n",
       "      <td>This event took place in early fall around 194...</td>\n",
       "      <td>4/27/2004</td>\n",
       "      <td>29.8830556</td>\n",
       "      <td>-97.941111</td>\n",
       "    </tr>\n",
       "    <tr>\n",
       "      <th>1</th>\n",
       "      <td>10/10/1949 21:00</td>\n",
       "      <td>lackland afb</td>\n",
       "      <td>tx</td>\n",
       "      <td>NaN</td>\n",
       "      <td>light</td>\n",
       "      <td>7200</td>\n",
       "      <td>1-2 hrs</td>\n",
       "      <td>1949 Lackland AFB&amp;#44 TX.  Lights racing acros...</td>\n",
       "      <td>12/16/2005</td>\n",
       "      <td>29.38421</td>\n",
       "      <td>-98.581082</td>\n",
       "    </tr>\n",
       "    <tr>\n",
       "      <th>2</th>\n",
       "      <td>10/10/1955 17:00</td>\n",
       "      <td>chester (uk/england)</td>\n",
       "      <td>NaN</td>\n",
       "      <td>gb</td>\n",
       "      <td>circle</td>\n",
       "      <td>20</td>\n",
       "      <td>20 seconds</td>\n",
       "      <td>Green/Orange circular disc over Chester&amp;#44 En...</td>\n",
       "      <td>1/21/2008</td>\n",
       "      <td>53.2</td>\n",
       "      <td>-2.916667</td>\n",
       "    </tr>\n",
       "    <tr>\n",
       "      <th>3</th>\n",
       "      <td>10/10/1956 21:00</td>\n",
       "      <td>edna</td>\n",
       "      <td>tx</td>\n",
       "      <td>us</td>\n",
       "      <td>circle</td>\n",
       "      <td>20</td>\n",
       "      <td>1/2 hour</td>\n",
       "      <td>My older brother and twin sister were leaving ...</td>\n",
       "      <td>1/17/2004</td>\n",
       "      <td>28.9783333</td>\n",
       "      <td>-96.645833</td>\n",
       "    </tr>\n",
       "    <tr>\n",
       "      <th>4</th>\n",
       "      <td>10/10/1960 20:00</td>\n",
       "      <td>kaneohe</td>\n",
       "      <td>hi</td>\n",
       "      <td>us</td>\n",
       "      <td>light</td>\n",
       "      <td>900</td>\n",
       "      <td>15 minutes</td>\n",
       "      <td>AS a Marine 1st Lt. flying an FJ4B fighter/att...</td>\n",
       "      <td>1/22/2004</td>\n",
       "      <td>21.4180556</td>\n",
       "      <td>-157.803611</td>\n",
       "    </tr>\n",
       "  </tbody>\n",
       "</table>\n",
       "</div>"
      ],
      "text/plain": [
       "           datetime                  city  ...    latitude  longitude \n",
       "0  10/10/1949 20:30            san marcos  ...  29.8830556  -97.941111\n",
       "1  10/10/1949 21:00          lackland afb  ...    29.38421  -98.581082\n",
       "2  10/10/1955 17:00  chester (uk/england)  ...        53.2   -2.916667\n",
       "3  10/10/1956 21:00                  edna  ...  28.9783333  -96.645833\n",
       "4  10/10/1960 20:00               kaneohe  ...  21.4180556 -157.803611\n",
       "\n",
       "[5 rows x 11 columns]"
      ]
     },
     "execution_count": 86,
     "metadata": {
      "tags": []
     },
     "output_type": "execute_result"
    }
   ],
   "source": [
    "df = pd.read_csv('/content/drive/My Drive/ufo sightings/scrubbed.csv', error_bad_lines=False)\n",
    "df.head()"
   ]
  },
  {
   "cell_type": "code",
   "execution_count": null,
   "metadata": {
    "colab": {
     "base_uri": "https://localhost:8080/"
    },
    "id": "KfS0k4ycUqML",
    "outputId": "3ef19f51-3839-48c6-e63d-2044dfa4fed1"
   },
   "outputs": [
    {
     "name": "stdout",
     "output_type": "stream",
     "text": [
      "(80332, 11)\n"
     ]
    }
   ],
   "source": [
    "print(df.shape)"
   ]
  },
  {
   "cell_type": "markdown",
   "metadata": {
    "id": "7OVpQMWrElp3"
   },
   "source": [
    "**All the columns have 'object' datatype. Rightly so. However, it is surprising to see that \"lattitude\" is object also. Like longitude it must be float.**"
   ]
  },
  {
   "cell_type": "code",
   "execution_count": null,
   "metadata": {
    "colab": {
     "base_uri": "https://localhost:8080/"
    },
    "id": "DNKxpceOUqMs",
    "outputId": "9bb68f83-e075-4c0a-c269-fd1713be65fd"
   },
   "outputs": [
    {
     "name": "stdout",
     "output_type": "stream",
     "text": [
      "<class 'pandas.core.frame.DataFrame'>\n",
      "RangeIndex: 80332 entries, 0 to 80331\n",
      "Data columns (total 11 columns):\n",
      " #   Column                Non-Null Count  Dtype  \n",
      "---  ------                --------------  -----  \n",
      " 0   datetime              80332 non-null  object \n",
      " 1   city                  80332 non-null  object \n",
      " 2   state                 74535 non-null  object \n",
      " 3   country               70662 non-null  object \n",
      " 4   shape                 78400 non-null  object \n",
      " 5   duration (seconds)    80332 non-null  object \n",
      " 6   duration (hours/min)  80332 non-null  object \n",
      " 7   comments              80317 non-null  object \n",
      " 8   date posted           80332 non-null  object \n",
      " 9   latitude              80332 non-null  object \n",
      " 10  longitude             80332 non-null  float64\n",
      "dtypes: float64(1), object(10)\n",
      "memory usage: 6.7+ MB\n"
     ]
    }
   ],
   "source": [
    "df.info()"
   ]
  },
  {
   "cell_type": "markdown",
   "metadata": {
    "id": "znRh-7RnFHTJ"
   },
   "source": [
    "**Quite a few missing values as well.**"
   ]
  },
  {
   "cell_type": "code",
   "execution_count": null,
   "metadata": {
    "colab": {
     "base_uri": "https://localhost:8080/"
    },
    "id": "7ioHcYlsUqM5",
    "outputId": "06df1a0f-bfeb-4000-a54c-a9907535d3c6"
   },
   "outputs": [
    {
     "data": {
      "text/plain": [
       "datetime                   0\n",
       "city                       0\n",
       "state                   5797\n",
       "country                 9670\n",
       "shape                   1932\n",
       "duration (seconds)         0\n",
       "duration (hours/min)       0\n",
       "comments                  15\n",
       "date posted                0\n",
       "latitude                   0\n",
       "longitude                  0\n",
       "dtype: int64"
      ]
     },
     "execution_count": 89,
     "metadata": {
      "tags": []
     },
     "output_type": "execute_result"
    }
   ],
   "source": [
    "df.isnull().sum()"
   ]
  },
  {
   "cell_type": "markdown",
   "metadata": {
    "id": "_H_ojm9jFOXY"
   },
   "source": [
    "**No duplicate records.**"
   ]
  },
  {
   "cell_type": "code",
   "execution_count": null,
   "metadata": {
    "colab": {
     "base_uri": "https://localhost:8080/",
     "height": 49
    },
    "id": "4MMX9E9GUqND",
    "outputId": "859cdc0e-22f7-4665-f160-94078ed2d472"
   },
   "outputs": [
    {
     "data": {
      "text/html": [
       "<div>\n",
       "<style scoped>\n",
       "    .dataframe tbody tr th:only-of-type {\n",
       "        vertical-align: middle;\n",
       "    }\n",
       "\n",
       "    .dataframe tbody tr th {\n",
       "        vertical-align: top;\n",
       "    }\n",
       "\n",
       "    .dataframe thead th {\n",
       "        text-align: right;\n",
       "    }\n",
       "</style>\n",
       "<table border=\"1\" class=\"dataframe\">\n",
       "  <thead>\n",
       "    <tr style=\"text-align: right;\">\n",
       "      <th></th>\n",
       "      <th>datetime</th>\n",
       "      <th>city</th>\n",
       "      <th>state</th>\n",
       "      <th>country</th>\n",
       "      <th>shape</th>\n",
       "      <th>duration (seconds)</th>\n",
       "      <th>duration (hours/min)</th>\n",
       "      <th>comments</th>\n",
       "      <th>date posted</th>\n",
       "      <th>latitude</th>\n",
       "      <th>longitude</th>\n",
       "    </tr>\n",
       "  </thead>\n",
       "  <tbody>\n",
       "  </tbody>\n",
       "</table>\n",
       "</div>"
      ],
      "text/plain": [
       "Empty DataFrame\n",
       "Columns: [datetime, city, state, country, shape, duration (seconds), duration (hours/min), comments, date posted, latitude, longitude ]\n",
       "Index: []"
      ]
     },
     "execution_count": 90,
     "metadata": {
      "tags": []
     },
     "output_type": "execute_result"
    }
   ],
   "source": [
    "df[df.duplicated()]"
   ]
  },
  {
   "cell_type": "markdown",
   "metadata": {
    "id": "A2IQYmEvFZs6"
   },
   "source": [
    "**Lets dig in:**\n",
    "- Most number of occurrings took place on 4th of july, 2010\n",
    "- Most sightings are in U.S, California\n",
    "- Mostly it is ssen for 5 mins\n",
    "- Shape \"light\" is most commonly reported "
   ]
  },
  {
   "cell_type": "code",
   "execution_count": null,
   "metadata": {
    "colab": {
     "base_uri": "https://localhost:8080/",
     "height": 386
    },
    "id": "Z5ng57qSUqNV",
    "outputId": "3698153c-93fa-456c-9ce6-8ebfc163fbaf"
   },
   "outputs": [
    {
     "data": {
      "text/html": [
       "<div>\n",
       "<style scoped>\n",
       "    .dataframe tbody tr th:only-of-type {\n",
       "        vertical-align: middle;\n",
       "    }\n",
       "\n",
       "    .dataframe tbody tr th {\n",
       "        vertical-align: top;\n",
       "    }\n",
       "\n",
       "    .dataframe thead th {\n",
       "        text-align: right;\n",
       "    }\n",
       "</style>\n",
       "<table border=\"1\" class=\"dataframe\">\n",
       "  <thead>\n",
       "    <tr style=\"text-align: right;\">\n",
       "      <th></th>\n",
       "      <th>datetime</th>\n",
       "      <th>city</th>\n",
       "      <th>state</th>\n",
       "      <th>country</th>\n",
       "      <th>shape</th>\n",
       "      <th>duration (seconds)</th>\n",
       "      <th>duration (hours/min)</th>\n",
       "      <th>comments</th>\n",
       "      <th>date posted</th>\n",
       "      <th>latitude</th>\n",
       "      <th>longitude</th>\n",
       "    </tr>\n",
       "  </thead>\n",
       "  <tbody>\n",
       "    <tr>\n",
       "      <th>count</th>\n",
       "      <td>80332</td>\n",
       "      <td>80332</td>\n",
       "      <td>74535</td>\n",
       "      <td>70662</td>\n",
       "      <td>78400</td>\n",
       "      <td>80332</td>\n",
       "      <td>80332</td>\n",
       "      <td>80317</td>\n",
       "      <td>80332</td>\n",
       "      <td>80332</td>\n",
       "      <td>80332.000000</td>\n",
       "    </tr>\n",
       "    <tr>\n",
       "      <th>unique</th>\n",
       "      <td>69586</td>\n",
       "      <td>19900</td>\n",
       "      <td>67</td>\n",
       "      <td>5</td>\n",
       "      <td>29</td>\n",
       "      <td>706</td>\n",
       "      <td>8349</td>\n",
       "      <td>79997</td>\n",
       "      <td>317</td>\n",
       "      <td>23312</td>\n",
       "      <td>NaN</td>\n",
       "    </tr>\n",
       "    <tr>\n",
       "      <th>top</th>\n",
       "      <td>7/4/2010 22:00</td>\n",
       "      <td>seattle</td>\n",
       "      <td>ca</td>\n",
       "      <td>us</td>\n",
       "      <td>light</td>\n",
       "      <td>300</td>\n",
       "      <td>5 minutes</td>\n",
       "      <td>Fireball</td>\n",
       "      <td>12/12/2009</td>\n",
       "      <td>47.6063889</td>\n",
       "      <td>NaN</td>\n",
       "    </tr>\n",
       "    <tr>\n",
       "      <th>freq</th>\n",
       "      <td>36</td>\n",
       "      <td>525</td>\n",
       "      <td>9655</td>\n",
       "      <td>65114</td>\n",
       "      <td>16565</td>\n",
       "      <td>7070</td>\n",
       "      <td>4716</td>\n",
       "      <td>11</td>\n",
       "      <td>1510</td>\n",
       "      <td>481</td>\n",
       "      <td>NaN</td>\n",
       "    </tr>\n",
       "    <tr>\n",
       "      <th>mean</th>\n",
       "      <td>NaN</td>\n",
       "      <td>NaN</td>\n",
       "      <td>NaN</td>\n",
       "      <td>NaN</td>\n",
       "      <td>NaN</td>\n",
       "      <td>NaN</td>\n",
       "      <td>NaN</td>\n",
       "      <td>NaN</td>\n",
       "      <td>NaN</td>\n",
       "      <td>NaN</td>\n",
       "      <td>-86.772885</td>\n",
       "    </tr>\n",
       "    <tr>\n",
       "      <th>std</th>\n",
       "      <td>NaN</td>\n",
       "      <td>NaN</td>\n",
       "      <td>NaN</td>\n",
       "      <td>NaN</td>\n",
       "      <td>NaN</td>\n",
       "      <td>NaN</td>\n",
       "      <td>NaN</td>\n",
       "      <td>NaN</td>\n",
       "      <td>NaN</td>\n",
       "      <td>NaN</td>\n",
       "      <td>39.697205</td>\n",
       "    </tr>\n",
       "    <tr>\n",
       "      <th>min</th>\n",
       "      <td>NaN</td>\n",
       "      <td>NaN</td>\n",
       "      <td>NaN</td>\n",
       "      <td>NaN</td>\n",
       "      <td>NaN</td>\n",
       "      <td>NaN</td>\n",
       "      <td>NaN</td>\n",
       "      <td>NaN</td>\n",
       "      <td>NaN</td>\n",
       "      <td>NaN</td>\n",
       "      <td>-176.658056</td>\n",
       "    </tr>\n",
       "    <tr>\n",
       "      <th>25%</th>\n",
       "      <td>NaN</td>\n",
       "      <td>NaN</td>\n",
       "      <td>NaN</td>\n",
       "      <td>NaN</td>\n",
       "      <td>NaN</td>\n",
       "      <td>NaN</td>\n",
       "      <td>NaN</td>\n",
       "      <td>NaN</td>\n",
       "      <td>NaN</td>\n",
       "      <td>NaN</td>\n",
       "      <td>-112.073333</td>\n",
       "    </tr>\n",
       "    <tr>\n",
       "      <th>50%</th>\n",
       "      <td>NaN</td>\n",
       "      <td>NaN</td>\n",
       "      <td>NaN</td>\n",
       "      <td>NaN</td>\n",
       "      <td>NaN</td>\n",
       "      <td>NaN</td>\n",
       "      <td>NaN</td>\n",
       "      <td>NaN</td>\n",
       "      <td>NaN</td>\n",
       "      <td>NaN</td>\n",
       "      <td>-87.903611</td>\n",
       "    </tr>\n",
       "    <tr>\n",
       "      <th>75%</th>\n",
       "      <td>NaN</td>\n",
       "      <td>NaN</td>\n",
       "      <td>NaN</td>\n",
       "      <td>NaN</td>\n",
       "      <td>NaN</td>\n",
       "      <td>NaN</td>\n",
       "      <td>NaN</td>\n",
       "      <td>NaN</td>\n",
       "      <td>NaN</td>\n",
       "      <td>NaN</td>\n",
       "      <td>-78.755000</td>\n",
       "    </tr>\n",
       "    <tr>\n",
       "      <th>max</th>\n",
       "      <td>NaN</td>\n",
       "      <td>NaN</td>\n",
       "      <td>NaN</td>\n",
       "      <td>NaN</td>\n",
       "      <td>NaN</td>\n",
       "      <td>NaN</td>\n",
       "      <td>NaN</td>\n",
       "      <td>NaN</td>\n",
       "      <td>NaN</td>\n",
       "      <td>NaN</td>\n",
       "      <td>178.441900</td>\n",
       "    </tr>\n",
       "  </tbody>\n",
       "</table>\n",
       "</div>"
      ],
      "text/plain": [
       "              datetime     city  state  ... date posted    latitude    longitude \n",
       "count            80332    80332  74535  ...       80332       80332  80332.000000\n",
       "unique           69586    19900     67  ...         317       23312           NaN\n",
       "top     7/4/2010 22:00  seattle     ca  ...  12/12/2009  47.6063889           NaN\n",
       "freq                36      525   9655  ...        1510         481           NaN\n",
       "mean               NaN      NaN    NaN  ...         NaN         NaN    -86.772885\n",
       "std                NaN      NaN    NaN  ...         NaN         NaN     39.697205\n",
       "min                NaN      NaN    NaN  ...         NaN         NaN   -176.658056\n",
       "25%                NaN      NaN    NaN  ...         NaN         NaN   -112.073333\n",
       "50%                NaN      NaN    NaN  ...         NaN         NaN    -87.903611\n",
       "75%                NaN      NaN    NaN  ...         NaN         NaN    -78.755000\n",
       "max                NaN      NaN    NaN  ...         NaN         NaN    178.441900\n",
       "\n",
       "[11 rows x 11 columns]"
      ]
     },
     "execution_count": 91,
     "metadata": {
      "tags": []
     },
     "output_type": "execute_result"
    }
   ],
   "source": [
    "df.describe(include=\"all\")"
   ]
  },
  {
   "cell_type": "markdown",
   "metadata": {
    "id": "OJIeMki7F1So"
   },
   "source": [
    "**Dropping duration (hours/min) since we have duration in seconds and it has only two null values. Also dropping comments.**"
   ]
  },
  {
   "cell_type": "code",
   "execution_count": null,
   "metadata": {
    "id": "0IwrN0nVmiNf"
   },
   "outputs": [],
   "source": [
    "df.drop([\"duration (hours/min)\",\"comments\"],axis=1,inplace=True)"
   ]
  },
  {
   "cell_type": "markdown",
   "metadata": {
    "id": "0v6-19gxGBjj"
   },
   "source": [
    "**On investigating the data. It was found that some values are are \"?\" and \"??\". We'll replace them with NaNs.**"
   ]
  },
  {
   "cell_type": "code",
   "execution_count": null,
   "metadata": {
    "colab": {
     "base_uri": "https://localhost:8080/"
    },
    "id": "aSl14UpAhUp2",
    "outputId": "21651fac-a8be-4203-8cbf-9d312026aec8"
   },
   "outputs": [
    {
     "name": "stdout",
     "output_type": "stream",
     "text": [
      "looking for ?\n",
      "datetime : 0\n",
      "city : 1\n",
      "state : 0\n",
      "country : 0\n",
      "shape : 0\n",
      "duration (seconds) : 0\n",
      "date posted : 0\n",
      "latitude : 0\n",
      "longitude  : 0\n",
      "###############################\n",
      "\n",
      "looking for ??\n",
      "datetime : 0\n",
      "city : 2\n",
      "state : 0\n",
      "country : 0\n",
      "shape : 0\n",
      "duration (seconds) : 0\n",
      "date posted : 0\n",
      "latitude : 0\n",
      "longitude  : 0\n"
     ]
    }
   ],
   "source": [
    "print(\"looking for ?\")\n",
    "for cols in df.columns:\n",
    "  print(cols,\":\",sum(df[cols]=='?'))\n",
    "\n",
    "print(\"###############################\")\n",
    "\n",
    "print(\"\\nlooking for ??\")\n",
    "for cols in df.columns:\n",
    "  print(cols,\":\",sum(df[cols]=='??'))"
   ]
  },
  {
   "cell_type": "code",
   "execution_count": null,
   "metadata": {
    "id": "disiFjyIhU69"
   },
   "outputs": [],
   "source": [
    "df.replace('?', np.nan, inplace=True)\n",
    "df.replace('??', np.nan, inplace=True)"
   ]
  },
  {
   "cell_type": "markdown",
   "metadata": {
    "id": "emjPc1HJGYhi"
   },
   "source": [
    "**Checking Null values again:**"
   ]
  },
  {
   "cell_type": "code",
   "execution_count": null,
   "metadata": {
    "colab": {
     "base_uri": "https://localhost:8080/"
    },
    "id": "synpm3p-hVB7",
    "outputId": "425309bb-2f58-4fe8-b90f-c1f12df8d74f"
   },
   "outputs": [
    {
     "data": {
      "text/plain": [
       "datetime                 0\n",
       "city                     3\n",
       "state                 5797\n",
       "country               9670\n",
       "shape                 1932\n",
       "duration (seconds)       0\n",
       "date posted              0\n",
       "latitude                 0\n",
       "longitude                0\n",
       "dtype: int64"
      ]
     },
     "execution_count": 95,
     "metadata": {
      "tags": []
     },
     "output_type": "execute_result"
    }
   ],
   "source": [
    "df.isnull().sum()"
   ]
  },
  {
   "cell_type": "markdown",
   "metadata": {
    "id": "CtX7w0lmGekx"
   },
   "source": [
    "**Making index as id column. May help in identifying records later.**\n"
   ]
  },
  {
   "cell_type": "code",
   "execution_count": null,
   "metadata": {
    "colab": {
     "base_uri": "https://localhost:8080/",
     "height": 202
    },
    "id": "I_Dgk9sYtKlX",
    "outputId": "06b1e7e1-eac1-4609-a11c-512b5993d7c3"
   },
   "outputs": [
    {
     "data": {
      "text/html": [
       "<div>\n",
       "<style scoped>\n",
       "    .dataframe tbody tr th:only-of-type {\n",
       "        vertical-align: middle;\n",
       "    }\n",
       "\n",
       "    .dataframe tbody tr th {\n",
       "        vertical-align: top;\n",
       "    }\n",
       "\n",
       "    .dataframe thead th {\n",
       "        text-align: right;\n",
       "    }\n",
       "</style>\n",
       "<table border=\"1\" class=\"dataframe\">\n",
       "  <thead>\n",
       "    <tr style=\"text-align: right;\">\n",
       "      <th></th>\n",
       "      <th>id</th>\n",
       "      <th>datetime</th>\n",
       "      <th>city</th>\n",
       "      <th>state</th>\n",
       "      <th>country</th>\n",
       "      <th>shape</th>\n",
       "      <th>duration (seconds)</th>\n",
       "      <th>date posted</th>\n",
       "      <th>latitude</th>\n",
       "      <th>longitude</th>\n",
       "    </tr>\n",
       "  </thead>\n",
       "  <tbody>\n",
       "    <tr>\n",
       "      <th>0</th>\n",
       "      <td>0</td>\n",
       "      <td>10/10/1949 20:30</td>\n",
       "      <td>san marcos</td>\n",
       "      <td>tx</td>\n",
       "      <td>us</td>\n",
       "      <td>cylinder</td>\n",
       "      <td>2700</td>\n",
       "      <td>4/27/2004</td>\n",
       "      <td>29.8830556</td>\n",
       "      <td>-97.941111</td>\n",
       "    </tr>\n",
       "    <tr>\n",
       "      <th>1</th>\n",
       "      <td>1</td>\n",
       "      <td>10/10/1949 21:00</td>\n",
       "      <td>lackland afb</td>\n",
       "      <td>tx</td>\n",
       "      <td>NaN</td>\n",
       "      <td>light</td>\n",
       "      <td>7200</td>\n",
       "      <td>12/16/2005</td>\n",
       "      <td>29.38421</td>\n",
       "      <td>-98.581082</td>\n",
       "    </tr>\n",
       "    <tr>\n",
       "      <th>2</th>\n",
       "      <td>2</td>\n",
       "      <td>10/10/1955 17:00</td>\n",
       "      <td>chester (uk/england)</td>\n",
       "      <td>NaN</td>\n",
       "      <td>gb</td>\n",
       "      <td>circle</td>\n",
       "      <td>20</td>\n",
       "      <td>1/21/2008</td>\n",
       "      <td>53.2</td>\n",
       "      <td>-2.916667</td>\n",
       "    </tr>\n",
       "    <tr>\n",
       "      <th>3</th>\n",
       "      <td>3</td>\n",
       "      <td>10/10/1956 21:00</td>\n",
       "      <td>edna</td>\n",
       "      <td>tx</td>\n",
       "      <td>us</td>\n",
       "      <td>circle</td>\n",
       "      <td>20</td>\n",
       "      <td>1/17/2004</td>\n",
       "      <td>28.9783333</td>\n",
       "      <td>-96.645833</td>\n",
       "    </tr>\n",
       "    <tr>\n",
       "      <th>4</th>\n",
       "      <td>4</td>\n",
       "      <td>10/10/1960 20:00</td>\n",
       "      <td>kaneohe</td>\n",
       "      <td>hi</td>\n",
       "      <td>us</td>\n",
       "      <td>light</td>\n",
       "      <td>900</td>\n",
       "      <td>1/22/2004</td>\n",
       "      <td>21.4180556</td>\n",
       "      <td>-157.803611</td>\n",
       "    </tr>\n",
       "  </tbody>\n",
       "</table>\n",
       "</div>"
      ],
      "text/plain": [
       "   id          datetime  ...    latitude  longitude \n",
       "0   0  10/10/1949 20:30  ...  29.8830556  -97.941111\n",
       "1   1  10/10/1949 21:00  ...    29.38421  -98.581082\n",
       "2   2  10/10/1955 17:00  ...        53.2   -2.916667\n",
       "3   3  10/10/1956 21:00  ...  28.9783333  -96.645833\n",
       "4   4  10/10/1960 20:00  ...  21.4180556 -157.803611\n",
       "\n",
       "[5 rows x 10 columns]"
      ]
     },
     "execution_count": 96,
     "metadata": {
      "tags": []
     },
     "output_type": "execute_result"
    }
   ],
   "source": [
    "df = df.reset_index()\n",
    "df.rename(columns={\"index\":\"id\"},inplace=True)\n",
    "df.head()"
   ]
  },
  {
   "cell_type": "markdown",
   "metadata": {
    "id": "GMC8SITLHSuO"
   },
   "source": [
    "# lets see the columns in detail<br>\n",
    "- Processing datatime column\n",
    "- This is the time of sighting\n",
    "- We will convert time acc to 12hr clock and also create the following bins >> morning(6-12), afternoon(12-18), evening/night(18-24), midnight(0-6)\n",
    "<br><br>\n",
    "\n",
    "**Categorising to midnight, morning, afternoon and evening/night:**"
   ]
  },
  {
   "cell_type": "code",
   "execution_count": null,
   "metadata": {
    "id": "e26Y4IRePNE0"
   },
   "outputs": [],
   "source": [
    "def process_timeofday(x):\n",
    "    tim = x.split()[1]\n",
    "    twenty4hr = tim.split(\":\")[0]\n",
    "    if((int(twenty4hr)>=0) and (int(twenty4hr)<=6)):\n",
    "      return \"midnight\"\n",
    "    if(int(twenty4hr)==24):\n",
    "      return \"midnight\"\n",
    "    elif((int(twenty4hr)>6) and (int(twenty4hr)<=12)):\n",
    "      return \"morning\"\n",
    "    elif((int(twenty4hr)>12) and (int(twenty4hr)<=18)):\n",
    "      return \"afternoon\"\n",
    "    elif((int(twenty4hr)>18) and (int(twenty4hr)<=23)):\n",
    "      return \"evening/night\""
   ]
  },
  {
   "cell_type": "code",
   "execution_count": null,
   "metadata": {
    "colab": {
     "base_uri": "https://localhost:8080/",
     "height": 202
    },
    "id": "_oWwDKUqPNCc",
    "outputId": "37d51649-7360-49ae-80df-7b9a8c6c7c5f"
   },
   "outputs": [
    {
     "data": {
      "text/html": [
       "<div>\n",
       "<style scoped>\n",
       "    .dataframe tbody tr th:only-of-type {\n",
       "        vertical-align: middle;\n",
       "    }\n",
       "\n",
       "    .dataframe tbody tr th {\n",
       "        vertical-align: top;\n",
       "    }\n",
       "\n",
       "    .dataframe thead th {\n",
       "        text-align: right;\n",
       "    }\n",
       "</style>\n",
       "<table border=\"1\" class=\"dataframe\">\n",
       "  <thead>\n",
       "    <tr style=\"text-align: right;\">\n",
       "      <th></th>\n",
       "      <th>id</th>\n",
       "      <th>datetime</th>\n",
       "      <th>city</th>\n",
       "      <th>state</th>\n",
       "      <th>country</th>\n",
       "      <th>shape</th>\n",
       "      <th>duration (seconds)</th>\n",
       "      <th>date posted</th>\n",
       "      <th>latitude</th>\n",
       "      <th>longitude</th>\n",
       "      <th>time_of_day</th>\n",
       "    </tr>\n",
       "  </thead>\n",
       "  <tbody>\n",
       "    <tr>\n",
       "      <th>0</th>\n",
       "      <td>0</td>\n",
       "      <td>10/10/1949 20:30</td>\n",
       "      <td>san marcos</td>\n",
       "      <td>tx</td>\n",
       "      <td>us</td>\n",
       "      <td>cylinder</td>\n",
       "      <td>2700</td>\n",
       "      <td>4/27/2004</td>\n",
       "      <td>29.8830556</td>\n",
       "      <td>-97.941111</td>\n",
       "      <td>evening/night</td>\n",
       "    </tr>\n",
       "    <tr>\n",
       "      <th>1</th>\n",
       "      <td>1</td>\n",
       "      <td>10/10/1949 21:00</td>\n",
       "      <td>lackland afb</td>\n",
       "      <td>tx</td>\n",
       "      <td>NaN</td>\n",
       "      <td>light</td>\n",
       "      <td>7200</td>\n",
       "      <td>12/16/2005</td>\n",
       "      <td>29.38421</td>\n",
       "      <td>-98.581082</td>\n",
       "      <td>evening/night</td>\n",
       "    </tr>\n",
       "    <tr>\n",
       "      <th>2</th>\n",
       "      <td>2</td>\n",
       "      <td>10/10/1955 17:00</td>\n",
       "      <td>chester (uk/england)</td>\n",
       "      <td>NaN</td>\n",
       "      <td>gb</td>\n",
       "      <td>circle</td>\n",
       "      <td>20</td>\n",
       "      <td>1/21/2008</td>\n",
       "      <td>53.2</td>\n",
       "      <td>-2.916667</td>\n",
       "      <td>afternoon</td>\n",
       "    </tr>\n",
       "    <tr>\n",
       "      <th>3</th>\n",
       "      <td>3</td>\n",
       "      <td>10/10/1956 21:00</td>\n",
       "      <td>edna</td>\n",
       "      <td>tx</td>\n",
       "      <td>us</td>\n",
       "      <td>circle</td>\n",
       "      <td>20</td>\n",
       "      <td>1/17/2004</td>\n",
       "      <td>28.9783333</td>\n",
       "      <td>-96.645833</td>\n",
       "      <td>evening/night</td>\n",
       "    </tr>\n",
       "    <tr>\n",
       "      <th>4</th>\n",
       "      <td>4</td>\n",
       "      <td>10/10/1960 20:00</td>\n",
       "      <td>kaneohe</td>\n",
       "      <td>hi</td>\n",
       "      <td>us</td>\n",
       "      <td>light</td>\n",
       "      <td>900</td>\n",
       "      <td>1/22/2004</td>\n",
       "      <td>21.4180556</td>\n",
       "      <td>-157.803611</td>\n",
       "      <td>evening/night</td>\n",
       "    </tr>\n",
       "  </tbody>\n",
       "</table>\n",
       "</div>"
      ],
      "text/plain": [
       "   id          datetime  ...  longitude     time_of_day\n",
       "0   0  10/10/1949 20:30  ...  -97.941111  evening/night\n",
       "1   1  10/10/1949 21:00  ...  -98.581082  evening/night\n",
       "2   2  10/10/1955 17:00  ...   -2.916667      afternoon\n",
       "3   3  10/10/1956 21:00  ...  -96.645833  evening/night\n",
       "4   4  10/10/1960 20:00  ... -157.803611  evening/night\n",
       "\n",
       "[5 rows x 11 columns]"
      ]
     },
     "execution_count": 98,
     "metadata": {
      "tags": []
     },
     "output_type": "execute_result"
    }
   ],
   "source": [
    "df[\"time_of_day\"] = df[\"datetime\"].apply(process_timeofday)\n",
    "df.head()"
   ]
  },
  {
   "cell_type": "markdown",
   "metadata": {
    "id": "4a4aLWD-Iu-z"
   },
   "source": [
    "**Converting 24hr format to 12 hr format:**"
   ]
  },
  {
   "cell_type": "code",
   "execution_count": null,
   "metadata": {
    "id": "1pdWJRgAUqNn"
   },
   "outputs": [],
   "source": [
    "def process_time(x):\n",
    "    tim = x.split()[1]\n",
    "    twenty4hr = tim.split(\":\")[0]\n",
    "    mins = tim.split(\":\")[1]\n",
    "    \n",
    "    if((int(twenty4hr)>0) and (int(twenty4hr)<12)):\n",
    "        return tim+\" am\"\n",
    "    elif((int(twenty4hr)==0) or (int(twenty4hr)==24)):\n",
    "        return \"12:\"+str(mins)+\" am\"\n",
    "    elif((int(twenty4hr)>12) and (int(twenty4hr)<=23)):\n",
    "        t = int(twenty4hr)-12\n",
    "        return str(t)+\":\"+str(mins)+\" pm\"\n",
    "    elif(int(twenty4hr)==12):\n",
    "        return \"12:\"+str(mins)+\" pm\""
   ]
  },
  {
   "cell_type": "code",
   "execution_count": null,
   "metadata": {
    "id": "5sSZ_LijUqNu"
   },
   "outputs": [],
   "source": [
    "df[\"time\"] = df[\"datetime\"].apply(process_time)\n",
    "df['am/pm'] = [x.split()[1] for x in df['time']]\n",
    "df['hr'] = [x.split()[0].split(\":\")[0] for x in df['time']]\n",
    "df['min'] = [x.split()[0].split(\":\")[1] for x in df['time']]"
   ]
  },
  {
   "cell_type": "code",
   "execution_count": null,
   "metadata": {
    "colab": {
     "base_uri": "https://localhost:8080/",
     "height": 306
    },
    "id": "EMN63ghNUqNx",
    "outputId": "41df9a09-6a4f-424e-f11e-f47e50e39314"
   },
   "outputs": [
    {
     "data": {
      "text/html": [
       "<div>\n",
       "<style scoped>\n",
       "    .dataframe tbody tr th:only-of-type {\n",
       "        vertical-align: middle;\n",
       "    }\n",
       "\n",
       "    .dataframe tbody tr th {\n",
       "        vertical-align: top;\n",
       "    }\n",
       "\n",
       "    .dataframe thead th {\n",
       "        text-align: right;\n",
       "    }\n",
       "</style>\n",
       "<table border=\"1\" class=\"dataframe\">\n",
       "  <thead>\n",
       "    <tr style=\"text-align: right;\">\n",
       "      <th></th>\n",
       "      <th>id</th>\n",
       "      <th>datetime</th>\n",
       "      <th>city</th>\n",
       "      <th>state</th>\n",
       "      <th>country</th>\n",
       "      <th>shape</th>\n",
       "      <th>duration (seconds)</th>\n",
       "      <th>date posted</th>\n",
       "      <th>latitude</th>\n",
       "      <th>longitude</th>\n",
       "      <th>time_of_day</th>\n",
       "      <th>time</th>\n",
       "      <th>am/pm</th>\n",
       "      <th>hr</th>\n",
       "      <th>min</th>\n",
       "    </tr>\n",
       "  </thead>\n",
       "  <tbody>\n",
       "    <tr>\n",
       "      <th>0</th>\n",
       "      <td>0</td>\n",
       "      <td>10/10/1949 20:30</td>\n",
       "      <td>san marcos</td>\n",
       "      <td>tx</td>\n",
       "      <td>us</td>\n",
       "      <td>cylinder</td>\n",
       "      <td>2700</td>\n",
       "      <td>4/27/2004</td>\n",
       "      <td>29.8830556</td>\n",
       "      <td>-97.941111</td>\n",
       "      <td>evening/night</td>\n",
       "      <td>8:30 pm</td>\n",
       "      <td>pm</td>\n",
       "      <td>8</td>\n",
       "      <td>30</td>\n",
       "    </tr>\n",
       "    <tr>\n",
       "      <th>1</th>\n",
       "      <td>1</td>\n",
       "      <td>10/10/1949 21:00</td>\n",
       "      <td>lackland afb</td>\n",
       "      <td>tx</td>\n",
       "      <td>NaN</td>\n",
       "      <td>light</td>\n",
       "      <td>7200</td>\n",
       "      <td>12/16/2005</td>\n",
       "      <td>29.38421</td>\n",
       "      <td>-98.581082</td>\n",
       "      <td>evening/night</td>\n",
       "      <td>9:00 pm</td>\n",
       "      <td>pm</td>\n",
       "      <td>9</td>\n",
       "      <td>00</td>\n",
       "    </tr>\n",
       "    <tr>\n",
       "      <th>2</th>\n",
       "      <td>2</td>\n",
       "      <td>10/10/1955 17:00</td>\n",
       "      <td>chester (uk/england)</td>\n",
       "      <td>NaN</td>\n",
       "      <td>gb</td>\n",
       "      <td>circle</td>\n",
       "      <td>20</td>\n",
       "      <td>1/21/2008</td>\n",
       "      <td>53.2</td>\n",
       "      <td>-2.916667</td>\n",
       "      <td>afternoon</td>\n",
       "      <td>5:00 pm</td>\n",
       "      <td>pm</td>\n",
       "      <td>5</td>\n",
       "      <td>00</td>\n",
       "    </tr>\n",
       "    <tr>\n",
       "      <th>3</th>\n",
       "      <td>3</td>\n",
       "      <td>10/10/1956 21:00</td>\n",
       "      <td>edna</td>\n",
       "      <td>tx</td>\n",
       "      <td>us</td>\n",
       "      <td>circle</td>\n",
       "      <td>20</td>\n",
       "      <td>1/17/2004</td>\n",
       "      <td>28.9783333</td>\n",
       "      <td>-96.645833</td>\n",
       "      <td>evening/night</td>\n",
       "      <td>9:00 pm</td>\n",
       "      <td>pm</td>\n",
       "      <td>9</td>\n",
       "      <td>00</td>\n",
       "    </tr>\n",
       "    <tr>\n",
       "      <th>4</th>\n",
       "      <td>4</td>\n",
       "      <td>10/10/1960 20:00</td>\n",
       "      <td>kaneohe</td>\n",
       "      <td>hi</td>\n",
       "      <td>us</td>\n",
       "      <td>light</td>\n",
       "      <td>900</td>\n",
       "      <td>1/22/2004</td>\n",
       "      <td>21.4180556</td>\n",
       "      <td>-157.803611</td>\n",
       "      <td>evening/night</td>\n",
       "      <td>8:00 pm</td>\n",
       "      <td>pm</td>\n",
       "      <td>8</td>\n",
       "      <td>00</td>\n",
       "    </tr>\n",
       "  </tbody>\n",
       "</table>\n",
       "</div>"
      ],
      "text/plain": [
       "   id          datetime                  city state  ...     time am/pm hr min\n",
       "0   0  10/10/1949 20:30            san marcos    tx  ...  8:30 pm    pm  8  30\n",
       "1   1  10/10/1949 21:00          lackland afb    tx  ...  9:00 pm    pm  9  00\n",
       "2   2  10/10/1955 17:00  chester (uk/england)   NaN  ...  5:00 pm    pm  5  00\n",
       "3   3  10/10/1956 21:00                  edna    tx  ...  9:00 pm    pm  9  00\n",
       "4   4  10/10/1960 20:00               kaneohe    hi  ...  8:00 pm    pm  8  00\n",
       "\n",
       "[5 rows x 15 columns]"
      ]
     },
     "execution_count": 101,
     "metadata": {
      "tags": []
     },
     "output_type": "execute_result"
    }
   ],
   "source": [
    "df.head()"
   ]
  },
  {
   "cell_type": "code",
   "execution_count": null,
   "metadata": {
    "id": "aTQYce-wUqN0"
   },
   "outputs": [],
   "source": [
    "df.drop(\"time\",axis=1,inplace=True)"
   ]
  },
  {
   "cell_type": "markdown",
   "metadata": {
    "id": "WSqvc3s1JCs-"
   },
   "source": [
    "**Also lets make some features from the date column. We can make 4 columns from date: Year, Date, Month, Dayofweek**<br>isoweekday() function starts from monday=1 while weekday() starts from monday=0.<br>So we will use isoweekday(), hence mon = 1, tues = 2, .... , sun = 7"
   ]
  },
  {
   "cell_type": "code",
   "execution_count": null,
   "metadata": {
    "id": "6PZoQWesUqN-"
   },
   "outputs": [],
   "source": [
    " df[\"year\"] = df[\"datetime\"].apply(lambda x: datetime.datetime.strptime(x.split()[0], \"%m/%d/%Y\").date().year)\n",
    "df[\"date\"] = df[\"datetime\"].apply(lambda x: datetime.datetime.strptime(x.split()[0], \"%m/%d/%Y\").date().day)\n",
    "df[\"month\"] = df[\"datetime\"].apply(lambda x: datetime.datetime.strptime(x.split()[0], \"%m/%d/%Y\").date().month)\n",
    "df[\"dayofweek\"] = df[\"datetime\"].apply(lambda x: datetime.datetime.strptime(x.split()[0], \"%m/%d/%Y\").date().isoweekday()) \n",
    "\n",
    "#from date time column we will only keep the date part. We have already converted time to 12 hr clock\n",
    "df[\"datetime\"] = df[\"datetime\"].apply(lambda x: x.split()[0])"
   ]
  },
  {
   "cell_type": "code",
   "execution_count": null,
   "metadata": {
    "colab": {
     "base_uri": "https://localhost:8080/",
     "height": 257
    },
    "id": "Bwwp_xWgUqOE",
    "outputId": "0d32cbd9-fcd6-45ce-fd45-7a390d991f3d"
   },
   "outputs": [
    {
     "data": {
      "text/html": [
       "<div>\n",
       "<style scoped>\n",
       "    .dataframe tbody tr th:only-of-type {\n",
       "        vertical-align: middle;\n",
       "    }\n",
       "\n",
       "    .dataframe tbody tr th {\n",
       "        vertical-align: top;\n",
       "    }\n",
       "\n",
       "    .dataframe thead th {\n",
       "        text-align: right;\n",
       "    }\n",
       "</style>\n",
       "<table border=\"1\" class=\"dataframe\">\n",
       "  <thead>\n",
       "    <tr style=\"text-align: right;\">\n",
       "      <th></th>\n",
       "      <th>id</th>\n",
       "      <th>datetime</th>\n",
       "      <th>city</th>\n",
       "      <th>state</th>\n",
       "      <th>country</th>\n",
       "      <th>shape</th>\n",
       "      <th>duration (seconds)</th>\n",
       "      <th>date posted</th>\n",
       "      <th>latitude</th>\n",
       "      <th>longitude</th>\n",
       "      <th>time_of_day</th>\n",
       "      <th>am/pm</th>\n",
       "      <th>hr</th>\n",
       "      <th>min</th>\n",
       "      <th>year</th>\n",
       "      <th>date</th>\n",
       "      <th>month</th>\n",
       "      <th>dayofweek</th>\n",
       "    </tr>\n",
       "  </thead>\n",
       "  <tbody>\n",
       "    <tr>\n",
       "      <th>0</th>\n",
       "      <td>0</td>\n",
       "      <td>10/10/1949</td>\n",
       "      <td>san marcos</td>\n",
       "      <td>tx</td>\n",
       "      <td>us</td>\n",
       "      <td>cylinder</td>\n",
       "      <td>2700</td>\n",
       "      <td>4/27/2004</td>\n",
       "      <td>29.8830556</td>\n",
       "      <td>-97.941111</td>\n",
       "      <td>evening/night</td>\n",
       "      <td>pm</td>\n",
       "      <td>8</td>\n",
       "      <td>30</td>\n",
       "      <td>1949</td>\n",
       "      <td>10</td>\n",
       "      <td>10</td>\n",
       "      <td>1</td>\n",
       "    </tr>\n",
       "    <tr>\n",
       "      <th>1</th>\n",
       "      <td>1</td>\n",
       "      <td>10/10/1949</td>\n",
       "      <td>lackland afb</td>\n",
       "      <td>tx</td>\n",
       "      <td>NaN</td>\n",
       "      <td>light</td>\n",
       "      <td>7200</td>\n",
       "      <td>12/16/2005</td>\n",
       "      <td>29.38421</td>\n",
       "      <td>-98.581082</td>\n",
       "      <td>evening/night</td>\n",
       "      <td>pm</td>\n",
       "      <td>9</td>\n",
       "      <td>00</td>\n",
       "      <td>1949</td>\n",
       "      <td>10</td>\n",
       "      <td>10</td>\n",
       "      <td>1</td>\n",
       "    </tr>\n",
       "    <tr>\n",
       "      <th>2</th>\n",
       "      <td>2</td>\n",
       "      <td>10/10/1955</td>\n",
       "      <td>chester (uk/england)</td>\n",
       "      <td>NaN</td>\n",
       "      <td>gb</td>\n",
       "      <td>circle</td>\n",
       "      <td>20</td>\n",
       "      <td>1/21/2008</td>\n",
       "      <td>53.2</td>\n",
       "      <td>-2.916667</td>\n",
       "      <td>afternoon</td>\n",
       "      <td>pm</td>\n",
       "      <td>5</td>\n",
       "      <td>00</td>\n",
       "      <td>1955</td>\n",
       "      <td>10</td>\n",
       "      <td>10</td>\n",
       "      <td>1</td>\n",
       "    </tr>\n",
       "    <tr>\n",
       "      <th>3</th>\n",
       "      <td>3</td>\n",
       "      <td>10/10/1956</td>\n",
       "      <td>edna</td>\n",
       "      <td>tx</td>\n",
       "      <td>us</td>\n",
       "      <td>circle</td>\n",
       "      <td>20</td>\n",
       "      <td>1/17/2004</td>\n",
       "      <td>28.9783333</td>\n",
       "      <td>-96.645833</td>\n",
       "      <td>evening/night</td>\n",
       "      <td>pm</td>\n",
       "      <td>9</td>\n",
       "      <td>00</td>\n",
       "      <td>1956</td>\n",
       "      <td>10</td>\n",
       "      <td>10</td>\n",
       "      <td>3</td>\n",
       "    </tr>\n",
       "    <tr>\n",
       "      <th>4</th>\n",
       "      <td>4</td>\n",
       "      <td>10/10/1960</td>\n",
       "      <td>kaneohe</td>\n",
       "      <td>hi</td>\n",
       "      <td>us</td>\n",
       "      <td>light</td>\n",
       "      <td>900</td>\n",
       "      <td>1/22/2004</td>\n",
       "      <td>21.4180556</td>\n",
       "      <td>-157.803611</td>\n",
       "      <td>evening/night</td>\n",
       "      <td>pm</td>\n",
       "      <td>8</td>\n",
       "      <td>00</td>\n",
       "      <td>1960</td>\n",
       "      <td>10</td>\n",
       "      <td>10</td>\n",
       "      <td>1</td>\n",
       "    </tr>\n",
       "  </tbody>\n",
       "</table>\n",
       "</div>"
      ],
      "text/plain": [
       "   id    datetime                  city state  ...  year date month dayofweek\n",
       "0   0  10/10/1949            san marcos    tx  ...  1949   10    10         1\n",
       "1   1  10/10/1949          lackland afb    tx  ...  1949   10    10         1\n",
       "2   2  10/10/1955  chester (uk/england)   NaN  ...  1955   10    10         1\n",
       "3   3  10/10/1956                  edna    tx  ...  1956   10    10         3\n",
       "4   4  10/10/1960               kaneohe    hi  ...  1960   10    10         1\n",
       "\n",
       "[5 rows x 18 columns]"
      ]
     },
     "execution_count": 104,
     "metadata": {
      "tags": []
     },
     "output_type": "execute_result"
    }
   ],
   "source": [
    "df.head()"
   ]
  },
  {
   "cell_type": "markdown",
   "metadata": {
    "id": "NgPR_yTCUqOW"
   },
   "source": [
    "**Note that: we have 2 different dates. One date is the date of sighting and the other date is the date it was reported to the authorities. Using this information we can make another feature i.e difference in time of sighting and reporting (in days). Lets call this feature \"reported after\" i.e \"reported after how many days?\"** "
   ]
  },
  {
   "cell_type": "code",
   "execution_count": null,
   "metadata": {
    "id": "5LNPaIAgUqOa"
   },
   "outputs": [],
   "source": [
    "df[\"reported after (days)\"] = [abs(datetime.datetime.strptime(i, \"%m/%d/%Y\").date()-datetime.datetime.strptime(j, \"%m/%d/%Y\").date()).days for i,j in zip(df[\"datetime\"],df[\"date posted\"])]"
   ]
  },
  {
   "cell_type": "code",
   "execution_count": null,
   "metadata": {
    "colab": {
     "base_uri": "https://localhost:8080/",
     "height": 274
    },
    "id": "PrwT-cSlUqOe",
    "outputId": "a7e5eef2-751e-4a98-9e35-8bc265d664e7"
   },
   "outputs": [
    {
     "data": {
      "text/html": [
       "<div>\n",
       "<style scoped>\n",
       "    .dataframe tbody tr th:only-of-type {\n",
       "        vertical-align: middle;\n",
       "    }\n",
       "\n",
       "    .dataframe tbody tr th {\n",
       "        vertical-align: top;\n",
       "    }\n",
       "\n",
       "    .dataframe thead th {\n",
       "        text-align: right;\n",
       "    }\n",
       "</style>\n",
       "<table border=\"1\" class=\"dataframe\">\n",
       "  <thead>\n",
       "    <tr style=\"text-align: right;\">\n",
       "      <th></th>\n",
       "      <th>id</th>\n",
       "      <th>datetime</th>\n",
       "      <th>city</th>\n",
       "      <th>state</th>\n",
       "      <th>country</th>\n",
       "      <th>shape</th>\n",
       "      <th>duration (seconds)</th>\n",
       "      <th>date posted</th>\n",
       "      <th>latitude</th>\n",
       "      <th>longitude</th>\n",
       "      <th>time_of_day</th>\n",
       "      <th>am/pm</th>\n",
       "      <th>hr</th>\n",
       "      <th>min</th>\n",
       "      <th>year</th>\n",
       "      <th>date</th>\n",
       "      <th>month</th>\n",
       "      <th>dayofweek</th>\n",
       "      <th>reported after (days)</th>\n",
       "    </tr>\n",
       "  </thead>\n",
       "  <tbody>\n",
       "    <tr>\n",
       "      <th>0</th>\n",
       "      <td>0</td>\n",
       "      <td>10/10/1949</td>\n",
       "      <td>san marcos</td>\n",
       "      <td>tx</td>\n",
       "      <td>us</td>\n",
       "      <td>cylinder</td>\n",
       "      <td>2700</td>\n",
       "      <td>4/27/2004</td>\n",
       "      <td>29.8830556</td>\n",
       "      <td>-97.941111</td>\n",
       "      <td>evening/night</td>\n",
       "      <td>pm</td>\n",
       "      <td>8</td>\n",
       "      <td>30</td>\n",
       "      <td>1949</td>\n",
       "      <td>10</td>\n",
       "      <td>10</td>\n",
       "      <td>1</td>\n",
       "      <td>19923</td>\n",
       "    </tr>\n",
       "    <tr>\n",
       "      <th>1</th>\n",
       "      <td>1</td>\n",
       "      <td>10/10/1949</td>\n",
       "      <td>lackland afb</td>\n",
       "      <td>tx</td>\n",
       "      <td>NaN</td>\n",
       "      <td>light</td>\n",
       "      <td>7200</td>\n",
       "      <td>12/16/2005</td>\n",
       "      <td>29.38421</td>\n",
       "      <td>-98.581082</td>\n",
       "      <td>evening/night</td>\n",
       "      <td>pm</td>\n",
       "      <td>9</td>\n",
       "      <td>00</td>\n",
       "      <td>1949</td>\n",
       "      <td>10</td>\n",
       "      <td>10</td>\n",
       "      <td>1</td>\n",
       "      <td>20521</td>\n",
       "    </tr>\n",
       "    <tr>\n",
       "      <th>2</th>\n",
       "      <td>2</td>\n",
       "      <td>10/10/1955</td>\n",
       "      <td>chester (uk/england)</td>\n",
       "      <td>NaN</td>\n",
       "      <td>gb</td>\n",
       "      <td>circle</td>\n",
       "      <td>20</td>\n",
       "      <td>1/21/2008</td>\n",
       "      <td>53.2</td>\n",
       "      <td>-2.916667</td>\n",
       "      <td>afternoon</td>\n",
       "      <td>pm</td>\n",
       "      <td>5</td>\n",
       "      <td>00</td>\n",
       "      <td>1955</td>\n",
       "      <td>10</td>\n",
       "      <td>10</td>\n",
       "      <td>1</td>\n",
       "      <td>19096</td>\n",
       "    </tr>\n",
       "    <tr>\n",
       "      <th>3</th>\n",
       "      <td>3</td>\n",
       "      <td>10/10/1956</td>\n",
       "      <td>edna</td>\n",
       "      <td>tx</td>\n",
       "      <td>us</td>\n",
       "      <td>circle</td>\n",
       "      <td>20</td>\n",
       "      <td>1/17/2004</td>\n",
       "      <td>28.9783333</td>\n",
       "      <td>-96.645833</td>\n",
       "      <td>evening/night</td>\n",
       "      <td>pm</td>\n",
       "      <td>9</td>\n",
       "      <td>00</td>\n",
       "      <td>1956</td>\n",
       "      <td>10</td>\n",
       "      <td>10</td>\n",
       "      <td>3</td>\n",
       "      <td>17265</td>\n",
       "    </tr>\n",
       "    <tr>\n",
       "      <th>4</th>\n",
       "      <td>4</td>\n",
       "      <td>10/10/1960</td>\n",
       "      <td>kaneohe</td>\n",
       "      <td>hi</td>\n",
       "      <td>us</td>\n",
       "      <td>light</td>\n",
       "      <td>900</td>\n",
       "      <td>1/22/2004</td>\n",
       "      <td>21.4180556</td>\n",
       "      <td>-157.803611</td>\n",
       "      <td>evening/night</td>\n",
       "      <td>pm</td>\n",
       "      <td>8</td>\n",
       "      <td>00</td>\n",
       "      <td>1960</td>\n",
       "      <td>10</td>\n",
       "      <td>10</td>\n",
       "      <td>1</td>\n",
       "      <td>15809</td>\n",
       "    </tr>\n",
       "  </tbody>\n",
       "</table>\n",
       "</div>"
      ],
      "text/plain": [
       "   id    datetime  ... dayofweek reported after (days)\n",
       "0   0  10/10/1949  ...         1                 19923\n",
       "1   1  10/10/1949  ...         1                 20521\n",
       "2   2  10/10/1955  ...         1                 19096\n",
       "3   3  10/10/1956  ...         3                 17265\n",
       "4   4  10/10/1960  ...         1                 15809\n",
       "\n",
       "[5 rows x 19 columns]"
      ]
     },
     "execution_count": 106,
     "metadata": {
      "tags": []
     },
     "output_type": "execute_result"
    }
   ],
   "source": [
    "df.head()"
   ]
  },
  {
   "cell_type": "markdown",
   "metadata": {
    "id": "C59fwAwAKRHu"
   },
   "source": [
    "**I think we would not need datetime columns any more. Lets delete them.**"
   ]
  },
  {
   "cell_type": "code",
   "execution_count": null,
   "metadata": {
    "id": "PipVSiD-UqOl"
   },
   "outputs": [],
   "source": [
    "df.drop([\"datetime\",\"date posted\"],axis=1,inplace=True)"
   ]
  },
  {
   "cell_type": "code",
   "execution_count": null,
   "metadata": {
    "colab": {
     "base_uri": "https://localhost:8080/",
     "height": 254
    },
    "id": "9qrbUxaBUqOr",
    "outputId": "93f7fd0b-dde3-44f1-90b5-069be2bfb84e"
   },
   "outputs": [
    {
     "data": {
      "text/html": [
       "<div>\n",
       "<style scoped>\n",
       "    .dataframe tbody tr th:only-of-type {\n",
       "        vertical-align: middle;\n",
       "    }\n",
       "\n",
       "    .dataframe tbody tr th {\n",
       "        vertical-align: top;\n",
       "    }\n",
       "\n",
       "    .dataframe thead th {\n",
       "        text-align: right;\n",
       "    }\n",
       "</style>\n",
       "<table border=\"1\" class=\"dataframe\">\n",
       "  <thead>\n",
       "    <tr style=\"text-align: right;\">\n",
       "      <th></th>\n",
       "      <th>id</th>\n",
       "      <th>city</th>\n",
       "      <th>state</th>\n",
       "      <th>country</th>\n",
       "      <th>shape</th>\n",
       "      <th>duration (seconds)</th>\n",
       "      <th>latitude</th>\n",
       "      <th>longitude</th>\n",
       "      <th>time_of_day</th>\n",
       "      <th>am/pm</th>\n",
       "      <th>hr</th>\n",
       "      <th>min</th>\n",
       "      <th>year</th>\n",
       "      <th>date</th>\n",
       "      <th>month</th>\n",
       "      <th>dayofweek</th>\n",
       "      <th>reported after (days)</th>\n",
       "    </tr>\n",
       "  </thead>\n",
       "  <tbody>\n",
       "    <tr>\n",
       "      <th>0</th>\n",
       "      <td>0</td>\n",
       "      <td>san marcos</td>\n",
       "      <td>tx</td>\n",
       "      <td>us</td>\n",
       "      <td>cylinder</td>\n",
       "      <td>2700</td>\n",
       "      <td>29.8830556</td>\n",
       "      <td>-97.941111</td>\n",
       "      <td>evening/night</td>\n",
       "      <td>pm</td>\n",
       "      <td>8</td>\n",
       "      <td>30</td>\n",
       "      <td>1949</td>\n",
       "      <td>10</td>\n",
       "      <td>10</td>\n",
       "      <td>1</td>\n",
       "      <td>19923</td>\n",
       "    </tr>\n",
       "    <tr>\n",
       "      <th>1</th>\n",
       "      <td>1</td>\n",
       "      <td>lackland afb</td>\n",
       "      <td>tx</td>\n",
       "      <td>NaN</td>\n",
       "      <td>light</td>\n",
       "      <td>7200</td>\n",
       "      <td>29.38421</td>\n",
       "      <td>-98.581082</td>\n",
       "      <td>evening/night</td>\n",
       "      <td>pm</td>\n",
       "      <td>9</td>\n",
       "      <td>00</td>\n",
       "      <td>1949</td>\n",
       "      <td>10</td>\n",
       "      <td>10</td>\n",
       "      <td>1</td>\n",
       "      <td>20521</td>\n",
       "    </tr>\n",
       "    <tr>\n",
       "      <th>2</th>\n",
       "      <td>2</td>\n",
       "      <td>chester (uk/england)</td>\n",
       "      <td>NaN</td>\n",
       "      <td>gb</td>\n",
       "      <td>circle</td>\n",
       "      <td>20</td>\n",
       "      <td>53.2</td>\n",
       "      <td>-2.916667</td>\n",
       "      <td>afternoon</td>\n",
       "      <td>pm</td>\n",
       "      <td>5</td>\n",
       "      <td>00</td>\n",
       "      <td>1955</td>\n",
       "      <td>10</td>\n",
       "      <td>10</td>\n",
       "      <td>1</td>\n",
       "      <td>19096</td>\n",
       "    </tr>\n",
       "    <tr>\n",
       "      <th>3</th>\n",
       "      <td>3</td>\n",
       "      <td>edna</td>\n",
       "      <td>tx</td>\n",
       "      <td>us</td>\n",
       "      <td>circle</td>\n",
       "      <td>20</td>\n",
       "      <td>28.9783333</td>\n",
       "      <td>-96.645833</td>\n",
       "      <td>evening/night</td>\n",
       "      <td>pm</td>\n",
       "      <td>9</td>\n",
       "      <td>00</td>\n",
       "      <td>1956</td>\n",
       "      <td>10</td>\n",
       "      <td>10</td>\n",
       "      <td>3</td>\n",
       "      <td>17265</td>\n",
       "    </tr>\n",
       "    <tr>\n",
       "      <th>4</th>\n",
       "      <td>4</td>\n",
       "      <td>kaneohe</td>\n",
       "      <td>hi</td>\n",
       "      <td>us</td>\n",
       "      <td>light</td>\n",
       "      <td>900</td>\n",
       "      <td>21.4180556</td>\n",
       "      <td>-157.803611</td>\n",
       "      <td>evening/night</td>\n",
       "      <td>pm</td>\n",
       "      <td>8</td>\n",
       "      <td>00</td>\n",
       "      <td>1960</td>\n",
       "      <td>10</td>\n",
       "      <td>10</td>\n",
       "      <td>1</td>\n",
       "      <td>15809</td>\n",
       "    </tr>\n",
       "  </tbody>\n",
       "</table>\n",
       "</div>"
      ],
      "text/plain": [
       "   id                  city state  ... month dayofweek reported after (days)\n",
       "0   0            san marcos    tx  ...    10         1                 19923\n",
       "1   1          lackland afb    tx  ...    10         1                 20521\n",
       "2   2  chester (uk/england)   NaN  ...    10         1                 19096\n",
       "3   3                  edna    tx  ...    10         3                 17265\n",
       "4   4               kaneohe    hi  ...    10         1                 15809\n",
       "\n",
       "[5 rows x 17 columns]"
      ]
     },
     "execution_count": 108,
     "metadata": {
      "tags": []
     },
     "output_type": "execute_result"
    }
   ],
   "source": [
    "df.head()"
   ]
  },
  {
   "cell_type": "markdown",
   "metadata": {
    "id": "tlyNRFQyUqOx"
   },
   "source": [
    "- Processing latitude and longitude\n",
    "- Latitude column seemed a little fishy because its datatype is object (it must be numeric)\n",
    "- One more thing. Longitude column is not recogonized because it has a space after the last letter (See below). We'll fixed that as well."
   ]
  },
  {
   "cell_type": "code",
   "execution_count": null,
   "metadata": {
    "colab": {
     "base_uri": "https://localhost:8080/"
    },
    "id": "Uuy7hFmpm4Rt",
    "outputId": "5b771f6c-05ad-4860-b5c4-4aa7f2dc09b4"
   },
   "outputs": [
    {
     "data": {
      "text/plain": [
       "Index(['id', 'city', 'state', 'country', 'shape', 'duration (seconds)',\n",
       "       'latitude', 'longitude ', 'time_of_day', 'am/pm', 'hr', 'min', 'year',\n",
       "       'date', 'month', 'dayofweek', 'reported after (days)'],\n",
       "      dtype='object')"
      ]
     },
     "execution_count": 109,
     "metadata": {
      "tags": []
     },
     "output_type": "execute_result"
    }
   ],
   "source": [
    "df.columns"
   ]
  },
  {
   "cell_type": "code",
   "execution_count": null,
   "metadata": {
    "id": "jqG6XcNGnJ7Z"
   },
   "outputs": [],
   "source": [
    "df.rename(columns={\"longitude \":\"longitude\"},inplace=True)"
   ]
  },
  {
   "cell_type": "markdown",
   "metadata": {
    "id": "tcTp1gjZLHt4"
   },
   "source": [
    "**We can see that latitude is type object while longitude is type float (rightly so). Lets see if we have any ambigous values in latitude. There must be string values in latitude** \n"
   ]
  },
  {
   "cell_type": "code",
   "execution_count": null,
   "metadata": {
    "colab": {
     "base_uri": "https://localhost:8080/"
    },
    "id": "LX5Y5RxUbZ_P",
    "outputId": "9c4e45fc-6adc-4544-eb25-96df5c8c15e6"
   },
   "outputs": [
    {
     "data": {
      "text/plain": [
       "latitude      object\n",
       "longitude    float64\n",
       "dtype: object"
      ]
     },
     "execution_count": 111,
     "metadata": {
      "tags": []
     },
     "output_type": "execute_result"
    }
   ],
   "source": [
    "df[[\"latitude\",\"longitude\"]].dtypes"
   ]
  },
  {
   "cell_type": "markdown",
   "metadata": {
    "id": "IInhFE07MkQ-"
   },
   "source": [
    "**On investigating we found that a lot of values in latitude column were type string, even though their value was numerical.**<br><br> In order to make all the values type float in latitude column, we used astype but it showed error on one of the records where the latitude was alpha numeric. From there we realised that we not only have float values typed as string but we may also have alpha numeric latitude values. Latitudes cannot be alpha numeric hence there must be a typing mistake. Lets see what all values are alpha numeric. \n"
   ]
  },
  {
   "cell_type": "code",
   "execution_count": null,
   "metadata": {
    "colab": {
     "base_uri": "https://localhost:8080/",
     "height": 203
    },
    "id": "HUJzEbXAUqPK",
    "outputId": "4ba35d92-3b5d-454e-b83c-1b277acf9fef"
   },
   "outputs": [
    {
     "name": "stdout",
     "output_type": "stream",
     "text": [
      "at index 43782 we have a latitude that is alpha numeric\n"
     ]
    },
    {
     "data": {
      "text/html": [
       "<div>\n",
       "<style scoped>\n",
       "    .dataframe tbody tr th:only-of-type {\n",
       "        vertical-align: middle;\n",
       "    }\n",
       "\n",
       "    .dataframe tbody tr th {\n",
       "        vertical-align: top;\n",
       "    }\n",
       "\n",
       "    .dataframe thead th {\n",
       "        text-align: right;\n",
       "    }\n",
       "</style>\n",
       "<table border=\"1\" class=\"dataframe\">\n",
       "  <thead>\n",
       "    <tr style=\"text-align: right;\">\n",
       "      <th></th>\n",
       "      <th>id</th>\n",
       "      <th>city</th>\n",
       "      <th>state</th>\n",
       "      <th>country</th>\n",
       "      <th>shape</th>\n",
       "      <th>duration (seconds)</th>\n",
       "      <th>latitude</th>\n",
       "      <th>longitude</th>\n",
       "      <th>time_of_day</th>\n",
       "      <th>am/pm</th>\n",
       "      <th>hr</th>\n",
       "      <th>min</th>\n",
       "      <th>year</th>\n",
       "      <th>date</th>\n",
       "      <th>month</th>\n",
       "      <th>dayofweek</th>\n",
       "      <th>reported after (days)</th>\n",
       "    </tr>\n",
       "  </thead>\n",
       "  <tbody>\n",
       "    <tr>\n",
       "      <th>43782</th>\n",
       "      <td>43782</td>\n",
       "      <td>mescalero indian reservation</td>\n",
       "      <td>nm</td>\n",
       "      <td>NaN</td>\n",
       "      <td>rectangle</td>\n",
       "      <td>180</td>\n",
       "      <td>33q.200088</td>\n",
       "      <td>-105.624152</td>\n",
       "      <td>midnight</td>\n",
       "      <td>am</td>\n",
       "      <td>05</td>\n",
       "      <td>30</td>\n",
       "      <td>1974</td>\n",
       "      <td>22</td>\n",
       "      <td>5</td>\n",
       "      <td>3</td>\n",
       "      <td>13846</td>\n",
       "    </tr>\n",
       "  </tbody>\n",
       "</table>\n",
       "</div>"
      ],
      "text/plain": [
       "          id                          city  ... dayofweek reported after (days)\n",
       "43782  43782  mescalero indian reservation  ...         3                 13846\n",
       "\n",
       "[1 rows x 17 columns]"
      ]
     },
     "metadata": {
      "tags": []
     },
     "output_type": "display_data"
    },
    {
     "name": "stdout",
     "output_type": "stream",
     "text": [
      "\n"
     ]
    }
   ],
   "source": [
    "def split(word):\n",
    "    return [char for char in word if char in \"abcdefghijklmnopqrstuvwxyz\"]\n",
    "        \n",
    "\n",
    "for idx,i in enumerate(df[\"latitude\"]):\n",
    "    letter = split(str(i))\n",
    "    if(len(letter)!=0):\n",
    "        print(\"at index \"+str(idx)+\" we have a latitude that is alpha numeric\")\n",
    "        display(df[df.index==idx])\n",
    "        print(\"\")"
   ]
  },
  {
   "cell_type": "markdown",
   "metadata": {
    "id": "GCR2rQmyNgRb"
   },
   "source": [
    "**Suprisingly just one record is invalid. Other than this all values are numerical but they are string type.** Lets see the true latitude and longitude for this record, fix it and convert this column to type float.\n"
   ]
  },
  {
   "cell_type": "code",
   "execution_count": null,
   "metadata": {
    "colab": {
     "base_uri": "https://localhost:8080/"
    },
    "id": "AKTCX5UyUqPT",
    "outputId": "d6f09906-1429-4761-993b-6cb782653857"
   },
   "outputs": [
    {
     "name": "stdout",
     "output_type": "stream",
     "text": [
      "latitude is:  33.1576919 \n",
      "longtitude is:  -105.7743515\n"
     ]
    }
   ],
   "source": [
    "from  geopy.geocoders import Nominatim\n",
    "geolocator = Nominatim(user_agent=\"myGeocoder\")\n",
    "loc = geolocator.geocode(\"mescalero indian reservation\",timeout=None)\n",
    "print(\"latitude is: \" ,loc.latitude,\"\\nlongtitude is: \" ,loc.longitude)"
   ]
  },
  {
   "cell_type": "markdown",
   "metadata": {
    "id": "xdspAewINv0P"
   },
   "source": [
    "**So we have the correct lattitude. As expected it was a typing error. The actual latitude is 33.1475856. Lets fix it:**"
   ]
  },
  {
   "cell_type": "code",
   "execution_count": null,
   "metadata": {
    "colab": {
     "base_uri": "https://localhost:8080/",
     "height": 149
    },
    "id": "1tfVNuB_Gef4",
    "outputId": "a02c8f13-d921-47f3-e940-576a68afb1a7"
   },
   "outputs": [
    {
     "data": {
      "text/html": [
       "<div>\n",
       "<style scoped>\n",
       "    .dataframe tbody tr th:only-of-type {\n",
       "        vertical-align: middle;\n",
       "    }\n",
       "\n",
       "    .dataframe tbody tr th {\n",
       "        vertical-align: top;\n",
       "    }\n",
       "\n",
       "    .dataframe thead th {\n",
       "        text-align: right;\n",
       "    }\n",
       "</style>\n",
       "<table border=\"1\" class=\"dataframe\">\n",
       "  <thead>\n",
       "    <tr style=\"text-align: right;\">\n",
       "      <th></th>\n",
       "      <th>id</th>\n",
       "      <th>city</th>\n",
       "      <th>state</th>\n",
       "      <th>country</th>\n",
       "      <th>shape</th>\n",
       "      <th>duration (seconds)</th>\n",
       "      <th>latitude</th>\n",
       "      <th>longitude</th>\n",
       "      <th>time_of_day</th>\n",
       "      <th>am/pm</th>\n",
       "      <th>hr</th>\n",
       "      <th>min</th>\n",
       "      <th>year</th>\n",
       "      <th>date</th>\n",
       "      <th>month</th>\n",
       "      <th>dayofweek</th>\n",
       "      <th>reported after (days)</th>\n",
       "    </tr>\n",
       "  </thead>\n",
       "  <tbody>\n",
       "    <tr>\n",
       "      <th>43782</th>\n",
       "      <td>43782</td>\n",
       "      <td>mescalero indian reservation</td>\n",
       "      <td>nm</td>\n",
       "      <td>NaN</td>\n",
       "      <td>rectangle</td>\n",
       "      <td>180</td>\n",
       "      <td>33.1476</td>\n",
       "      <td>-105.624152</td>\n",
       "      <td>midnight</td>\n",
       "      <td>am</td>\n",
       "      <td>05</td>\n",
       "      <td>30</td>\n",
       "      <td>1974</td>\n",
       "      <td>22</td>\n",
       "      <td>5</td>\n",
       "      <td>3</td>\n",
       "      <td>13846</td>\n",
       "    </tr>\n",
       "  </tbody>\n",
       "</table>\n",
       "</div>"
      ],
      "text/plain": [
       "          id                          city  ... dayofweek reported after (days)\n",
       "43782  43782  mescalero indian reservation  ...         3                 13846\n",
       "\n",
       "[1 rows x 17 columns]"
      ]
     },
     "execution_count": 114,
     "metadata": {
      "tags": []
     },
     "output_type": "execute_result"
    }
   ],
   "source": [
    "df[\"latitude\"][df[\"latitude\"]==\"33q.200088\"] = 33.1475856 \n",
    "df[df[\"latitude\"]==33.1475856]"
   ]
  },
  {
   "cell_type": "code",
   "execution_count": null,
   "metadata": {
    "colab": {
     "base_uri": "https://localhost:8080/"
    },
    "id": "0NcAvgdmHxYc",
    "outputId": "11a9e50a-00ee-46c7-cf9c-7c6103909c36"
   },
   "outputs": [
    {
     "data": {
      "text/plain": [
       "latitude     float64\n",
       "longitude    float64\n",
       "dtype: object"
      ]
     },
     "execution_count": 115,
     "metadata": {
      "tags": []
     },
     "output_type": "execute_result"
    }
   ],
   "source": [
    "df[\"latitude\"]=df[\"latitude\"].astype(\"float\")\n",
    "df[[\"latitude\",\"longitude\"]].dtypes"
   ]
  },
  {
   "cell_type": "markdown",
   "metadata": {
    "id": "sSwZnnL0oQaK"
   },
   "source": [
    "**lets process city and country columns:**<br>\n",
    "- We'll remove the Null values in country and city columns based on latitudes and longitudes provided.\n",
    "- We'll need to install reverse_geocoder for that."
   ]
  },
  {
   "cell_type": "code",
   "execution_count": null,
   "metadata": {
    "colab": {
     "base_uri": "https://localhost:8080/"
    },
    "id": "WTph_Nci5uu6",
    "outputId": "eaac372c-3d2b-4b02-e2d8-4435371f0723"
   },
   "outputs": [
    {
     "name": "stdout",
     "output_type": "stream",
     "text": [
      "Collecting reverse_geocoder\n",
      "\u001b[?25l  Downloading https://files.pythonhosted.org/packages/0b/0f/b7d5d4b36553731f11983e19e1813a1059ad0732c5162c01b3220c927d31/reverse_geocoder-1.5.1.tar.gz (2.2MB)\n",
      "\u001b[K     |████████████████████████████████| 2.3MB 6.4MB/s \n",
      "\u001b[?25hRequirement already satisfied: numpy>=1.11.0 in /usr/local/lib/python3.7/dist-packages (from reverse_geocoder) (1.19.5)\n",
      "Requirement already satisfied: scipy>=0.17.1 in /usr/local/lib/python3.7/dist-packages (from reverse_geocoder) (1.4.1)\n",
      "Building wheels for collected packages: reverse-geocoder\n",
      "  Building wheel for reverse-geocoder (setup.py) ... \u001b[?25l\u001b[?25hdone\n",
      "  Created wheel for reverse-geocoder: filename=reverse_geocoder-1.5.1-cp37-none-any.whl size=2268089 sha256=5585d7f649478ecc9dcd4cc80e50c7067c3ff7585aca6b752bc8e379c3131915\n",
      "  Stored in directory: /root/.cache/pip/wheels/47/05/50/b1350ff094ef91e082665b4a2f9ca551f8acea4aa55d796b26\n",
      "Successfully built reverse-geocoder\n",
      "Installing collected packages: reverse-geocoder\n",
      "Successfully installed reverse-geocoder-1.5.1\n"
     ]
    }
   ],
   "source": [
    "# pip install reverse_geocoder"
   ]
  },
  {
   "cell_type": "code",
   "execution_count": null,
   "metadata": {
    "id": "6q5tfRwy3E9d"
   },
   "outputs": [],
   "source": [
    "import reverse_geocoder as rg\n",
    "\n",
    "def isNaN(string):\n",
    "    return string != string\n",
    "\n",
    "cntry = {}\n",
    "cty = {}\n",
    "def find_countriesncities(row):\n",
    "  if(isNaN(row[\"country\"])==True):\n",
    "    cntry[row[\"id\"]] = rg.search((row[\"latitude\"],row[\"longitude\"]))[0][\"cc\"]\n",
    "\n",
    "  if(isNaN(row[\"city\"])==True):\n",
    "    cty[row[\"id\"]] = rg.search((row[\"latitude\"],row[\"longitude\"]))[0][\"name\"]"
   ]
  },
  {
   "cell_type": "code",
   "execution_count": null,
   "metadata": {
    "id": "IkSqni6I30nx"
   },
   "outputs": [],
   "source": [
    "# df[ (df[\"country\"].isnull()) | (df[\"city\"].isnull()) ][[\"id\",\"city\",\"country\",\"latitude\",\"longitude\"]].apply(find_countriesncities,axis=1)"
   ]
  },
  {
   "cell_type": "code",
   "execution_count": null,
   "metadata": {
    "id": "NiSF2N_2OmlZ"
   },
   "outputs": [],
   "source": [
    "# with open(\"/content/drive/My Drive/Colab Notebooks/ufo sightings/country.json\", \"w\") as fp:\n",
    "#   json.dump(cntry,fp)\n",
    "\n",
    "# with open(\"/content/drive/My Drive/Colab Notebooks/ufo sightings/city.json\", \"w\") as fp:\n",
    "#   json.dump(cty,fp)"
   ]
  },
  {
   "cell_type": "code",
   "execution_count": null,
   "metadata": {
    "id": "Xfy5qT23YdpF"
   },
   "outputs": [],
   "source": [
    "with open(\"/content/drive/My Drive/ufo sightings/country.json\", \"r\") as fp:\n",
    "  cntry = json.load(fp)\n",
    "\n",
    "with open(\"/content/drive/My Drive/ufo sightings/city.json\", \"r\") as fp:\n",
    "  cty = json.load(fp)"
   ]
  },
  {
   "cell_type": "code",
   "execution_count": null,
   "metadata": {
    "colab": {
     "base_uri": "https://localhost:8080/"
    },
    "id": "mZu25R3q3fme",
    "outputId": "c13054de-f4b5-4288-e8f9-64fa23b2b0e8"
   },
   "outputs": [
    {
     "name": "stdout",
     "output_type": "stream",
     "text": [
      "9670\n",
      "3\n"
     ]
    }
   ],
   "source": [
    "print(len(cntry))\n",
    "print(len(cty))"
   ]
  },
  {
   "cell_type": "markdown",
   "metadata": {
    "id": "zF7f5ayyO5kh"
   },
   "source": [
    "**Filling the cities and countries:**"
   ]
  },
  {
   "cell_type": "code",
   "execution_count": null,
   "metadata": {
    "id": "Is-zhx45cKcV"
   },
   "outputs": [],
   "source": [
    "for idd,cnt in cntry.items(): \n",
    "  df[\"country\"][df[\"id\"]==int(idd)] = cnt.lower()\n",
    "\n",
    "for idd,cit in cty.items():\n",
    "  df[\"city\"][df[\"id\"]==int(idd)] = cit.lower()"
   ]
  },
  {
   "cell_type": "markdown",
   "metadata": {
    "id": "wu75sHDsPHei"
   },
   "source": [
    "**And.. we have removed the NaN values in country and city columns**"
   ]
  },
  {
   "cell_type": "code",
   "execution_count": null,
   "metadata": {
    "colab": {
     "base_uri": "https://localhost:8080/"
    },
    "id": "dAmB5kxrcQO1",
    "outputId": "644ff090-378c-41ba-f961-981c5aa97cba"
   },
   "outputs": [
    {
     "data": {
      "text/plain": [
       "id                          0\n",
       "city                        0\n",
       "state                    5797\n",
       "country                     0\n",
       "shape                    1932\n",
       "duration (seconds)          0\n",
       "latitude                    0\n",
       "longitude                   0\n",
       "time_of_day                 0\n",
       "am/pm                       0\n",
       "hr                          0\n",
       "min                         0\n",
       "year                        0\n",
       "date                        0\n",
       "month                       0\n",
       "dayofweek                   0\n",
       "reported after (days)       0\n",
       "dtype: int64"
      ]
     },
     "execution_count": 124,
     "metadata": {
      "tags": []
     },
     "output_type": "execute_result"
    }
   ],
   "source": [
    "df.isnull().sum()"
   ]
  },
  {
   "cell_type": "markdown",
   "metadata": {
    "id": "Ii7_m8Dsdn4Y"
   },
   "source": [
    "**Also we will drop the state column. We dont really need it. We could have just as easily filled the missing state values like we filled cities and countries using latitudes and longitudes... but with cities, countries, latitudess and longitudess, we have pretty good information on the geography of the sightings. Hence we can delete state column.**"
   ]
  },
  {
   "cell_type": "code",
   "execution_count": null,
   "metadata": {
    "id": "ncaSA6rFegMy"
   },
   "outputs": [],
   "source": [
    "df.drop(\"state\",axis=1,inplace=True)"
   ]
  },
  {
   "cell_type": "code",
   "execution_count": null,
   "metadata": {
    "colab": {
     "base_uri": "https://localhost:8080/"
    },
    "id": "gLmAGLLpetCg",
    "outputId": "ee309a84-1c7f-48d0-a0ac-2aa57a493202"
   },
   "outputs": [
    {
     "data": {
      "text/plain": [
       "(80332, 16)"
      ]
     },
     "execution_count": 126,
     "metadata": {
      "tags": []
     },
     "output_type": "execute_result"
    }
   ],
   "source": [
    "df.shape"
   ]
  },
  {
   "cell_type": "markdown",
   "metadata": {
    "id": "6gM4JXEdP01k"
   },
   "source": [
    "**Processing shape column:** \n",
    "- It has 1932 missing values. We already have \"unknown\" label in this column hence we will replace NaNs by \"unkown\"\n"
   ]
  },
  {
   "cell_type": "code",
   "execution_count": null,
   "metadata": {
    "colab": {
     "base_uri": "https://localhost:8080/"
    },
    "id": "GY3h7Wl6es_p",
    "outputId": "f1d9b586-f316-4df4-90ca-2b09ea97ab71"
   },
   "outputs": [
    {
     "data": {
      "text/plain": [
       "id                          0\n",
       "city                        0\n",
       "country                     0\n",
       "shape                    1932\n",
       "duration (seconds)          0\n",
       "latitude                    0\n",
       "longitude                   0\n",
       "time_of_day                 0\n",
       "am/pm                       0\n",
       "hr                          0\n",
       "min                         0\n",
       "year                        0\n",
       "date                        0\n",
       "month                       0\n",
       "dayofweek                   0\n",
       "reported after (days)       0\n",
       "dtype: int64"
      ]
     },
     "execution_count": 127,
     "metadata": {
      "tags": []
     },
     "output_type": "execute_result"
    }
   ],
   "source": [
    "df.isnull().sum()"
   ]
  },
  {
   "cell_type": "code",
   "execution_count": null,
   "metadata": {
    "id": "k8TVS-GRf3P9"
   },
   "outputs": [],
   "source": [
    "df[\"shape\"] = df[\"shape\"].fillna(\"unknown\")"
   ]
  },
  {
   "cell_type": "code",
   "execution_count": null,
   "metadata": {
    "colab": {
     "base_uri": "https://localhost:8080/"
    },
    "id": "ztgWnl2Pf8ME",
    "outputId": "2f855e00-3acb-4d62-a28a-a91bbece6ba3"
   },
   "outputs": [
    {
     "data": {
      "text/plain": [
       "light        16565\n",
       "triangle      7865\n",
       "circle        7608\n",
       "unknown       7516\n",
       "fireball      6208\n",
       "other         5649\n",
       "sphere        5387\n",
       "disk          5213\n",
       "oval          3733\n",
       "formation     2457\n",
       "cigar         2057\n",
       "changing      1962\n",
       "flash         1328\n",
       "rectangle     1297\n",
       "cylinder      1283\n",
       "diamond       1178\n",
       "chevron        952\n",
       "egg            759\n",
       "teardrop       750\n",
       "cone           316\n",
       "cross          233\n",
       "delta            7\n",
       "crescent         2\n",
       "round            2\n",
       "changed          1\n",
       "flare            1\n",
       "pyramid          1\n",
       "hexagon          1\n",
       "dome             1\n",
       "Name: shape, dtype: int64"
      ]
     },
     "execution_count": 130,
     "metadata": {
      "tags": []
     },
     "output_type": "execute_result"
    }
   ],
   "source": [
    "df[\"shape\"].value_counts()"
   ]
  },
  {
   "cell_type": "markdown",
   "metadata": {
    "id": "tfF_wi_hQDXD"
   },
   "source": [
    "**There is one more thing that I should point out.**<br>\n",
    "We have city names that are written in different ways. On exploring this column. A lot of city names are such that the text inside the bracket is either different for the same cities or irrelevant... or it is just the name of the country and we have already captured it. Due to this, the city column does not have unique labels. The labels are repeating with different names.<br> **Eg: Here we have grouped by country and city. We can see that Abu Dabi although refers to the same city but because it is written in a slightly different way, it is considered as a whole new label. Similarly we can see multiple instances of dubai, sharjah and many more.**"
   ]
  },
  {
   "cell_type": "code",
   "execution_count": null,
   "metadata": {
    "colab": {
     "base_uri": "https://localhost:8080/",
     "height": 1000
    },
    "id": "wYdZq77WTgM9",
    "outputId": "430ca729-9cc8-4d2c-9f89-02955e110d20"
   },
   "outputs": [
    {
     "data": {
      "text/html": [
       "<div>\n",
       "<style scoped>\n",
       "    .dataframe tbody tr th:only-of-type {\n",
       "        vertical-align: middle;\n",
       "    }\n",
       "\n",
       "    .dataframe tbody tr th {\n",
       "        vertical-align: top;\n",
       "    }\n",
       "\n",
       "    .dataframe thead th {\n",
       "        text-align: right;\n",
       "    }\n",
       "</style>\n",
       "<table border=\"1\" class=\"dataframe\">\n",
       "  <thead>\n",
       "    <tr style=\"text-align: right;\">\n",
       "      <th></th>\n",
       "      <th>country</th>\n",
       "      <th>city</th>\n",
       "    </tr>\n",
       "  </thead>\n",
       "  <tbody>\n",
       "    <tr>\n",
       "      <th>0</th>\n",
       "      <td>ae</td>\n",
       "      <td>abu dhabi (u. a. e.)</td>\n",
       "    </tr>\n",
       "    <tr>\n",
       "      <th>1</th>\n",
       "      <td>ae</td>\n",
       "      <td>abu dhabi (u.a.e.)</td>\n",
       "    </tr>\n",
       "    <tr>\n",
       "      <th>2</th>\n",
       "      <td>ae</td>\n",
       "      <td>abu dhabi (uae)</td>\n",
       "    </tr>\n",
       "    <tr>\n",
       "      <th>3</th>\n",
       "      <td>ae</td>\n",
       "      <td>abu dhabi (united arab emirates)</td>\n",
       "    </tr>\n",
       "    <tr>\n",
       "      <th>4</th>\n",
       "      <td>ae</td>\n",
       "      <td>ajman (united arab emirates)</td>\n",
       "    </tr>\n",
       "    <tr>\n",
       "      <th>5</th>\n",
       "      <td>ae</td>\n",
       "      <td>al warqaa 1 (u.a.r.)</td>\n",
       "    </tr>\n",
       "    <tr>\n",
       "      <th>6</th>\n",
       "      <td>ae</td>\n",
       "      <td>al-ain (uae)</td>\n",
       "    </tr>\n",
       "    <tr>\n",
       "      <th>7</th>\n",
       "      <td>ae</td>\n",
       "      <td>dubai</td>\n",
       "    </tr>\n",
       "    <tr>\n",
       "      <th>8</th>\n",
       "      <td>ae</td>\n",
       "      <td>dubai (u.a.r.)</td>\n",
       "    </tr>\n",
       "    <tr>\n",
       "      <th>9</th>\n",
       "      <td>ae</td>\n",
       "      <td>dubai (uae)</td>\n",
       "    </tr>\n",
       "    <tr>\n",
       "      <th>10</th>\n",
       "      <td>ae</td>\n",
       "      <td>dubai (uar)</td>\n",
       "    </tr>\n",
       "    <tr>\n",
       "      <th>11</th>\n",
       "      <td>ae</td>\n",
       "      <td>dubai (united arab republic)</td>\n",
       "    </tr>\n",
       "    <tr>\n",
       "      <th>12</th>\n",
       "      <td>ae</td>\n",
       "      <td>ras al khaimah (uae)</td>\n",
       "    </tr>\n",
       "    <tr>\n",
       "      <th>13</th>\n",
       "      <td>ae</td>\n",
       "      <td>sharjah</td>\n",
       "    </tr>\n",
       "    <tr>\n",
       "      <th>14</th>\n",
       "      <td>ae</td>\n",
       "      <td>sharjah (dubai)</td>\n",
       "    </tr>\n",
       "    <tr>\n",
       "      <th>15</th>\n",
       "      <td>ae</td>\n",
       "      <td>sharjah (u.a.e.)</td>\n",
       "    </tr>\n",
       "    <tr>\n",
       "      <th>16</th>\n",
       "      <td>ae</td>\n",
       "      <td>sharjah (uae)</td>\n",
       "    </tr>\n",
       "    <tr>\n",
       "      <th>17</th>\n",
       "      <td>ae</td>\n",
       "      <td>sharjah (united arab emirates)</td>\n",
       "    </tr>\n",
       "    <tr>\n",
       "      <th>18</th>\n",
       "      <td>af</td>\n",
       "      <td>afghanistan</td>\n",
       "    </tr>\n",
       "    <tr>\n",
       "      <th>19</th>\n",
       "      <td>af</td>\n",
       "      <td>afghanistan ((military report))</td>\n",
       "    </tr>\n",
       "    <tr>\n",
       "      <th>20</th>\n",
       "      <td>af</td>\n",
       "      <td>afghanistan (forward operating base)</td>\n",
       "    </tr>\n",
       "    <tr>\n",
       "      <th>21</th>\n",
       "      <td>af</td>\n",
       "      <td>delaram (afghanistan)</td>\n",
       "    </tr>\n",
       "    <tr>\n",
       "      <th>22</th>\n",
       "      <td>af</td>\n",
       "      <td>kabul (afghanistan)</td>\n",
       "    </tr>\n",
       "    <tr>\n",
       "      <th>23</th>\n",
       "      <td>al</td>\n",
       "      <td>tirana (albania)</td>\n",
       "    </tr>\n",
       "    <tr>\n",
       "      <th>24</th>\n",
       "      <td>am</td>\n",
       "      <td>yerevan (armenia)</td>\n",
       "    </tr>\n",
       "    <tr>\n",
       "      <th>25</th>\n",
       "      <td>ar</td>\n",
       "      <td>buenas aeres (argentina)</td>\n",
       "    </tr>\n",
       "    <tr>\n",
       "      <th>26</th>\n",
       "      <td>ar</td>\n",
       "      <td>buenos aires (almagro pale&amp;#44 belgrano) (brazil)</td>\n",
       "    </tr>\n",
       "    <tr>\n",
       "      <th>27</th>\n",
       "      <td>ar</td>\n",
       "      <td>buenos aires (argentina)</td>\n",
       "    </tr>\n",
       "    <tr>\n",
       "      <th>28</th>\n",
       "      <td>ar</td>\n",
       "      <td>costa del este (argentina)</td>\n",
       "    </tr>\n",
       "    <tr>\n",
       "      <th>29</th>\n",
       "      <td>ar</td>\n",
       "      <td>eldorado</td>\n",
       "    </tr>\n",
       "    <tr>\n",
       "      <th>30</th>\n",
       "      <td>ar</td>\n",
       "      <td>jes&amp;uacute;s mar&amp;iacute;a (argentina)</td>\n",
       "    </tr>\n",
       "    <tr>\n",
       "      <th>31</th>\n",
       "      <td>ar</td>\n",
       "      <td>mar del plata (argentina)</td>\n",
       "    </tr>\n",
       "    <tr>\n",
       "      <th>32</th>\n",
       "      <td>ar</td>\n",
       "      <td>mendoza san rafael (argentina)</td>\n",
       "    </tr>\n",
       "    <tr>\n",
       "      <th>33</th>\n",
       "      <td>ar</td>\n",
       "      <td>merlo (argentina)</td>\n",
       "    </tr>\n",
       "    <tr>\n",
       "      <th>34</th>\n",
       "      <td>ar</td>\n",
       "      <td>monterrico (guatamala)</td>\n",
       "    </tr>\n",
       "    <tr>\n",
       "      <th>35</th>\n",
       "      <td>ar</td>\n",
       "      <td>piedra blanka (los padres national forest)</td>\n",
       "    </tr>\n",
       "    <tr>\n",
       "      <th>36</th>\n",
       "      <td>ar</td>\n",
       "      <td>san pedro town (belize)</td>\n",
       "    </tr>\n",
       "    <tr>\n",
       "      <th>37</th>\n",
       "      <td>ar</td>\n",
       "      <td>south africa</td>\n",
       "    </tr>\n",
       "    <tr>\n",
       "      <th>38</th>\n",
       "      <td>ar</td>\n",
       "      <td>temperley (argentina)</td>\n",
       "    </tr>\n",
       "    <tr>\n",
       "      <th>39</th>\n",
       "      <td>at</td>\n",
       "      <td>kemet (turkey)</td>\n",
       "    </tr>\n",
       "    <tr>\n",
       "      <th>40</th>\n",
       "      <td>at</td>\n",
       "      <td>klagenfurt (austria)</td>\n",
       "    </tr>\n",
       "    <tr>\n",
       "      <th>41</th>\n",
       "      <td>at</td>\n",
       "      <td>lamprechtshausen (austria)</td>\n",
       "    </tr>\n",
       "    <tr>\n",
       "      <th>42</th>\n",
       "      <td>at</td>\n",
       "      <td>mayrhofen (austria)</td>\n",
       "    </tr>\n",
       "    <tr>\n",
       "      <th>43</th>\n",
       "      <td>at</td>\n",
       "      <td>wien (austria)</td>\n",
       "    </tr>\n",
       "    <tr>\n",
       "      <th>44</th>\n",
       "      <td>au</td>\n",
       "      <td>aandurah (western australia)</td>\n",
       "    </tr>\n",
       "    <tr>\n",
       "      <th>45</th>\n",
       "      <td>au</td>\n",
       "      <td>adelaide</td>\n",
       "    </tr>\n",
       "    <tr>\n",
       "      <th>46</th>\n",
       "      <td>au</td>\n",
       "      <td>adelaide  (south australia)</td>\n",
       "    </tr>\n",
       "    <tr>\n",
       "      <th>47</th>\n",
       "      <td>au</td>\n",
       "      <td>adelaide (australia)</td>\n",
       "    </tr>\n",
       "    <tr>\n",
       "      <th>48</th>\n",
       "      <td>au</td>\n",
       "      <td>adelaide (pt. wakefield) (south australia)</td>\n",
       "    </tr>\n",
       "    <tr>\n",
       "      <th>49</th>\n",
       "      <td>au</td>\n",
       "      <td>adelaide (south australia)</td>\n",
       "    </tr>\n",
       "  </tbody>\n",
       "</table>\n",
       "</div>"
      ],
      "text/plain": [
       "   country                                               city\n",
       "0       ae                               abu dhabi (u. a. e.)\n",
       "1       ae                                 abu dhabi (u.a.e.)\n",
       "2       ae                                    abu dhabi (uae)\n",
       "3       ae                   abu dhabi (united arab emirates)\n",
       "4       ae                       ajman (united arab emirates)\n",
       "5       ae                               al warqaa 1 (u.a.r.)\n",
       "6       ae                                       al-ain (uae)\n",
       "7       ae                                              dubai\n",
       "8       ae                                     dubai (u.a.r.)\n",
       "9       ae                                        dubai (uae)\n",
       "10      ae                                        dubai (uar)\n",
       "11      ae                       dubai (united arab republic)\n",
       "12      ae                               ras al khaimah (uae)\n",
       "13      ae                                            sharjah\n",
       "14      ae                                    sharjah (dubai)\n",
       "15      ae                                   sharjah (u.a.e.)\n",
       "16      ae                                      sharjah (uae)\n",
       "17      ae                     sharjah (united arab emirates)\n",
       "18      af                                        afghanistan\n",
       "19      af                    afghanistan ((military report))\n",
       "20      af               afghanistan (forward operating base)\n",
       "21      af                              delaram (afghanistan)\n",
       "22      af                                kabul (afghanistan)\n",
       "23      al                                   tirana (albania)\n",
       "24      am                                  yerevan (armenia)\n",
       "25      ar                           buenas aeres (argentina)\n",
       "26      ar  buenos aires (almagro pale&#44 belgrano) (brazil)\n",
       "27      ar                           buenos aires (argentina)\n",
       "28      ar                         costa del este (argentina)\n",
       "29      ar                                           eldorado\n",
       "30      ar              jes&uacute;s mar&iacute;a (argentina)\n",
       "31      ar                          mar del plata (argentina)\n",
       "32      ar                     mendoza san rafael (argentina)\n",
       "33      ar                                  merlo (argentina)\n",
       "34      ar                             monterrico (guatamala)\n",
       "35      ar         piedra blanka (los padres national forest)\n",
       "36      ar                            san pedro town (belize)\n",
       "37      ar                                       south africa\n",
       "38      ar                              temperley (argentina)\n",
       "39      at                                     kemet (turkey)\n",
       "40      at                               klagenfurt (austria)\n",
       "41      at                         lamprechtshausen (austria)\n",
       "42      at                                mayrhofen (austria)\n",
       "43      at                                     wien (austria)\n",
       "44      au                       aandurah (western australia)\n",
       "45      au                                           adelaide\n",
       "46      au                        adelaide  (south australia)\n",
       "47      au                               adelaide (australia)\n",
       "48      au         adelaide (pt. wakefield) (south australia)\n",
       "49      au                         adelaide (south australia)"
      ]
     },
     "execution_count": 131,
     "metadata": {
      "tags": []
     },
     "output_type": "execute_result"
    }
   ],
   "source": [
    "df_grp = df[[\"country\",\"city\"]].groupby(by=[\"country\",\"city\"]).size().reset_index().iloc[:,:2]\n",
    "df_grp[:50]"
   ]
  },
  {
   "cell_type": "markdown",
   "metadata": {
    "id": "Wwrk9nPdUAFv"
   },
   "source": [
    "**To fix this we will remove the bracket parts of the cities:**"
   ]
  },
  {
   "cell_type": "code",
   "execution_count": null,
   "metadata": {
    "id": "40YJf5am0W6U"
   },
   "outputs": [],
   "source": [
    "df[\"city\"] = df[\"city\"].apply(lambda x: x.split(\"(\")[0].lower())"
   ]
  },
  {
   "cell_type": "code",
   "execution_count": null,
   "metadata": {
    "colab": {
     "base_uri": "https://localhost:8080/",
     "height": 254
    },
    "id": "TCuNrBz3cb59",
    "outputId": "16b7ada5-d076-4f74-b17d-eced5de0847d"
   },
   "outputs": [
    {
     "data": {
      "text/html": [
       "<div>\n",
       "<style scoped>\n",
       "    .dataframe tbody tr th:only-of-type {\n",
       "        vertical-align: middle;\n",
       "    }\n",
       "\n",
       "    .dataframe tbody tr th {\n",
       "        vertical-align: top;\n",
       "    }\n",
       "\n",
       "    .dataframe thead th {\n",
       "        text-align: right;\n",
       "    }\n",
       "</style>\n",
       "<table border=\"1\" class=\"dataframe\">\n",
       "  <thead>\n",
       "    <tr style=\"text-align: right;\">\n",
       "      <th></th>\n",
       "      <th>id</th>\n",
       "      <th>city</th>\n",
       "      <th>country</th>\n",
       "      <th>shape</th>\n",
       "      <th>duration (seconds)</th>\n",
       "      <th>latitude</th>\n",
       "      <th>longitude</th>\n",
       "      <th>time_of_day</th>\n",
       "      <th>am/pm</th>\n",
       "      <th>hr</th>\n",
       "      <th>min</th>\n",
       "      <th>year</th>\n",
       "      <th>date</th>\n",
       "      <th>month</th>\n",
       "      <th>dayofweek</th>\n",
       "      <th>reported after (days)</th>\n",
       "    </tr>\n",
       "  </thead>\n",
       "  <tbody>\n",
       "    <tr>\n",
       "      <th>0</th>\n",
       "      <td>0</td>\n",
       "      <td>san marcos</td>\n",
       "      <td>us</td>\n",
       "      <td>cylinder</td>\n",
       "      <td>2700</td>\n",
       "      <td>29.883056</td>\n",
       "      <td>-97.941111</td>\n",
       "      <td>evening/night</td>\n",
       "      <td>pm</td>\n",
       "      <td>8</td>\n",
       "      <td>30</td>\n",
       "      <td>1949</td>\n",
       "      <td>10</td>\n",
       "      <td>10</td>\n",
       "      <td>1</td>\n",
       "      <td>19923</td>\n",
       "    </tr>\n",
       "    <tr>\n",
       "      <th>1</th>\n",
       "      <td>1</td>\n",
       "      <td>lackland afb</td>\n",
       "      <td>us</td>\n",
       "      <td>light</td>\n",
       "      <td>7200</td>\n",
       "      <td>29.384210</td>\n",
       "      <td>-98.581082</td>\n",
       "      <td>evening/night</td>\n",
       "      <td>pm</td>\n",
       "      <td>9</td>\n",
       "      <td>00</td>\n",
       "      <td>1949</td>\n",
       "      <td>10</td>\n",
       "      <td>10</td>\n",
       "      <td>1</td>\n",
       "      <td>20521</td>\n",
       "    </tr>\n",
       "    <tr>\n",
       "      <th>2</th>\n",
       "      <td>2</td>\n",
       "      <td>chester</td>\n",
       "      <td>gb</td>\n",
       "      <td>circle</td>\n",
       "      <td>20</td>\n",
       "      <td>53.200000</td>\n",
       "      <td>-2.916667</td>\n",
       "      <td>afternoon</td>\n",
       "      <td>pm</td>\n",
       "      <td>5</td>\n",
       "      <td>00</td>\n",
       "      <td>1955</td>\n",
       "      <td>10</td>\n",
       "      <td>10</td>\n",
       "      <td>1</td>\n",
       "      <td>19096</td>\n",
       "    </tr>\n",
       "    <tr>\n",
       "      <th>3</th>\n",
       "      <td>3</td>\n",
       "      <td>edna</td>\n",
       "      <td>us</td>\n",
       "      <td>circle</td>\n",
       "      <td>20</td>\n",
       "      <td>28.978333</td>\n",
       "      <td>-96.645833</td>\n",
       "      <td>evening/night</td>\n",
       "      <td>pm</td>\n",
       "      <td>9</td>\n",
       "      <td>00</td>\n",
       "      <td>1956</td>\n",
       "      <td>10</td>\n",
       "      <td>10</td>\n",
       "      <td>3</td>\n",
       "      <td>17265</td>\n",
       "    </tr>\n",
       "    <tr>\n",
       "      <th>4</th>\n",
       "      <td>4</td>\n",
       "      <td>kaneohe</td>\n",
       "      <td>us</td>\n",
       "      <td>light</td>\n",
       "      <td>900</td>\n",
       "      <td>21.418056</td>\n",
       "      <td>-157.803611</td>\n",
       "      <td>evening/night</td>\n",
       "      <td>pm</td>\n",
       "      <td>8</td>\n",
       "      <td>00</td>\n",
       "      <td>1960</td>\n",
       "      <td>10</td>\n",
       "      <td>10</td>\n",
       "      <td>1</td>\n",
       "      <td>15809</td>\n",
       "    </tr>\n",
       "  </tbody>\n",
       "</table>\n",
       "</div>"
      ],
      "text/plain": [
       "   id          city country  ... month dayofweek  reported after (days)\n",
       "0   0    san marcos      us  ...    10         1                  19923\n",
       "1   1  lackland afb      us  ...    10         1                  20521\n",
       "2   2      chester       gb  ...    10         1                  19096\n",
       "3   3          edna      us  ...    10         3                  17265\n",
       "4   4       kaneohe      us  ...    10         1                  15809\n",
       "\n",
       "[5 rows x 16 columns]"
      ]
     },
     "execution_count": 133,
     "metadata": {
      "tags": []
     },
     "output_type": "execute_result"
    }
   ],
   "source": [
    "df.head()"
   ]
  },
  {
   "cell_type": "markdown",
   "metadata": {
    "id": "7jXDnLo2R_vO"
   },
   "source": [
    "**Last thing. There are 3 columns that have numerical values and must not have data type 'object'. These columns are duration, min and hr**"
   ]
  },
  {
   "cell_type": "code",
   "execution_count": null,
   "metadata": {
    "colab": {
     "base_uri": "https://localhost:8080/",
     "height": 312
    },
    "id": "AXpPVcmMcBYP",
    "outputId": "c1b717b4-8379-44cc-e318-55d7aa7c3f8d"
   },
   "outputs": [
    {
     "data": {
      "text/plain": [
       "id                         int64\n",
       "city                      object\n",
       "country                   object\n",
       "shape                     object\n",
       "duration (seconds)        object\n",
       "latitude                 float64\n",
       "longitude                float64\n",
       "time_of_day               object\n",
       "am/pm                     object\n",
       "hr                        object\n",
       "min                       object\n",
       "year                       int64\n",
       "date                       int64\n",
       "month                      int64\n",
       "dayofweek                  int64\n",
       "reported after (days)      int64\n",
       "dtype: object"
      ]
     },
     "execution_count": 311,
     "metadata": {
      "tags": []
     },
     "output_type": "execute_result"
    }
   ],
   "source": [
    "df.dtypes"
   ]
  },
  {
   "cell_type": "markdown",
   "metadata": {
    "id": "M7xOH5VQSXOH"
   },
   "source": [
    "**While converting to float we encountered these 3 records in duration column that were string and had small 'tilda' after the number. Lets fix them and convert there type:**\n"
   ]
  },
  {
   "cell_type": "code",
   "execution_count": null,
   "metadata": {
    "id": "etxfQazQjNLR"
   },
   "outputs": [],
   "source": [
    "df[\"duration (seconds)\"][df[\"duration (seconds)\"]==\"0.5`\"]=0.5\n",
    "df[\"duration (seconds)\"][df[\"duration (seconds)\"]==\"2`\"]=2\n",
    "df[\"duration (seconds)\"][df[\"duration (seconds)\"]==\"8`\"]=8"
   ]
  },
  {
   "cell_type": "code",
   "execution_count": null,
   "metadata": {
    "id": "qzFuXqVdffSE"
   },
   "outputs": [],
   "source": [
    "df[\"duration (seconds)\"]=df[\"duration (seconds)\"].astype(\"float\")\n",
    "df[\"min\"]=df[\"min\"].astype(\"int32\")\n",
    "df[\"hr\"]=df[\"hr\"].astype(\"int32\")"
   ]
  },
  {
   "cell_type": "code",
   "execution_count": null,
   "metadata": {
    "colab": {
     "base_uri": "https://localhost:8080/",
     "height": 312
    },
    "id": "urozahctkYb4",
    "outputId": "d47a67b0-08b6-4936-86ff-08535fa9b129"
   },
   "outputs": [
    {
     "data": {
      "text/plain": [
       "id                         int64\n",
       "city                      object\n",
       "country                   object\n",
       "shape                     object\n",
       "duration (seconds)       float64\n",
       "latitude                 float64\n",
       "longitude                float64\n",
       "time_of_day               object\n",
       "am/pm                     object\n",
       "hr                         int32\n",
       "min                        int32\n",
       "year                       int64\n",
       "date                       int64\n",
       "month                      int64\n",
       "dayofweek                  int64\n",
       "reported after (days)      int64\n",
       "dtype: object"
      ]
     },
     "execution_count": 314,
     "metadata": {
      "tags": []
     },
     "output_type": "execute_result"
    }
   ],
   "source": [
    "df.dtypes"
   ]
  },
  {
   "cell_type": "markdown",
   "metadata": {
    "id": "9puEQRPYkxF0"
   },
   "source": [
    "# Here we complete the pre-processing. Lets save the processed data. In the next part we will explore the data"
   ]
  },
  {
   "cell_type": "code",
   "execution_count": null,
   "metadata": {
    "id": "kGMLIRSlhGAh"
   },
   "outputs": [],
   "source": [
    "# df.to_csv('/content/drive/My Drive/Colab Notebooks/ufo sightings/pre-processed.csv',index=False)"
   ]
  }
 ],
 "metadata": {
  "colab": {
   "collapsed_sections": [],
   "name": "1) UFO sightings (pre-processing).ipynb",
   "provenance": []
  },
  "kernelspec": {
   "display_name": "Python 3",
   "language": "python",
   "name": "python3"
  },
  "language_info": {
   "codemirror_mode": {
    "name": "ipython",
    "version": 3
   },
   "file_extension": ".py",
   "mimetype": "text/x-python",
   "name": "python",
   "nbconvert_exporter": "python",
   "pygments_lexer": "ipython3",
   "version": "3.7.7"
  }
 },
 "nbformat": 4,
 "nbformat_minor": 0
}
