{
  "nbformat": 4,
  "nbformat_minor": 0,
  "metadata": {
    "colab": {
      "name": "M1(part2a) - Base Model Approach 1.ipynb",
      "provenance": [],
      "collapsed_sections": []
    },
    "kernelspec": {
      "name": "python3",
      "display_name": "Python 3"
    }
  },
  "cells": [
    {
      "cell_type": "markdown",
      "metadata": {
        "id": "h6Hi9tN5flx1"
      },
      "source": [
        "**Approach 1 - Tf-Idf and BOW**<br>\n",
        "**RUN THIS CELL IF RUNNING IN GOOGLE COLAB**"
      ]
    },
    {
      "cell_type": "code",
      "metadata": {
        "id": "8avdKYwN8FFH",
        "colab": {
          "base_uri": "https://localhost:8080/"
        },
        "outputId": "fea6f85a-bce9-47a1-9982-bf8a4be394c8"
      },
      "source": [
        "import sys\n",
        "sys.path.append('/content/drive/MyDrive/Automatic Ticket Assignment')\n",
        "from google.colab import drive\n",
        "drive.mount('/content/drive')"
      ],
      "execution_count": null,
      "outputs": [
        {
          "output_type": "stream",
          "text": [
            "Drive already mounted at /content/drive; to attempt to forcibly remount, call drive.mount(\"/content/drive\", force_remount=True).\n"
          ],
          "name": "stdout"
        }
      ]
    },
    {
      "cell_type": "code",
      "metadata": {
        "id": "1qaArDl5OJD6",
        "colab": {
          "base_uri": "https://localhost:8080/"
        },
        "outputId": "54e465a9-d0b5-4f16-98ac-96774ece3060"
      },
      "source": [
        "import pandas as pd\n",
        "import numpy as np\n",
        "import warnings\n",
        "warnings.filterwarnings('ignore')\n",
        "from sklearn import preprocessing\n",
        "from sklearn.model_selection import train_test_split\n",
        "from imblearn.over_sampling import RandomOverSampler\n",
        "from sklearn.svm import LinearSVC\n",
        "from sklearn.calibration import CalibratedClassifierCV\n",
        "from sklearn.metrics import roc_auc_score, accuracy_score\n",
        "from sklearn.linear_model import LogisticRegression\n",
        "from Model.ModelTuningAndEvaluation import evaluation_metrics\n",
        "from DataTransformation.DataVectorizer import data_vectorizer\n",
        "from ProjectModules.PlottingModule import plot_count_plot\n",
        "from sklearn.ensemble import RandomForestClassifier"
      ],
      "execution_count": null,
      "outputs": [
        {
          "output_type": "stream",
          "text": [
            "installing wordcloud python package...\n",
            "Done!\n"
          ],
          "name": "stdout"
        }
      ]
    },
    {
      "cell_type": "code",
      "metadata": {
        "colab": {
          "base_uri": "https://localhost:8080/",
          "height": 219
        },
        "id": "URtti4Q7OLkq",
        "outputId": "3cdd00cb-34e7-4c20-a9f6-7e8aed777ae4"
      },
      "source": [
        "# RUN THIS DATAPATH IF RUNNING IN GOOGLE COLAB, GIVE THE CORRECT PATH TO THE DATA\n",
        "DATAPATH = '/content/drive/MyDrive/Automatic Ticket Assignment/DataFiles/'\n",
        "# *************************** --------------------------************************************\n",
        "# DATAPATH = 'DataFiles/'\n",
        "\n",
        "data = pd.read_csv(DATAPATH+\"processed_data.csv\")\n",
        "df = data.copy() #making copy of the data\n",
        "print(df.shape)\n",
        "df.head()"
      ],
      "execution_count": null,
      "outputs": [
        {
          "output_type": "stream",
          "text": [
            "(7877, 3)\n"
          ],
          "name": "stdout"
        },
        {
          "output_type": "execute_result",
          "data": {
            "text/html": [
              "<div>\n",
              "<style scoped>\n",
              "    .dataframe tbody tr th:only-of-type {\n",
              "        vertical-align: middle;\n",
              "    }\n",
              "\n",
              "    .dataframe tbody tr th {\n",
              "        vertical-align: top;\n",
              "    }\n",
              "\n",
              "    .dataframe thead th {\n",
              "        text-align: right;\n",
              "    }\n",
              "</style>\n",
              "<table border=\"1\" class=\"dataframe\">\n",
              "  <thead>\n",
              "    <tr style=\"text-align: right;\">\n",
              "      <th></th>\n",
              "      <th>cleaned_short_desc</th>\n",
              "      <th>cleaned_desc</th>\n",
              "      <th>Assignment group</th>\n",
              "    </tr>\n",
              "  </thead>\n",
              "  <tbody>\n",
              "    <tr>\n",
              "      <th>0</th>\n",
              "      <td>login issue</td>\n",
              "      <td>verify user detail employee manager name check...</td>\n",
              "      <td>GRP_0</td>\n",
              "    </tr>\n",
              "    <tr>\n",
              "      <th>1</th>\n",
              "      <td>outlook</td>\n",
              "      <td>team meeting skype meeting etc appear outlook ...</td>\n",
              "      <td>GRP_0</td>\n",
              "    </tr>\n",
              "    <tr>\n",
              "      <th>2</th>\n",
              "      <td>cant log vpn</td>\n",
              "      <td>cannot log vpn best</td>\n",
              "      <td>GRP_0</td>\n",
              "    </tr>\n",
              "    <tr>\n",
              "      <th>3</th>\n",
              "      <td>unable access hr tool page</td>\n",
              "      <td>unable access hr tool page</td>\n",
              "      <td>GRP_0</td>\n",
              "    </tr>\n",
              "    <tr>\n",
              "      <th>4</th>\n",
              "      <td>skype error</td>\n",
              "      <td>skype error</td>\n",
              "      <td>GRP_0</td>\n",
              "    </tr>\n",
              "  </tbody>\n",
              "</table>\n",
              "</div>"
            ],
            "text/plain": [
              "           cleaned_short_desc  ... Assignment group\n",
              "0                 login issue  ...            GRP_0\n",
              "1                     outlook  ...            GRP_0\n",
              "2                cant log vpn  ...            GRP_0\n",
              "3  unable access hr tool page  ...            GRP_0\n",
              "4                 skype error  ...            GRP_0\n",
              "\n",
              "[5 rows x 3 columns]"
            ]
          },
          "metadata": {
            "tags": []
          },
          "execution_count": 3
        }
      ]
    },
    {
      "cell_type": "code",
      "metadata": {
        "colab": {
          "base_uri": "https://localhost:8080/"
        },
        "id": "V5R2z3P1gJUr",
        "outputId": "fc4bde48-a3b3-449f-89e7-980b43c18fd4"
      },
      "source": [
        "print(\"We saw earlier that we have \"+str(df[\"Assignment group\"].nunique())+\" labels in the target variable\")"
      ],
      "execution_count": null,
      "outputs": [
        {
          "output_type": "stream",
          "text": [
            "We saw earlier that we have 74 labels in the target variable\n"
          ],
          "name": "stdout"
        }
      ]
    },
    {
      "cell_type": "code",
      "metadata": {
        "colab": {
          "base_uri": "https://localhost:8080/"
        },
        "id": "WSY3kvGG4v5H",
        "outputId": "58641d33-e958-43ca-ff00-dbcf67bc3cc0"
      },
      "source": [
        "df.isnull().sum()"
      ],
      "execution_count": null,
      "outputs": [
        {
          "output_type": "execute_result",
          "data": {
            "text/plain": [
              "cleaned_short_desc    16\n",
              "cleaned_desc          52\n",
              "Assignment group       0\n",
              "dtype: int64"
            ]
          },
          "metadata": {
            "tags": []
          },
          "execution_count": 5
        }
      ]
    },
    {
      "cell_type": "markdown",
      "metadata": {
        "id": "8Dw6tdiYHUXV"
      },
      "source": [
        "**we can see some missing values but remember that we removed only those records that had missing values in both description and short description columns. If either of the two had text, we retained it<br>\n",
        "The missing text was saved with an empty string in the dataframe during pre-processing, but when we converted it to csv and loaded it again, the empty strings display with NaN**<br>If you'll see there is no record where both description and short description is missing: "
      ]
    },
    {
      "cell_type": "code",
      "metadata": {
        "colab": {
          "base_uri": "https://localhost:8080/",
          "height": 49
        },
        "id": "Ah0qFxOJHDa9",
        "outputId": "83b2d94b-2f91-4b36-82f3-08e5c7da8407"
      },
      "source": [
        "df[(df['cleaned_short_desc'].isnull()) & (df['cleaned_desc'].isnull())]"
      ],
      "execution_count": null,
      "outputs": [
        {
          "output_type": "execute_result",
          "data": {
            "text/html": [
              "<div>\n",
              "<style scoped>\n",
              "    .dataframe tbody tr th:only-of-type {\n",
              "        vertical-align: middle;\n",
              "    }\n",
              "\n",
              "    .dataframe tbody tr th {\n",
              "        vertical-align: top;\n",
              "    }\n",
              "\n",
              "    .dataframe thead th {\n",
              "        text-align: right;\n",
              "    }\n",
              "</style>\n",
              "<table border=\"1\" class=\"dataframe\">\n",
              "  <thead>\n",
              "    <tr style=\"text-align: right;\">\n",
              "      <th></th>\n",
              "      <th>cleaned_short_desc</th>\n",
              "      <th>cleaned_desc</th>\n",
              "      <th>Assignment group</th>\n",
              "    </tr>\n",
              "  </thead>\n",
              "  <tbody>\n",
              "  </tbody>\n",
              "</table>\n",
              "</div>"
            ],
            "text/plain": [
              "Empty DataFrame\n",
              "Columns: [cleaned_short_desc, cleaned_desc, Assignment group]\n",
              "Index: []"
            ]
          },
          "metadata": {
            "tags": []
          },
          "execution_count": 6
        }
      ]
    },
    {
      "cell_type": "markdown",
      "metadata": {
        "id": "i2zIjrM2JrMt"
      },
      "source": [
        "So lets fill NaNs with empty string again"
      ]
    },
    {
      "cell_type": "code",
      "metadata": {
        "id": "AWqwmXTDHSHy"
      },
      "source": [
        "df['cleaned_short_desc'].fillna(value=\"\",inplace=True)\n",
        "df['cleaned_desc'].fillna(value = \"\",inplace=True)"
      ],
      "execution_count": null,
      "outputs": []
    },
    {
      "cell_type": "markdown",
      "metadata": {
        "id": "4HqlOZ0KKaIH"
      },
      "source": [
        "**As stated above, the first method that we'll be taking up is transforming the sequences into tf-idf and bag of words matrices, hence we will combine the cleaned_desc and cleaned_short_desc column into one column named \"combined_tokens\"**"
      ]
    },
    {
      "cell_type": "code",
      "metadata": {
        "colab": {
          "base_uri": "https://localhost:8080/",
          "height": 202
        },
        "id": "ZJRljW9sQQqB",
        "outputId": "8f662a4d-ef28-411a-f619-3d58354dbf2a"
      },
      "source": [
        "df[\"combined_tokens\"] = df[\"cleaned_short_desc\"] +\" \"+ df[\"cleaned_desc\"]\n",
        "df.head()"
      ],
      "execution_count": null,
      "outputs": [
        {
          "output_type": "execute_result",
          "data": {
            "text/html": [
              "<div>\n",
              "<style scoped>\n",
              "    .dataframe tbody tr th:only-of-type {\n",
              "        vertical-align: middle;\n",
              "    }\n",
              "\n",
              "    .dataframe tbody tr th {\n",
              "        vertical-align: top;\n",
              "    }\n",
              "\n",
              "    .dataframe thead th {\n",
              "        text-align: right;\n",
              "    }\n",
              "</style>\n",
              "<table border=\"1\" class=\"dataframe\">\n",
              "  <thead>\n",
              "    <tr style=\"text-align: right;\">\n",
              "      <th></th>\n",
              "      <th>cleaned_short_desc</th>\n",
              "      <th>cleaned_desc</th>\n",
              "      <th>Assignment group</th>\n",
              "      <th>combined_tokens</th>\n",
              "    </tr>\n",
              "  </thead>\n",
              "  <tbody>\n",
              "    <tr>\n",
              "      <th>0</th>\n",
              "      <td>login issue</td>\n",
              "      <td>verify user detail employee manager name check...</td>\n",
              "      <td>GRP_0</td>\n",
              "      <td>login issue verify user detail employee manage...</td>\n",
              "    </tr>\n",
              "    <tr>\n",
              "      <th>1</th>\n",
              "      <td>outlook</td>\n",
              "      <td>team meeting skype meeting etc appear outlook ...</td>\n",
              "      <td>GRP_0</td>\n",
              "      <td>outlook team meeting skype meeting etc appear ...</td>\n",
              "    </tr>\n",
              "    <tr>\n",
              "      <th>2</th>\n",
              "      <td>cant log vpn</td>\n",
              "      <td>cannot log vpn best</td>\n",
              "      <td>GRP_0</td>\n",
              "      <td>cant log vpn cannot log vpn best</td>\n",
              "    </tr>\n",
              "    <tr>\n",
              "      <th>3</th>\n",
              "      <td>unable access hr tool page</td>\n",
              "      <td>unable access hr tool page</td>\n",
              "      <td>GRP_0</td>\n",
              "      <td>unable access hr tool page unable access hr to...</td>\n",
              "    </tr>\n",
              "    <tr>\n",
              "      <th>4</th>\n",
              "      <td>skype error</td>\n",
              "      <td>skype error</td>\n",
              "      <td>GRP_0</td>\n",
              "      <td>skype error skype error</td>\n",
              "    </tr>\n",
              "  </tbody>\n",
              "</table>\n",
              "</div>"
            ],
            "text/plain": [
              "           cleaned_short_desc  ...                                    combined_tokens\n",
              "0                 login issue  ...  login issue verify user detail employee manage...\n",
              "1                     outlook  ...  outlook team meeting skype meeting etc appear ...\n",
              "2                cant log vpn  ...                   cant log vpn cannot log vpn best\n",
              "3  unable access hr tool page  ...  unable access hr tool page unable access hr to...\n",
              "4                 skype error  ...                            skype error skype error\n",
              "\n",
              "[5 rows x 4 columns]"
            ]
          },
          "metadata": {
            "tags": []
          },
          "execution_count": 8
        }
      ]
    },
    {
      "cell_type": "markdown",
      "metadata": {
        "id": "V26TSz8MH7sq"
      },
      "source": [
        "**Before moving ahead, in analysis and pre-processing we saw that 6 target classes had only 1 record. Lets refresh our memories:**"
      ]
    },
    {
      "cell_type": "code",
      "metadata": {
        "id": "NpsHMlcDIg5P",
        "colab": {
          "base_uri": "https://localhost:8080/",
          "height": 971
        },
        "outputId": "269f18a0-8e9c-42d6-f6d0-ee99efe49384"
      },
      "source": [
        "xlabel = \"Assignment Group\"\n",
        "ylabel = \"No. of Descriptions\"\n",
        "values = df[\"Assignment group\"].value_counts().tail(26).to_dict().values()\n",
        "labels = df[\"Assignment group\"].value_counts().tail(26).to_dict().keys()\n",
        "print(\"Last 26 records\")\n",
        "print(df[\"Assignment group\"].value_counts().tail(26),\"\\n\")\n",
        "plot_count_plot(values,labels,xlabel,ylabel)"
      ],
      "execution_count": null,
      "outputs": [
        {
          "output_type": "stream",
          "text": [
            "Last 26 records\n",
            "GRP_53    11\n",
            "GRP_52     9\n",
            "GRP_55     8\n",
            "GRP_51     8\n",
            "GRP_46     6\n",
            "GRP_59     6\n",
            "GRP_49     6\n",
            "GRP_43     5\n",
            "GRP_66     4\n",
            "GRP_32     4\n",
            "GRP_63     3\n",
            "GRP_38     3\n",
            "GRP_56     3\n",
            "GRP_58     3\n",
            "GRP_68     3\n",
            "GRP_57     2\n",
            "GRP_72     2\n",
            "GRP_69     2\n",
            "GRP_54     2\n",
            "GRP_71     2\n",
            "GRP_67     1\n",
            "GRP_61     1\n",
            "GRP_73     1\n",
            "GRP_64     1\n",
            "GRP_35     1\n",
            "GRP_70     1\n",
            "Name: Assignment group, dtype: int64 \n",
            "\n"
          ],
          "name": "stdout"
        },
        {
          "output_type": "display_data",
          "data": {
            "image/png": "[encoded data removed]",
            "text/plain": [
              "<Figure size 1440x504 with 1 Axes>"
            ]
          },
          "metadata": {
            "tags": []
          }
        }
      ]
    },
    {
      "cell_type": "markdown",
      "metadata": {
        "id": "6TDkukgFIwLS"
      },
      "source": [
        "If you see the last 6 records, they have only one ticket assigned to each of them. As a result of this, we will not be able to split in a stratified fashion. A stratified split means to split in train and test split such that the target class distribution is retained. Eg: If the target class had 3 labels: A(75%), B(20%) and C(5%), then the train and test sets, both will have the same proportion of A, B and C as in the original dataset. Now, to make a stratified split, every target class label (in our case assignment group) must have atleast 2 records, so that it can be sent in both the test and train set. However, what we see is that 6 of our labels have only 1 record.<br><br>\n",
        "**WHY DO WE HAVE TO HAVE A STRATIFIED SPLIT ?**<BR>\n",
        "We'll have a problem while calculating the ROC AUC of the multiclass labels. We need to have a startified split to ensure that both the sets (train and test) have all the target classes. Eg: Lets say after splitting without stratify, our train set has datapoints belonging to these 5 classes; A, B, C, D and E and test set has datapoints belonging to only A, C, D and E. Since we'll train on the train set and predict on the test set; it is very likely that atleast one of the test data points will be predicted as B, but there is no B in the test labels. This will cause error while calculating the ROC AUC or other evaluation metrics<br><br>\n",
        "**Now to overcome this issue** we will slightly upsample some of our minority classes. If you'll look at the last 26 records in the above graph, group 53 has 11 tickets assigned and except that all other groups have less than 10 tickets assigned to it. Hence we will upsample all the groups having less than 10 tickets to 10. With this upsampling, each group will be upsampled to 10 simply by duplicating the datapoints in that group.<br><br>**Below we define our sampling strategy: Last 25 groups will be upsampled to 10**"
      ]
    },
    {
      "cell_type": "code",
      "metadata": {
        "colab": {
          "base_uri": "https://localhost:8080/"
        },
        "id": "7q2X0_P7HREu",
        "outputId": "8fceb6ed-660a-4675-d2e7-1e1122af94a4"
      },
      "source": [
        "last25records = df[\"Assignment group\"].value_counts().tail(25).keys().to_list()\n",
        "upsample_strategy = {i:10 for i in last25records}\n",
        "upsample_strategy   "
      ],
      "execution_count": null,
      "outputs": [
        {
          "output_type": "execute_result",
          "data": {
            "text/plain": [
              "{'GRP_32': 10,\n",
              " 'GRP_35': 10,\n",
              " 'GRP_38': 10,\n",
              " 'GRP_43': 10,\n",
              " 'GRP_46': 10,\n",
              " 'GRP_49': 10,\n",
              " 'GRP_51': 10,\n",
              " 'GRP_52': 10,\n",
              " 'GRP_54': 10,\n",
              " 'GRP_55': 10,\n",
              " 'GRP_56': 10,\n",
              " 'GRP_57': 10,\n",
              " 'GRP_58': 10,\n",
              " 'GRP_59': 10,\n",
              " 'GRP_61': 10,\n",
              " 'GRP_63': 10,\n",
              " 'GRP_64': 10,\n",
              " 'GRP_66': 10,\n",
              " 'GRP_67': 10,\n",
              " 'GRP_68': 10,\n",
              " 'GRP_69': 10,\n",
              " 'GRP_70': 10,\n",
              " 'GRP_71': 10,\n",
              " 'GRP_72': 10,\n",
              " 'GRP_73': 10}"
            ]
          },
          "metadata": {
            "tags": []
          },
          "execution_count": 10
        }
      ]
    },
    {
      "cell_type": "code",
      "metadata": {
        "id": "Qbw1fW-YV0Oe",
        "colab": {
          "base_uri": "https://localhost:8080/",
          "height": 219
        },
        "outputId": "7126620b-9f5f-4e81-de2c-d51ab37f9c75"
      },
      "source": [
        "# saving names of the feature columns\n",
        "featnames = list(df.columns[:2]) + list(df.columns[3:])\n",
        "\n",
        "# seperating features and target\n",
        "targetcolumn = df[\"Assignment group\"].values\n",
        "feats = df.drop(['Assignment group'],axis=1).values\n",
        "\n",
        "# initializing RandomOverSampler\n",
        "oversample = RandomOverSampler(sampling_strategy=upsample_strategy, random_state=7)\n",
        "others_up, target_up = oversample.fit_resample(X=feats,y=targetcolumn)\n",
        "others_up = pd.DataFrame(others_up,columns=featnames)\n",
        "target_up = pd.DataFrame(target_up,columns=[\"Assignment group\"])\n",
        "\n",
        "# concatinating features and target after upsampling\n",
        "df = pd.concat([others_up,target_up],axis=1)\n",
        "print(\"dataset size after upsampling:\",df.shape[0])\n",
        "df.head()"
      ],
      "execution_count": null,
      "outputs": [
        {
          "output_type": "stream",
          "text": [
            "dataset size after upsampling: 8040\n"
          ],
          "name": "stdout"
        },
        {
          "output_type": "execute_result",
          "data": {
            "text/html": [
              "<div>\n",
              "<style scoped>\n",
              "    .dataframe tbody tr th:only-of-type {\n",
              "        vertical-align: middle;\n",
              "    }\n",
              "\n",
              "    .dataframe tbody tr th {\n",
              "        vertical-align: top;\n",
              "    }\n",
              "\n",
              "    .dataframe thead th {\n",
              "        text-align: right;\n",
              "    }\n",
              "</style>\n",
              "<table border=\"1\" class=\"dataframe\">\n",
              "  <thead>\n",
              "    <tr style=\"text-align: right;\">\n",
              "      <th></th>\n",
              "      <th>cleaned_short_desc</th>\n",
              "      <th>cleaned_desc</th>\n",
              "      <th>combined_tokens</th>\n",
              "      <th>Assignment group</th>\n",
              "    </tr>\n",
              "  </thead>\n",
              "  <tbody>\n",
              "    <tr>\n",
              "      <th>0</th>\n",
              "      <td>login issue</td>\n",
              "      <td>verify user detail employee manager name check...</td>\n",
              "      <td>login issue verify user detail employee manage...</td>\n",
              "      <td>GRP_0</td>\n",
              "    </tr>\n",
              "    <tr>\n",
              "      <th>1</th>\n",
              "      <td>outlook</td>\n",
              "      <td>team meeting skype meeting etc appear outlook ...</td>\n",
              "      <td>outlook team meeting skype meeting etc appear ...</td>\n",
              "      <td>GRP_0</td>\n",
              "    </tr>\n",
              "    <tr>\n",
              "      <th>2</th>\n",
              "      <td>cant log vpn</td>\n",
              "      <td>cannot log vpn best</td>\n",
              "      <td>cant log vpn cannot log vpn best</td>\n",
              "      <td>GRP_0</td>\n",
              "    </tr>\n",
              "    <tr>\n",
              "      <th>3</th>\n",
              "      <td>unable access hr tool page</td>\n",
              "      <td>unable access hr tool page</td>\n",
              "      <td>unable access hr tool page unable access hr to...</td>\n",
              "      <td>GRP_0</td>\n",
              "    </tr>\n",
              "    <tr>\n",
              "      <th>4</th>\n",
              "      <td>skype error</td>\n",
              "      <td>skype error</td>\n",
              "      <td>skype error skype error</td>\n",
              "      <td>GRP_0</td>\n",
              "    </tr>\n",
              "  </tbody>\n",
              "</table>\n",
              "</div>"
            ],
            "text/plain": [
              "           cleaned_short_desc  ... Assignment group\n",
              "0                 login issue  ...            GRP_0\n",
              "1                     outlook  ...            GRP_0\n",
              "2                cant log vpn  ...            GRP_0\n",
              "3  unable access hr tool page  ...            GRP_0\n",
              "4                 skype error  ...            GRP_0\n",
              "\n",
              "[5 rows x 4 columns]"
            ]
          },
          "metadata": {
            "tags": []
          },
          "execution_count": 11
        }
      ]
    },
    {
      "cell_type": "markdown",
      "metadata": {
        "id": "O-vKTumweABr"
      },
      "source": [
        "**Now we can see that none of the groups have just 1 ticket. All the groups that had <=9 tickets have been upsampled to 10. Printing last 26 records again**"
      ]
    },
    {
      "cell_type": "code",
      "metadata": {
        "colab": {
          "base_uri": "https://localhost:8080/",
          "height": 971
        },
        "id": "28tvo24mZWdY",
        "outputId": "61f4764b-2218-4041-a8a4-52d4bf3e1337"
      },
      "source": [
        "xlabel = \"Assignment Group\"\n",
        "ylabel = \"No. of Descriptions\"\n",
        "values = df[\"Assignment group\"].value_counts().tail(26).to_dict().values()\n",
        "labels = df[\"Assignment group\"].value_counts().tail(26).to_dict().keys()\n",
        "print(\"Last 26 records after upsampling\")\n",
        "print(df[\"Assignment group\"].value_counts().tail(26),\"\\n\")\n",
        "plot_count_plot(values,labels,xlabel,ylabel)"
      ],
      "execution_count": null,
      "outputs": [
        {
          "output_type": "stream",
          "text": [
            "Last 26 records after upsampling\n",
            "GRP_53    11\n",
            "GRP_56    10\n",
            "GRP_57    10\n",
            "GRP_43    10\n",
            "GRP_73    10\n",
            "GRP_55    10\n",
            "GRP_64    10\n",
            "GRP_54    10\n",
            "GRP_66    10\n",
            "GRP_35    10\n",
            "GRP_52    10\n",
            "GRP_38    10\n",
            "GRP_68    10\n",
            "GRP_61    10\n",
            "GRP_67    10\n",
            "GRP_63    10\n",
            "GRP_72    10\n",
            "GRP_69    10\n",
            "GRP_51    10\n",
            "GRP_49    10\n",
            "GRP_59    10\n",
            "GRP_58    10\n",
            "GRP_71    10\n",
            "GRP_70    10\n",
            "GRP_46    10\n",
            "GRP_32    10\n",
            "Name: Assignment group, dtype: int64 \n",
            "\n"
          ],
          "name": "stdout"
        },
        {
          "output_type": "display_data",
          "data": {
            "image/png": "[encoded data removed]",
            "text/plain": [
              "<Figure size 1440x504 with 1 Axes>"
            ]
          },
          "metadata": {
            "tags": []
          }
        }
      ]
    },
    {
      "cell_type": "markdown",
      "metadata": {
        "id": "942v0JU1EfmS"
      },
      "source": [
        "lets save this upsampled data:"
      ]
    },
    {
      "cell_type": "code",
      "metadata": {
        "id": "bYTzpedbEddy"
      },
      "source": [
        "# # USE THIS SAVEPATH IF RUNNING IN GOOGLE COLAB, GIVE THE PATH WHERE YOU WANT TO SAVE\n",
        "# SAVEPATH = '/content/drive/MyDrive/Automatic Ticket Assignment/DataFiles/'\n",
        "# # *************************** --------------------------************************************\n",
        "# # SAVEPATH = 'DataFiles/'\n",
        "\n",
        "# df.to_csv(SAVEPATH+\"upsampled_processed_data.csv\",index=False)"
      ],
      "execution_count": null,
      "outputs": []
    },
    {
      "cell_type": "markdown",
      "metadata": {
        "id": "AVlw27faPqnk"
      },
      "source": [
        "**and we can thus make a stratified 80:20 split:**"
      ]
    },
    {
      "cell_type": "code",
      "metadata": {
        "colab": {
          "base_uri": "https://localhost:8080/"
        },
        "id": "37cBEZHbSk8c",
        "outputId": "8c993065-2931-404c-8862-66b3e3aafadb"
      },
      "source": [
        "x = df[\"combined_tokens\"].values\n",
        "y = df[\"Assignment group\"].values\n",
        "\n",
        "# label encoding the target column\n",
        "le = preprocessing.LabelEncoder()\n",
        "y = le.fit_transform(y)\n",
        "print(\"encoded_classes:\\n\",le.classes_)"
      ],
      "execution_count": null,
      "outputs": [
        {
          "output_type": "stream",
          "text": [
            "encoded_classes:\n",
            " ['GRP_0' 'GRP_1' 'GRP_10' 'GRP_11' 'GRP_12' 'GRP_13' 'GRP_14' 'GRP_15'\n",
            " 'GRP_16' 'GRP_17' 'GRP_18' 'GRP_19' 'GRP_2' 'GRP_20' 'GRP_21' 'GRP_22'\n",
            " 'GRP_23' 'GRP_24' 'GRP_25' 'GRP_26' 'GRP_27' 'GRP_28' 'GRP_29' 'GRP_3'\n",
            " 'GRP_30' 'GRP_31' 'GRP_32' 'GRP_33' 'GRP_34' 'GRP_35' 'GRP_36' 'GRP_37'\n",
            " 'GRP_38' 'GRP_39' 'GRP_4' 'GRP_40' 'GRP_41' 'GRP_42' 'GRP_43' 'GRP_44'\n",
            " 'GRP_45' 'GRP_46' 'GRP_47' 'GRP_48' 'GRP_49' 'GRP_5' 'GRP_50' 'GRP_51'\n",
            " 'GRP_52' 'GRP_53' 'GRP_54' 'GRP_55' 'GRP_56' 'GRP_57' 'GRP_58' 'GRP_59'\n",
            " 'GRP_6' 'GRP_60' 'GRP_61' 'GRP_62' 'GRP_63' 'GRP_64' 'GRP_65' 'GRP_66'\n",
            " 'GRP_67' 'GRP_68' 'GRP_69' 'GRP_7' 'GRP_70' 'GRP_71' 'GRP_72' 'GRP_73'\n",
            " 'GRP_8' 'GRP_9']\n"
          ],
          "name": "stdout"
        }
      ]
    },
    {
      "cell_type": "code",
      "metadata": {
        "colab": {
          "base_uri": "https://localhost:8080/"
        },
        "id": "OSIVWryTPpKt",
        "outputId": "1a7640cb-6deb-4a3c-f6d2-ceca447d609f"
      },
      "source": [
        "x_train, x_test, y_train, y_test = train_test_split(x, y, test_size=0.20, random_state=777, stratify=y)\n",
        "\n",
        "print(\"train set\",x_train.shape,\"\\n\")\n",
        "print(\"test set\",x_test.shape)"
      ],
      "execution_count": null,
      "outputs": [
        {
          "output_type": "stream",
          "text": [
            "train set (6432,) \n",
            "\n",
            "test set (1608,)\n"
          ],
          "name": "stdout"
        }
      ]
    },
    {
      "cell_type": "markdown",
      "metadata": {
        "id": "8RHcPiS0twDa"
      },
      "source": [
        "**Converting to bow and tf-idf:**<br>\n",
        "In both cases<br>\n",
        "- we will take max_df = 0.80 i.e if a word appears in more than 80% of the records it will be ignored<br>\n",
        "- we will take max_feat = 2000 i.e consider only top 2000 words in the vocabulary based on their term frequency<br>\n",
        "\n",
        "**To know more, please refer the docstring of the function**"
      ]
    },
    {
      "cell_type": "code",
      "metadata": {
        "colab": {
          "base_uri": "https://localhost:8080/"
        },
        "id": "zNBV0X5yRvzi",
        "outputId": "ced69bb2-4770-44cc-e0ff-82c42ce4cdce"
      },
      "source": [
        "print(data_vectorizer.__doc__)"
      ],
      "execution_count": null,
      "outputs": [
        {
          "output_type": "stream",
          "text": [
            "\n",
            "  Converts the train and test set into BagOfWords or Tf-Idf matrix. Returns two arrays for train set and test set\n",
            "  of size (document size,max_feat)\n",
            "  \n",
            "  xtr: train set (array)\n",
            "\n",
            "  xte: test set (array)\n",
            "\n",
            "  maxdf: ignores terms/words that have a document frequency higher than 'maxdf'. In other words, it ignores terms that\n",
            "  appear in more than 'maxdf' number of documents/records. Give value between 0 and 1. Default value = 0.6(60%)\n",
            "\n",
            "  max_feat: builds a vocabulary considering only top \"max_features\" ordered by term frequency across the corpus. Default value = 1000\n",
            "\n",
            "  vectorizer: enter 'bow' for bag of words transformation or 'tfidf' for Tf-Idf transformation. Default value = 'bow' (string)\n",
            "  \n"
          ],
          "name": "stdout"
        }
      ]
    },
    {
      "cell_type": "code",
      "metadata": {
        "colab": {
          "base_uri": "https://localhost:8080/"
        },
        "id": "VqXutBMfXu-c",
        "outputId": "3d41db78-160c-4e8d-b64a-6f5c021f1e71"
      },
      "source": [
        "x_train_bow, x_test_bow = data_vectorizer(xtr=x_train,xte=x_test,maxdf=0.80,max_feat=2000)\n",
        "\n",
        "print(\"Bag Of Words\")\n",
        "print(\"train set\",x_train_bow.shape,\"\\n\")\n",
        "print(\"test set\",x_test_bow.shape)"
      ],
      "execution_count": null,
      "outputs": [
        {
          "output_type": "stream",
          "text": [
            "Bag Of Words\n",
            "train set (6432, 2000) \n",
            "\n",
            "test set (1608, 2000)\n"
          ],
          "name": "stdout"
        }
      ]
    },
    {
      "cell_type": "code",
      "metadata": {
        "colab": {
          "base_uri": "https://localhost:8080/"
        },
        "id": "td0OUoiWYab0",
        "outputId": "e2fc7ee2-b3bb-4841-b046-76b8c5ad3e27"
      },
      "source": [
        "x_train_tfidf, x_test_tfidf = data_vectorizer(xtr=x_train,xte=x_test,maxdf=0.80,max_feat=2000,vectorizer=\"tfidf\")\n",
        "\n",
        "print(\"Tfidf\")\n",
        "print(\"train set\",x_train_tfidf.shape,\"\\n\")\n",
        "print(\"test set\",x_test_tfidf.shape)"
      ],
      "execution_count": null,
      "outputs": [
        {
          "output_type": "stream",
          "text": [
            "Tfidf\n",
            "train set (6432, 2000) \n",
            "\n",
            "test set (1608, 2000)\n"
          ],
          "name": "stdout"
        }
      ]
    },
    {
      "cell_type": "markdown",
      "metadata": {
        "id": "xMRemxpSp_cW"
      },
      "source": [
        "**Trying base models:**<br><br>\n",
        "**LinearSVC**, **Logistic Regression** and **Random Forest** will be the first set of base models of our choice<br>\n",
        "- Although we are using Random Forest model but it is expected that it wont be as good as our other two choices because theoretically tree based models flunk in higher dimensions and we have a massive dimensionality of 2000 after Tf-Idf and BOW data transformation<br>\n",
        "- Also k-nearest neighbors may or may not work but given the size of the dataset and the dimensions training KNN's would be painfully slow. Hence training a KNN model is not computationally viable<br>\n",
        "- Naive Bayes can also be ignored in this use case even though it performs in higher dimensions because we have a highly skewed target class. High skewness especially affects Naive Bayes because prior probability of minority class tends to be zero<br>\n"
      ]
    },
    {
      "cell_type": "markdown",
      "metadata": {
        "id": "yd9Lg_OTzNNf"
      },
      "source": [
        "**Note that we are using LinearSVC instead of classical SVC with different kernals since they will be computationally expensive to train as well. Some key differences that make LinearSVC faster is as follows:**<br>\n",
        "- For multi-class classification problem SVC fits N * (N - 1) / 2 models where N is the amount of classes. LinearSVC, by contrast, simply fits N models<br>\n",
        "- The underlying estimator for LinearSVC is liblinear while SVC uses libsvm estimator. liblinear estimators are optimized for a linear case and thus converge faster on big amounts of data than libsvm. That is why LinearSVC takes less time to solve the problem.\n",
        "- In practice the complexity of the SVC algorithm (that works both for kernel and linear SVC) as implemented in libsvm is O(n^2) or O(n^3) whereas liblinear is O(n) but it does not support kernel SVCs."
      ]
    },
    {
      "cell_type": "markdown",
      "metadata": {
        "id": "F9f9j5bnzXth"
      },
      "source": [
        "**Also as we mentioned before, we will be calculating ROC_AUC for the models which requires us to predict class probabilities.** Logistic Regression by default calculates probabilities which can be obtained simply by predict_proba() but SVM's do not. SVC can calculate the probabilities if we set probability = True but LinearSVC does not have support for this. Hence to obtain probabilities for LinearSVM we will be wrapping it inside a CalibratedClassifier<br><br>\n",
        "**How does it calibrate?**<br>\n",
        "First it finds probabilities with which LinearSVC classifies (The same way regular SVC does when we set probability = True). This is done by calculating p(j|x) i.e given a sample x, knowing its distance from the\n",
        "separating hyperplane and the class to which it belongs, it finds the probability with which x belongs to class j<br>Then the CalibratedClassifier further calibrates these probabilities by fitting a regressor that maps the output of the classifier (LinearSVC) to the calibrated probability between 0 and 1. In simpler words, it tries to predict p(yi=1|x) for a sample x<br><br><hr>"
      ]
    },
    {
      "cell_type": "markdown",
      "metadata": {
        "id": "fnDQA6dy1zwe"
      },
      "source": [
        "**Now lets have a look at our evaluation metric.** We will print f1-score, accuracy as well as ROC-AUC score. Ideally, ROC-AUC is for binary classification but it can be modified for multi-class as well. Below is our function for printing Accuracy, AUC and f1-score imported from ModelTuningAndEvaluation.py file:"
      ]
    },
    {
      "cell_type": "code",
      "metadata": {
        "colab": {
          "base_uri": "https://localhost:8080/"
        },
        "id": "A3OEy8KtzG00",
        "outputId": "6a1412d5-b320-4176-df42-d11f289f3a2b"
      },
      "source": [
        "print(evaluation_metrics.__doc__)"
      ],
      "execution_count": null,
      "outputs": [
        {
          "output_type": "stream",
          "text": [
            "\n",
            "  Prints Accuracy, F1-Score and ROC-AUC score using Sklearn. Since we have multiclass classification you will need to specify \n",
            "  multi-class strategy and averaging strategy.\n",
            "  NOTE THAT: \n",
            "  - ROC-AUC only support macro averaging; while f1-score supports both macro and micro\n",
            "  - F1-score does not have multi-class parameter hence it does not take 'ovo' or 'ovr' into account. ROC-AUC supports multiclass\n",
            "  - Accuracy is independent of these two parameters. They are not applicable to accuracy\n",
            "\n",
            "  ytrue: true labels (array/list/series)\n",
            "  ypred_proba: predicted probabilities (array/list/series)\n",
            "  multiclass: multi-class strategy; enter 'ovr' for OneVsRest and 'ovo' for OneVsOne (string)\n",
            "  avg: averaging strategy; accepts 'micro', 'macro' and 'weighted' (string)\n",
            "  \n"
          ],
          "name": "stdout"
        }
      ]
    },
    {
      "cell_type": "markdown",
      "metadata": {
        "id": "pkHafkiF00qc"
      },
      "source": [
        "As we can see, it takes two special arguments; **'multiclass'** and **'avg'**<br><br> **multiclass argument** can take 2 string values: 'ovr' which implements OneVsRest and 'ovo' which implements OneVsOne. 'ovr' can be implemented with models that natively support multi-class classification like logistic regression, neural networks etc. while 'ovo' can be used with others as well. Especially, 'ovo' is preferred for SVM's and other kernel methods because these methods does not scale in proportion to the size of the training dataset and takes a large amount of time to train when dataset is huge. Hence for these methods we train dataset in subsets which may affect the evaluation metrics. **Hence we will use 'ovo' for our use case**<br><br>**avg argument** can take 3 string values: \"micro\", \"macro\" and \"weighted\". We will focus on micro and macro mainly<br>**Micro:** lets look at micro averaging with an example. Say we are calculating precision for a multiclass problem. Precision is calculated by TP/TP+FP. Now since we have a multi class problem we will have TP's and FP's for every class. Hence the average precision with 'micro' is given by (sum of all TP's)/(sum of all TP's) + (sum of all FP's) i.e (TP1+TP2+...+TPn)/(TP1+TP2+...+TPn) + (FP1+FP2+...+FPn)<br>Similarly, Recall will be calculated with the same averaging technique<br>**Macro:** macro averaging on the other hand is pretty straight forward. Again taking the example of precision, it calculates precision individually for each class and averages it. Eg: Lets say we have 'n' classes. Therefore we will have 'n' precision scores (p1, p2, p3...., pn). Now the average precision score would be (p1+p2+p3+...+pn)/n<br>Similarly, Recall will be calculated with the same averaging technique<br><br>**When we have balanced classes micro and macro metrics will be almost similar, however when we have class imbalance, macro averaging will always be less than micro; since the metric calculated for each class is individually averaged. So lets say if a particular class has very low recall (or precision) compared to other classes, the mean will be affected because of that class and will decrease**<br><br>\r\n",
        "**Also according to the sklearn's documentation... when micro averaging, micro F1-Score = micro precision = micro Recall = Accuracy in case of multi-class classification where a datapoint belongs to exactly 1 class. This behaviour can be explained with a simple example:**<br>Precision = tp/tp+fp and Recall = tp/tp+fn. So numerator is same. In denominator we have, fp and fn. Now, fn with respect to one class is same as fp with respect to another class, hence fp=fn, and so now denominator is also same. Therefore precision = Recall and thus harmonic mean between the two i.e f1-score will also be same in case of micro-averaging. **Now if we micro-average, say for 'n' classes**, The formula would be:<br>micro precision = [(tp1+tp2+tp3+...+tpn)/(tp1+tp2+tp3+...+tpn) + (fp1+fp2+fp3+...+fpn)] = [(tp1+tp2+tp3+...+tpn)/(tp1+tp2+tp3+...+tpn) + (fn1+fn2+fn3+...+fnn)]<br>**Since fp=fn; the denominator becomes all positives + allnegatives i.e total number of samples** and **numerator is all positives (tp) i.e all correctly classified samples.** So all **all correctly classified/total no. of samples = accuracy.** Thus in micro-averaging, F1-Score = micro precision = micro Recall = Accuracy\r\n",
        "<br><br>\"*In a broad sense, 'micro' gives the overall performance of the model despite having class imbalance while 'macro' takes into account the effects minority classes and gives the performance accordingly. Hence we will monitor macro metrics i.e macro ROC-AUC and macro F1-Score ----and---- accuracy since it will give the overall performance of the model and is equal to micro metrics*\"<br>**NOTE THAT:**<br>\r\n",
        "- ROC-AUC only support macro averaging; while f1-score supports both macro and micro<br>\r\n",
        "- F1-score does not have multiclass parameter hence it does not take 'ovo' or 'ovr' into account but ROC-AUC supports multiclass parameter hence we'll be using 'ovo'<br>\r\n",
        "- Accuracy is independent of these two parameters. They are not applicable to accuracy. But since accuracy will give the micro performance (i.e overall performance of the model despite class imbalance), we will monitor it too\r\n",
        "\r\n",
        "<br><br>\r\n",
        "**LinearSVC with calibration:**<br>\r\n",
        "Predicting on BOW transformation"
      ]
    },
    {
      "cell_type": "code",
      "metadata": {
        "colab": {
          "base_uri": "https://localhost:8080/"
        },
        "id": "y56kMfJ2j73d",
        "outputId": "0103ca31-4be9-4571-d5df-e408f9d5d063"
      },
      "source": [
        "model = LinearSVC(random_state=111)\n",
        "\n",
        "# pre-fitting LinearSVC and then wrapping it in the calibrated classifier\n",
        "model.fit(x_train_bow,y_train)\n",
        "calibrated_model = CalibratedClassifierCV(model, cv=\"prefit\")\n",
        "\n",
        "# calibrating probabilities on the train set. Note that the svm has already been pre-fitted\n",
        "calibrated_model.fit(x_train_bow,y_train)"
      ],
      "execution_count": null,
      "outputs": [
        {
          "output_type": "execute_result",
          "data": {
            "text/plain": [
              "CalibratedClassifierCV(base_estimator=LinearSVC(C=1.0, class_weight=None,\n",
              "                                                dual=True, fit_intercept=True,\n",
              "                                                intercept_scaling=1,\n",
              "                                                loss='squared_hinge',\n",
              "                                                max_iter=1000,\n",
              "                                                multi_class='ovr', penalty='l2',\n",
              "                                                random_state=111, tol=0.0001,\n",
              "                                                verbose=0),\n",
              "                       cv='prefit', method='sigmoid')"
            ]
          },
          "metadata": {
            "tags": []
          },
          "execution_count": 20
        }
      ]
    },
    {
      "cell_type": "code",
      "metadata": {
        "id": "GpralZHogizW",
        "colab": {
          "base_uri": "https://localhost:8080/"
        },
        "outputId": "cbe63f53-3d68-440a-e7e4-ad5b478552e7"
      },
      "source": [
        "# predicting probabilities on the train and test set\n",
        "tr_pred_bow = calibrated_model.predict_proba(x_train_bow)\n",
        "te_pred_bow = calibrated_model.predict_proba(x_test_bow)\n",
        "\n",
        "print(\"Train set performance:\")\n",
        "evaluation_metrics(y_train, tr_pred_bow, \"ovo\", \"macro\")\n",
        "\n",
        "print(\"\\nTest set performance:\")\n",
        "evaluation_metrics(y_test, te_pred_bow, \"ovo\", \"macro\")\n",
        "\n",
        "print(\"\\n**As explained above - micro-metrics will be similar to accuracy\")"
      ],
      "execution_count": null,
      "outputs": [
        {
          "output_type": "stream",
          "text": [
            "Train set performance:\n",
            "Accuracy: 0.9365671641791045\n",
            "(macro) ROC-AUC: 0.9994647272462003\n",
            "(macro) F1 Score: 0.9328508582889518\n",
            "\n",
            "Test set performance:\n",
            "Accuracy: 0.6330845771144279\n",
            "(macro) ROC-AUC: 0.8962155772165858\n",
            "(macro) F1 Score: 0.4833211924530807\n",
            "\n",
            "**As explained above - micro-metrics will be similar to accuracy\n"
          ],
          "name": "stdout"
        }
      ]
    },
    {
      "cell_type": "markdown",
      "metadata": {
        "id": "t5hJivrvmwY4"
      },
      "source": [
        "Predicting on Tf-Idf transformation"
      ]
    },
    {
      "cell_type": "code",
      "metadata": {
        "colab": {
          "base_uri": "https://localhost:8080/"
        },
        "id": "CJT4Bm7ynqsl",
        "outputId": "77d22f2c-d87b-45f9-c48a-d3ad93934085"
      },
      "source": [
        "# As before, pre-fitting LinearSVC and then wrapping it in the calibrated classifier\n",
        "model.fit(x_train_tfidf,y_train)\n",
        "calibrated_model = CalibratedClassifierCV(model, cv=\"prefit\")\n",
        "\n",
        "# calibrating probabilities on the train set. Note that the svm has already been pre-fitted\n",
        "calibrated_model.fit(x_train_tfidf,y_train)"
      ],
      "execution_count": null,
      "outputs": [
        {
          "output_type": "execute_result",
          "data": {
            "text/plain": [
              "CalibratedClassifierCV(base_estimator=LinearSVC(C=1.0, class_weight=None,\n",
              "                                                dual=True, fit_intercept=True,\n",
              "                                                intercept_scaling=1,\n",
              "                                                loss='squared_hinge',\n",
              "                                                max_iter=1000,\n",
              "                                                multi_class='ovr', penalty='l2',\n",
              "                                                random_state=111, tol=0.0001,\n",
              "                                                verbose=0),\n",
              "                       cv='prefit', method='sigmoid')"
            ]
          },
          "metadata": {
            "tags": []
          },
          "execution_count": 25
        }
      ]
    },
    {
      "cell_type": "code",
      "metadata": {
        "id": "50_9--k8hMic",
        "colab": {
          "base_uri": "https://localhost:8080/"
        },
        "outputId": "59b10151-803d-438a-98af-6c353e5e9dea"
      },
      "source": [
        "# predicting probabilities on the train and test set\n",
        "tr_pred_tfidf = calibrated_model.predict_proba(x_train_tfidf)\n",
        "te_pred_tfidf = calibrated_model.predict_proba(x_test_tfidf)\n",
        "\n",
        "print(\"Train set performance:\")\n",
        "evaluation_metrics(y_train, tr_pred_tfidf, \"ovo\", \"macro\")\n",
        "\n",
        "print(\"\\nTest set performance:\")\n",
        "evaluation_metrics(y_test, te_pred_tfidf, \"ovo\", \"macro\")\n",
        "\n",
        "print(\"\\n**As explained above - micro-metrics will be similar to accuracy\")"
      ],
      "execution_count": null,
      "outputs": [
        {
          "output_type": "stream",
          "text": [
            "Train set performance:\n",
            "Accuracy: 0.9032960199004975\n",
            "(macro) ROC-AUC: 0.9988507366827656\n",
            "(macro) F1 Score: 0.9056044626916231\n",
            "\n",
            "Test set performance:\n",
            "Accuracy: 0.6735074626865671\n",
            "(macro) ROC-AUC: 0.9325336849999616\n",
            "(macro) F1 Score: 0.5211461780516881\n",
            "\n",
            "**As explained above - micro-metrics will be similar to accuracy\n"
          ],
          "name": "stdout"
        }
      ]
    },
    {
      "cell_type": "markdown",
      "metadata": {
        "id": "K0PVcwYwpc6E"
      },
      "source": [
        "**LogisticRegression:**<br>\n",
        "Predicting on BOW transformation"
      ]
    },
    {
      "cell_type": "code",
      "metadata": {
        "id": "Xsmz0YlsHxCr",
        "colab": {
          "base_uri": "https://localhost:8080/"
        },
        "outputId": "e2381be2-1f77-49a3-93e9-4431941ac224"
      },
      "source": [
        "model = LogisticRegression(random_state=77)\n",
        "model.fit(x_train_bow,y_train)"
      ],
      "execution_count": null,
      "outputs": [
        {
          "output_type": "execute_result",
          "data": {
            "text/plain": [
              "LogisticRegression(C=1.0, class_weight=None, dual=False, fit_intercept=True,\n",
              "                   intercept_scaling=1, l1_ratio=None, max_iter=100,\n",
              "                   multi_class='auto', n_jobs=None, penalty='l2',\n",
              "                   random_state=77, solver='lbfgs', tol=0.0001, verbose=0,\n",
              "                   warm_start=False)"
            ]
          },
          "metadata": {
            "tags": []
          },
          "execution_count": 27
        }
      ]
    },
    {
      "cell_type": "code",
      "metadata": {
        "id": "DEurBIFAHxMr",
        "colab": {
          "base_uri": "https://localhost:8080/"
        },
        "outputId": "2274914f-fdc6-406b-aec1-17e5b1735c1b"
      },
      "source": [
        "# predicting probabilities on train and test set\n",
        "tr_pred_bow = model.predict_proba(x_train_bow)\n",
        "te_pred_bow = model.predict_proba(x_test_bow)\n",
        "\n",
        "print(\"Train set performance:\")\n",
        "evaluation_metrics(y_train, tr_pred_bow, \"ovo\", \"macro\")\n",
        "\n",
        "print(\"\\nTest set performance:\")\n",
        "evaluation_metrics(y_test, te_pred_bow, \"ovo\", \"macro\")\n",
        "\n",
        "print(\"\\n**As explained above - micro-metrics will be similar to accuracy\")"
      ],
      "execution_count": null,
      "outputs": [
        {
          "output_type": "stream",
          "text": [
            "Train set performance:\n",
            "Accuracy: 0.912157960199005\n",
            "(macro) ROC-AUC: 0.998952622279794\n",
            "(macro) F1 Score: 0.903725272502668\n",
            "\n",
            "Test set performance:\n",
            "Accuracy: 0.6772388059701493\n",
            "(macro) ROC-AUC: 0.9422332794435891\n",
            "(macro) F1 Score: 0.514523393360877\n",
            "\n",
            "**As explained above - micro-metrics will be similar to accuracy\n"
          ],
          "name": "stdout"
        }
      ]
    },
    {
      "cell_type": "markdown",
      "metadata": {
        "id": "EOR3bGDCrBQX"
      },
      "source": [
        "Predicting on Tf-Idf transformation"
      ]
    },
    {
      "cell_type": "code",
      "metadata": {
        "colab": {
          "base_uri": "https://localhost:8080/"
        },
        "id": "Y7qVV2uWrOzh",
        "outputId": "513a2a51-0b1a-4dbe-ae86-dbcc137d5752"
      },
      "source": [
        "model = LogisticRegression(random_state=77)\n",
        "model.fit(x_train_tfidf,y_train)"
      ],
      "execution_count": null,
      "outputs": [
        {
          "output_type": "execute_result",
          "data": {
            "text/plain": [
              "LogisticRegression(C=1.0, class_weight=None, dual=False, fit_intercept=True,\n",
              "                   intercept_scaling=1, l1_ratio=None, max_iter=100,\n",
              "                   multi_class='auto', n_jobs=None, penalty='l2',\n",
              "                   random_state=77, solver='lbfgs', tol=0.0001, verbose=0,\n",
              "                   warm_start=False)"
            ]
          },
          "metadata": {
            "tags": []
          },
          "execution_count": 29
        }
      ]
    },
    {
      "cell_type": "code",
      "metadata": {
        "id": "ifDX0aFwJDKT",
        "colab": {
          "base_uri": "https://localhost:8080/"
        },
        "outputId": "5b513e3f-0d20-4c3d-ddc0-22549d54681b"
      },
      "source": [
        "# predicting probabilities on train and test set\n",
        "tr_pred_tfidf = model.predict_proba(x_train_tfidf)\n",
        "te_pred_tfidf = model.predict_proba(x_test_tfidf)\n",
        "\n",
        "print(\"Train set performance:\")\n",
        "evaluation_metrics(y_train, tr_pred_tfidf, \"ovo\", \"macro\")\n",
        "\n",
        "print(\"\\nTest set performance:\")\n",
        "evaluation_metrics(y_test, te_pred_tfidf, \"ovo\", \"macro\")\n",
        "\n",
        "print(\"\\n**As explained above - micro-metrics will be similar to accuracy\")"
      ],
      "execution_count": null,
      "outputs": [
        {
          "output_type": "stream",
          "text": [
            "Train set performance:\n",
            "Accuracy: 0.6915422885572139\n",
            "(macro) ROC-AUC: 0.9765793359413277\n",
            "(macro) F1 Score: 0.31356858754198524\n",
            "\n",
            "Test set performance:\n",
            "Accuracy: 0.6305970149253731\n",
            "(macro) ROC-AUC: 0.9145008549676923\n",
            "(macro) F1 Score: 0.22749184167268832\n",
            "\n",
            "**As explained above - micro-metrics will be similar to accuracy\n"
          ],
          "name": "stdout"
        }
      ]
    },
    {
      "cell_type": "markdown",
      "metadata": {
        "id": "6QuC13XatJKG"
      },
      "source": [
        "**RandomForest:**<br>\n",
        "Predicting on BOW transformation"
      ]
    },
    {
      "cell_type": "code",
      "metadata": {
        "colab": {
          "base_uri": "https://localhost:8080/"
        },
        "id": "2oK5Jd2crzm7",
        "outputId": "e303b407-7eba-4273-f055-7687819aec03"
      },
      "source": [
        "model = RandomForestClassifier(random_state=7711)\n",
        "model.fit(x_train_bow,y_train)"
      ],
      "execution_count": null,
      "outputs": [
        {
          "output_type": "execute_result",
          "data": {
            "text/plain": [
              "RandomForestClassifier(bootstrap=True, ccp_alpha=0.0, class_weight=None,\n",
              "                       criterion='gini', max_depth=None, max_features='auto',\n",
              "                       max_leaf_nodes=None, max_samples=None,\n",
              "                       min_impurity_decrease=0.0, min_impurity_split=None,\n",
              "                       min_samples_leaf=1, min_samples_split=2,\n",
              "                       min_weight_fraction_leaf=0.0, n_estimators=100,\n",
              "                       n_jobs=None, oob_score=False, random_state=7711,\n",
              "                       verbose=0, warm_start=False)"
            ]
          },
          "metadata": {
            "tags": []
          },
          "execution_count": 31
        }
      ]
    },
    {
      "cell_type": "code",
      "metadata": {
        "colab": {
          "base_uri": "https://localhost:8080/"
        },
        "id": "5eNHF-rnrzp1",
        "outputId": "f96c84c2-0aa2-4556-cda7-5a193d9bf479"
      },
      "source": [
        "# predicting probabilities on train and test set\n",
        "tr_pred_bow = model.predict_proba(x_train_bow)\n",
        "te_pred_bow = model.predict_proba(x_test_bow)\n",
        "\n",
        "print(\"Train set performance:\")\n",
        "evaluation_metrics(y_train, tr_pred_bow, \"ovo\", \"macro\")\n",
        "\n",
        "print(\"\\nTest set performance:\")\n",
        "evaluation_metrics(y_test, te_pred_bow, \"ovo\", \"macro\")\n",
        "\n",
        "print(\"\\n**As explained above - micro-metrics will be similar to accuracy\")"
      ],
      "execution_count": null,
      "outputs": [
        {
          "output_type": "stream",
          "text": [
            "Train set performance:\n",
            "Accuracy: 0.9575559701492538\n",
            "(macro) ROC-AUC: 0.9994232944288503\n",
            "(macro) F1 Score: 0.9532052114889993\n",
            "\n",
            "Test set performance:\n",
            "Accuracy: 0.6467661691542289\n",
            "(macro) ROC-AUC: 0.9144724774484881\n",
            "(macro) F1 Score: 0.4527389240555662\n",
            "\n",
            "**As explained above - micro-metrics will be similar to accuracy\n"
          ],
          "name": "stdout"
        }
      ]
    },
    {
      "cell_type": "markdown",
      "metadata": {
        "id": "BqkPSrUDtH9f"
      },
      "source": [
        "Predicting on Tf-Idf transformation"
      ]
    },
    {
      "cell_type": "code",
      "metadata": {
        "colab": {
          "base_uri": "https://localhost:8080/"
        },
        "id": "SevbPU12rzr7",
        "outputId": "b9e9a575-7e39-4147-9cf2-25294d63400a"
      },
      "source": [
        "model = RandomForestClassifier(random_state=7711)\n",
        "model.fit(x_train_tfidf,y_train)"
      ],
      "execution_count": null,
      "outputs": [
        {
          "output_type": "execute_result",
          "data": {
            "text/plain": [
              "RandomForestClassifier(bootstrap=True, ccp_alpha=0.0, class_weight=None,\n",
              "                       criterion='gini', max_depth=None, max_features='auto',\n",
              "                       max_leaf_nodes=None, max_samples=None,\n",
              "                       min_impurity_decrease=0.0, min_impurity_split=None,\n",
              "                       min_samples_leaf=1, min_samples_split=2,\n",
              "                       min_weight_fraction_leaf=0.0, n_estimators=100,\n",
              "                       n_jobs=None, oob_score=False, random_state=7711,\n",
              "                       verbose=0, warm_start=False)"
            ]
          },
          "metadata": {
            "tags": []
          },
          "execution_count": 33
        }
      ]
    },
    {
      "cell_type": "code",
      "metadata": {
        "colab": {
          "base_uri": "https://localhost:8080/"
        },
        "id": "ErpL0KeRrzuM",
        "outputId": "d183c988-89ac-4618-e13f-4fbfbd2ac381"
      },
      "source": [
        "# predicting probabilities on train and test set\n",
        "tr_pred_tfidf = model.predict_proba(x_train_tfidf)\n",
        "te_pred_tfidf = model.predict_proba(x_test_tfidf)\n",
        "\n",
        "print(\"Train set performance:\")\n",
        "evaluation_metrics(y_train, tr_pred_tfidf, \"ovo\", \"macro\")\n",
        "\n",
        "print(\"\\nTest set performance:\")\n",
        "evaluation_metrics(y_test, te_pred_tfidf, \"ovo\", \"macro\")\n",
        "\n",
        "print(\"\\n**As explained above - micro-metrics will be similar to accuracy\")"
      ],
      "execution_count": null,
      "outputs": [
        {
          "output_type": "stream",
          "text": [
            "Train set performance:\n",
            "Accuracy: 0.9572450248756219\n",
            "(macro) ROC-AUC: 0.9994365413484018\n",
            "(macro) F1 Score: 0.9526260659402681\n",
            "\n",
            "Test set performance:\n",
            "Accuracy: 0.6592039800995025\n",
            "(macro) ROC-AUC: 0.9226856890065748\n",
            "(macro) F1 Score: 0.46347841847219884\n",
            "\n",
            "**As explained above - micro-metrics will be similar to accuracy\n"
          ],
          "name": "stdout"
        }
      ]
    },
    {
      "cell_type": "markdown",
      "metadata": {
        "id": "mzhdXqubAkRa"
      },
      "source": [
        "### Here we conclude our 1st approach. These were our 1st set of base models with Tf-Idf and BOW transformation of the dataset.<br> In the next part we have our 2nd approach, using a deep learning model that widely benefits sequential modelling; LSTM (part2b)"
      ]
    }
  ]
}