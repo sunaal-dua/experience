{
  "nbformat": 4,
  "nbformat_minor": 0,
  "metadata": {
    "colab": {
      "name": "M2(part2) - Model Tuning.ipynb",
      "provenance": [],
      "collapsed_sections": []
    },
    "kernelspec": {
      "name": "python3",
      "display_name": "Python 3"
    },
    "accelerator": "GPU"
  },
  "cells": [
    {
      "cell_type": "markdown",
      "metadata": {
        "id": "shcI2x076BVU"
      },
      "source": [
        "### **Continuing Model Tuning**<br>\r\n",
        "In previous part we decided upon the architecture and tested a different optimizer. We concluded that model 5 and adam optimizer works best.<br>\r\n",
        "**In this part we will find the optimum learning rate, following which we will train for longer epochs with various callbacks to avoid overfitting**"
      ]
    },
    {
      "cell_type": "code",
      "metadata": {
        "colab": {
          "base_uri": "https://localhost:8080/"
        },
        "id": "sR9Uf5Mycs1U",
        "outputId": "d5137eb9-680b-408b-849b-9bdf8bc9fd5b"
      },
      "source": [
        "import sys\r\n",
        "sys.path.append('/content/drive/MyDrive/Automatic Ticket Assignment')\r\n",
        "from google.colab import drive\r\n",
        "drive.mount('/content/drive')"
      ],
      "execution_count": null,
      "outputs": [
        {
          "output_type": "stream",
          "text": [
            "Drive already mounted at /content/drive; to attempt to forcibly remount, call drive.mount(\"/content/drive\", force_remount=True).\n"
          ],
          "name": "stdout"
        }
      ]
    },
    {
      "cell_type": "code",
      "metadata": {
        "id": "iogSiaWIcxsH"
      },
      "source": [
        "import pandas as pd\r\n",
        "import numpy as np\r\n",
        "import warnings\r\n",
        "warnings.filterwarnings('ignore')\r\n",
        "from tensorflow.keras.models import Model\r\n",
        "from tensorflow.keras.layers import LSTM, Embedding, Dense, TimeDistributed, Dropout, Bidirectional, Input, GlobalMaxPool1D, Flatten\r\n",
        "from Model.DLModelTuningAndEvaluation import *\r\n",
        "from keras.models import load_model\r\n",
        "import math\r\n",
        "from sklearn.metrics import recall_score, precision_score, classification_report"
      ],
      "execution_count": null,
      "outputs": []
    },
    {
      "cell_type": "markdown",
      "metadata": {
        "id": "vL4aGDdc6-6r"
      },
      "source": [
        "**Loading GloVeEmbeddingMatrix, train set, train labels, test set and test labels that we saved in Milestone 1 part2b:**"
      ]
    },
    {
      "cell_type": "code",
      "metadata": {
        "colab": {
          "base_uri": "https://localhost:8080/"
        },
        "id": "9l8gYqFPczh-",
        "outputId": "4bf4af65-1b93-459a-bac9-0c16f104a3cc"
      },
      "source": [
        "# USE THIS SAVEPATH IF RUNNING IN GOOGLE COLAB, GIVE THE PATH WHERE YOU WANT TO SAVE\r\n",
        "SAVEPATH = '/content/drive/MyDrive/Automatic Ticket Assignment/DataFiles/Milestone2/'\r\n",
        "# *************************** --------------------------************************************\r\n",
        "# SAVEPATH = 'DataFiles/Milestone2/'\r\n",
        "\r\n",
        "embedding_matrix = np.load(SAVEPATH+'GloveEmbeddingMatrix.npy')\r\n",
        "x_train = np.load(SAVEPATH+'xtrain.npy')\r\n",
        "y_train = np.load(SAVEPATH+'ytrain.npy')\r\n",
        "x_test = np.load(SAVEPATH+'xtest.npy')\r\n",
        "y_test = np.load(SAVEPATH+'ytest.npy')\r\n",
        "\r\n",
        "print('JUST TO RECALL\\n','train set:',x_train.shape)\r\n",
        "print('train labels:',y_train.shape)\r\n",
        "print('test set:',x_test.shape)\r\n",
        "print('test labels:',y_test.shape,'\\n')\r\n",
        "print('embedding matrix:',embedding_matrix.shape)"
      ],
      "execution_count": null,
      "outputs": [
        {
          "output_type": "stream",
          "text": [
            "JUST TO RECALL\n",
            " train set: (6432, 76)\n",
            "train labels: (6432, 74)\n",
            "test set: (1608, 76)\n",
            "test labels: (1608, 74) \n",
            "\n",
            "embedding matrix: (19235, 200)\n"
          ],
          "name": "stdout"
        }
      ]
    },
    {
      "cell_type": "markdown",
      "metadata": {
        "id": "Uizid7H-7NzB"
      },
      "source": [
        "**This is the model 5 that we finalised:**"
      ]
    },
    {
      "cell_type": "code",
      "metadata": {
        "colab": {
          "base_uri": "https://localhost:8080/"
        },
        "id": "cEuCLWlotsDi",
        "outputId": "15a14587-551c-424a-ff87-e2cbcec87492"
      },
      "source": [
        "# model5 architecture \r\n",
        "input = Input(shape=(x_train.shape[1],),batch_size=None)\r\n",
        "model5 = Embedding(input_dim=embedding_matrix.shape[0], output_dim=embedding_matrix.shape[1], weights=[embedding_matrix], input_length=x_train.shape[1], trainable=True)(input)\r\n",
        "model5 = LSTM(units=100, return_sequences=True,recurrent_dropout=0.2)(model5) #recurrent dropout\r\n",
        "model5 = GlobalMaxPool1D()(model5)\r\n",
        "model5 = Dropout(0.2)(model5) #dropout layer\r\n",
        "out = Dense(y_train.shape[1], activation=\"softmax\")(model5)\r\n",
        "model5 = Model(input, out)\r\n",
        "model5.summary()"
      ],
      "execution_count": null,
      "outputs": [
        {
          "output_type": "stream",
          "text": [
            "WARNING:tensorflow:Layer lstm_4 will not use cuDNN kernel since it doesn't meet the cuDNN kernel criteria. It will use generic GPU kernel as fallback when running on GPU\n",
            "Model: \"model_4\"\n",
            "_________________________________________________________________\n",
            "Layer (type)                 Output Shape              Param #   \n",
            "=================================================================\n",
            "input_5 (InputLayer)         [(None, 76)]              0         \n",
            "_________________________________________________________________\n",
            "embedding_4 (Embedding)      (None, 76, 200)           3847000   \n",
            "_________________________________________________________________\n",
            "lstm_4 (LSTM)                (None, 76, 100)           120400    \n",
            "_________________________________________________________________\n",
            "global_max_pooling1d_4 (Glob (None, 100)               0         \n",
            "_________________________________________________________________\n",
            "dropout_4 (Dropout)          (None, 100)               0         \n",
            "_________________________________________________________________\n",
            "dense_4 (Dense)              (None, 74)                7474      \n",
            "=================================================================\n",
            "Total params: 3,974,874\n",
            "Trainable params: 3,974,874\n",
            "Non-trainable params: 0\n",
            "_________________________________________________________________\n"
          ],
          "name": "stdout"
        }
      ]
    },
    {
      "cell_type": "markdown",
      "metadata": {
        "id": "hPJx-MYE7jIC"
      },
      "source": [
        "**Sanity check for model architecture:**<br>\r\n",
        "Training for just 1 epoch with a very low learning rate: 1e-5"
      ]
    },
    {
      "cell_type": "code",
      "metadata": {
        "colab": {
          "base_uri": "https://localhost:8080/"
        },
        "id": "lEm-XKnVoURw",
        "outputId": "355004c2-d5c1-4f19-aa45-9340e90d9f6d"
      },
      "source": [
        "train_model(model5, x_train, y_train, x_test, y_test, ep=1, learn_rate=0.00001, bs=16)"
      ],
      "execution_count": null,
      "outputs": [
        {
          "output_type": "stream",
          "text": [
            "402/402 [==============================] - 58s 142ms/step - loss: 4.3301 - accuracy: 0.0172 - val_loss: 4.1452 - val_accuracy: 0.1399\n"
          ],
          "name": "stdout"
        },
        {
          "output_type": "execute_result",
          "data": {
            "text/plain": [
              "<tensorflow.python.keras.engine.functional.Functional at 0x7f7d203acda0>"
            ]
          },
          "metadata": {
            "tags": []
          },
          "execution_count": 42
        }
      ]
    },
    {
      "cell_type": "markdown",
      "metadata": {
        "id": "Qxa2L6Ix7wmB"
      },
      "source": [
        "We have 74 classes, hence because of random initilisation of weights, probability of prediction of each class is 1/74 i.e 0.0134. So for any class, log loss/crossentropy loss would be -log_e(0.0134) = 4.31. **We get approximately same loss, hence we pass the first check**<br><br> **Second sanity check:**<br>Trying to overfit the model on a small subset of data. We'll just take 20 records from the data."
      ]
    },
    {
      "cell_type": "code",
      "metadata": {
        "colab": {
          "base_uri": "https://localhost:8080/"
        },
        "id": "ae6q68oDrKoy",
        "outputId": "5b633a1c-c578-4f2a-a5a4-a2288a82f04a"
      },
      "source": [
        "train_model(model5, x_train[0:20], y_train[0:20], x_test[0:20], y_test[0:20], ep=50, bs=5)\r\n",
        "# we are able to overfit the train set, arch looks fine"
      ],
      "execution_count": null,
      "outputs": [
        {
          "output_type": "stream",
          "text": [
            "Epoch 1/50\n",
            "4/4 [==============================] - 3s 279ms/step - loss: 1.3396 - accuracy: 0.6933 - val_loss: 3.4073 - val_accuracy: 0.4000\n",
            "Epoch 2/50\n",
            "4/4 [==============================] - 1s 172ms/step - loss: 1.2216 - accuracy: 0.7333 - val_loss: 3.4120 - val_accuracy: 0.4000\n",
            "Epoch 3/50\n",
            "4/4 [==============================] - 1s 180ms/step - loss: 1.0669 - accuracy: 0.6733 - val_loss: 3.4302 - val_accuracy: 0.3500\n",
            "Epoch 4/50\n",
            "4/4 [==============================] - 1s 171ms/step - loss: 1.2345 - accuracy: 0.6000 - val_loss: 3.4826 - val_accuracy: 0.4000\n",
            "Epoch 5/50\n",
            "4/4 [==============================] - 1s 174ms/step - loss: 0.8721 - accuracy: 0.7333 - val_loss: 3.5695 - val_accuracy: 0.4000\n",
            "Epoch 6/50\n",
            "4/4 [==============================] - 1s 170ms/step - loss: 0.7979 - accuracy: 0.7667 - val_loss: 3.6140 - val_accuracy: 0.4000\n",
            "Epoch 7/50\n",
            "4/4 [==============================] - 1s 172ms/step - loss: 0.6879 - accuracy: 0.8133 - val_loss: 3.6696 - val_accuracy: 0.3500\n",
            "Epoch 8/50\n",
            "4/4 [==============================] - 1s 171ms/step - loss: 0.8130 - accuracy: 0.7600 - val_loss: 3.7063 - val_accuracy: 0.3000\n",
            "Epoch 9/50\n",
            "4/4 [==============================] - 1s 168ms/step - loss: 0.5704 - accuracy: 0.9667 - val_loss: 3.7881 - val_accuracy: 0.3000\n",
            "Epoch 10/50\n",
            "4/4 [==============================] - 1s 173ms/step - loss: 0.5062 - accuracy: 1.0000 - val_loss: 3.8487 - val_accuracy: 0.3000\n",
            "Epoch 11/50\n",
            "4/4 [==============================] - 1s 174ms/step - loss: 0.4197 - accuracy: 1.0000 - val_loss: 3.8870 - val_accuracy: 0.3000\n",
            "Epoch 12/50\n",
            "4/4 [==============================] - 1s 169ms/step - loss: 0.3798 - accuracy: 1.0000 - val_loss: 3.9262 - val_accuracy: 0.3000\n",
            "Epoch 13/50\n",
            "4/4 [==============================] - 1s 173ms/step - loss: 0.5398 - accuracy: 1.0000 - val_loss: 3.9691 - val_accuracy: 0.3000\n",
            "Epoch 14/50\n",
            "4/4 [==============================] - 1s 175ms/step - loss: 0.3662 - accuracy: 1.0000 - val_loss: 4.0277 - val_accuracy: 0.3000\n",
            "Epoch 15/50\n",
            "4/4 [==============================] - 1s 169ms/step - loss: 0.3030 - accuracy: 1.0000 - val_loss: 4.0913 - val_accuracy: 0.3000\n",
            "Epoch 16/50\n",
            "4/4 [==============================] - 1s 176ms/step - loss: 0.2544 - accuracy: 1.0000 - val_loss: 4.1623 - val_accuracy: 0.3000\n",
            "Epoch 17/50\n",
            "4/4 [==============================] - 1s 174ms/step - loss: 0.2414 - accuracy: 1.0000 - val_loss: 4.1977 - val_accuracy: 0.3000\n",
            "Epoch 18/50\n",
            "4/4 [==============================] - 1s 171ms/step - loss: 0.1864 - accuracy: 1.0000 - val_loss: 4.2324 - val_accuracy: 0.3000\n",
            "Epoch 19/50\n",
            "4/4 [==============================] - 1s 174ms/step - loss: 0.1969 - accuracy: 1.0000 - val_loss: 4.2806 - val_accuracy: 0.3000\n",
            "Epoch 20/50\n",
            "4/4 [==============================] - 1s 170ms/step - loss: 0.1738 - accuracy: 1.0000 - val_loss: 4.3259 - val_accuracy: 0.3000\n",
            "Epoch 21/50\n",
            "4/4 [==============================] - 1s 168ms/step - loss: 0.1969 - accuracy: 1.0000 - val_loss: 4.3831 - val_accuracy: 0.3000\n",
            "Epoch 22/50\n",
            "4/4 [==============================] - 1s 188ms/step - loss: 0.1420 - accuracy: 1.0000 - val_loss: 4.4283 - val_accuracy: 0.3000\n",
            "Epoch 23/50\n",
            "4/4 [==============================] - 1s 173ms/step - loss: 0.2020 - accuracy: 1.0000 - val_loss: 4.4548 - val_accuracy: 0.3000\n",
            "Epoch 24/50\n",
            "4/4 [==============================] - 1s 168ms/step - loss: 0.1935 - accuracy: 1.0000 - val_loss: 4.4682 - val_accuracy: 0.2500\n",
            "Epoch 25/50\n",
            "4/4 [==============================] - 1s 170ms/step - loss: 0.1741 - accuracy: 1.0000 - val_loss: 4.5008 - val_accuracy: 0.2500\n",
            "Epoch 26/50\n",
            "4/4 [==============================] - 1s 176ms/step - loss: 0.1072 - accuracy: 1.0000 - val_loss: 4.5338 - val_accuracy: 0.2500\n",
            "Epoch 27/50\n",
            "4/4 [==============================] - 1s 170ms/step - loss: 0.1167 - accuracy: 1.0000 - val_loss: 4.5639 - val_accuracy: 0.2500\n",
            "Epoch 28/50\n",
            "4/4 [==============================] - 1s 177ms/step - loss: 0.1796 - accuracy: 1.0000 - val_loss: 4.5929 - val_accuracy: 0.2500\n",
            "Epoch 29/50\n",
            "4/4 [==============================] - 1s 177ms/step - loss: 0.1277 - accuracy: 1.0000 - val_loss: 4.6293 - val_accuracy: 0.2500\n",
            "Epoch 30/50\n",
            "4/4 [==============================] - 1s 170ms/step - loss: 0.1021 - accuracy: 1.0000 - val_loss: 4.6581 - val_accuracy: 0.2500\n",
            "Epoch 31/50\n",
            "4/4 [==============================] - 1s 173ms/step - loss: 0.0775 - accuracy: 1.0000 - val_loss: 4.6924 - val_accuracy: 0.2500\n",
            "Epoch 32/50\n",
            "4/4 [==============================] - 1s 169ms/step - loss: 0.0732 - accuracy: 1.0000 - val_loss: 4.7269 - val_accuracy: 0.2500\n",
            "Epoch 33/50\n",
            "4/4 [==============================] - 1s 173ms/step - loss: 0.0869 - accuracy: 1.0000 - val_loss: 4.7527 - val_accuracy: 0.2500\n",
            "Epoch 34/50\n",
            "4/4 [==============================] - 1s 173ms/step - loss: 0.0958 - accuracy: 1.0000 - val_loss: 4.7700 - val_accuracy: 0.2500\n",
            "Epoch 35/50\n",
            "4/4 [==============================] - 1s 172ms/step - loss: 0.0645 - accuracy: 1.0000 - val_loss: 4.7962 - val_accuracy: 0.2500\n",
            "Epoch 36/50\n",
            "4/4 [==============================] - 1s 171ms/step - loss: 0.0704 - accuracy: 1.0000 - val_loss: 4.8236 - val_accuracy: 0.2500\n",
            "Epoch 37/50\n",
            "4/4 [==============================] - 1s 178ms/step - loss: 0.0743 - accuracy: 1.0000 - val_loss: 4.8503 - val_accuracy: 0.2500\n",
            "Epoch 38/50\n",
            "4/4 [==============================] - 1s 178ms/step - loss: 0.0667 - accuracy: 1.0000 - val_loss: 4.8655 - val_accuracy: 0.2500\n",
            "Epoch 39/50\n",
            "4/4 [==============================] - 1s 178ms/step - loss: 0.0868 - accuracy: 1.0000 - val_loss: 4.8801 - val_accuracy: 0.2500\n",
            "Epoch 40/50\n",
            "4/4 [==============================] - 1s 172ms/step - loss: 0.0493 - accuracy: 1.0000 - val_loss: 4.9056 - val_accuracy: 0.2500\n",
            "Epoch 41/50\n",
            "4/4 [==============================] - 1s 225ms/step - loss: 0.0594 - accuracy: 1.0000 - val_loss: 4.9314 - val_accuracy: 0.2500\n",
            "Epoch 42/50\n",
            "4/4 [==============================] - 1s 171ms/step - loss: 0.0530 - accuracy: 1.0000 - val_loss: 4.9604 - val_accuracy: 0.2500\n",
            "Epoch 43/50\n",
            "4/4 [==============================] - 1s 187ms/step - loss: 0.0559 - accuracy: 1.0000 - val_loss: 4.9809 - val_accuracy: 0.2500\n",
            "Epoch 44/50\n",
            "4/4 [==============================] - 1s 178ms/step - loss: 0.0486 - accuracy: 1.0000 - val_loss: 4.9958 - val_accuracy: 0.2500\n",
            "Epoch 45/50\n",
            "4/4 [==============================] - 1s 172ms/step - loss: 0.0493 - accuracy: 1.0000 - val_loss: 5.0027 - val_accuracy: 0.2500\n",
            "Epoch 46/50\n",
            "4/4 [==============================] - 1s 172ms/step - loss: 0.0451 - accuracy: 1.0000 - val_loss: 5.0066 - val_accuracy: 0.2500\n",
            "Epoch 47/50\n",
            "4/4 [==============================] - 1s 172ms/step - loss: 0.0363 - accuracy: 1.0000 - val_loss: 5.0141 - val_accuracy: 0.2500\n",
            "Epoch 48/50\n",
            "4/4 [==============================] - 1s 170ms/step - loss: 0.0411 - accuracy: 1.0000 - val_loss: 5.0195 - val_accuracy: 0.2500\n",
            "Epoch 49/50\n",
            "4/4 [==============================] - 1s 189ms/step - loss: 0.0508 - accuracy: 1.0000 - val_loss: 5.0368 - val_accuracy: 0.2500\n",
            "Epoch 50/50\n",
            "4/4 [==============================] - 1s 174ms/step - loss: 0.0452 - accuracy: 1.0000 - val_loss: 5.0529 - val_accuracy: 0.2500\n"
          ],
          "name": "stdout"
        },
        {
          "output_type": "execute_result",
          "data": {
            "text/plain": [
              "<tensorflow.python.keras.engine.functional.Functional at 0x7f1bea5767b8>"
            ]
          },
          "metadata": {
            "tags": []
          },
          "execution_count": 7
        }
      ]
    },
    {
      "cell_type": "markdown",
      "metadata": {
        "id": "zW3LSWee9Zmx"
      },
      "source": [
        "And thus we clear another sanity check. We were completely able to overfit the training set. **The model architecture looks fine!**<br><br>\r\n",
        "**Lets explore the learning rate here for a few epochs, say 5. We'll start with a very small learning rate; 1e-5**"
      ]
    },
    {
      "cell_type": "code",
      "metadata": {
        "colab": {
          "base_uri": "https://localhost:8080/"
        },
        "id": "Hv1FLBj6sTR1",
        "outputId": "d017cd7d-a7e9-408a-b314-d043c4b86041"
      },
      "source": [
        "train_model(model5, x_train, y_train, x_test, y_test, ep=5, learn_rate=1e-5, bs=16)"
      ],
      "execution_count": null,
      "outputs": [
        {
          "output_type": "stream",
          "text": [
            "Epoch 1/5\n",
            "402/402 [==============================] - 69s 168ms/step - loss: 4.2116 - accuracy: 0.0441 - val_loss: 4.0077 - val_accuracy: 0.3862\n",
            "Epoch 2/5\n",
            "402/402 [==============================] - 68s 168ms/step - loss: 3.9409 - accuracy: 0.3883 - val_loss: 3.6083 - val_accuracy: 0.4260\n",
            "Epoch 3/5\n",
            "402/402 [==============================] - 67s 167ms/step - loss: 3.3986 - accuracy: 0.4294 - val_loss: 3.0158 - val_accuracy: 0.4260\n",
            "Epoch 4/5\n",
            "402/402 [==============================] - 67s 166ms/step - loss: 3.0371 - accuracy: 0.4196 - val_loss: 2.9243 - val_accuracy: 0.4260\n",
            "Epoch 5/5\n",
            "402/402 [==============================] - 67s 167ms/step - loss: 2.9443 - accuracy: 0.4229 - val_loss: 2.8694 - val_accuracy: 0.4260\n"
          ],
          "name": "stdout"
        },
        {
          "output_type": "execute_result",
          "data": {
            "text/plain": [
              "<tensorflow.python.keras.engine.functional.Functional at 0x7faa144f8390>"
            ]
          },
          "metadata": {
            "tags": []
          },
          "execution_count": 9
        }
      ]
    },
    {
      "cell_type": "markdown",
      "metadata": {
        "id": "wSAppShy-GOd"
      },
      "source": [
        "**Cranking up the learning rate at 10.**"
      ]
    },
    {
      "cell_type": "code",
      "metadata": {
        "colab": {
          "base_uri": "https://localhost:8080/"
        },
        "id": "nKiiTBjPseG-",
        "outputId": "627877ca-9509-4f65-fe22-d8122860b3c4"
      },
      "source": [
        "train_model(model5, x_train, y_train, x_test, y_test, ep=5,learn_rate=10, bs=16)"
      ],
      "execution_count": null,
      "outputs": [
        {
          "output_type": "stream",
          "text": [
            "Epoch 1/5\n",
            "402/402 [==============================] - 69s 169ms/step - loss: 700.5664 - accuracy: 0.2653 - val_loss: 517.9737 - val_accuracy: 0.4011\n",
            "Epoch 2/5\n",
            "402/402 [==============================] - 68s 168ms/step - loss: 624.1034 - accuracy: 0.2760 - val_loss: 611.3119 - val_accuracy: 0.4590\n",
            "Epoch 3/5\n",
            "402/402 [==============================] - 67s 168ms/step - loss: 633.4647 - accuracy: 0.3046 - val_loss: 607.0057 - val_accuracy: 0.2979\n",
            "Epoch 4/5\n",
            "402/402 [==============================] - 67s 167ms/step - loss: 685.0355 - accuracy: 0.2918 - val_loss: 647.5328 - val_accuracy: 0.4894\n",
            "Epoch 5/5\n",
            "402/402 [==============================] - 67s 167ms/step - loss: 676.9705 - accuracy: 0.3157 - val_loss: 593.5900 - val_accuracy: 0.4509\n"
          ],
          "name": "stdout"
        },
        {
          "output_type": "execute_result",
          "data": {
            "text/plain": [
              "<tensorflow.python.keras.engine.functional.Functional at 0x7faa144f8390>"
            ]
          },
          "metadata": {
            "tags": []
          },
          "execution_count": 10
        }
      ]
    },
    {
      "cell_type": "markdown",
      "metadata": {
        "id": "kYDtDFVE-tOX"
      },
      "source": [
        "**As expected the loss is very high.... but we got a range in which to tune the learning rate**<br><br>So we will try learning rate between 1e-5 and 10 (or 1e1). We will train for 10 times with different learning rates which will be randomly picked up from anywhere between this range:"
      ]
    },
    {
      "cell_type": "code",
      "metadata": {
        "colab": {
          "base_uri": "https://localhost:8080/"
        },
        "id": "AD4L2zxbuS6P",
        "outputId": "fb9d3327-6626-46a7-b86c-6fc6061caee5"
      },
      "source": [
        "for k in range(1,11):\r\n",
        "    lr = math.pow(10, np.random.uniform(-5.0, 1.0)) # will try lr between 1e-5 and 1e1\r\n",
        "    print('Testing for lr =',lr)\r\n",
        "    results = train_model(model5, x_train, y_train, x_test, y_test, ep=10, learn_rate=lr, bs=32, forTuning=True)\r\n",
        "    print(\"Combination {0}/{1}: train_loss/acc: {2}\".format(k, 10, results[1]))\r\n",
        "    print(\"Combination {0}/{1}: test_loss/acc: {2}\\n\".format(k, 10, results[2]))\r\n",
        "\r\n",
        "# results will return a list with 0th element as model, 1st as training loss&accuracy, 2nd as testing loss&accuracy"
      ],
      "execution_count": null,
      "outputs": [
        {
          "output_type": "stream",
          "text": [
            "Testing for lr = 0.0016088962399883817\n",
            "model has been fitted.. evaluating on train and test set\n",
            "Combination 1/10: train_loss/acc: [0.11538372933864594, 0.9741915464401245]\n",
            "Combination 1/10: test_loss/acc: [1.5570141077041626, 0.6548507213592529]\n",
            "\n",
            "Testing for lr = 0.0016260926005471018\n",
            "model has been fitted.. evaluating on train and test set\n",
            "Combination 2/10: train_loss/acc: [0.043291397392749786, 0.9841417670249939]\n",
            "Combination 2/10: test_loss/acc: [1.8360795974731445, 0.6735074520111084]\n",
            "\n",
            "Testing for lr = 0.00010021318937978307\n",
            "model has been fitted.. evaluating on train and test set\n",
            "Combination 3/10: train_loss/acc: [0.03587121516466141, 0.9858520030975342]\n",
            "Combination 3/10: test_loss/acc: [1.9167197942733765, 0.6735074520111084]\n",
            "\n",
            "Testing for lr = 0.05293836873733082\n",
            "model has been fitted.. evaluating on train and test set\n",
            "Combination 4/10: train_loss/acc: [1.618251919746399, 0.6492537260055542]\n",
            "Combination 4/10: test_loss/acc: [2.4460535049438477, 0.5764925479888916]\n",
            "\n",
            "Testing for lr = 9.505935946411968\n",
            "model has been fitted.. evaluating on train and test set\n",
            "Combination 5/10: train_loss/acc: [120.46714782714844, 0.5121268630027771]\n",
            "Combination 5/10: test_loss/acc: [162.6533966064453, 0.47450247406959534]\n",
            "\n",
            "Testing for lr = 0.0012472552940708005\n",
            "model has been fitted.. evaluating on train and test set\n",
            "Combination 6/10: train_loss/acc: [109.37472534179688, 0.5259639024734497]\n",
            "Combination 6/10: test_loss/acc: [150.99366760253906, 0.4856965243816376]\n",
            "\n",
            "Testing for lr = 7.222623073525155e-05\n",
            "model has been fitted.. evaluating on train and test set\n",
            "Combination 7/10: train_loss/acc: [108.88406372070312, 0.5267412662506104]\n",
            "Combination 7/10: test_loss/acc: [150.47802734375, 0.4856965243816376]\n",
            "\n",
            "Testing for lr = 0.00033438146002369174\n",
            "model has been fitted.. evaluating on train and test set\n",
            "Combination 8/10: train_loss/acc: [106.56829833984375, 0.5298507213592529]\n",
            "Combination 8/10: test_loss/acc: [148.23422241210938, 0.4894278645515442]\n",
            "\n",
            "Testing for lr = 0.02211490766201775\n",
            "model has been fitted.. evaluating on train and test set\n",
            "Combination 9/10: train_loss/acc: [65.55039978027344, 0.5797574520111084]\n",
            "Combination 9/10: test_loss/acc: [107.9630355834961, 0.503731369972229]\n",
            "\n",
            "Testing for lr = 2.097970618547511\n",
            "model has been fitted.. evaluating on train and test set\n",
            "Combination 10/10: train_loss/acc: [29.79146957397461, 0.5884639024734497]\n",
            "Combination 10/10: test_loss/acc: [59.17458724975586, 0.48009949922561646]\n",
            "\n"
          ],
          "name": "stdout"
        }
      ]
    },
    {
      "cell_type": "markdown",
      "metadata": {
        "id": "ssMghtcB_hp6"
      },
      "source": [
        "**Looks like the default learning rate of adam which is 1e-3 works best. To be precise, we will take learning_rate = 0.00162 which came from the second combination.**<br><br>Finally, We will now go for the longer training session with ReduceLROnPlateau, EarlyStopping and ModelCheckpoint.**The callback parameters are explained below:**<br>\r\n",
        "- We will start with the **learning rate of 0.00162** and reduce it by **10% or 0.1(factor)** in the training process itself if **validation loss(monitor)** doesnt decrease by **0.01(min_delta)** for **3 epochs(patience)**. We will reduce untill **lr = 1e-7(min_lr)**. This is our **ReduceLROnPlateau**<br><br>\r\n",
        "- To avoid overfitting we will stop the training process earlier. If the **loss(monitor)** does not decrease by **0.1(min_delta)** for **10 epochs(patience)**, we will stop the training and **save the weights from best epoch(restore_best_weights)**. This is our **EarlyStopping**<br><br>\r\n",
        "- We will save the model and its weights everytime the **validation accuracy(monitor)** is improved. The previous model will be **over-written by new one with better validation accuracy(save_best_only)**. We will save the model and its weights with name **model5(chkpnt_filename)** in .h5 format. Model at the epoch with the best validation accuracy will be saved by the end of the training. This is our **ModelCheckpoint**<br><br>\r\n",
        "\r\n",
        "**When we monitor loss or validation_loss mode=min and for accuracy and validation_accuracy mode=max<br>\r\n",
        "\r\n",
        "**Verbose=1, to display the message in the training process whenever the callback is called "
      ]
    },
    {
      "cell_type": "code",
      "metadata": {
        "colab": {
          "base_uri": "https://localhost:8080/"
        },
        "id": "pEDiXpv0IA71",
        "outputId": "8c78c097-f7cf-4d78-ef0f-48b193e1da8f"
      },
      "source": [
        "es_params = {'monitor':'loss', 'min_delta':0.1, 'patience':10, 'verbose':1, 'mode':'min', 'restore_best_weights':True}\r\n",
        "r_lr_params = {'monitor':'val_loss', \"factor\":0.1, 'patience':3, 'verbose':1, 'mode':'min', 'min_delta':0.01, 'min_lr':1e-7}\r\n",
        "m_cp_params = {\"chkpnt_filename\":\"model5\", \"monitor\":'val_accuracy', \"verbose\":1, \"save_best_only\":True, \"mode\":'max'}\r\n",
        "\r\n",
        "\r\n",
        "model5 = train_model(model5, x_train, y_train, x_test, y_test, ep=50, bs=16, learn_rate=0.00162,callbacks=True, earlystop_params=es_params, modelchkpnt_params=m_cp_params, reducelr_params=r_lr_params)"
      ],
      "execution_count": null,
      "outputs": [
        {
          "output_type": "stream",
          "text": [
            "Epoch 1/50\n",
            "402/402 [==============================] - 62s 151ms/step - loss: 2.6978 - accuracy: 0.4484 - val_loss: 1.7824 - val_accuracy: 0.5858\n",
            "\n",
            "Epoch 00001: val_accuracy improved from -inf to 0.58582, saving model to /content/drive/My Drive/capstone/Model/model checkpoints/model5.h5\n",
            "Epoch 2/50\n",
            "402/402 [==============================] - 61s 151ms/step - loss: 1.5873 - accuracy: 0.6194 - val_loss: 1.4475 - val_accuracy: 0.6387\n",
            "\n",
            "Epoch 00002: val_accuracy improved from 0.58582 to 0.63868, saving model to /content/drive/My Drive/capstone/Model/model checkpoints/model5.h5\n",
            "Epoch 3/50\n",
            "402/402 [==============================] - 60s 150ms/step - loss: 1.0837 - accuracy: 0.7272 - val_loss: 1.3112 - val_accuracy: 0.6797\n",
            "\n",
            "Epoch 00003: val_accuracy improved from 0.63868 to 0.67973, saving model to /content/drive/My Drive/capstone/Model/model checkpoints/model5.h5\n",
            "Epoch 4/50\n",
            "402/402 [==============================] - 61s 152ms/step - loss: 0.7532 - accuracy: 0.8086 - val_loss: 1.2757 - val_accuracy: 0.6828\n",
            "\n",
            "Epoch 00004: val_accuracy improved from 0.67973 to 0.68284, saving model to /content/drive/My Drive/capstone/Model/model checkpoints/model5.h5\n",
            "Epoch 5/50\n",
            "402/402 [==============================] - 61s 153ms/step - loss: 0.4909 - accuracy: 0.8817 - val_loss: 1.3111 - val_accuracy: 0.6810\n",
            "\n",
            "Epoch 00005: val_accuracy did not improve from 0.68284\n",
            "Epoch 6/50\n",
            "402/402 [==============================] - 60s 150ms/step - loss: 0.3335 - accuracy: 0.9247 - val_loss: 1.3924 - val_accuracy: 0.6760\n",
            "\n",
            "Epoch 00006: val_accuracy did not improve from 0.68284\n",
            "Epoch 7/50\n",
            "402/402 [==============================] - 60s 149ms/step - loss: 0.2541 - accuracy: 0.9416 - val_loss: 1.4029 - val_accuracy: 0.6878\n",
            "\n",
            "Epoch 00007: ReduceLROnPlateau reducing learning rate to 0.0001619999995455146.\n",
            "\n",
            "Epoch 00007: val_accuracy improved from 0.68284 to 0.68781, saving model to /content/drive/My Drive/capstone/Model/model checkpoints/model5.h5\n",
            "Epoch 8/50\n",
            "402/402 [==============================] - 61s 152ms/step - loss: 0.1720 - accuracy: 0.9628 - val_loss: 1.4166 - val_accuracy: 0.6928\n",
            "\n",
            "Epoch 00008: val_accuracy improved from 0.68781 to 0.69279, saving model to /content/drive/My Drive/capstone/Model/model checkpoints/model5.h5\n",
            "Epoch 9/50\n",
            "402/402 [==============================] - 60s 150ms/step - loss: 0.1541 - accuracy: 0.9635 - val_loss: 1.4280 - val_accuracy: 0.6928\n",
            "\n",
            "Epoch 00009: val_accuracy did not improve from 0.69279\n",
            "Epoch 10/50\n",
            "402/402 [==============================] - 59s 148ms/step - loss: 0.1482 - accuracy: 0.9664 - val_loss: 1.4400 - val_accuracy: 0.6953\n",
            "\n",
            "Epoch 00010: ReduceLROnPlateau reducing learning rate to 1.6199999663513154e-05.\n",
            "\n",
            "Epoch 00010: val_accuracy improved from 0.69279 to 0.69527, saving model to /content/drive/My Drive/capstone/Model/model checkpoints/model5.h5\n",
            "Epoch 11/50\n",
            "402/402 [==============================] - 61s 152ms/step - loss: 0.1313 - accuracy: 0.9698 - val_loss: 1.4421 - val_accuracy: 0.6971\n",
            "\n",
            "Epoch 00011: val_accuracy improved from 0.69527 to 0.69714, saving model to /content/drive/My Drive/capstone/Model/model checkpoints/model5.h5\n",
            "Epoch 12/50\n",
            "402/402 [==============================] - 60s 149ms/step - loss: 0.1387 - accuracy: 0.9689 - val_loss: 1.4449 - val_accuracy: 0.6959\n",
            "\n",
            "Epoch 00012: val_accuracy did not improve from 0.69714\n",
            "Epoch 13/50\n",
            "402/402 [==============================] - 60s 149ms/step - loss: 0.1396 - accuracy: 0.9686 - val_loss: 1.4471 - val_accuracy: 0.6940\n",
            "\n",
            "Epoch 00013: ReduceLROnPlateau reducing learning rate to 1.6199999663513154e-06.\n",
            "\n",
            "Epoch 00013: val_accuracy did not improve from 0.69714\n",
            "Epoch 14/50\n",
            "402/402 [==============================] - 60s 148ms/step - loss: 0.1287 - accuracy: 0.9716 - val_loss: 1.4474 - val_accuracy: 0.6940\n",
            "\n",
            "Epoch 00014: val_accuracy did not improve from 0.69714\n",
            "Epoch 15/50\n",
            "402/402 [==============================] - 60s 150ms/step - loss: 0.1312 - accuracy: 0.9705 - val_loss: 1.4477 - val_accuracy: 0.6940\n",
            "\n",
            "Epoch 00015: val_accuracy did not improve from 0.69714\n",
            "Epoch 16/50\n",
            "402/402 [==============================] - 59s 148ms/step - loss: 0.1425 - accuracy: 0.9663 - val_loss: 1.4480 - val_accuracy: 0.6940\n",
            "\n",
            "Epoch 00016: ReduceLROnPlateau reducing learning rate to 1.6199999208765803e-07.\n",
            "\n",
            "Epoch 00016: val_accuracy did not improve from 0.69714\n",
            "Epoch 17/50\n",
            "402/402 [==============================] - 60s 149ms/step - loss: 0.1350 - accuracy: 0.9675 - val_loss: 1.4480 - val_accuracy: 0.6940\n",
            "\n",
            "Epoch 00017: val_accuracy did not improve from 0.69714\n",
            "Epoch 18/50\n",
            "402/402 [==============================] - 59s 147ms/step - loss: 0.1213 - accuracy: 0.9721 - val_loss: 1.4480 - val_accuracy: 0.6940\n",
            "Restoring model weights from the end of the best epoch.\n",
            "\n",
            "Epoch 00018: val_accuracy did not improve from 0.69714\n",
            "Epoch 00018: early stopping\n"
          ],
          "name": "stdout"
        }
      ]
    },
    {
      "cell_type": "code",
      "metadata": {
        "colab": {
          "base_uri": "https://localhost:8080/",
          "height": 755
        },
        "id": "nLhzBqQ-Ly8n",
        "outputId": "53303b57-ad04-4d24-d786-cb7c00fe991b"
      },
      "source": [
        "show_training(model5.history.history,saveit=True,filename='model5_hist')"
      ],
      "execution_count": null,
      "outputs": [
        {
          "output_type": "stream",
          "text": [
            "Training history saved!\n"
          ],
          "name": "stdout"
        },
        {
          "output_type": "display_data",
          "data": {
            "image/png": "[encoded data removed]",
            "text/plain": [
              "<Figure size 936x504 with 2 Axes>"
            ]
          },
          "metadata": {
            "tags": [],
            "needs_background": "light"
          }
        },
        {
          "output_type": "display_data",
          "data": {
            "image/png": "[encoded data removed]",
            "text/plain": [
              "<Figure size 504x216 with 1 Axes>"
            ]
          },
          "metadata": {
            "tags": [],
            "needs_background": "light"
          }
        }
      ]
    },
    {
      "cell_type": "markdown",
      "metadata": {
        "id": "JGjcHykycjGz"
      },
      "source": [
        "**Loading saved checkpoint:**"
      ]
    },
    {
      "cell_type": "code",
      "metadata": {
        "colab": {
          "base_uri": "https://localhost:8080/"
        },
        "id": "37sxg9mBOveQ",
        "outputId": "2d41714a-c328-413a-89cd-c51c848776e4"
      },
      "source": [
        "saved_checkpoint_model5 = load_model(\"/content/drive/MyDrive/Automatic Ticket Assignment/Model/model checkpoints/model5.h5\")"
      ],
      "execution_count": null,
      "outputs": [
        {
          "output_type": "stream",
          "text": [
            "WARNING:tensorflow:Layer lstm_3 will not use cuDNN kernel since it doesn't meet the cuDNN kernel criteria. It will use generic GPU kernel as fallback when running on GPU\n"
          ],
          "name": "stdout"
        }
      ]
    },
    {
      "cell_type": "markdown",
      "metadata": {
        "id": "MPmGz0YmFHVY"
      },
      "source": [
        "**Evaluating our metrics:**"
      ]
    },
    {
      "cell_type": "code",
      "metadata": {
        "colab": {
          "base_uri": "https://localhost:8080/"
        },
        "id": "P09jKbIic1I3",
        "outputId": "cf85ce89-2fbc-4320-c12c-6c6aa18d0b4a"
      },
      "source": [
        "ytr_pred = saved_checkpoint_model5.predict(x_train)\r\n",
        "yte_pred = saved_checkpoint_model5.predict(x_test)\r\n",
        "\r\n",
        "print(\"Train set performance:\")\r\n",
        "DL_evaluation_metrics(y_train, ytr_pred, \"ovo\", \"macro\")\r\n",
        "\r\n",
        "print(\"\\nTest set performance:\")\r\n",
        "DL_evaluation_metrics(y_test, yte_pred, \"ovo\", \"macro\")\r\n",
        "\r\n",
        "print(\"\\n**As explained in part2a - micro-metrics will be similar to accuracy\")"
      ],
      "execution_count": null,
      "outputs": [
        {
          "output_type": "stream",
          "text": [
            "Train set performance:\n",
            "Accuracy: 0.9752798507462687\n",
            "(macro) ROC-AUC: 0.999779393903313\n",
            "(macro) F1 Score: 0.9575847723733336\n",
            "\n",
            "Test set performance:\n",
            "Accuracy: 0.697139303482587\n",
            "(macro) ROC-AUC: 0.942417674736818\n",
            "(macro) F1 Score: 0.5388389768286452\n",
            "\n",
            "**As explained in part2a - micro-metrics will be similar to accuracy\n"
          ],
          "name": "stdout"
        }
      ]
    },
    {
      "cell_type": "markdown",
      "metadata": {
        "id": "vSICOJBPFN5g"
      },
      "source": [
        "**So on TEST SET the best accuracy that we got is 69.71 %. This is also equivalent to all the Micro Metrics; as explained in part2a.**<br>We said that Micro is the overall performance of the model despite having imbalanced classification, Macro on the other hand reflects the effect of imbalance in classes. Macro f1-score is 53.88 % while OneVSOne AUC is 94% on the TEST SET <br><br>\r\n",
        "**While we are at it, lets also see the remaining metrics on the TRAIN and TEST SETS:**"
      ]
    },
    {
      "cell_type": "code",
      "metadata": {
        "colab": {
          "base_uri": "https://localhost:8080/"
        },
        "id": "evBJLlp-j4SG",
        "outputId": "5c07daab-9efa-427b-cf19-c7cc38f2107e"
      },
      "source": [
        "print(\"Train set:\\n\")\r\n",
        "print(classification_report(y_true=y_train.argmax(axis=1), y_pred=ytr_pred.argmax(axis=1)))\r\n",
        "print(\"\\nTest set:\\n\")\r\n",
        "print(classification_report(y_true=y_test.argmax(axis=1), y_pred=yte_pred.argmax(axis=1)))"
      ],
      "execution_count": null,
      "outputs": [
        {
          "output_type": "stream",
          "text": [
            "Train set:\n",
            "\n",
            "              precision    recall  f1-score   support\n",
            "\n",
            "           0       0.98      1.00      0.99      2743\n",
            "           1       0.96      0.96      0.96        25\n",
            "           2       0.96      0.98      0.97       112\n",
            "           3       1.00      0.96      0.98        24\n",
            "           4       0.98      0.98      0.98       205\n",
            "           5       0.99      1.00      1.00       116\n",
            "           6       0.99      0.99      0.99        94\n",
            "           7       1.00      0.97      0.98        30\n",
            "           8       0.99      1.00      0.99        68\n",
            "           9       1.00      1.00      1.00        54\n",
            "          10       1.00      1.00      1.00        70\n",
            "          11       0.99      0.96      0.98       171\n",
            "          12       0.98      0.96      0.97       193\n",
            "          13       1.00      0.97      0.98        29\n",
            "          14       1.00      0.95      0.98        22\n",
            "          15       1.00      1.00      1.00        25\n",
            "          16       0.87      1.00      0.93        20\n",
            "          17       0.99      1.00      0.99       228\n",
            "          18       0.99      0.98      0.98        93\n",
            "          19       1.00      0.93      0.97        45\n",
            "          20       1.00      0.79      0.88        14\n",
            "          21       1.00      0.89      0.94        35\n",
            "          22       1.00      0.96      0.98        78\n",
            "          23       0.98      0.91      0.94       160\n",
            "          24       1.00      0.67      0.80        18\n",
            "          25       0.87      0.87      0.87        53\n",
            "          26       1.00      1.00      1.00         8\n",
            "          27       1.00      0.98      0.99        86\n",
            "          28       0.96      0.92      0.94        50\n",
            "          29       1.00      1.00      1.00         8\n",
            "          30       1.00      0.92      0.96        12\n",
            "          31       1.00      1.00      1.00        13\n",
            "          32       1.00      1.00      1.00         8\n",
            "          33       0.93      0.93      0.93        15\n",
            "          34       0.97      0.92      0.95        79\n",
            "          35       1.00      0.97      0.99        36\n",
            "          36       1.00      1.00      1.00        32\n",
            "          37       1.00      0.97      0.98        30\n",
            "          38       1.00      1.00      1.00         8\n",
            "          39       1.00      0.92      0.96        12\n",
            "          40       1.00      0.82      0.90        28\n",
            "          41       1.00      0.88      0.93         8\n",
            "          42       0.95      0.91      0.93        22\n",
            "          43       1.00      0.70      0.82        10\n",
            "          44       1.00      1.00      1.00         8\n",
            "          45       0.94      0.90      0.92       102\n",
            "          46       0.90      0.82      0.86        11\n",
            "          47       1.00      1.00      1.00         8\n",
            "          48       1.00      1.00      1.00         8\n",
            "          49       1.00      1.00      1.00         9\n",
            "          50       1.00      1.00      1.00         8\n",
            "          51       1.00      1.00      1.00         8\n",
            "          52       1.00      1.00      1.00         8\n",
            "          53       1.00      0.62      0.77         8\n",
            "          54       1.00      1.00      1.00         8\n",
            "          55       1.00      0.75      0.86         8\n",
            "          56       0.95      0.99      0.97       146\n",
            "          57       1.00      0.69      0.82        13\n",
            "          58       1.00      1.00      1.00         8\n",
            "          59       1.00      0.80      0.89        20\n",
            "          60       1.00      1.00      1.00         8\n",
            "          61       1.00      1.00      1.00         8\n",
            "          62       0.90      1.00      0.95         9\n",
            "          63       1.00      1.00      1.00         8\n",
            "          64       1.00      1.00      1.00         8\n",
            "          65       1.00      1.00      1.00         8\n",
            "          66       0.89      1.00      0.94         8\n",
            "          67       0.98      0.98      0.98        54\n",
            "          68       1.00      1.00      1.00         8\n",
            "          69       1.00      1.00      1.00         8\n",
            "          70       1.00      0.50      0.67         8\n",
            "          71       1.00      1.00      1.00         8\n",
            "          72       0.94      0.96      0.95       516\n",
            "          73       0.98      1.00      0.99       202\n",
            "\n",
            "    accuracy                           0.98      6432\n",
            "   macro avg       0.98      0.94      0.96      6432\n",
            "weighted avg       0.98      0.98      0.97      6432\n",
            "\n",
            "\n",
            "Test set:\n",
            "\n",
            "              precision    recall  f1-score   support\n",
            "\n",
            "           0       0.80      0.87      0.83       685\n",
            "           1       0.33      0.17      0.22         6\n",
            "           2       0.66      0.75      0.70        28\n",
            "           3       0.00      0.00      0.00         6\n",
            "           4       0.63      0.67      0.65        51\n",
            "           5       0.63      0.66      0.64        29\n",
            "           6       0.39      0.38      0.38        24\n",
            "           7       0.20      0.12      0.15         8\n",
            "           8       0.64      0.41      0.50        17\n",
            "           9       1.00      0.93      0.96        14\n",
            "          10       0.53      0.56      0.54        18\n",
            "          11       0.42      0.30      0.35        43\n",
            "          12       0.45      0.52      0.49        48\n",
            "          13       0.50      0.14      0.22         7\n",
            "          14       0.00      0.00      0.00         6\n",
            "          15       1.00      0.17      0.29         6\n",
            "          16       0.83      1.00      0.91         5\n",
            "          17       0.94      0.88      0.91        57\n",
            "          18       0.50      0.57      0.53        23\n",
            "          19       0.20      0.18      0.19        11\n",
            "          20       0.00      0.00      0.00         4\n",
            "          21       0.50      0.11      0.18         9\n",
            "          22       0.54      0.68      0.60        19\n",
            "          23       0.39      0.35      0.37        40\n",
            "          24       0.00      0.00      0.00         5\n",
            "          25       0.40      0.31      0.35        13\n",
            "          26       1.00      1.00      1.00         2\n",
            "          27       0.35      0.43      0.38        21\n",
            "          28       0.38      0.25      0.30        12\n",
            "          29       0.67      1.00      0.80         2\n",
            "          30       0.50      0.33      0.40         3\n",
            "          31       0.00      0.00      0.00         3\n",
            "          32       1.00      1.00      1.00         2\n",
            "          33       0.50      0.25      0.33         4\n",
            "          34       0.50      0.35      0.41        20\n",
            "          35       0.23      0.33      0.27         9\n",
            "          36       0.83      0.62      0.71         8\n",
            "          37       0.50      0.43      0.46         7\n",
            "          38       0.67      1.00      0.80         2\n",
            "          39       0.25      0.33      0.29         3\n",
            "          40       0.33      0.14      0.20         7\n",
            "          41       1.00      1.00      1.00         2\n",
            "          42       0.67      0.40      0.50         5\n",
            "          43       0.00      0.00      0.00         3\n",
            "          44       1.00      0.50      0.67         2\n",
            "          45       0.46      0.42      0.44        26\n",
            "          46       1.00      0.33      0.50         3\n",
            "          47       0.00      0.00      0.00         2\n",
            "          48       0.50      0.50      0.50         2\n",
            "          49       0.00      0.00      0.00         2\n",
            "          50       1.00      1.00      1.00         2\n",
            "          51       1.00      1.00      1.00         2\n",
            "          52       0.67      1.00      0.80         2\n",
            "          53       0.00      0.00      0.00         2\n",
            "          54       1.00      1.00      1.00         2\n",
            "          55       1.00      0.50      0.67         2\n",
            "          56       0.69      0.59      0.64        37\n",
            "          57       0.00      0.00      0.00         3\n",
            "          58       1.00      1.00      1.00         2\n",
            "          59       0.33      0.20      0.25         5\n",
            "          60       1.00      1.00      1.00         2\n",
            "          61       1.00      1.00      1.00         2\n",
            "          62       0.00      0.00      0.00         2\n",
            "          63       1.00      0.50      0.67         2\n",
            "          64       1.00      1.00      1.00         2\n",
            "          65       1.00      1.00      1.00         2\n",
            "          66       1.00      1.00      1.00         2\n",
            "          67       0.67      0.71      0.69        14\n",
            "          68       1.00      1.00      1.00         2\n",
            "          69       1.00      1.00      1.00         2\n",
            "          70       1.00      0.50      0.67         2\n",
            "          71       1.00      1.00      1.00         2\n",
            "          72       0.71      0.80      0.75       129\n",
            "          73       0.76      0.84      0.80        50\n",
            "\n",
            "    accuracy                           0.70      1608\n",
            "   macro avg       0.59      0.53      0.54      1608\n",
            "weighted avg       0.68      0.70      0.68      1608\n",
            "\n"
          ],
          "name": "stdout"
        }
      ]
    },
    {
      "cell_type": "markdown",
      "metadata": {
        "id": "kbQIOrCtGfDz"
      },
      "source": [
        "**Talking of TEST SET performance**, we can see the effects of class imbalance and lack of data that we have.<br>\r\n",
        "**Macro precision** is 59% while **Macro recall** is 53% .<br>**Weighted metrics** are almost similar to **Micro**, around 68-70 %. **Micro metrics** as we discussed in part2a will be exactly equal to the accuracy which is ~70%"
      ]
    },
    {
      "cell_type": "markdown",
      "metadata": {
        "id": "5jl9Aq2qHZ12"
      },
      "source": [
        "#### **Concluding it:**<br>\r\n",
        "#### Overall, the performance of the model on test set is 70% despite having class imbalance and lack of data. We know how deep learning is data hungry and training on a dataset of size 6432 records (80% train set) does not provide as good metrics as one would expect but given the dataset we have, 94.24% Macro AUC seems fair.<br>\r\n",
        "#### Weighted metrics also seem fair with 68% precision, 70% recall and 68% f1-score on the test set<br>\r\n",
        "\r\n",
        "## **Next-Up:**<br>\r\n",
        "### As you can incur from the classification report of train and test set, that the metrics obtained for some classes doesn't have much data to 'support' **(Look at support column of the report)**\r\n",
        "### **Hence in the light of imbalance in target classes, we will upsample the minority classes** a bit for the model to train from it. We will take the **same model_5 ahead in part 3 along with the learning rate (0.00162)** that we found in this notebook"
      ]
    }
  ]
}