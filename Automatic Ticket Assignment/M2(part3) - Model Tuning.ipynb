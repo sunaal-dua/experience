{
  "nbformat": 4,
  "nbformat_minor": 0,
  "metadata": {
    "colab": {
      "name": "M2(part3) - Model Tuning.ipynb",
      "provenance": [],
      "collapsed_sections": []
    },
    "kernelspec": {
      "name": "python3",
      "display_name": "Python 3"
    }
  },
  "cells": [
    {
      "cell_type": "markdown",
      "metadata": {
        "id": "K_UETV5ETGEF"
      },
      "source": [
        "# **Part 3 - Model Tuning**<br>\r\n",
        "In this part we will upsample the previously upsampled data. If You remember, in M1(part2a) - Base Approach 1, we slightly upsampled the data and made all the classes having less than 10 records equal to 10. We did that for a different purpose then (refer M1(part2a) - Base Approach 1 for more details), but here we will upsample to have adequate samples for minority classes so that they could be trained and understood by the model.<br>We will take that previously upsampled data and upsample it further for the same.<br><br>\r\n",
        "**Note that: Most of the steps here are repetitive from previous notebooks, hence we won't explain it here, but we will mention the notebook where it is explained**"
      ]
    },
    {
      "cell_type": "code",
      "metadata": {
        "colab": {
          "base_uri": "https://localhost:8080/"
        },
        "id": "oBcQa8uGcV_n",
        "outputId": "8615b2a9-7084-44a1-b3fd-96ceb6efbba8"
      },
      "source": [
        "import sys\r\n",
        "sys.path.append('/content/drive/MyDrive/Automatic Ticket Assignment')\r\n",
        "from google.colab import drive\r\n",
        "drive.mount('/content/drive')"
      ],
      "execution_count": null,
      "outputs": [
        {
          "output_type": "stream",
          "text": [
            "Drive already mounted at /content/drive; to attempt to forcibly remount, call drive.mount(\"/content/drive\", force_remount=True).\n"
          ],
          "name": "stdout"
        }
      ]
    },
    {
      "cell_type": "code",
      "metadata": {
        "id": "PJDxUzQmcih2",
        "colab": {
          "base_uri": "https://localhost:8080/"
        },
        "outputId": "356ec783-d6b7-4e27-e4a0-e5e77a7b6772"
      },
      "source": [
        "import pandas as pd\r\n",
        "import numpy as np\r\n",
        "import warnings\r\n",
        "warnings.filterwarnings('ignore')\r\n",
        "from sklearn import preprocessing\r\n",
        "from sklearn.model_selection import train_test_split\r\n",
        "from sklearn.metrics import roc_auc_score, accuracy_score, classification_report\r\n",
        "from ProjectModules.PlottingModule import distribution_plot, plot_count_plot\r\n",
        "from tensorflow.keras.preprocessing.sequence import pad_sequences\r\n",
        "from tensorflow.keras.models import Model\r\n",
        "from tensorflow.keras.layers import LSTM, Embedding, Dense, TimeDistributed, Dropout, Bidirectional, Input, GlobalMaxPool1D, Flatten\r\n",
        "from Model.DLModelTuningAndEvaluation import *\r\n",
        "from imblearn.over_sampling import RandomOverSampler\r\n",
        "from keras.utils.vis_utils import plot_model\r\n",
        "from keras.models import load_model"
      ],
      "execution_count": null,
      "outputs": [
        {
          "output_type": "stream",
          "text": [
            "installing wordcloud python package...\n",
            "Done!\n"
          ],
          "name": "stdout"
        }
      ]
    },
    {
      "cell_type": "markdown",
      "metadata": {
        "id": "eI7CM0dvU96x"
      },
      "source": [
        "Loading previously upsampled data that we saved in **M1(part2a) - Base Approach 1**"
      ]
    },
    {
      "cell_type": "code",
      "metadata": {
        "colab": {
          "base_uri": "https://localhost:8080/",
          "height": 219
        },
        "id": "lWEJLmNvclaG",
        "outputId": "78ff70c9-12a5-4d70-ef74-b58945de405d"
      },
      "source": [
        "# RUN THIS DATAPATH IF RUNNING IN GOOGLE COLAB, GIVE THE CORRECT PATH TO THE DATA\r\n",
        "DATAPATH = '/content/drive/MyDrive/Automatic Ticket Assignment/DataFiles/'\r\n",
        "# *************************** --------------------------************************************\r\n",
        "# DATAPATH = 'DataFiles/'\r\n",
        "\r\n",
        "data = pd.read_csv(DATAPATH+\"upsampled_processed_data.csv\")\r\n",
        "df = data.copy() #making copy of the data\r\n",
        "print(df.shape)\r\n",
        "df.head()"
      ],
      "execution_count": null,
      "outputs": [
        {
          "output_type": "stream",
          "text": [
            "(8040, 4)\n"
          ],
          "name": "stdout"
        },
        {
          "output_type": "execute_result",
          "data": {
            "text/html": [
              "<div>\n",
              "<style scoped>\n",
              "    .dataframe tbody tr th:only-of-type {\n",
              "        vertical-align: middle;\n",
              "    }\n",
              "\n",
              "    .dataframe tbody tr th {\n",
              "        vertical-align: top;\n",
              "    }\n",
              "\n",
              "    .dataframe thead th {\n",
              "        text-align: right;\n",
              "    }\n",
              "</style>\n",
              "<table border=\"1\" class=\"dataframe\">\n",
              "  <thead>\n",
              "    <tr style=\"text-align: right;\">\n",
              "      <th></th>\n",
              "      <th>cleaned_short_desc</th>\n",
              "      <th>cleaned_desc</th>\n",
              "      <th>combined_tokens</th>\n",
              "      <th>Assignment group</th>\n",
              "    </tr>\n",
              "  </thead>\n",
              "  <tbody>\n",
              "    <tr>\n",
              "      <th>0</th>\n",
              "      <td>login issue</td>\n",
              "      <td>verify user detail employee manager name check...</td>\n",
              "      <td>login issue verify user detail employee manage...</td>\n",
              "      <td>GRP_0</td>\n",
              "    </tr>\n",
              "    <tr>\n",
              "      <th>1</th>\n",
              "      <td>outlook</td>\n",
              "      <td>team meeting skype meeting etc appear outlook ...</td>\n",
              "      <td>outlook team meeting skype meeting etc appear ...</td>\n",
              "      <td>GRP_0</td>\n",
              "    </tr>\n",
              "    <tr>\n",
              "      <th>2</th>\n",
              "      <td>cant log vpn</td>\n",
              "      <td>cannot log vpn best</td>\n",
              "      <td>cant log vpn cannot log vpn best</td>\n",
              "      <td>GRP_0</td>\n",
              "    </tr>\n",
              "    <tr>\n",
              "      <th>3</th>\n",
              "      <td>unable access hr tool page</td>\n",
              "      <td>unable access hr tool page</td>\n",
              "      <td>unable access hr tool page unable access hr to...</td>\n",
              "      <td>GRP_0</td>\n",
              "    </tr>\n",
              "    <tr>\n",
              "      <th>4</th>\n",
              "      <td>skype error</td>\n",
              "      <td>skype error</td>\n",
              "      <td>skype error skype error</td>\n",
              "      <td>GRP_0</td>\n",
              "    </tr>\n",
              "  </tbody>\n",
              "</table>\n",
              "</div>"
            ],
            "text/plain": [
              "           cleaned_short_desc  ... Assignment group\n",
              "0                 login issue  ...            GRP_0\n",
              "1                     outlook  ...            GRP_0\n",
              "2                cant log vpn  ...            GRP_0\n",
              "3  unable access hr tool page  ...            GRP_0\n",
              "4                 skype error  ...            GRP_0\n",
              "\n",
              "[5 rows x 4 columns]"
            ]
          },
          "metadata": {
            "tags": []
          },
          "execution_count": 3
        }
      ]
    },
    {
      "cell_type": "markdown",
      "metadata": {
        "id": "kEh69fnHVcrS"
      },
      "source": [
        "Dropping the combined_tokens column because we will combine it in a different way. **(refer to M1(part2b) - Base Approach 2)**"
      ]
    },
    {
      "cell_type": "code",
      "metadata": {
        "colab": {
          "base_uri": "https://localhost:8080/",
          "height": 202
        },
        "id": "Gh129J4mcrqC",
        "outputId": "d559a8c8-22e5-46c8-db06-fd6ff01fdd2a"
      },
      "source": [
        "df.drop(\"combined_tokens\", inplace=True, axis=1)\r\n",
        "df.head()"
      ],
      "execution_count": null,
      "outputs": [
        {
          "output_type": "execute_result",
          "data": {
            "text/html": [
              "<div>\n",
              "<style scoped>\n",
              "    .dataframe tbody tr th:only-of-type {\n",
              "        vertical-align: middle;\n",
              "    }\n",
              "\n",
              "    .dataframe tbody tr th {\n",
              "        vertical-align: top;\n",
              "    }\n",
              "\n",
              "    .dataframe thead th {\n",
              "        text-align: right;\n",
              "    }\n",
              "</style>\n",
              "<table border=\"1\" class=\"dataframe\">\n",
              "  <thead>\n",
              "    <tr style=\"text-align: right;\">\n",
              "      <th></th>\n",
              "      <th>cleaned_short_desc</th>\n",
              "      <th>cleaned_desc</th>\n",
              "      <th>Assignment group</th>\n",
              "    </tr>\n",
              "  </thead>\n",
              "  <tbody>\n",
              "    <tr>\n",
              "      <th>0</th>\n",
              "      <td>login issue</td>\n",
              "      <td>verify user detail employee manager name check...</td>\n",
              "      <td>GRP_0</td>\n",
              "    </tr>\n",
              "    <tr>\n",
              "      <th>1</th>\n",
              "      <td>outlook</td>\n",
              "      <td>team meeting skype meeting etc appear outlook ...</td>\n",
              "      <td>GRP_0</td>\n",
              "    </tr>\n",
              "    <tr>\n",
              "      <th>2</th>\n",
              "      <td>cant log vpn</td>\n",
              "      <td>cannot log vpn best</td>\n",
              "      <td>GRP_0</td>\n",
              "    </tr>\n",
              "    <tr>\n",
              "      <th>3</th>\n",
              "      <td>unable access hr tool page</td>\n",
              "      <td>unable access hr tool page</td>\n",
              "      <td>GRP_0</td>\n",
              "    </tr>\n",
              "    <tr>\n",
              "      <th>4</th>\n",
              "      <td>skype error</td>\n",
              "      <td>skype error</td>\n",
              "      <td>GRP_0</td>\n",
              "    </tr>\n",
              "  </tbody>\n",
              "</table>\n",
              "</div>"
            ],
            "text/plain": [
              "           cleaned_short_desc  ... Assignment group\n",
              "0                 login issue  ...            GRP_0\n",
              "1                     outlook  ...            GRP_0\n",
              "2                cant log vpn  ...            GRP_0\n",
              "3  unable access hr tool page  ...            GRP_0\n",
              "4                 skype error  ...            GRP_0\n",
              "\n",
              "[5 rows x 3 columns]"
            ]
          },
          "metadata": {
            "tags": []
          },
          "execution_count": 4
        }
      ]
    },
    {
      "cell_type": "markdown",
      "metadata": {
        "id": "QlC17g8JWGe8"
      },
      "source": [
        "We have some missing values, but we will retain them and replace them with empty strings. **(refer to M1(part2a) - Base Approach 1 to know how and why)**"
      ]
    },
    {
      "cell_type": "code",
      "metadata": {
        "colab": {
          "base_uri": "https://localhost:8080/"
        },
        "id": "m2uqOvH8cujh",
        "outputId": "111a4f5c-8fde-4c4d-98c5-a2d2f2aa31f2"
      },
      "source": [
        "df.isnull().sum()"
      ],
      "execution_count": null,
      "outputs": [
        {
          "output_type": "execute_result",
          "data": {
            "text/plain": [
              "cleaned_short_desc    16\n",
              "cleaned_desc          52\n",
              "Assignment group       0\n",
              "dtype: int64"
            ]
          },
          "metadata": {
            "tags": []
          },
          "execution_count": 5
        }
      ]
    },
    {
      "cell_type": "markdown",
      "metadata": {
        "id": "1mA13MueW6lu"
      },
      "source": [
        "Despite missing values, we can see that there is no such row where both description and short description are empty"
      ]
    },
    {
      "cell_type": "code",
      "metadata": {
        "colab": {
          "base_uri": "https://localhost:8080/",
          "height": 49
        },
        "id": "YQhYhupacw8l",
        "outputId": "ee41fddf-4753-4da8-bb4e-a301ae389efd"
      },
      "source": [
        "df[(df['cleaned_short_desc'].isnull()) & (df['cleaned_desc'].isnull())]"
      ],
      "execution_count": null,
      "outputs": [
        {
          "output_type": "execute_result",
          "data": {
            "text/html": [
              "<div>\n",
              "<style scoped>\n",
              "    .dataframe tbody tr th:only-of-type {\n",
              "        vertical-align: middle;\n",
              "    }\n",
              "\n",
              "    .dataframe tbody tr th {\n",
              "        vertical-align: top;\n",
              "    }\n",
              "\n",
              "    .dataframe thead th {\n",
              "        text-align: right;\n",
              "    }\n",
              "</style>\n",
              "<table border=\"1\" class=\"dataframe\">\n",
              "  <thead>\n",
              "    <tr style=\"text-align: right;\">\n",
              "      <th></th>\n",
              "      <th>cleaned_short_desc</th>\n",
              "      <th>cleaned_desc</th>\n",
              "      <th>Assignment group</th>\n",
              "    </tr>\n",
              "  </thead>\n",
              "  <tbody>\n",
              "  </tbody>\n",
              "</table>\n",
              "</div>"
            ],
            "text/plain": [
              "Empty DataFrame\n",
              "Columns: [cleaned_short_desc, cleaned_desc, Assignment group]\n",
              "Index: []"
            ]
          },
          "metadata": {
            "tags": []
          },
          "execution_count": 6
        }
      ]
    },
    {
      "cell_type": "markdown",
      "metadata": {
        "id": "ASA27ASkXGvw"
      },
      "source": [
        "Replacing NaNs with empty strings as said above"
      ]
    },
    {
      "cell_type": "code",
      "metadata": {
        "id": "nRHA1HD3czo3"
      },
      "source": [
        "df['cleaned_short_desc'].fillna(value=\"\",inplace=True)\r\n",
        "df['cleaned_desc'].fillna(value = \"\",inplace=True)"
      ],
      "execution_count": null,
      "outputs": []
    },
    {
      "cell_type": "markdown",
      "metadata": {
        "id": "QsERcTcrXRRc"
      },
      "source": [
        "**Now we will upsample:**<br>\r\n",
        "If we look at the top 5 records, except first 2 groups, all are below 300 and skewes even further which we have already seen. We also seen that most of the groups have around 70-150 records only and some go as low as just 10 records.<br>The model performs averagely for groups that have 70, 100, 200 records (that we saw in support column of the classification report) and very poorly for records that are below 50. The training is overshadowed by the first few groups below (the top 5) ,specially by group 0 and group 8<br>Thus we will upsample all the groups below 300... to 300. This means that from group 24, all the groups will be upsampled<br><br>**WHAT HAPPENS WHEN WE UPSAMPLE TEXT DATA?**<br>When we upsample test data, it will simply create duplicate records for that particular group in order to increase its sample size and make it recognizable to the model. Eg: Lets say a group has 20 records. During upsampling, a record from these 20 records will be picked and duplicated, and this process repeats untill that group has 300 records (which is set by us) "
      ]
    },
    {
      "cell_type": "code",
      "metadata": {
        "colab": {
          "base_uri": "https://localhost:8080/",
          "height": 880
        },
        "id": "GTR4O3XxdKrf",
        "outputId": "55ea56fc-ab97-4f9d-e527-72499615f006"
      },
      "source": [
        "xlabel = \"Assignment Group\"\r\n",
        "ylabel = \"No. of Descriptions\"\r\n",
        "values = df[\"Assignment group\"].value_counts().head(20).to_dict().values()\r\n",
        "labels = df[\"Assignment group\"].value_counts().head(20).to_dict().keys()\r\n",
        "print(\"Top 20 groups:\\n\")\r\n",
        "print(df[\"Assignment group\"].value_counts().head(20),\"\\n\")\r\n",
        "plot_count_plot(values,labels,xlabel,ylabel)"
      ],
      "execution_count": null,
      "outputs": [
        {
          "output_type": "stream",
          "text": [
            "Top 20 groups:\n",
            "\n",
            "GRP_0     3428\n",
            "GRP_8      645\n",
            "GRP_24     285\n",
            "GRP_12     256\n",
            "GRP_9      252\n",
            "GRP_2      241\n",
            "GRP_19     214\n",
            "GRP_3      200\n",
            "GRP_6      183\n",
            "GRP_13     145\n",
            "GRP_10     140\n",
            "GRP_5      128\n",
            "GRP_14     118\n",
            "GRP_25     116\n",
            "GRP_33     107\n",
            "GRP_4       99\n",
            "GRP_29      97\n",
            "GRP_18      88\n",
            "GRP_16      85\n",
            "GRP_7       68\n",
            "Name: Assignment group, dtype: int64 \n",
            "\n"
          ],
          "name": "stdout"
        },
        {
          "output_type": "display_data",
          "data": {
            "image/png": "[encoded data removed]",
            "text/plain": [
              "<Figure size 1440x504 with 1 Axes>"
            ]
          },
          "metadata": {
            "tags": []
          }
        }
      ]
    },
    {
      "cell_type": "markdown",
      "metadata": {
        "id": "UpFFSxuWcdEE"
      },
      "source": [
        "This will be our upsampling strategy. Leaving the first 2 groups (0 and 8), all others will be upsampled to 300. We will put this dictionary in the sampling_strategy parameter of the Sklearn's RandomOverSampler package\r\n"
      ]
    },
    {
      "cell_type": "code",
      "metadata": {
        "colab": {
          "base_uri": "https://localhost:8080/"
        },
        "id": "m59NShWBdQHy",
        "outputId": "1e0a4099-5f1d-4304-8315-55afd71d6d37"
      },
      "source": [
        "upsampleto300 = df[\"Assignment group\"].value_counts()[2:].keys().to_list()\r\n",
        "upsample_strategy = {i:300 for i in upsampleto300}\r\n",
        "upsample_strategy   "
      ],
      "execution_count": null,
      "outputs": [
        {
          "output_type": "execute_result",
          "data": {
            "text/plain": [
              "{'GRP_1': 300,\n",
              " 'GRP_10': 300,\n",
              " 'GRP_11': 300,\n",
              " 'GRP_12': 300,\n",
              " 'GRP_13': 300,\n",
              " 'GRP_14': 300,\n",
              " 'GRP_15': 300,\n",
              " 'GRP_16': 300,\n",
              " 'GRP_17': 300,\n",
              " 'GRP_18': 300,\n",
              " 'GRP_19': 300,\n",
              " 'GRP_2': 300,\n",
              " 'GRP_20': 300,\n",
              " 'GRP_21': 300,\n",
              " 'GRP_22': 300,\n",
              " 'GRP_23': 300,\n",
              " 'GRP_24': 300,\n",
              " 'GRP_25': 300,\n",
              " 'GRP_26': 300,\n",
              " 'GRP_27': 300,\n",
              " 'GRP_28': 300,\n",
              " 'GRP_29': 300,\n",
              " 'GRP_3': 300,\n",
              " 'GRP_30': 300,\n",
              " 'GRP_31': 300,\n",
              " 'GRP_32': 300,\n",
              " 'GRP_33': 300,\n",
              " 'GRP_34': 300,\n",
              " 'GRP_35': 300,\n",
              " 'GRP_36': 300,\n",
              " 'GRP_37': 300,\n",
              " 'GRP_38': 300,\n",
              " 'GRP_39': 300,\n",
              " 'GRP_4': 300,\n",
              " 'GRP_40': 300,\n",
              " 'GRP_41': 300,\n",
              " 'GRP_42': 300,\n",
              " 'GRP_43': 300,\n",
              " 'GRP_44': 300,\n",
              " 'GRP_45': 300,\n",
              " 'GRP_46': 300,\n",
              " 'GRP_47': 300,\n",
              " 'GRP_48': 300,\n",
              " 'GRP_49': 300,\n",
              " 'GRP_5': 300,\n",
              " 'GRP_50': 300,\n",
              " 'GRP_51': 300,\n",
              " 'GRP_52': 300,\n",
              " 'GRP_53': 300,\n",
              " 'GRP_54': 300,\n",
              " 'GRP_55': 300,\n",
              " 'GRP_56': 300,\n",
              " 'GRP_57': 300,\n",
              " 'GRP_58': 300,\n",
              " 'GRP_59': 300,\n",
              " 'GRP_6': 300,\n",
              " 'GRP_60': 300,\n",
              " 'GRP_61': 300,\n",
              " 'GRP_62': 300,\n",
              " 'GRP_63': 300,\n",
              " 'GRP_64': 300,\n",
              " 'GRP_65': 300,\n",
              " 'GRP_66': 300,\n",
              " 'GRP_67': 300,\n",
              " 'GRP_68': 300,\n",
              " 'GRP_69': 300,\n",
              " 'GRP_7': 300,\n",
              " 'GRP_70': 300,\n",
              " 'GRP_71': 300,\n",
              " 'GRP_72': 300,\n",
              " 'GRP_73': 300,\n",
              " 'GRP_9': 300}"
            ]
          },
          "metadata": {
            "tags": []
          },
          "execution_count": 9
        }
      ]
    },
    {
      "cell_type": "code",
      "metadata": {
        "colab": {
          "base_uri": "https://localhost:8080/",
          "height": 219
        },
        "id": "RkGLuzGwd7X4",
        "outputId": "34b6ff9a-ae89-4161-cf27-e4d117e828a8"
      },
      "source": [
        "# saving names of the feature columns\r\n",
        "featnames = list(df.columns[:2])\r\n",
        "\r\n",
        "# seperating features and target\r\n",
        "targetcolumn = df[\"Assignment group\"].values\r\n",
        "feats = df.drop(['Assignment group'],axis=1).values\r\n",
        "\r\n",
        "# initializing RandomOverSampler\r\n",
        "oversample = RandomOverSampler(sampling_strategy=upsample_strategy, random_state=7)\r\n",
        "others_up, target_up = oversample.fit_resample(X=feats,y=targetcolumn)\r\n",
        "others_up = pd.DataFrame(others_up,columns=featnames)\r\n",
        "target_up = pd.DataFrame(target_up,columns=[\"Assignment group\"])\r\n",
        "\r\n",
        "# concatinating features and target after upsampling\r\n",
        "df = pd.concat([others_up,target_up],axis=1)\r\n",
        "print(\"dataset size after upsampling:\",df.shape[0])\r\n",
        "df.head()"
      ],
      "execution_count": null,
      "outputs": [
        {
          "output_type": "stream",
          "text": [
            "dataset size after upsampling: 25673\n"
          ],
          "name": "stdout"
        },
        {
          "output_type": "execute_result",
          "data": {
            "text/html": [
              "<div>\n",
              "<style scoped>\n",
              "    .dataframe tbody tr th:only-of-type {\n",
              "        vertical-align: middle;\n",
              "    }\n",
              "\n",
              "    .dataframe tbody tr th {\n",
              "        vertical-align: top;\n",
              "    }\n",
              "\n",
              "    .dataframe thead th {\n",
              "        text-align: right;\n",
              "    }\n",
              "</style>\n",
              "<table border=\"1\" class=\"dataframe\">\n",
              "  <thead>\n",
              "    <tr style=\"text-align: right;\">\n",
              "      <th></th>\n",
              "      <th>cleaned_short_desc</th>\n",
              "      <th>cleaned_desc</th>\n",
              "      <th>Assignment group</th>\n",
              "    </tr>\n",
              "  </thead>\n",
              "  <tbody>\n",
              "    <tr>\n",
              "      <th>0</th>\n",
              "      <td>login issue</td>\n",
              "      <td>verify user detail employee manager name check...</td>\n",
              "      <td>GRP_0</td>\n",
              "    </tr>\n",
              "    <tr>\n",
              "      <th>1</th>\n",
              "      <td>outlook</td>\n",
              "      <td>team meeting skype meeting etc appear outlook ...</td>\n",
              "      <td>GRP_0</td>\n",
              "    </tr>\n",
              "    <tr>\n",
              "      <th>2</th>\n",
              "      <td>cant log vpn</td>\n",
              "      <td>cannot log vpn best</td>\n",
              "      <td>GRP_0</td>\n",
              "    </tr>\n",
              "    <tr>\n",
              "      <th>3</th>\n",
              "      <td>unable access hr tool page</td>\n",
              "      <td>unable access hr tool page</td>\n",
              "      <td>GRP_0</td>\n",
              "    </tr>\n",
              "    <tr>\n",
              "      <th>4</th>\n",
              "      <td>skype error</td>\n",
              "      <td>skype error</td>\n",
              "      <td>GRP_0</td>\n",
              "    </tr>\n",
              "  </tbody>\n",
              "</table>\n",
              "</div>"
            ],
            "text/plain": [
              "           cleaned_short_desc  ... Assignment group\n",
              "0                 login issue  ...            GRP_0\n",
              "1                     outlook  ...            GRP_0\n",
              "2                cant log vpn  ...            GRP_0\n",
              "3  unable access hr tool page  ...            GRP_0\n",
              "4                 skype error  ...            GRP_0\n",
              "\n",
              "[5 rows x 3 columns]"
            ]
          },
          "metadata": {
            "tags": []
          },
          "execution_count": 10
        }
      ]
    },
    {
      "cell_type": "markdown",
      "metadata": {
        "id": "5kRBszuIdkoZ"
      },
      "source": [
        "**All records have been upsampled to 300 except first 2. Again plotting top 20 groups:**"
      ]
    },
    {
      "cell_type": "code",
      "metadata": {
        "colab": {
          "base_uri": "https://localhost:8080/",
          "height": 464
        },
        "id": "ndCdTFJleyYx",
        "outputId": "5082b62d-f59c-47c3-c38f-196554302bf4"
      },
      "source": [
        "xlabel = \"Assignment Group\"\r\n",
        "ylabel = \"No. of Descriptions\"\r\n",
        "values = df[\"Assignment group\"].value_counts().head(20).to_dict().values()\r\n",
        "labels = df[\"Assignment group\"].value_counts().head(20).to_dict().keys()\r\n",
        "plot_count_plot(values,labels,xlabel,ylabel)"
      ],
      "execution_count": null,
      "outputs": [
        {
          "output_type": "display_data",
          "data": {
            "image/png": "[encoded data removed]",
            "text/plain": [
              "<Figure size 1440x504 with 1 Axes>"
            ]
          },
          "metadata": {
            "tags": []
          }
        }
      ]
    },
    {
      "cell_type": "markdown",
      "metadata": {
        "id": "5ZkDm1Psd-DM"
      },
      "source": [
        "Making vocabulary **(same as M1(part2b) - Base Model Approach 2)**"
      ]
    },
    {
      "cell_type": "code",
      "metadata": {
        "colab": {
          "base_uri": "https://localhost:8080/"
        },
        "id": "VZjYXNM8fNh8",
        "outputId": "624c9fac-4ae0-49c9-e1ee-0bac6c39ce4b"
      },
      "source": [
        "vocabulary = set()\r\n",
        "\r\n",
        "for txt in df[\"cleaned_desc\"]:\r\n",
        "    unq_words = set(txt.split())\r\n",
        "    vocabulary.update(unq_words)\r\n",
        "\r\n",
        "for txt in df[\"cleaned_short_desc\"]:\r\n",
        "    unq_words = set(txt.split())\r\n",
        "    vocabulary.update(unq_words)\r\n",
        "\r\n",
        "# appending 'DUMMYWORD' which will be helpful in padding\r\n",
        "vocabulary = list(vocabulary)\r\n",
        "vocabulary.append(\"DUMMYWORD\")\r\n",
        "\r\n",
        "print(\"Total unique words in the vocabulary from both description and short description:\",len(vocabulary))"
      ],
      "execution_count": null,
      "outputs": [
        {
          "output_type": "stream",
          "text": [
            "Total unique words in the vocabulary from both description and short description: 19235\n"
          ],
          "name": "stdout"
        }
      ]
    },
    {
      "cell_type": "markdown",
      "metadata": {
        "id": "hB-qyXDBeTKo"
      },
      "source": [
        "Converting vocabulary to numerical values **(same as M1(part2b) - Base Model Approach 2)**"
      ]
    },
    {
      "cell_type": "code",
      "metadata": {
        "id": "zJTchznCfmI8"
      },
      "source": [
        "# mapping vocabulary to numbers\r\n",
        "vocab2id = {w: i for i, w in enumerate(vocabulary)}\r\n",
        "\r\n",
        "# mapping numbers to vocabulary\r\n",
        "id2vocab = {v: k for k, v in vocab2id.items()}\r\n",
        "\r\n",
        "# transforming dataset to numerical tokens\r\n",
        "def convert_words_to_numbers(txt):\r\n",
        "  return [vocab2id[i] for i in txt.split()]\r\n",
        "\r\n",
        "# transforming\r\n",
        "df[\"desc_transformed\"] = df[\"cleaned_desc\"].apply(convert_words_to_numbers)\r\n",
        "df[\"shortdesc_transformed\"] = df[\"cleaned_short_desc\"].apply(convert_words_to_numbers)"
      ],
      "execution_count": null,
      "outputs": []
    },
    {
      "cell_type": "markdown",
      "metadata": {
        "id": "pY75H0PlegzD"
      },
      "source": [
        "As we said before we will club them in a different way **(find the explanation in M1(part2b) - Base Model Approach 2)**"
      ]
    },
    {
      "cell_type": "code",
      "metadata": {
        "colab": {
          "base_uri": "https://localhost:8080/",
          "height": 289
        },
        "id": "_rC7WeB9frjT",
        "outputId": "e3c5b8af-2928-40ea-843d-39c7054b999f"
      },
      "source": [
        "def clubbing_columns(row):\r\n",
        "  if(row[\"shortdesc_transformed\"] == row[\"desc_transformed\"]):\r\n",
        "    return row[\"desc_transformed\"]\r\n",
        "  else:\r\n",
        "    return row[\"shortdesc_transformed\"] + row[\"desc_transformed\"]\r\n",
        "\r\n",
        "\r\n",
        "df[\"combined_tokens\"] = df[[\"shortdesc_transformed\",\"desc_transformed\"]].apply(clubbing_columns, axis=1)\r\n",
        "df.head()"
      ],
      "execution_count": null,
      "outputs": [
        {
          "output_type": "execute_result",
          "data": {
            "text/html": [
              "<div>\n",
              "<style scoped>\n",
              "    .dataframe tbody tr th:only-of-type {\n",
              "        vertical-align: middle;\n",
              "    }\n",
              "\n",
              "    .dataframe tbody tr th {\n",
              "        vertical-align: top;\n",
              "    }\n",
              "\n",
              "    .dataframe thead th {\n",
              "        text-align: right;\n",
              "    }\n",
              "</style>\n",
              "<table border=\"1\" class=\"dataframe\">\n",
              "  <thead>\n",
              "    <tr style=\"text-align: right;\">\n",
              "      <th></th>\n",
              "      <th>cleaned_short_desc</th>\n",
              "      <th>cleaned_desc</th>\n",
              "      <th>Assignment group</th>\n",
              "      <th>desc_transformed</th>\n",
              "      <th>shortdesc_transformed</th>\n",
              "      <th>combined_tokens</th>\n",
              "    </tr>\n",
              "  </thead>\n",
              "  <tbody>\n",
              "    <tr>\n",
              "      <th>0</th>\n",
              "      <td>login issue</td>\n",
              "      <td>verify user detail employee manager name check...</td>\n",
              "      <td>GRP_0</td>\n",
              "      <td>[16582, 12171, 8072, 14591, 11647, 2260, 18041...</td>\n",
              "      <td>[13574, 14721]</td>\n",
              "      <td>[13574, 14721, 16582, 12171, 8072, 14591, 1164...</td>\n",
              "    </tr>\n",
              "    <tr>\n",
              "      <th>1</th>\n",
              "      <td>outlook</td>\n",
              "      <td>team meeting skype meeting etc appear outlook ...</td>\n",
              "      <td>GRP_0</td>\n",
              "      <td>[15258, 12762, 12539, 12762, 3585, 1083, 14743...</td>\n",
              "      <td>[14743]</td>\n",
              "      <td>[14743, 15258, 12762, 12539, 12762, 3585, 1083...</td>\n",
              "    </tr>\n",
              "    <tr>\n",
              "      <th>2</th>\n",
              "      <td>cant log vpn</td>\n",
              "      <td>cannot log vpn best</td>\n",
              "      <td>GRP_0</td>\n",
              "      <td>[9866, 11490, 18369, 3531]</td>\n",
              "      <td>[6280, 11490, 18369]</td>\n",
              "      <td>[6280, 11490, 18369, 9866, 11490, 18369, 3531]</td>\n",
              "    </tr>\n",
              "    <tr>\n",
              "      <th>3</th>\n",
              "      <td>unable access hr tool page</td>\n",
              "      <td>unable access hr tool page</td>\n",
              "      <td>GRP_0</td>\n",
              "      <td>[385, 13213, 1161, 3115, 7445]</td>\n",
              "      <td>[385, 13213, 1161, 3115, 7445]</td>\n",
              "      <td>[385, 13213, 1161, 3115, 7445]</td>\n",
              "    </tr>\n",
              "    <tr>\n",
              "      <th>4</th>\n",
              "      <td>skype error</td>\n",
              "      <td>skype error</td>\n",
              "      <td>GRP_0</td>\n",
              "      <td>[12539, 13877]</td>\n",
              "      <td>[12539, 13877]</td>\n",
              "      <td>[12539, 13877]</td>\n",
              "    </tr>\n",
              "  </tbody>\n",
              "</table>\n",
              "</div>"
            ],
            "text/plain": [
              "           cleaned_short_desc  ...                                    combined_tokens\n",
              "0                 login issue  ...  [13574, 14721, 16582, 12171, 8072, 14591, 1164...\n",
              "1                     outlook  ...  [14743, 15258, 12762, 12539, 12762, 3585, 1083...\n",
              "2                cant log vpn  ...     [6280, 11490, 18369, 9866, 11490, 18369, 3531]\n",
              "3  unable access hr tool page  ...                     [385, 13213, 1161, 3115, 7445]\n",
              "4                 skype error  ...                                     [12539, 13877]\n",
              "\n",
              "[5 rows x 6 columns]"
            ]
          },
          "metadata": {
            "tags": []
          },
          "execution_count": 14
        }
      ]
    },
    {
      "cell_type": "markdown",
      "metadata": {
        "id": "ETUQFGd1e1zY"
      },
      "source": [
        "Checking for null values again"
      ]
    },
    {
      "cell_type": "code",
      "metadata": {
        "colab": {
          "base_uri": "https://localhost:8080/"
        },
        "id": "8AyqtDbrft5I",
        "outputId": "94e3ba6e-5284-47f2-ed59-1c8e835678cf"
      },
      "source": [
        "df.isnull().sum()"
      ],
      "execution_count": null,
      "outputs": [
        {
          "output_type": "execute_result",
          "data": {
            "text/plain": [
              "cleaned_short_desc       0\n",
              "cleaned_desc             0\n",
              "Assignment group         0\n",
              "desc_transformed         0\n",
              "shortdesc_transformed    0\n",
              "combined_tokens          0\n",
              "dtype: int64"
            ]
          },
          "metadata": {
            "tags": []
          },
          "execution_count": 15
        }
      ]
    },
    {
      "cell_type": "markdown",
      "metadata": {
        "id": "hI1W-bO8e-Gs"
      },
      "source": [
        "As before, transforming the target variable **(find explanation in M1(part2b) - Base Model Approach 2)**"
      ]
    },
    {
      "cell_type": "code",
      "metadata": {
        "colab": {
          "base_uri": "https://localhost:8080/"
        },
        "id": "RDgXs4h6f54W",
        "outputId": "62946960-e76b-47ce-de86-f619b8a9c7f2"
      },
      "source": [
        "df=pd.get_dummies(df, columns=['Assignment group'])\r\n",
        "\r\n",
        "ynames = list(df.iloc[:,5:].columns)\r\n",
        "y = df.iloc[:,5:].values\r\n",
        "x = df[\"combined_tokens\"]\r\n",
        "\r\n",
        "print('y (target) in a one-hot binarizer form:',y.shape)\r\n",
        "print('features:',x.shape)"
      ],
      "execution_count": null,
      "outputs": [
        {
          "output_type": "stream",
          "text": [
            "y (target) in a one-hot binarizer form: (25673, 74)\n",
            "features: (25673,)\n"
          ],
          "name": "stdout"
        }
      ]
    },
    {
      "cell_type": "markdown",
      "metadata": {
        "id": "jxTA-1hrfYcS"
      },
      "source": [
        "Transforming combined tokens into sequence **(same as M1(part2b) - Base Model Approach 2)**"
      ]
    },
    {
      "cell_type": "code",
      "metadata": {
        "colab": {
          "base_uri": "https://localhost:8080/",
          "height": 389
        },
        "id": "0hoN9T52fc31",
        "outputId": "1b51fdc7-86af-448a-a2a4-09568040d3bb"
      },
      "source": [
        "x_seq = [seq for seq in x]\r\n",
        "\r\n",
        "size_of_sequences = [len(i) for i in x]\r\n",
        "\r\n",
        "percentile90 = round(np.percentile(a=size_of_sequences, q=90),2)\r\n",
        "percentile95 = round(np.percentile(a=size_of_sequences, q=95),2)\r\n",
        "mean_size = round(np.mean(size_of_sequences),2) \r\n",
        "max_size = round(np.max(size_of_sequences),2)\r\n",
        "\r\n",
        "print(\" Max no. of tokens in short description (sequence): \",max_size)\r\n",
        "print(\" Avg. no. of tokens in short description (sequence): \",mean_size)\r\n",
        "print(\" 90% of the sequences are <=\",percentile90)\r\n",
        "print(\" 95% of the sequences are <=\",percentile95)\r\n",
        "distribution_plot(size_of_sequences)"
      ],
      "execution_count": null,
      "outputs": [
        {
          "output_type": "stream",
          "text": [
            " Max no. of tokens in short description (sequence):  1820\n",
            " Avg. no. of tokens in short description (sequence):  33.08\n",
            " 90% of the sequences are <= 52.0\n",
            " 95% of the sequences are <= 83.0\n"
          ],
          "name": "stdout"
        },
        {
          "output_type": "display_data",
          "data": {
            "image/png": "[encoded data removed]",
            "text/plain": [
              "<Figure size 504x360 with 1 Axes>"
            ]
          },
          "metadata": {
            "tags": []
          }
        }
      ]
    },
    {
      "cell_type": "markdown",
      "metadata": {
        "id": "q9nDZDgufsqy"
      },
      "source": [
        "95% of the sequences are 83 or below, hence we will pad all sequences to 83 and we will pad with the number 19234 which encodes the word 'DUMMYWORD' **(same as M1(part2b) - Base Model Approach 2)**"
      ]
    },
    {
      "cell_type": "code",
      "metadata": {
        "colab": {
          "base_uri": "https://localhost:8080/",
          "height": 35
        },
        "id": "2dWdGChTg0Pg",
        "outputId": "1031e085-23c9-45fe-b4f6-25f31cf92df1"
      },
      "source": [
        "# 19234 encodes 'DUMMYWORD'\r\n",
        "id2vocab[19234]"
      ],
      "execution_count": null,
      "outputs": [
        {
          "output_type": "execute_result",
          "data": {
            "application/vnd.google.colaboratory.intrinsic+json": {
              "type": "string"
            },
            "text/plain": [
              "'DUMMYWORD'"
            ]
          },
          "metadata": {
            "tags": []
          },
          "execution_count": 18
        }
      ]
    },
    {
      "cell_type": "code",
      "metadata": {
        "colab": {
          "base_uri": "https://localhost:8080/"
        },
        "id": "ZNP8mBbAg6AV",
        "outputId": "b7c43c4c-786f-4889-a768-8e8377359480"
      },
      "source": [
        "x_pad = pad_sequences(maxlen=83, sequences=x_seq, padding=\"pre\", value=len(vocabulary)-1)\r\n",
        "\r\n",
        "print(\"shape of x before padding\",np.array(x_seq).shape)\r\n",
        "print(\"shape of x after padding\",x_pad.shape)"
      ],
      "execution_count": null,
      "outputs": [
        {
          "output_type": "stream",
          "text": [
            "shape of x before padding (25673,)\n",
            "shape of x after padding (25673, 83)\n"
          ],
          "name": "stdout"
        }
      ]
    },
    {
      "cell_type": "markdown",
      "metadata": {
        "id": "x_JQgcnWgWlq"
      },
      "source": [
        "Now that we have more data, **we can make a 70:30 split:**"
      ]
    },
    {
      "cell_type": "code",
      "metadata": {
        "colab": {
          "base_uri": "https://localhost:8080/"
        },
        "id": "eTgLKkbMg-1Z",
        "outputId": "ac68a9c3-7bc1-4681-ad8b-a0fdd0886338"
      },
      "source": [
        "x_train, x_test, y_train, y_test = train_test_split(x_pad, y, test_size=0.3, train_size=0.7, random_state=777, stratify=y)\r\n",
        "print(\"train set\",x_train.shape)\r\n",
        "print(\"train labels\",y_train.shape,\"\\n\\n\")\r\n",
        "print(\"test set\",x_test.shape)\r\n",
        "print(\"test labels\",y_test.shape)"
      ],
      "execution_count": null,
      "outputs": [
        {
          "output_type": "stream",
          "text": [
            "train set (17971, 83)\n",
            "train labels (17971, 74) \n",
            "\n",
            "\n",
            "test set (7702, 83)\n",
            "test labels (7702, 74)\n"
          ],
          "name": "stdout"
        }
      ]
    },
    {
      "cell_type": "markdown",
      "metadata": {
        "id": "s8tpFpFUgg74"
      },
      "source": [
        "Since the vocabulary is same (we have just duplicated the records), we can load the previous glove embedding matrix that we saved in **M1(part2b) - Base Model Approach 2** "
      ]
    },
    {
      "cell_type": "code",
      "metadata": {
        "colab": {
          "base_uri": "https://localhost:8080/"
        },
        "id": "TcEcW1OkhCrb",
        "outputId": "d91e3720-1580-4c5d-9a1f-b5f0c11d2822"
      },
      "source": [
        "# USE THIS SAVEPATH IF RUNNING IN GOOGLE COLAB, GIVE THE PATH WHERE YOU WANT TO SAVE\r\n",
        "SAVEPATH = '/content/drive/MyDrive/Automatic Ticket Assignment/DataFiles/Milestone2/'\r\n",
        "# *************************** --------------------------************************************\r\n",
        "# SAVEPATH = 'DataFiles/Milestone2/'\r\n",
        "\r\n",
        "embedding_matrix = np.load(SAVEPATH+'GloveEmbeddingMatrix.npy')\r\n",
        "print(embedding_matrix.shape)"
      ],
      "execution_count": null,
      "outputs": [
        {
          "output_type": "stream",
          "text": [
            "(19235, 200)\n"
          ],
          "name": "stdout"
        }
      ]
    },
    {
      "cell_type": "markdown",
      "metadata": {
        "id": "j2P5tr4jmAhu"
      },
      "source": [
        "**As we said in previous part we will take model_5 forward along with learning rate = 0.00162 which we tuned in the last part.<br>We will go with the same training process again but with new upsampled data. We just have a few minor changes:**<br>\r\n",
        "- We have reduced the **patience for early stopping to 5 from 10**\r\n",
        "- Now that we have more data, we have **increased the batch size to 32 from 16**\r\n",
        "- Again, since we have more data, the model will aggresively overfit, hence **we have increased the dropout rate to 40%**\r\n",
        "- And finally, **we will monitor validation_loss instead of validation_accuracy to save the model_checkpoint.** The model at epoch with least validation_loss will be saved"
      ]
    },
    {
      "cell_type": "code",
      "metadata": {
        "colab": {
          "base_uri": "https://localhost:8080/"
        },
        "id": "ea21E6v-RdKU",
        "outputId": "72f23451-8933-4ae1-c2bb-9ffcd7848ead"
      },
      "source": [
        "input = Input(shape=(x_train.shape[1],),batch_size=None)\r\n",
        "model5 = Embedding(input_dim=embedding_matrix.shape[0], output_dim=embedding_matrix.shape[1], weights=[embedding_matrix], input_length=x_train.shape[1], trainable=True)(input)\r\n",
        "model5 = LSTM(units=100, return_sequences=True,recurrent_dropout=0.4)(model5)\r\n",
        "model5 = GlobalMaxPool1D()(model5)\r\n",
        "model5 = Dropout(0.4)(model5) \r\n",
        "out = Dense(y_train.shape[1], activation=\"softmax\")(model5)\r\n",
        "model5 = Model(input, out)\r\n",
        "\r\n",
        "es_params = {'monitor':'loss', 'min_delta':0.1, 'patience':5, 'verbose':1, 'mode':'min', 'restore_best_weights':True}\r\n",
        "r_lr_params = {'monitor':'val_loss', \"factor\":0.1, 'patience':3, 'verbose':1, 'mode':'min', 'min_delta':0.01, 'min_lr':1e-7}\r\n",
        "m_cp_params = {\"chkpnt_filename\":\"model5_afterupsampling\", \"monitor\":'val_loss', \"verbose\":1, \"save_best_only\":True, \"mode\":'min'}\r\n",
        "\r\n",
        "\r\n",
        "model5 = train_model(model5, x_train, y_train, x_test, y_test, ep=50, bs=32, learn_rate=0.00162,callbacks=True, earlystop_params=es_params, modelchkpnt_params=m_cp_params, reducelr_params=r_lr_params)"
      ],
      "execution_count": null,
      "outputs": [
        {
          "output_type": "stream",
          "text": [
            "WARNING:tensorflow:Layer lstm_8 will not use cuDNN kernel since it doesn't meet the cuDNN kernel criteria. It will use generic GPU kernel as fallback when running on GPU\n",
            "Epoch 1/50\n",
            "562/562 [==============================] - 171s 302ms/step - loss: 3.0629 - accuracy: 0.3262 - val_loss: 1.0667 - val_accuracy: 0.7441\n",
            "\n",
            "Epoch 00001: val_loss improved from inf to 1.06673, saving model to /content/drive/My Drive/capstone/Model/model checkpoints/model5C_afterupsampling.h5\n",
            "Epoch 2/50\n",
            "562/562 [==============================] - 170s 302ms/step - loss: 1.0078 - accuracy: 0.7488 - val_loss: 0.5560 - val_accuracy: 0.8625\n",
            "\n",
            "Epoch 00002: val_loss improved from 1.06673 to 0.55599, saving model to /content/drive/My Drive/capstone/Model/model checkpoints/model5C_afterupsampling.h5\n",
            "Epoch 3/50\n",
            "562/562 [==============================] - 170s 302ms/step - loss: 0.5276 - accuracy: 0.8750 - val_loss: 0.3927 - val_accuracy: 0.8915\n",
            "\n",
            "Epoch 00003: val_loss improved from 0.55599 to 0.39268, saving model to /content/drive/My Drive/capstone/Model/model checkpoints/model5C_afterupsampling.h5\n",
            "Epoch 4/50\n",
            "562/562 [==============================] - 167s 298ms/step - loss: 0.3000 - accuracy: 0.9256 - val_loss: 0.3277 - val_accuracy: 0.9115\n",
            "\n",
            "Epoch 00004: val_loss improved from 0.39268 to 0.32774, saving model to /content/drive/My Drive/capstone/Model/model checkpoints/model5C_afterupsampling.h5\n",
            "Epoch 5/50\n",
            "562/562 [==============================] - 170s 302ms/step - loss: 0.2130 - accuracy: 0.9459 - val_loss: 0.3021 - val_accuracy: 0.9195\n",
            "\n",
            "Epoch 00005: val_loss improved from 0.32774 to 0.30208, saving model to /content/drive/My Drive/capstone/Model/model checkpoints/model5C_afterupsampling.h5\n",
            "Epoch 6/50\n",
            "562/562 [==============================] - 171s 305ms/step - loss: 0.1645 - accuracy: 0.9574 - val_loss: 0.3135 - val_accuracy: 0.9200\n",
            "\n",
            "Epoch 00006: val_loss did not improve from 0.30208\n",
            "Epoch 7/50\n",
            "562/562 [==============================] - 169s 301ms/step - loss: 0.1255 - accuracy: 0.9669 - val_loss: 0.3083 - val_accuracy: 0.9229\n",
            "\n",
            "Epoch 00007: val_loss did not improve from 0.30208\n",
            "Epoch 8/50\n",
            "562/562 [==============================] - 167s 297ms/step - loss: 0.1137 - accuracy: 0.9685 - val_loss: 0.3115 - val_accuracy: 0.9256\n",
            "\n",
            "Epoch 00008: ReduceLROnPlateau reducing learning rate to 0.0001619999995455146.\n",
            "\n",
            "Epoch 00008: val_loss did not improve from 0.30208\n",
            "Epoch 9/50\n",
            "562/562 [==============================] - 172s 306ms/step - loss: 0.0920 - accuracy: 0.9767 - val_loss: 0.3070 - val_accuracy: 0.9266\n",
            "\n",
            "Epoch 00009: val_loss did not improve from 0.30208\n",
            "Epoch 10/50\n",
            "562/562 [==============================] - 170s 302ms/step - loss: 0.0814 - accuracy: 0.9773 - val_loss: 0.3099 - val_accuracy: 0.9278\n",
            "\n",
            "Epoch 00010: val_loss did not improve from 0.30208\n",
            "Epoch 11/50\n",
            "562/562 [==============================] - 166s 295ms/step - loss: 0.0759 - accuracy: 0.9788 - val_loss: 0.3116 - val_accuracy: 0.9298\n",
            "Restoring model weights from the end of the best epoch.\n",
            "\n",
            "Epoch 00011: ReduceLROnPlateau reducing learning rate to 1.6199999663513154e-05.\n",
            "\n",
            "Epoch 00011: val_loss did not improve from 0.30208\n",
            "Epoch 00011: early stopping\n"
          ],
          "name": "stdout"
        }
      ]
    },
    {
      "cell_type": "code",
      "metadata": {
        "colab": {
          "base_uri": "https://localhost:8080/",
          "height": 755
        },
        "id": "RNI9vEWoRdLs",
        "outputId": "410b0cfe-9a50-4abe-e5ae-66e65522deff"
      },
      "source": [
        "show_training(model5.history.history,saveit=True,filename='model5_hist_afterupsampling')"
      ],
      "execution_count": null,
      "outputs": [
        {
          "output_type": "stream",
          "text": [
            "Training history saved!\n"
          ],
          "name": "stdout"
        },
        {
          "output_type": "display_data",
          "data": {
            "image/png": "[encoded data removed]",
            "text/plain": [
              "<Figure size 936x504 with 2 Axes>"
            ]
          },
          "metadata": {
            "tags": []
          }
        },
        {
          "output_type": "display_data",
          "data": {
            "image/png": "[encoded data removed]",
            "text/plain": [
              "<Figure size 504x216 with 1 Axes>"
            ]
          },
          "metadata": {
            "tags": []
          }
        }
      ]
    },
    {
      "cell_type": "markdown",
      "metadata": {
        "id": "H_EKEvq3oaj3"
      },
      "source": [
        "**Loading saved checkpoint:**"
      ]
    },
    {
      "cell_type": "code",
      "metadata": {
        "colab": {
          "base_uri": "https://localhost:8080/"
        },
        "id": "ubNTeFDvRdNw",
        "outputId": "8a1b02a1-809e-4a3a-dc34-32ed2124af09"
      },
      "source": [
        "saved_checkpoint_model5 = load_model(\"/content/drive/MyDrive/Automatic Ticket Assignment/Model/model checkpoints/model5_afterupsampling.h5\")"
      ],
      "execution_count": null,
      "outputs": [
        {
          "output_type": "stream",
          "text": [
            "WARNING:tensorflow:Layer lstm_8 will not use cuDNN kernel since it doesn't meet the cuDNN kernel criteria. It will use generic GPU kernel as fallback when running on GPU\n"
          ],
          "name": "stdout"
        }
      ]
    },
    {
      "cell_type": "markdown",
      "metadata": {
        "id": "hcMhre_2oh-J"
      },
      "source": [
        "**Evaluating our metrics:**"
      ]
    },
    {
      "cell_type": "code",
      "metadata": {
        "colab": {
          "base_uri": "https://localhost:8080/"
        },
        "id": "Ss7IABVXRdQd",
        "outputId": "b2a31d70-6db1-43bd-cc65-0861f3680ce7"
      },
      "source": [
        "ytr_pred = saved_checkpoint_model5.predict(x_train,batch_size=1)\r\n",
        "yte_pred = saved_checkpoint_model5.predict(x_test,batch_size=1)\r\n",
        "\r\n",
        "print(\"Train set performance:\")\r\n",
        "DL_evaluation_metrics(y_train, ytr_pred, \"ovo\", \"macro\")\r\n",
        "\r\n",
        "print(\"\\nTest set performance:\")\r\n",
        "DL_evaluation_metrics(y_test, yte_pred, \"ovo\", \"macro\")\r\n",
        "\r\n",
        "print(\"\\n**As explained in part2a - micro-metrics will be similar to accuracy\")"
      ],
      "execution_count": null,
      "outputs": [
        {
          "output_type": "stream",
          "text": [
            "Train set performance:\n",
            "Accuracy: 0.9713983640309387\n",
            "(macro) ROC-AUC: 0.9997131408720261\n",
            "(macro) F1 Score: 0.9746532702542502\n",
            "\n",
            "Test set performance:\n",
            "Accuracy: 0.9195014282004674\n",
            "(macro) ROC-AUC: 0.99724265540487\n",
            "(macro) F1 Score: 0.9317530012493747\n",
            "\n",
            "**As explained in part2a - micro-metrics will be similar to accuracy\n"
          ],
          "name": "stdout"
        }
      ]
    },
    {
      "cell_type": "markdown",
      "metadata": {
        "id": "GfpKMHdNmnGq"
      },
      "source": [
        "**Voila!!<br>We can see massive improvement after upsampling.** Test set performance drastically improved from 53.8% macro f1-score in previous part to 93.17% in this part. Test accuracy improved from 69.71% to 91.95% (which is also equal all the micro metrics)<br><br>\r\n",
        "#### **This is the model architecture that we finally conclude for this project:**"
      ]
    },
    {
      "cell_type": "code",
      "metadata": {
        "colab": {
          "base_uri": "https://localhost:8080/",
          "height": 644
        },
        "id": "sIO-fe2AiDyP",
        "outputId": "40c1edf4-98dc-4957-c0c8-8eb67904f8b5"
      },
      "source": [
        "plot_model(model5, show_shapes=True, show_layer_names=True)"
      ],
      "execution_count": null,
      "outputs": [
        {
          "output_type": "execute_result",
          "data": {
            "image/png": "[encoded data removed]",
            "text/plain": [
              "<IPython.core.display.Image object>"
            ]
          },
          "metadata": {
            "tags": []
          },
          "execution_count": 24
        }
      ]
    }
  ]
}